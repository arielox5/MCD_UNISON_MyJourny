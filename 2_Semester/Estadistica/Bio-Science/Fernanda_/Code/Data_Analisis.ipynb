{
 "cells": [
  {
   "cell_type": "code",
   "execution_count": 27,
   "metadata": {},
   "outputs": [],
   "source": [
    "import pandas as pd\n",
    "import numpy as np\n",
    "import seaborn as sns\n",
    "import plotly.express as px\n",
    "import plotly.graph_objects as go"
   ]
  },
  {
   "cell_type": "code",
   "execution_count": 11,
   "metadata": {},
   "outputs": [],
   "source": [
    "# Read Excels\n",
    "df_mico1 = pd.read_excel('../Datos/col_mico.xlsx', sheet_name='Hoja1')\n",
    "df_mico2 = pd.read_excel('../Datos/col_mico.xlsx', sheet_name='Hoja2')\n",
    "df_plants_raw = pd.read_excel('../Datos/tabla_plantas.xlsx', sheet_name='Raw')\n",
    "df_plants_peso = pd.read_excel('../Datos/tabla_plantas.xlsx', sheet_name='Peso')\n",
    "# df_plants_peso = pd.read_excel('../Datos/Base_datos_1.xlsx')"
   ]
  },
  {
   "cell_type": "code",
   "execution_count": 20,
   "metadata": {},
   "outputs": [
    {
     "data": {
      "text/html": [
       "<div>\n",
       "<style scoped>\n",
       "    .dataframe tbody tr th:only-of-type {\n",
       "        vertical-align: middle;\n",
       "    }\n",
       "\n",
       "    .dataframe tbody tr th {\n",
       "        vertical-align: top;\n",
       "    }\n",
       "\n",
       "    .dataframe thead th {\n",
       "        text-align: right;\n",
       "    }\n",
       "</style>\n",
       "<table border=\"1\" class=\"dataframe\">\n",
       "  <thead>\n",
       "    <tr style=\"text-align: right;\">\n",
       "      <th></th>\n",
       "      <th>Replica</th>\n",
       "      <th>Especie</th>\n",
       "      <th>Trat</th>\n",
       "      <th>Hifa</th>\n",
       "      <th>Vesícula</th>\n",
       "      <th>Arbúsculo</th>\n",
       "      <th>Espora</th>\n",
       "      <th>Endófito</th>\n",
       "      <th>Campos</th>\n",
       "      <th>% total</th>\n",
       "    </tr>\n",
       "  </thead>\n",
       "  <tbody>\n",
       "    <tr>\n",
       "      <th>0</th>\n",
       "      <td>2</td>\n",
       "      <td>V. farnesiana</td>\n",
       "      <td>C</td>\n",
       "      <td>0</td>\n",
       "      <td>0</td>\n",
       "      <td>0</td>\n",
       "      <td>0</td>\n",
       "      <td>0</td>\n",
       "      <td>74</td>\n",
       "      <td>0.000000</td>\n",
       "    </tr>\n",
       "    <tr>\n",
       "      <th>1</th>\n",
       "      <td>5</td>\n",
       "      <td>R. communis</td>\n",
       "      <td>C</td>\n",
       "      <td>0</td>\n",
       "      <td>0</td>\n",
       "      <td>0</td>\n",
       "      <td>1</td>\n",
       "      <td>0</td>\n",
       "      <td>62</td>\n",
       "      <td>1.612903</td>\n",
       "    </tr>\n",
       "    <tr>\n",
       "      <th>2</th>\n",
       "      <td>8</td>\n",
       "      <td>R. communis</td>\n",
       "      <td>C</td>\n",
       "      <td>2</td>\n",
       "      <td>0</td>\n",
       "      <td>0</td>\n",
       "      <td>1</td>\n",
       "      <td>0</td>\n",
       "      <td>65</td>\n",
       "      <td>4.615385</td>\n",
       "    </tr>\n",
       "    <tr>\n",
       "      <th>3</th>\n",
       "      <td>10</td>\n",
       "      <td>V. farnesiana</td>\n",
       "      <td>C</td>\n",
       "      <td>1</td>\n",
       "      <td>0</td>\n",
       "      <td>0</td>\n",
       "      <td>0</td>\n",
       "      <td>0</td>\n",
       "      <td>61</td>\n",
       "      <td>1.639344</td>\n",
       "    </tr>\n",
       "    <tr>\n",
       "      <th>4</th>\n",
       "      <td>11</td>\n",
       "      <td>V. farnesiana</td>\n",
       "      <td>C</td>\n",
       "      <td>0</td>\n",
       "      <td>0</td>\n",
       "      <td>0</td>\n",
       "      <td>0</td>\n",
       "      <td>0</td>\n",
       "      <td>78</td>\n",
       "      <td>0.000000</td>\n",
       "    </tr>\n",
       "  </tbody>\n",
       "</table>\n",
       "</div>"
      ],
      "text/plain": [
       "   Replica        Especie Trat  Hifa  Vesícula  Arbúsculo  Espora  Endófito  \\\n",
       "0        2  V. farnesiana    C     0         0          0       0         0   \n",
       "1        5    R. communis    C     0         0          0       1         0   \n",
       "2        8    R. communis    C     2         0          0       1         0   \n",
       "3       10  V. farnesiana    C     1         0          0       0         0   \n",
       "4       11  V. farnesiana    C     0         0          0       0         0   \n",
       "\n",
       "   Campos   % total  \n",
       "0      74  0.000000  \n",
       "1      62  1.612903  \n",
       "2      65  4.615385  \n",
       "3      61  1.639344  \n",
       "4      78  0.000000  "
      ]
     },
     "execution_count": 20,
     "metadata": {},
     "output_type": "execute_result"
    }
   ],
   "source": [
    "df_mico2.head()"
   ]
  },
  {
   "cell_type": "code",
   "execution_count": 107,
   "metadata": {},
   "outputs": [
    {
     "data": {
      "text/html": [
       "<div>\n",
       "<style scoped>\n",
       "    .dataframe tbody tr th:only-of-type {\n",
       "        vertical-align: middle;\n",
       "    }\n",
       "\n",
       "    .dataframe tbody tr th {\n",
       "        vertical-align: top;\n",
       "    }\n",
       "\n",
       "    .dataframe thead th {\n",
       "        text-align: right;\n",
       "    }\n",
       "</style>\n",
       "<table border=\"1\" class=\"dataframe\">\n",
       "  <thead>\n",
       "    <tr style=\"text-align: right;\">\n",
       "      <th></th>\n",
       "      <th>Especie</th>\n",
       "      <th>Sitio</th>\n",
       "      <th>Hifa</th>\n",
       "      <th>Vesícula</th>\n",
       "      <th>Arbúsculo</th>\n",
       "      <th>Espora</th>\n",
       "      <th>Endófito</th>\n",
       "      <th>Campos</th>\n",
       "    </tr>\n",
       "  </thead>\n",
       "  <tbody>\n",
       "    <tr>\n",
       "      <th>0</th>\n",
       "      <td>Baccharis sarothroides</td>\n",
       "      <td>F</td>\n",
       "      <td>36.8</td>\n",
       "      <td>0.0</td>\n",
       "      <td>1.2</td>\n",
       "      <td>10.6</td>\n",
       "      <td>1.4</td>\n",
       "      <td>74.0</td>\n",
       "    </tr>\n",
       "    <tr>\n",
       "      <th>1</th>\n",
       "      <td>Baccharis sarothroides</td>\n",
       "      <td>J</td>\n",
       "      <td>24.4</td>\n",
       "      <td>0.6</td>\n",
       "      <td>0.8</td>\n",
       "      <td>10.2</td>\n",
       "      <td>1.0</td>\n",
       "      <td>77.8</td>\n",
       "    </tr>\n",
       "    <tr>\n",
       "      <th>2</th>\n",
       "      <td>Pseudognaphaleum leucocephalum</td>\n",
       "      <td>J</td>\n",
       "      <td>15.6</td>\n",
       "      <td>0.0</td>\n",
       "      <td>0.0</td>\n",
       "      <td>2.2</td>\n",
       "      <td>2.4</td>\n",
       "      <td>87.0</td>\n",
       "    </tr>\n",
       "    <tr>\n",
       "      <th>3</th>\n",
       "      <td>Vachellia farnesiana</td>\n",
       "      <td>F</td>\n",
       "      <td>25.4</td>\n",
       "      <td>0.8</td>\n",
       "      <td>0.0</td>\n",
       "      <td>21.6</td>\n",
       "      <td>0.4</td>\n",
       "      <td>72.4</td>\n",
       "    </tr>\n",
       "    <tr>\n",
       "      <th>4</th>\n",
       "      <td>Vachellia farnesiana</td>\n",
       "      <td>J</td>\n",
       "      <td>22.8</td>\n",
       "      <td>2.4</td>\n",
       "      <td>0.8</td>\n",
       "      <td>10.6</td>\n",
       "      <td>3.8</td>\n",
       "      <td>85.6</td>\n",
       "    </tr>\n",
       "  </tbody>\n",
       "</table>\n",
       "</div>"
      ],
      "text/plain": [
       "                          Especie Sitio  Hifa  Vesícula  Arbúsculo  Espora  \\\n",
       "0          Baccharis sarothroides     F  36.8       0.0        1.2    10.6   \n",
       "1          Baccharis sarothroides     J  24.4       0.6        0.8    10.2   \n",
       "2  Pseudognaphaleum leucocephalum     J  15.6       0.0        0.0     2.2   \n",
       "3            Vachellia farnesiana     F  25.4       0.8        0.0    21.6   \n",
       "4            Vachellia farnesiana     J  22.8       2.4        0.8    10.6   \n",
       "\n",
       "   Endófito  Campos  \n",
       "0       1.4    74.0  \n",
       "1       1.0    77.8  \n",
       "2       2.4    87.0  \n",
       "3       0.4    72.4  \n",
       "4       3.8    85.6  "
      ]
     },
     "execution_count": 107,
     "metadata": {},
     "output_type": "execute_result"
    }
   ],
   "source": [
    "df_mico_grouped1 = df_mico1.copy().groupby([\"Especie\", \"Sitio\"]).aggregate({\n",
    "'Hifa' : 'mean',\n",
    " 'Vesícula' : 'mean' ,\n",
    " 'Arbúsculo': 'mean',\n",
    " 'Arbúsculo' : 'mean',\n",
    " 'Espora' : 'mean',\n",
    " 'Endófito' : 'mean',\n",
    " 'Campos' : 'mean'\n",
    " }).reset_index()\n",
    "df_mico_grouped1"
   ]
  },
  {
   "cell_type": "code",
   "execution_count": 109,
   "metadata": {},
   "outputs": [
    {
     "data": {
      "application/vnd.plotly.v1+json": {
       "config": {
        "plotlyServerURL": "https://plot.ly"
       },
       "data": [
        {
         "name": "Hifa",
         "type": "bar",
         "x": [
          "F",
          "J"
         ],
         "y": [
          36.8,
          24.4
         ]
        },
        {
         "name": "Vesícula",
         "type": "bar",
         "x": [
          "F",
          "J"
         ],
         "y": [
          0,
          0.6
         ]
        },
        {
         "name": "Arbúsculo",
         "type": "bar",
         "x": [
          "F",
          "J"
         ],
         "y": [
          1.2,
          0.8
         ]
        },
        {
         "name": "Espora",
         "type": "bar",
         "x": [
          "F",
          "J"
         ],
         "y": [
          10.6,
          10.2
         ]
        },
        {
         "name": "Endófito",
         "type": "bar",
         "x": [
          "F",
          "J"
         ],
         "y": [
          1.4,
          1
         ]
        }
       ],
       "layout": {
        "barmode": "group",
        "template": {
         "data": {
          "bar": [
           {
            "error_x": {
             "color": "#2a3f5f"
            },
            "error_y": {
             "color": "#2a3f5f"
            },
            "marker": {
             "line": {
              "color": "#E5ECF6",
              "width": 0.5
             },
             "pattern": {
              "fillmode": "overlay",
              "size": 10,
              "solidity": 0.2
             }
            },
            "type": "bar"
           }
          ],
          "barpolar": [
           {
            "marker": {
             "line": {
              "color": "#E5ECF6",
              "width": 0.5
             },
             "pattern": {
              "fillmode": "overlay",
              "size": 10,
              "solidity": 0.2
             }
            },
            "type": "barpolar"
           }
          ],
          "carpet": [
           {
            "aaxis": {
             "endlinecolor": "#2a3f5f",
             "gridcolor": "white",
             "linecolor": "white",
             "minorgridcolor": "white",
             "startlinecolor": "#2a3f5f"
            },
            "baxis": {
             "endlinecolor": "#2a3f5f",
             "gridcolor": "white",
             "linecolor": "white",
             "minorgridcolor": "white",
             "startlinecolor": "#2a3f5f"
            },
            "type": "carpet"
           }
          ],
          "choropleth": [
           {
            "colorbar": {
             "outlinewidth": 0,
             "ticks": ""
            },
            "type": "choropleth"
           }
          ],
          "contour": [
           {
            "colorbar": {
             "outlinewidth": 0,
             "ticks": ""
            },
            "colorscale": [
             [
              0,
              "#0d0887"
             ],
             [
              0.1111111111111111,
              "#46039f"
             ],
             [
              0.2222222222222222,
              "#7201a8"
             ],
             [
              0.3333333333333333,
              "#9c179e"
             ],
             [
              0.4444444444444444,
              "#bd3786"
             ],
             [
              0.5555555555555556,
              "#d8576b"
             ],
             [
              0.6666666666666666,
              "#ed7953"
             ],
             [
              0.7777777777777778,
              "#fb9f3a"
             ],
             [
              0.8888888888888888,
              "#fdca26"
             ],
             [
              1,
              "#f0f921"
             ]
            ],
            "type": "contour"
           }
          ],
          "contourcarpet": [
           {
            "colorbar": {
             "outlinewidth": 0,
             "ticks": ""
            },
            "type": "contourcarpet"
           }
          ],
          "heatmap": [
           {
            "colorbar": {
             "outlinewidth": 0,
             "ticks": ""
            },
            "colorscale": [
             [
              0,
              "#0d0887"
             ],
             [
              0.1111111111111111,
              "#46039f"
             ],
             [
              0.2222222222222222,
              "#7201a8"
             ],
             [
              0.3333333333333333,
              "#9c179e"
             ],
             [
              0.4444444444444444,
              "#bd3786"
             ],
             [
              0.5555555555555556,
              "#d8576b"
             ],
             [
              0.6666666666666666,
              "#ed7953"
             ],
             [
              0.7777777777777778,
              "#fb9f3a"
             ],
             [
              0.8888888888888888,
              "#fdca26"
             ],
             [
              1,
              "#f0f921"
             ]
            ],
            "type": "heatmap"
           }
          ],
          "heatmapgl": [
           {
            "colorbar": {
             "outlinewidth": 0,
             "ticks": ""
            },
            "colorscale": [
             [
              0,
              "#0d0887"
             ],
             [
              0.1111111111111111,
              "#46039f"
             ],
             [
              0.2222222222222222,
              "#7201a8"
             ],
             [
              0.3333333333333333,
              "#9c179e"
             ],
             [
              0.4444444444444444,
              "#bd3786"
             ],
             [
              0.5555555555555556,
              "#d8576b"
             ],
             [
              0.6666666666666666,
              "#ed7953"
             ],
             [
              0.7777777777777778,
              "#fb9f3a"
             ],
             [
              0.8888888888888888,
              "#fdca26"
             ],
             [
              1,
              "#f0f921"
             ]
            ],
            "type": "heatmapgl"
           }
          ],
          "histogram": [
           {
            "marker": {
             "pattern": {
              "fillmode": "overlay",
              "size": 10,
              "solidity": 0.2
             }
            },
            "type": "histogram"
           }
          ],
          "histogram2d": [
           {
            "colorbar": {
             "outlinewidth": 0,
             "ticks": ""
            },
            "colorscale": [
             [
              0,
              "#0d0887"
             ],
             [
              0.1111111111111111,
              "#46039f"
             ],
             [
              0.2222222222222222,
              "#7201a8"
             ],
             [
              0.3333333333333333,
              "#9c179e"
             ],
             [
              0.4444444444444444,
              "#bd3786"
             ],
             [
              0.5555555555555556,
              "#d8576b"
             ],
             [
              0.6666666666666666,
              "#ed7953"
             ],
             [
              0.7777777777777778,
              "#fb9f3a"
             ],
             [
              0.8888888888888888,
              "#fdca26"
             ],
             [
              1,
              "#f0f921"
             ]
            ],
            "type": "histogram2d"
           }
          ],
          "histogram2dcontour": [
           {
            "colorbar": {
             "outlinewidth": 0,
             "ticks": ""
            },
            "colorscale": [
             [
              0,
              "#0d0887"
             ],
             [
              0.1111111111111111,
              "#46039f"
             ],
             [
              0.2222222222222222,
              "#7201a8"
             ],
             [
              0.3333333333333333,
              "#9c179e"
             ],
             [
              0.4444444444444444,
              "#bd3786"
             ],
             [
              0.5555555555555556,
              "#d8576b"
             ],
             [
              0.6666666666666666,
              "#ed7953"
             ],
             [
              0.7777777777777778,
              "#fb9f3a"
             ],
             [
              0.8888888888888888,
              "#fdca26"
             ],
             [
              1,
              "#f0f921"
             ]
            ],
            "type": "histogram2dcontour"
           }
          ],
          "mesh3d": [
           {
            "colorbar": {
             "outlinewidth": 0,
             "ticks": ""
            },
            "type": "mesh3d"
           }
          ],
          "parcoords": [
           {
            "line": {
             "colorbar": {
              "outlinewidth": 0,
              "ticks": ""
             }
            },
            "type": "parcoords"
           }
          ],
          "pie": [
           {
            "automargin": true,
            "type": "pie"
           }
          ],
          "scatter": [
           {
            "fillpattern": {
             "fillmode": "overlay",
             "size": 10,
             "solidity": 0.2
            },
            "type": "scatter"
           }
          ],
          "scatter3d": [
           {
            "line": {
             "colorbar": {
              "outlinewidth": 0,
              "ticks": ""
             }
            },
            "marker": {
             "colorbar": {
              "outlinewidth": 0,
              "ticks": ""
             }
            },
            "type": "scatter3d"
           }
          ],
          "scattercarpet": [
           {
            "marker": {
             "colorbar": {
              "outlinewidth": 0,
              "ticks": ""
             }
            },
            "type": "scattercarpet"
           }
          ],
          "scattergeo": [
           {
            "marker": {
             "colorbar": {
              "outlinewidth": 0,
              "ticks": ""
             }
            },
            "type": "scattergeo"
           }
          ],
          "scattergl": [
           {
            "marker": {
             "colorbar": {
              "outlinewidth": 0,
              "ticks": ""
             }
            },
            "type": "scattergl"
           }
          ],
          "scattermapbox": [
           {
            "marker": {
             "colorbar": {
              "outlinewidth": 0,
              "ticks": ""
             }
            },
            "type": "scattermapbox"
           }
          ],
          "scatterpolar": [
           {
            "marker": {
             "colorbar": {
              "outlinewidth": 0,
              "ticks": ""
             }
            },
            "type": "scatterpolar"
           }
          ],
          "scatterpolargl": [
           {
            "marker": {
             "colorbar": {
              "outlinewidth": 0,
              "ticks": ""
             }
            },
            "type": "scatterpolargl"
           }
          ],
          "scatterternary": [
           {
            "marker": {
             "colorbar": {
              "outlinewidth": 0,
              "ticks": ""
             }
            },
            "type": "scatterternary"
           }
          ],
          "surface": [
           {
            "colorbar": {
             "outlinewidth": 0,
             "ticks": ""
            },
            "colorscale": [
             [
              0,
              "#0d0887"
             ],
             [
              0.1111111111111111,
              "#46039f"
             ],
             [
              0.2222222222222222,
              "#7201a8"
             ],
             [
              0.3333333333333333,
              "#9c179e"
             ],
             [
              0.4444444444444444,
              "#bd3786"
             ],
             [
              0.5555555555555556,
              "#d8576b"
             ],
             [
              0.6666666666666666,
              "#ed7953"
             ],
             [
              0.7777777777777778,
              "#fb9f3a"
             ],
             [
              0.8888888888888888,
              "#fdca26"
             ],
             [
              1,
              "#f0f921"
             ]
            ],
            "type": "surface"
           }
          ],
          "table": [
           {
            "cells": {
             "fill": {
              "color": "#EBF0F8"
             },
             "line": {
              "color": "white"
             }
            },
            "header": {
             "fill": {
              "color": "#C8D4E3"
             },
             "line": {
              "color": "white"
             }
            },
            "type": "table"
           }
          ]
         },
         "layout": {
          "annotationdefaults": {
           "arrowcolor": "#2a3f5f",
           "arrowhead": 0,
           "arrowwidth": 1
          },
          "autotypenumbers": "strict",
          "coloraxis": {
           "colorbar": {
            "outlinewidth": 0,
            "ticks": ""
           }
          },
          "colorscale": {
           "diverging": [
            [
             0,
             "#8e0152"
            ],
            [
             0.1,
             "#c51b7d"
            ],
            [
             0.2,
             "#de77ae"
            ],
            [
             0.3,
             "#f1b6da"
            ],
            [
             0.4,
             "#fde0ef"
            ],
            [
             0.5,
             "#f7f7f7"
            ],
            [
             0.6,
             "#e6f5d0"
            ],
            [
             0.7,
             "#b8e186"
            ],
            [
             0.8,
             "#7fbc41"
            ],
            [
             0.9,
             "#4d9221"
            ],
            [
             1,
             "#276419"
            ]
           ],
           "sequential": [
            [
             0,
             "#0d0887"
            ],
            [
             0.1111111111111111,
             "#46039f"
            ],
            [
             0.2222222222222222,
             "#7201a8"
            ],
            [
             0.3333333333333333,
             "#9c179e"
            ],
            [
             0.4444444444444444,
             "#bd3786"
            ],
            [
             0.5555555555555556,
             "#d8576b"
            ],
            [
             0.6666666666666666,
             "#ed7953"
            ],
            [
             0.7777777777777778,
             "#fb9f3a"
            ],
            [
             0.8888888888888888,
             "#fdca26"
            ],
            [
             1,
             "#f0f921"
            ]
           ],
           "sequentialminus": [
            [
             0,
             "#0d0887"
            ],
            [
             0.1111111111111111,
             "#46039f"
            ],
            [
             0.2222222222222222,
             "#7201a8"
            ],
            [
             0.3333333333333333,
             "#9c179e"
            ],
            [
             0.4444444444444444,
             "#bd3786"
            ],
            [
             0.5555555555555556,
             "#d8576b"
            ],
            [
             0.6666666666666666,
             "#ed7953"
            ],
            [
             0.7777777777777778,
             "#fb9f3a"
            ],
            [
             0.8888888888888888,
             "#fdca26"
            ],
            [
             1,
             "#f0f921"
            ]
           ]
          },
          "colorway": [
           "#636efa",
           "#EF553B",
           "#00cc96",
           "#ab63fa",
           "#FFA15A",
           "#19d3f3",
           "#FF6692",
           "#B6E880",
           "#FF97FF",
           "#FECB52"
          ],
          "font": {
           "color": "#2a3f5f"
          },
          "geo": {
           "bgcolor": "white",
           "lakecolor": "white",
           "landcolor": "#E5ECF6",
           "showlakes": true,
           "showland": true,
           "subunitcolor": "white"
          },
          "hoverlabel": {
           "align": "left"
          },
          "hovermode": "closest",
          "mapbox": {
           "style": "light"
          },
          "paper_bgcolor": "white",
          "plot_bgcolor": "#E5ECF6",
          "polar": {
           "angularaxis": {
            "gridcolor": "white",
            "linecolor": "white",
            "ticks": ""
           },
           "bgcolor": "#E5ECF6",
           "radialaxis": {
            "gridcolor": "white",
            "linecolor": "white",
            "ticks": ""
           }
          },
          "scene": {
           "xaxis": {
            "backgroundcolor": "#E5ECF6",
            "gridcolor": "white",
            "gridwidth": 2,
            "linecolor": "white",
            "showbackground": true,
            "ticks": "",
            "zerolinecolor": "white"
           },
           "yaxis": {
            "backgroundcolor": "#E5ECF6",
            "gridcolor": "white",
            "gridwidth": 2,
            "linecolor": "white",
            "showbackground": true,
            "ticks": "",
            "zerolinecolor": "white"
           },
           "zaxis": {
            "backgroundcolor": "#E5ECF6",
            "gridcolor": "white",
            "gridwidth": 2,
            "linecolor": "white",
            "showbackground": true,
            "ticks": "",
            "zerolinecolor": "white"
           }
          },
          "shapedefaults": {
           "line": {
            "color": "#2a3f5f"
           }
          },
          "ternary": {
           "aaxis": {
            "gridcolor": "white",
            "linecolor": "white",
            "ticks": ""
           },
           "baxis": {
            "gridcolor": "white",
            "linecolor": "white",
            "ticks": ""
           },
           "bgcolor": "#E5ECF6",
           "caxis": {
            "gridcolor": "white",
            "linecolor": "white",
            "ticks": ""
           }
          },
          "title": {
           "x": 0.05
          },
          "xaxis": {
           "automargin": true,
           "gridcolor": "white",
           "linecolor": "white",
           "ticks": "",
           "title": {
            "standoff": 15
           },
           "zerolinecolor": "white",
           "zerolinewidth": 2
          },
          "yaxis": {
           "automargin": true,
           "gridcolor": "white",
           "linecolor": "white",
           "ticks": "",
           "title": {
            "standoff": 15
           },
           "zerolinecolor": "white",
           "zerolinewidth": 2
          }
         }
        },
        "title": {
         "text": "Concentración promedio por tratamiento - Baccharis sarothroides"
        }
       }
      }
     },
     "metadata": {},
     "output_type": "display_data"
    }
   ],
   "source": [
    "tratamiento1 = df_mico_grouped1[\"Sitio\"].unique()\n",
    "\n",
    "fig = go.Figure(data=[\n",
    "    go.Bar(name='Hifa', x=tratamiento1, y=df_mico_grouped[(df_mico_grouped[\"Especie\"] == 'Baccharis sarothroides')][\"Hifa\"]),    \n",
    "    go.Bar(name='Vesícula', x=tratamiento1, y=df_mico_grouped[(df_mico_grouped[\"Especie\"] == 'Baccharis sarothroides')][\"Vesícula\"]),\n",
    "    go.Bar(name='Arbúsculo', x=tratamiento1, y=df_mico_grouped[(df_mico_grouped[\"Especie\"] == 'Baccharis sarothroides')][\"Arbúsculo\"]),\n",
    "    go.Bar(name='Espora', x=tratamiento1, y=df_mico_grouped[(df_mico_grouped[\"Especie\"] == 'Baccharis sarothroides')][\"Espora\"]),\n",
    "    go.Bar(name='Endófito', x=tratamiento1, y=df_mico_grouped[(df_mico_grouped[\"Especie\"] == 'Baccharis sarothroides')][\"Endófito\"]),\n",
    "])\n",
    "# Change the bar mode\n",
    "fig.update_layout(barmode='group', title='Concentración promedio por tratamiento - Baccharis sarothroides')\n",
    "fig.show()"
   ]
  },
  {
   "cell_type": "code",
   "execution_count": 110,
   "metadata": {},
   "outputs": [
    {
     "data": {
      "application/vnd.plotly.v1+json": {
       "config": {
        "plotlyServerURL": "https://plot.ly"
       },
       "data": [
        {
         "name": "Hifa",
         "type": "bar",
         "x": [
          "F",
          "J"
         ],
         "y": [
          15.6
         ]
        },
        {
         "name": "Vesícula",
         "type": "bar",
         "x": [
          "F",
          "J"
         ],
         "y": [
          0
         ]
        },
        {
         "name": "Arbúsculo",
         "type": "bar",
         "x": [
          "F",
          "J"
         ],
         "y": [
          0
         ]
        },
        {
         "name": "Espora",
         "type": "bar",
         "x": [
          "F",
          "J"
         ],
         "y": [
          2.2
         ]
        },
        {
         "name": "Endófito",
         "type": "bar",
         "x": [
          "F",
          "J"
         ],
         "y": [
          2.4
         ]
        }
       ],
       "layout": {
        "barmode": "group",
        "template": {
         "data": {
          "bar": [
           {
            "error_x": {
             "color": "#2a3f5f"
            },
            "error_y": {
             "color": "#2a3f5f"
            },
            "marker": {
             "line": {
              "color": "#E5ECF6",
              "width": 0.5
             },
             "pattern": {
              "fillmode": "overlay",
              "size": 10,
              "solidity": 0.2
             }
            },
            "type": "bar"
           }
          ],
          "barpolar": [
           {
            "marker": {
             "line": {
              "color": "#E5ECF6",
              "width": 0.5
             },
             "pattern": {
              "fillmode": "overlay",
              "size": 10,
              "solidity": 0.2
             }
            },
            "type": "barpolar"
           }
          ],
          "carpet": [
           {
            "aaxis": {
             "endlinecolor": "#2a3f5f",
             "gridcolor": "white",
             "linecolor": "white",
             "minorgridcolor": "white",
             "startlinecolor": "#2a3f5f"
            },
            "baxis": {
             "endlinecolor": "#2a3f5f",
             "gridcolor": "white",
             "linecolor": "white",
             "minorgridcolor": "white",
             "startlinecolor": "#2a3f5f"
            },
            "type": "carpet"
           }
          ],
          "choropleth": [
           {
            "colorbar": {
             "outlinewidth": 0,
             "ticks": ""
            },
            "type": "choropleth"
           }
          ],
          "contour": [
           {
            "colorbar": {
             "outlinewidth": 0,
             "ticks": ""
            },
            "colorscale": [
             [
              0,
              "#0d0887"
             ],
             [
              0.1111111111111111,
              "#46039f"
             ],
             [
              0.2222222222222222,
              "#7201a8"
             ],
             [
              0.3333333333333333,
              "#9c179e"
             ],
             [
              0.4444444444444444,
              "#bd3786"
             ],
             [
              0.5555555555555556,
              "#d8576b"
             ],
             [
              0.6666666666666666,
              "#ed7953"
             ],
             [
              0.7777777777777778,
              "#fb9f3a"
             ],
             [
              0.8888888888888888,
              "#fdca26"
             ],
             [
              1,
              "#f0f921"
             ]
            ],
            "type": "contour"
           }
          ],
          "contourcarpet": [
           {
            "colorbar": {
             "outlinewidth": 0,
             "ticks": ""
            },
            "type": "contourcarpet"
           }
          ],
          "heatmap": [
           {
            "colorbar": {
             "outlinewidth": 0,
             "ticks": ""
            },
            "colorscale": [
             [
              0,
              "#0d0887"
             ],
             [
              0.1111111111111111,
              "#46039f"
             ],
             [
              0.2222222222222222,
              "#7201a8"
             ],
             [
              0.3333333333333333,
              "#9c179e"
             ],
             [
              0.4444444444444444,
              "#bd3786"
             ],
             [
              0.5555555555555556,
              "#d8576b"
             ],
             [
              0.6666666666666666,
              "#ed7953"
             ],
             [
              0.7777777777777778,
              "#fb9f3a"
             ],
             [
              0.8888888888888888,
              "#fdca26"
             ],
             [
              1,
              "#f0f921"
             ]
            ],
            "type": "heatmap"
           }
          ],
          "heatmapgl": [
           {
            "colorbar": {
             "outlinewidth": 0,
             "ticks": ""
            },
            "colorscale": [
             [
              0,
              "#0d0887"
             ],
             [
              0.1111111111111111,
              "#46039f"
             ],
             [
              0.2222222222222222,
              "#7201a8"
             ],
             [
              0.3333333333333333,
              "#9c179e"
             ],
             [
              0.4444444444444444,
              "#bd3786"
             ],
             [
              0.5555555555555556,
              "#d8576b"
             ],
             [
              0.6666666666666666,
              "#ed7953"
             ],
             [
              0.7777777777777778,
              "#fb9f3a"
             ],
             [
              0.8888888888888888,
              "#fdca26"
             ],
             [
              1,
              "#f0f921"
             ]
            ],
            "type": "heatmapgl"
           }
          ],
          "histogram": [
           {
            "marker": {
             "pattern": {
              "fillmode": "overlay",
              "size": 10,
              "solidity": 0.2
             }
            },
            "type": "histogram"
           }
          ],
          "histogram2d": [
           {
            "colorbar": {
             "outlinewidth": 0,
             "ticks": ""
            },
            "colorscale": [
             [
              0,
              "#0d0887"
             ],
             [
              0.1111111111111111,
              "#46039f"
             ],
             [
              0.2222222222222222,
              "#7201a8"
             ],
             [
              0.3333333333333333,
              "#9c179e"
             ],
             [
              0.4444444444444444,
              "#bd3786"
             ],
             [
              0.5555555555555556,
              "#d8576b"
             ],
             [
              0.6666666666666666,
              "#ed7953"
             ],
             [
              0.7777777777777778,
              "#fb9f3a"
             ],
             [
              0.8888888888888888,
              "#fdca26"
             ],
             [
              1,
              "#f0f921"
             ]
            ],
            "type": "histogram2d"
           }
          ],
          "histogram2dcontour": [
           {
            "colorbar": {
             "outlinewidth": 0,
             "ticks": ""
            },
            "colorscale": [
             [
              0,
              "#0d0887"
             ],
             [
              0.1111111111111111,
              "#46039f"
             ],
             [
              0.2222222222222222,
              "#7201a8"
             ],
             [
              0.3333333333333333,
              "#9c179e"
             ],
             [
              0.4444444444444444,
              "#bd3786"
             ],
             [
              0.5555555555555556,
              "#d8576b"
             ],
             [
              0.6666666666666666,
              "#ed7953"
             ],
             [
              0.7777777777777778,
              "#fb9f3a"
             ],
             [
              0.8888888888888888,
              "#fdca26"
             ],
             [
              1,
              "#f0f921"
             ]
            ],
            "type": "histogram2dcontour"
           }
          ],
          "mesh3d": [
           {
            "colorbar": {
             "outlinewidth": 0,
             "ticks": ""
            },
            "type": "mesh3d"
           }
          ],
          "parcoords": [
           {
            "line": {
             "colorbar": {
              "outlinewidth": 0,
              "ticks": ""
             }
            },
            "type": "parcoords"
           }
          ],
          "pie": [
           {
            "automargin": true,
            "type": "pie"
           }
          ],
          "scatter": [
           {
            "fillpattern": {
             "fillmode": "overlay",
             "size": 10,
             "solidity": 0.2
            },
            "type": "scatter"
           }
          ],
          "scatter3d": [
           {
            "line": {
             "colorbar": {
              "outlinewidth": 0,
              "ticks": ""
             }
            },
            "marker": {
             "colorbar": {
              "outlinewidth": 0,
              "ticks": ""
             }
            },
            "type": "scatter3d"
           }
          ],
          "scattercarpet": [
           {
            "marker": {
             "colorbar": {
              "outlinewidth": 0,
              "ticks": ""
             }
            },
            "type": "scattercarpet"
           }
          ],
          "scattergeo": [
           {
            "marker": {
             "colorbar": {
              "outlinewidth": 0,
              "ticks": ""
             }
            },
            "type": "scattergeo"
           }
          ],
          "scattergl": [
           {
            "marker": {
             "colorbar": {
              "outlinewidth": 0,
              "ticks": ""
             }
            },
            "type": "scattergl"
           }
          ],
          "scattermapbox": [
           {
            "marker": {
             "colorbar": {
              "outlinewidth": 0,
              "ticks": ""
             }
            },
            "type": "scattermapbox"
           }
          ],
          "scatterpolar": [
           {
            "marker": {
             "colorbar": {
              "outlinewidth": 0,
              "ticks": ""
             }
            },
            "type": "scatterpolar"
           }
          ],
          "scatterpolargl": [
           {
            "marker": {
             "colorbar": {
              "outlinewidth": 0,
              "ticks": ""
             }
            },
            "type": "scatterpolargl"
           }
          ],
          "scatterternary": [
           {
            "marker": {
             "colorbar": {
              "outlinewidth": 0,
              "ticks": ""
             }
            },
            "type": "scatterternary"
           }
          ],
          "surface": [
           {
            "colorbar": {
             "outlinewidth": 0,
             "ticks": ""
            },
            "colorscale": [
             [
              0,
              "#0d0887"
             ],
             [
              0.1111111111111111,
              "#46039f"
             ],
             [
              0.2222222222222222,
              "#7201a8"
             ],
             [
              0.3333333333333333,
              "#9c179e"
             ],
             [
              0.4444444444444444,
              "#bd3786"
             ],
             [
              0.5555555555555556,
              "#d8576b"
             ],
             [
              0.6666666666666666,
              "#ed7953"
             ],
             [
              0.7777777777777778,
              "#fb9f3a"
             ],
             [
              0.8888888888888888,
              "#fdca26"
             ],
             [
              1,
              "#f0f921"
             ]
            ],
            "type": "surface"
           }
          ],
          "table": [
           {
            "cells": {
             "fill": {
              "color": "#EBF0F8"
             },
             "line": {
              "color": "white"
             }
            },
            "header": {
             "fill": {
              "color": "#C8D4E3"
             },
             "line": {
              "color": "white"
             }
            },
            "type": "table"
           }
          ]
         },
         "layout": {
          "annotationdefaults": {
           "arrowcolor": "#2a3f5f",
           "arrowhead": 0,
           "arrowwidth": 1
          },
          "autotypenumbers": "strict",
          "coloraxis": {
           "colorbar": {
            "outlinewidth": 0,
            "ticks": ""
           }
          },
          "colorscale": {
           "diverging": [
            [
             0,
             "#8e0152"
            ],
            [
             0.1,
             "#c51b7d"
            ],
            [
             0.2,
             "#de77ae"
            ],
            [
             0.3,
             "#f1b6da"
            ],
            [
             0.4,
             "#fde0ef"
            ],
            [
             0.5,
             "#f7f7f7"
            ],
            [
             0.6,
             "#e6f5d0"
            ],
            [
             0.7,
             "#b8e186"
            ],
            [
             0.8,
             "#7fbc41"
            ],
            [
             0.9,
             "#4d9221"
            ],
            [
             1,
             "#276419"
            ]
           ],
           "sequential": [
            [
             0,
             "#0d0887"
            ],
            [
             0.1111111111111111,
             "#46039f"
            ],
            [
             0.2222222222222222,
             "#7201a8"
            ],
            [
             0.3333333333333333,
             "#9c179e"
            ],
            [
             0.4444444444444444,
             "#bd3786"
            ],
            [
             0.5555555555555556,
             "#d8576b"
            ],
            [
             0.6666666666666666,
             "#ed7953"
            ],
            [
             0.7777777777777778,
             "#fb9f3a"
            ],
            [
             0.8888888888888888,
             "#fdca26"
            ],
            [
             1,
             "#f0f921"
            ]
           ],
           "sequentialminus": [
            [
             0,
             "#0d0887"
            ],
            [
             0.1111111111111111,
             "#46039f"
            ],
            [
             0.2222222222222222,
             "#7201a8"
            ],
            [
             0.3333333333333333,
             "#9c179e"
            ],
            [
             0.4444444444444444,
             "#bd3786"
            ],
            [
             0.5555555555555556,
             "#d8576b"
            ],
            [
             0.6666666666666666,
             "#ed7953"
            ],
            [
             0.7777777777777778,
             "#fb9f3a"
            ],
            [
             0.8888888888888888,
             "#fdca26"
            ],
            [
             1,
             "#f0f921"
            ]
           ]
          },
          "colorway": [
           "#636efa",
           "#EF553B",
           "#00cc96",
           "#ab63fa",
           "#FFA15A",
           "#19d3f3",
           "#FF6692",
           "#B6E880",
           "#FF97FF",
           "#FECB52"
          ],
          "font": {
           "color": "#2a3f5f"
          },
          "geo": {
           "bgcolor": "white",
           "lakecolor": "white",
           "landcolor": "#E5ECF6",
           "showlakes": true,
           "showland": true,
           "subunitcolor": "white"
          },
          "hoverlabel": {
           "align": "left"
          },
          "hovermode": "closest",
          "mapbox": {
           "style": "light"
          },
          "paper_bgcolor": "white",
          "plot_bgcolor": "#E5ECF6",
          "polar": {
           "angularaxis": {
            "gridcolor": "white",
            "linecolor": "white",
            "ticks": ""
           },
           "bgcolor": "#E5ECF6",
           "radialaxis": {
            "gridcolor": "white",
            "linecolor": "white",
            "ticks": ""
           }
          },
          "scene": {
           "xaxis": {
            "backgroundcolor": "#E5ECF6",
            "gridcolor": "white",
            "gridwidth": 2,
            "linecolor": "white",
            "showbackground": true,
            "ticks": "",
            "zerolinecolor": "white"
           },
           "yaxis": {
            "backgroundcolor": "#E5ECF6",
            "gridcolor": "white",
            "gridwidth": 2,
            "linecolor": "white",
            "showbackground": true,
            "ticks": "",
            "zerolinecolor": "white"
           },
           "zaxis": {
            "backgroundcolor": "#E5ECF6",
            "gridcolor": "white",
            "gridwidth": 2,
            "linecolor": "white",
            "showbackground": true,
            "ticks": "",
            "zerolinecolor": "white"
           }
          },
          "shapedefaults": {
           "line": {
            "color": "#2a3f5f"
           }
          },
          "ternary": {
           "aaxis": {
            "gridcolor": "white",
            "linecolor": "white",
            "ticks": ""
           },
           "baxis": {
            "gridcolor": "white",
            "linecolor": "white",
            "ticks": ""
           },
           "bgcolor": "#E5ECF6",
           "caxis": {
            "gridcolor": "white",
            "linecolor": "white",
            "ticks": ""
           }
          },
          "title": {
           "x": 0.05
          },
          "xaxis": {
           "automargin": true,
           "gridcolor": "white",
           "linecolor": "white",
           "ticks": "",
           "title": {
            "standoff": 15
           },
           "zerolinecolor": "white",
           "zerolinewidth": 2
          },
          "yaxis": {
           "automargin": true,
           "gridcolor": "white",
           "linecolor": "white",
           "ticks": "",
           "title": {
            "standoff": 15
           },
           "zerolinecolor": "white",
           "zerolinewidth": 2
          }
         }
        },
        "title": {
         "text": "Concentración promedio por tratamiento - Pseudognaphaleum leucocephalum"
        }
       }
      }
     },
     "metadata": {},
     "output_type": "display_data"
    }
   ],
   "source": [
    "tratamiento1 = df_mico_grouped1[\"Sitio\"].unique()\n",
    "\n",
    "fig = go.Figure(data=[\n",
    "    go.Bar(name='Hifa', x=tratamiento1, y=df_mico_grouped[(df_mico_grouped[\"Especie\"] == 'Pseudognaphaleum leucocephalum')][\"Hifa\"]),    \n",
    "    go.Bar(name='Vesícula', x=tratamiento1, y=df_mico_grouped[(df_mico_grouped[\"Especie\"] == 'Pseudognaphaleum leucocephalum')][\"Vesícula\"]),\n",
    "    go.Bar(name='Arbúsculo', x=tratamiento1, y=df_mico_grouped[(df_mico_grouped[\"Especie\"] == 'Pseudognaphaleum leucocephalum')][\"Arbúsculo\"]),\n",
    "    go.Bar(name='Espora', x=tratamiento1, y=df_mico_grouped[(df_mico_grouped[\"Especie\"] == 'Pseudognaphaleum leucocephalum')][\"Espora\"]),\n",
    "    go.Bar(name='Endófito', x=tratamiento1, y=df_mico_grouped[(df_mico_grouped[\"Especie\"] == 'Pseudognaphaleum leucocephalum')][\"Endófito\"]),\n",
    "])\n",
    "# Change the bar mode\n",
    "fig.update_layout(barmode='group', title='Concentración promedio por tratamiento - Pseudognaphaleum leucocephalum')\n",
    "fig.show()"
   ]
  },
  {
   "cell_type": "code",
   "execution_count": 111,
   "metadata": {},
   "outputs": [
    {
     "data": {
      "application/vnd.plotly.v1+json": {
       "config": {
        "plotlyServerURL": "https://plot.ly"
       },
       "data": [
        {
         "name": "Hifa",
         "type": "bar",
         "x": [
          "F",
          "J"
         ],
         "y": [
          25.4,
          22.8
         ]
        },
        {
         "name": "Vesícula",
         "type": "bar",
         "x": [
          "F",
          "J"
         ],
         "y": [
          0.8,
          2.4
         ]
        },
        {
         "name": "Arbúsculo",
         "type": "bar",
         "x": [
          "F",
          "J"
         ],
         "y": [
          0,
          0.8
         ]
        },
        {
         "name": "Espora",
         "type": "bar",
         "x": [
          "F",
          "J"
         ],
         "y": [
          21.6,
          10.6
         ]
        },
        {
         "name": "Endófito",
         "type": "bar",
         "x": [
          "F",
          "J"
         ],
         "y": [
          0.4,
          3.8
         ]
        }
       ],
       "layout": {
        "barmode": "group",
        "template": {
         "data": {
          "bar": [
           {
            "error_x": {
             "color": "#2a3f5f"
            },
            "error_y": {
             "color": "#2a3f5f"
            },
            "marker": {
             "line": {
              "color": "#E5ECF6",
              "width": 0.5
             },
             "pattern": {
              "fillmode": "overlay",
              "size": 10,
              "solidity": 0.2
             }
            },
            "type": "bar"
           }
          ],
          "barpolar": [
           {
            "marker": {
             "line": {
              "color": "#E5ECF6",
              "width": 0.5
             },
             "pattern": {
              "fillmode": "overlay",
              "size": 10,
              "solidity": 0.2
             }
            },
            "type": "barpolar"
           }
          ],
          "carpet": [
           {
            "aaxis": {
             "endlinecolor": "#2a3f5f",
             "gridcolor": "white",
             "linecolor": "white",
             "minorgridcolor": "white",
             "startlinecolor": "#2a3f5f"
            },
            "baxis": {
             "endlinecolor": "#2a3f5f",
             "gridcolor": "white",
             "linecolor": "white",
             "minorgridcolor": "white",
             "startlinecolor": "#2a3f5f"
            },
            "type": "carpet"
           }
          ],
          "choropleth": [
           {
            "colorbar": {
             "outlinewidth": 0,
             "ticks": ""
            },
            "type": "choropleth"
           }
          ],
          "contour": [
           {
            "colorbar": {
             "outlinewidth": 0,
             "ticks": ""
            },
            "colorscale": [
             [
              0,
              "#0d0887"
             ],
             [
              0.1111111111111111,
              "#46039f"
             ],
             [
              0.2222222222222222,
              "#7201a8"
             ],
             [
              0.3333333333333333,
              "#9c179e"
             ],
             [
              0.4444444444444444,
              "#bd3786"
             ],
             [
              0.5555555555555556,
              "#d8576b"
             ],
             [
              0.6666666666666666,
              "#ed7953"
             ],
             [
              0.7777777777777778,
              "#fb9f3a"
             ],
             [
              0.8888888888888888,
              "#fdca26"
             ],
             [
              1,
              "#f0f921"
             ]
            ],
            "type": "contour"
           }
          ],
          "contourcarpet": [
           {
            "colorbar": {
             "outlinewidth": 0,
             "ticks": ""
            },
            "type": "contourcarpet"
           }
          ],
          "heatmap": [
           {
            "colorbar": {
             "outlinewidth": 0,
             "ticks": ""
            },
            "colorscale": [
             [
              0,
              "#0d0887"
             ],
             [
              0.1111111111111111,
              "#46039f"
             ],
             [
              0.2222222222222222,
              "#7201a8"
             ],
             [
              0.3333333333333333,
              "#9c179e"
             ],
             [
              0.4444444444444444,
              "#bd3786"
             ],
             [
              0.5555555555555556,
              "#d8576b"
             ],
             [
              0.6666666666666666,
              "#ed7953"
             ],
             [
              0.7777777777777778,
              "#fb9f3a"
             ],
             [
              0.8888888888888888,
              "#fdca26"
             ],
             [
              1,
              "#f0f921"
             ]
            ],
            "type": "heatmap"
           }
          ],
          "heatmapgl": [
           {
            "colorbar": {
             "outlinewidth": 0,
             "ticks": ""
            },
            "colorscale": [
             [
              0,
              "#0d0887"
             ],
             [
              0.1111111111111111,
              "#46039f"
             ],
             [
              0.2222222222222222,
              "#7201a8"
             ],
             [
              0.3333333333333333,
              "#9c179e"
             ],
             [
              0.4444444444444444,
              "#bd3786"
             ],
             [
              0.5555555555555556,
              "#d8576b"
             ],
             [
              0.6666666666666666,
              "#ed7953"
             ],
             [
              0.7777777777777778,
              "#fb9f3a"
             ],
             [
              0.8888888888888888,
              "#fdca26"
             ],
             [
              1,
              "#f0f921"
             ]
            ],
            "type": "heatmapgl"
           }
          ],
          "histogram": [
           {
            "marker": {
             "pattern": {
              "fillmode": "overlay",
              "size": 10,
              "solidity": 0.2
             }
            },
            "type": "histogram"
           }
          ],
          "histogram2d": [
           {
            "colorbar": {
             "outlinewidth": 0,
             "ticks": ""
            },
            "colorscale": [
             [
              0,
              "#0d0887"
             ],
             [
              0.1111111111111111,
              "#46039f"
             ],
             [
              0.2222222222222222,
              "#7201a8"
             ],
             [
              0.3333333333333333,
              "#9c179e"
             ],
             [
              0.4444444444444444,
              "#bd3786"
             ],
             [
              0.5555555555555556,
              "#d8576b"
             ],
             [
              0.6666666666666666,
              "#ed7953"
             ],
             [
              0.7777777777777778,
              "#fb9f3a"
             ],
             [
              0.8888888888888888,
              "#fdca26"
             ],
             [
              1,
              "#f0f921"
             ]
            ],
            "type": "histogram2d"
           }
          ],
          "histogram2dcontour": [
           {
            "colorbar": {
             "outlinewidth": 0,
             "ticks": ""
            },
            "colorscale": [
             [
              0,
              "#0d0887"
             ],
             [
              0.1111111111111111,
              "#46039f"
             ],
             [
              0.2222222222222222,
              "#7201a8"
             ],
             [
              0.3333333333333333,
              "#9c179e"
             ],
             [
              0.4444444444444444,
              "#bd3786"
             ],
             [
              0.5555555555555556,
              "#d8576b"
             ],
             [
              0.6666666666666666,
              "#ed7953"
             ],
             [
              0.7777777777777778,
              "#fb9f3a"
             ],
             [
              0.8888888888888888,
              "#fdca26"
             ],
             [
              1,
              "#f0f921"
             ]
            ],
            "type": "histogram2dcontour"
           }
          ],
          "mesh3d": [
           {
            "colorbar": {
             "outlinewidth": 0,
             "ticks": ""
            },
            "type": "mesh3d"
           }
          ],
          "parcoords": [
           {
            "line": {
             "colorbar": {
              "outlinewidth": 0,
              "ticks": ""
             }
            },
            "type": "parcoords"
           }
          ],
          "pie": [
           {
            "automargin": true,
            "type": "pie"
           }
          ],
          "scatter": [
           {
            "fillpattern": {
             "fillmode": "overlay",
             "size": 10,
             "solidity": 0.2
            },
            "type": "scatter"
           }
          ],
          "scatter3d": [
           {
            "line": {
             "colorbar": {
              "outlinewidth": 0,
              "ticks": ""
             }
            },
            "marker": {
             "colorbar": {
              "outlinewidth": 0,
              "ticks": ""
             }
            },
            "type": "scatter3d"
           }
          ],
          "scattercarpet": [
           {
            "marker": {
             "colorbar": {
              "outlinewidth": 0,
              "ticks": ""
             }
            },
            "type": "scattercarpet"
           }
          ],
          "scattergeo": [
           {
            "marker": {
             "colorbar": {
              "outlinewidth": 0,
              "ticks": ""
             }
            },
            "type": "scattergeo"
           }
          ],
          "scattergl": [
           {
            "marker": {
             "colorbar": {
              "outlinewidth": 0,
              "ticks": ""
             }
            },
            "type": "scattergl"
           }
          ],
          "scattermapbox": [
           {
            "marker": {
             "colorbar": {
              "outlinewidth": 0,
              "ticks": ""
             }
            },
            "type": "scattermapbox"
           }
          ],
          "scatterpolar": [
           {
            "marker": {
             "colorbar": {
              "outlinewidth": 0,
              "ticks": ""
             }
            },
            "type": "scatterpolar"
           }
          ],
          "scatterpolargl": [
           {
            "marker": {
             "colorbar": {
              "outlinewidth": 0,
              "ticks": ""
             }
            },
            "type": "scatterpolargl"
           }
          ],
          "scatterternary": [
           {
            "marker": {
             "colorbar": {
              "outlinewidth": 0,
              "ticks": ""
             }
            },
            "type": "scatterternary"
           }
          ],
          "surface": [
           {
            "colorbar": {
             "outlinewidth": 0,
             "ticks": ""
            },
            "colorscale": [
             [
              0,
              "#0d0887"
             ],
             [
              0.1111111111111111,
              "#46039f"
             ],
             [
              0.2222222222222222,
              "#7201a8"
             ],
             [
              0.3333333333333333,
              "#9c179e"
             ],
             [
              0.4444444444444444,
              "#bd3786"
             ],
             [
              0.5555555555555556,
              "#d8576b"
             ],
             [
              0.6666666666666666,
              "#ed7953"
             ],
             [
              0.7777777777777778,
              "#fb9f3a"
             ],
             [
              0.8888888888888888,
              "#fdca26"
             ],
             [
              1,
              "#f0f921"
             ]
            ],
            "type": "surface"
           }
          ],
          "table": [
           {
            "cells": {
             "fill": {
              "color": "#EBF0F8"
             },
             "line": {
              "color": "white"
             }
            },
            "header": {
             "fill": {
              "color": "#C8D4E3"
             },
             "line": {
              "color": "white"
             }
            },
            "type": "table"
           }
          ]
         },
         "layout": {
          "annotationdefaults": {
           "arrowcolor": "#2a3f5f",
           "arrowhead": 0,
           "arrowwidth": 1
          },
          "autotypenumbers": "strict",
          "coloraxis": {
           "colorbar": {
            "outlinewidth": 0,
            "ticks": ""
           }
          },
          "colorscale": {
           "diverging": [
            [
             0,
             "#8e0152"
            ],
            [
             0.1,
             "#c51b7d"
            ],
            [
             0.2,
             "#de77ae"
            ],
            [
             0.3,
             "#f1b6da"
            ],
            [
             0.4,
             "#fde0ef"
            ],
            [
             0.5,
             "#f7f7f7"
            ],
            [
             0.6,
             "#e6f5d0"
            ],
            [
             0.7,
             "#b8e186"
            ],
            [
             0.8,
             "#7fbc41"
            ],
            [
             0.9,
             "#4d9221"
            ],
            [
             1,
             "#276419"
            ]
           ],
           "sequential": [
            [
             0,
             "#0d0887"
            ],
            [
             0.1111111111111111,
             "#46039f"
            ],
            [
             0.2222222222222222,
             "#7201a8"
            ],
            [
             0.3333333333333333,
             "#9c179e"
            ],
            [
             0.4444444444444444,
             "#bd3786"
            ],
            [
             0.5555555555555556,
             "#d8576b"
            ],
            [
             0.6666666666666666,
             "#ed7953"
            ],
            [
             0.7777777777777778,
             "#fb9f3a"
            ],
            [
             0.8888888888888888,
             "#fdca26"
            ],
            [
             1,
             "#f0f921"
            ]
           ],
           "sequentialminus": [
            [
             0,
             "#0d0887"
            ],
            [
             0.1111111111111111,
             "#46039f"
            ],
            [
             0.2222222222222222,
             "#7201a8"
            ],
            [
             0.3333333333333333,
             "#9c179e"
            ],
            [
             0.4444444444444444,
             "#bd3786"
            ],
            [
             0.5555555555555556,
             "#d8576b"
            ],
            [
             0.6666666666666666,
             "#ed7953"
            ],
            [
             0.7777777777777778,
             "#fb9f3a"
            ],
            [
             0.8888888888888888,
             "#fdca26"
            ],
            [
             1,
             "#f0f921"
            ]
           ]
          },
          "colorway": [
           "#636efa",
           "#EF553B",
           "#00cc96",
           "#ab63fa",
           "#FFA15A",
           "#19d3f3",
           "#FF6692",
           "#B6E880",
           "#FF97FF",
           "#FECB52"
          ],
          "font": {
           "color": "#2a3f5f"
          },
          "geo": {
           "bgcolor": "white",
           "lakecolor": "white",
           "landcolor": "#E5ECF6",
           "showlakes": true,
           "showland": true,
           "subunitcolor": "white"
          },
          "hoverlabel": {
           "align": "left"
          },
          "hovermode": "closest",
          "mapbox": {
           "style": "light"
          },
          "paper_bgcolor": "white",
          "plot_bgcolor": "#E5ECF6",
          "polar": {
           "angularaxis": {
            "gridcolor": "white",
            "linecolor": "white",
            "ticks": ""
           },
           "bgcolor": "#E5ECF6",
           "radialaxis": {
            "gridcolor": "white",
            "linecolor": "white",
            "ticks": ""
           }
          },
          "scene": {
           "xaxis": {
            "backgroundcolor": "#E5ECF6",
            "gridcolor": "white",
            "gridwidth": 2,
            "linecolor": "white",
            "showbackground": true,
            "ticks": "",
            "zerolinecolor": "white"
           },
           "yaxis": {
            "backgroundcolor": "#E5ECF6",
            "gridcolor": "white",
            "gridwidth": 2,
            "linecolor": "white",
            "showbackground": true,
            "ticks": "",
            "zerolinecolor": "white"
           },
           "zaxis": {
            "backgroundcolor": "#E5ECF6",
            "gridcolor": "white",
            "gridwidth": 2,
            "linecolor": "white",
            "showbackground": true,
            "ticks": "",
            "zerolinecolor": "white"
           }
          },
          "shapedefaults": {
           "line": {
            "color": "#2a3f5f"
           }
          },
          "ternary": {
           "aaxis": {
            "gridcolor": "white",
            "linecolor": "white",
            "ticks": ""
           },
           "baxis": {
            "gridcolor": "white",
            "linecolor": "white",
            "ticks": ""
           },
           "bgcolor": "#E5ECF6",
           "caxis": {
            "gridcolor": "white",
            "linecolor": "white",
            "ticks": ""
           }
          },
          "title": {
           "x": 0.05
          },
          "xaxis": {
           "automargin": true,
           "gridcolor": "white",
           "linecolor": "white",
           "ticks": "",
           "title": {
            "standoff": 15
           },
           "zerolinecolor": "white",
           "zerolinewidth": 2
          },
          "yaxis": {
           "automargin": true,
           "gridcolor": "white",
           "linecolor": "white",
           "ticks": "",
           "title": {
            "standoff": 15
           },
           "zerolinecolor": "white",
           "zerolinewidth": 2
          }
         }
        },
        "title": {
         "text": "Concentración promedio por tratamiento - Vachellia farnesiana"
        }
       }
      }
     },
     "metadata": {},
     "output_type": "display_data"
    }
   ],
   "source": [
    "tratamiento1 = df_mico_grouped1[\"Sitio\"].unique()\n",
    "\n",
    "fig = go.Figure(data=[\n",
    "    go.Bar(name='Hifa', x=tratamiento1, y=df_mico_grouped[(df_mico_grouped[\"Especie\"] == 'Vachellia farnesiana')][\"Hifa\"]),    \n",
    "    go.Bar(name='Vesícula', x=tratamiento1, y=df_mico_grouped[(df_mico_grouped[\"Especie\"] == 'Vachellia farnesiana')][\"Vesícula\"]),\n",
    "    go.Bar(name='Arbúsculo', x=tratamiento1, y=df_mico_grouped[(df_mico_grouped[\"Especie\"] == 'Vachellia farnesiana')][\"Arbúsculo\"]),\n",
    "    go.Bar(name='Espora', x=tratamiento1, y=df_mico_grouped[(df_mico_grouped[\"Especie\"] == 'Vachellia farnesiana')][\"Espora\"]),\n",
    "    go.Bar(name='Endófito', x=tratamiento1, y=df_mico_grouped[(df_mico_grouped[\"Especie\"] == 'Vachellia farnesiana')][\"Endófito\"]),\n",
    "])\n",
    "# Change the bar mode\n",
    "fig.update_layout(barmode='group', title='Concentración promedio por tratamiento - Vachellia farnesiana')\n",
    "fig.show()"
   ]
  },
  {
   "cell_type": "code",
   "execution_count": 104,
   "metadata": {},
   "outputs": [
    {
     "data": {
      "text/html": [
       "<div>\n",
       "<style scoped>\n",
       "    .dataframe tbody tr th:only-of-type {\n",
       "        vertical-align: middle;\n",
       "    }\n",
       "\n",
       "    .dataframe tbody tr th {\n",
       "        vertical-align: top;\n",
       "    }\n",
       "\n",
       "    .dataframe thead th {\n",
       "        text-align: right;\n",
       "    }\n",
       "</style>\n",
       "<table border=\"1\" class=\"dataframe\">\n",
       "  <thead>\n",
       "    <tr style=\"text-align: right;\">\n",
       "      <th></th>\n",
       "      <th>Especie</th>\n",
       "      <th>Trat</th>\n",
       "      <th>Hifa</th>\n",
       "      <th>Vesícula</th>\n",
       "      <th>Arbúsculo</th>\n",
       "      <th>Espora</th>\n",
       "      <th>Endófito</th>\n",
       "      <th>Campos</th>\n",
       "    </tr>\n",
       "  </thead>\n",
       "  <tbody>\n",
       "    <tr>\n",
       "      <th>0</th>\n",
       "      <td>R. communis</td>\n",
       "      <td>C</td>\n",
       "      <td>3.000000</td>\n",
       "      <td>0.0</td>\n",
       "      <td>0.0</td>\n",
       "      <td>0.800000</td>\n",
       "      <td>0.000000</td>\n",
       "      <td>67.000000</td>\n",
       "    </tr>\n",
       "    <tr>\n",
       "      <th>1</th>\n",
       "      <td>R. communis</td>\n",
       "      <td>CI</td>\n",
       "      <td>6.600000</td>\n",
       "      <td>0.2</td>\n",
       "      <td>0.0</td>\n",
       "      <td>8.200000</td>\n",
       "      <td>0.000000</td>\n",
       "      <td>73.800000</td>\n",
       "    </tr>\n",
       "    <tr>\n",
       "      <th>2</th>\n",
       "      <td>R. communis</td>\n",
       "      <td>J</td>\n",
       "      <td>2.333333</td>\n",
       "      <td>0.0</td>\n",
       "      <td>0.0</td>\n",
       "      <td>0.000000</td>\n",
       "      <td>0.333333</td>\n",
       "      <td>80.666667</td>\n",
       "    </tr>\n",
       "    <tr>\n",
       "      <th>3</th>\n",
       "      <td>R. communis</td>\n",
       "      <td>JI</td>\n",
       "      <td>4.666667</td>\n",
       "      <td>0.0</td>\n",
       "      <td>0.0</td>\n",
       "      <td>4.000000</td>\n",
       "      <td>0.000000</td>\n",
       "      <td>72.333333</td>\n",
       "    </tr>\n",
       "    <tr>\n",
       "      <th>4</th>\n",
       "      <td>R. communis</td>\n",
       "      <td>SN</td>\n",
       "      <td>9.000000</td>\n",
       "      <td>0.0</td>\n",
       "      <td>0.2</td>\n",
       "      <td>9.600000</td>\n",
       "      <td>0.600000</td>\n",
       "      <td>70.600000</td>\n",
       "    </tr>\n",
       "    <tr>\n",
       "      <th>5</th>\n",
       "      <td>V. farnesiana</td>\n",
       "      <td>C</td>\n",
       "      <td>0.200000</td>\n",
       "      <td>0.0</td>\n",
       "      <td>0.0</td>\n",
       "      <td>0.000000</td>\n",
       "      <td>0.000000</td>\n",
       "      <td>69.400000</td>\n",
       "    </tr>\n",
       "    <tr>\n",
       "      <th>6</th>\n",
       "      <td>V. farnesiana</td>\n",
       "      <td>CI</td>\n",
       "      <td>6.600000</td>\n",
       "      <td>0.4</td>\n",
       "      <td>0.2</td>\n",
       "      <td>25.000000</td>\n",
       "      <td>0.000000</td>\n",
       "      <td>66.200000</td>\n",
       "    </tr>\n",
       "    <tr>\n",
       "      <th>7</th>\n",
       "      <td>V. farnesiana</td>\n",
       "      <td>J</td>\n",
       "      <td>2.166667</td>\n",
       "      <td>0.0</td>\n",
       "      <td>0.0</td>\n",
       "      <td>2.166667</td>\n",
       "      <td>0.000000</td>\n",
       "      <td>73.166667</td>\n",
       "    </tr>\n",
       "    <tr>\n",
       "      <th>8</th>\n",
       "      <td>V. farnesiana</td>\n",
       "      <td>JI</td>\n",
       "      <td>4.250000</td>\n",
       "      <td>0.0</td>\n",
       "      <td>0.0</td>\n",
       "      <td>8.250000</td>\n",
       "      <td>0.250000</td>\n",
       "      <td>63.250000</td>\n",
       "    </tr>\n",
       "    <tr>\n",
       "      <th>9</th>\n",
       "      <td>V. farnesiana</td>\n",
       "      <td>SN</td>\n",
       "      <td>11.400000</td>\n",
       "      <td>2.0</td>\n",
       "      <td>0.0</td>\n",
       "      <td>18.400000</td>\n",
       "      <td>0.400000</td>\n",
       "      <td>71.400000</td>\n",
       "    </tr>\n",
       "  </tbody>\n",
       "</table>\n",
       "</div>"
      ],
      "text/plain": [
       "         Especie Trat       Hifa  Vesícula  Arbúsculo     Espora  Endófito  \\\n",
       "0    R. communis    C   3.000000       0.0        0.0   0.800000  0.000000   \n",
       "1    R. communis   CI   6.600000       0.2        0.0   8.200000  0.000000   \n",
       "2    R. communis    J   2.333333       0.0        0.0   0.000000  0.333333   \n",
       "3    R. communis   JI   4.666667       0.0        0.0   4.000000  0.000000   \n",
       "4    R. communis   SN   9.000000       0.0        0.2   9.600000  0.600000   \n",
       "5  V. farnesiana    C   0.200000       0.0        0.0   0.000000  0.000000   \n",
       "6  V. farnesiana   CI   6.600000       0.4        0.2  25.000000  0.000000   \n",
       "7  V. farnesiana    J   2.166667       0.0        0.0   2.166667  0.000000   \n",
       "8  V. farnesiana   JI   4.250000       0.0        0.0   8.250000  0.250000   \n",
       "9  V. farnesiana   SN  11.400000       2.0        0.0  18.400000  0.400000   \n",
       "\n",
       "      Campos  \n",
       "0  67.000000  \n",
       "1  73.800000  \n",
       "2  80.666667  \n",
       "3  72.333333  \n",
       "4  70.600000  \n",
       "5  69.400000  \n",
       "6  66.200000  \n",
       "7  73.166667  \n",
       "8  63.250000  \n",
       "9  71.400000  "
      ]
     },
     "execution_count": 104,
     "metadata": {},
     "output_type": "execute_result"
    }
   ],
   "source": [
    "df_mico_grouped = df_mico2.copy().groupby([\"Especie\", \"Trat\"]).aggregate({\n",
    "'Hifa' : 'mean',\n",
    " 'Vesícula' : 'mean' ,\n",
    " 'Arbúsculo': 'mean',\n",
    " 'Arbúsculo' : 'mean',\n",
    " 'Espora' : 'mean',\n",
    " 'Endófito' : 'mean',\n",
    " 'Campos' : 'mean'\n",
    " }).reset_index()\n",
    "df_mico_grouped"
   ]
  },
  {
   "cell_type": "code",
   "execution_count": 103,
   "metadata": {},
   "outputs": [
    {
     "data": {
      "application/vnd.plotly.v1+json": {
       "config": {
        "plotlyServerURL": "https://plot.ly"
       },
       "data": [
        {
         "name": "Hifa",
         "type": "bar",
         "x": [
          "C",
          "CI",
          "J",
          "JI",
          "SN"
         ],
         "y": [
          3,
          6.6,
          2.3333333333333335,
          4.666666666666667,
          9
         ]
        },
        {
         "name": "Vesícula",
         "type": "bar",
         "x": [
          "C",
          "CI",
          "J",
          "JI",
          "SN"
         ],
         "y": [
          0,
          0.2,
          0,
          0,
          0
         ]
        },
        {
         "name": "Arbúsculo",
         "type": "bar",
         "x": [
          "C",
          "CI",
          "J",
          "JI",
          "SN"
         ],
         "y": [
          0,
          0,
          0,
          0,
          0.2
         ]
        },
        {
         "name": "Espora",
         "type": "bar",
         "x": [
          "C",
          "CI",
          "J",
          "JI",
          "SN"
         ],
         "y": [
          0.8,
          8.2,
          0,
          4,
          9.6
         ]
        },
        {
         "name": "Endófito",
         "type": "bar",
         "x": [
          "C",
          "CI",
          "J",
          "JI",
          "SN"
         ],
         "y": [
          0,
          0,
          0.3333333333333333,
          0,
          0.6
         ]
        }
       ],
       "layout": {
        "barmode": "group",
        "template": {
         "data": {
          "bar": [
           {
            "error_x": {
             "color": "#2a3f5f"
            },
            "error_y": {
             "color": "#2a3f5f"
            },
            "marker": {
             "line": {
              "color": "#E5ECF6",
              "width": 0.5
             },
             "pattern": {
              "fillmode": "overlay",
              "size": 10,
              "solidity": 0.2
             }
            },
            "type": "bar"
           }
          ],
          "barpolar": [
           {
            "marker": {
             "line": {
              "color": "#E5ECF6",
              "width": 0.5
             },
             "pattern": {
              "fillmode": "overlay",
              "size": 10,
              "solidity": 0.2
             }
            },
            "type": "barpolar"
           }
          ],
          "carpet": [
           {
            "aaxis": {
             "endlinecolor": "#2a3f5f",
             "gridcolor": "white",
             "linecolor": "white",
             "minorgridcolor": "white",
             "startlinecolor": "#2a3f5f"
            },
            "baxis": {
             "endlinecolor": "#2a3f5f",
             "gridcolor": "white",
             "linecolor": "white",
             "minorgridcolor": "white",
             "startlinecolor": "#2a3f5f"
            },
            "type": "carpet"
           }
          ],
          "choropleth": [
           {
            "colorbar": {
             "outlinewidth": 0,
             "ticks": ""
            },
            "type": "choropleth"
           }
          ],
          "contour": [
           {
            "colorbar": {
             "outlinewidth": 0,
             "ticks": ""
            },
            "colorscale": [
             [
              0,
              "#0d0887"
             ],
             [
              0.1111111111111111,
              "#46039f"
             ],
             [
              0.2222222222222222,
              "#7201a8"
             ],
             [
              0.3333333333333333,
              "#9c179e"
             ],
             [
              0.4444444444444444,
              "#bd3786"
             ],
             [
              0.5555555555555556,
              "#d8576b"
             ],
             [
              0.6666666666666666,
              "#ed7953"
             ],
             [
              0.7777777777777778,
              "#fb9f3a"
             ],
             [
              0.8888888888888888,
              "#fdca26"
             ],
             [
              1,
              "#f0f921"
             ]
            ],
            "type": "contour"
           }
          ],
          "contourcarpet": [
           {
            "colorbar": {
             "outlinewidth": 0,
             "ticks": ""
            },
            "type": "contourcarpet"
           }
          ],
          "heatmap": [
           {
            "colorbar": {
             "outlinewidth": 0,
             "ticks": ""
            },
            "colorscale": [
             [
              0,
              "#0d0887"
             ],
             [
              0.1111111111111111,
              "#46039f"
             ],
             [
              0.2222222222222222,
              "#7201a8"
             ],
             [
              0.3333333333333333,
              "#9c179e"
             ],
             [
              0.4444444444444444,
              "#bd3786"
             ],
             [
              0.5555555555555556,
              "#d8576b"
             ],
             [
              0.6666666666666666,
              "#ed7953"
             ],
             [
              0.7777777777777778,
              "#fb9f3a"
             ],
             [
              0.8888888888888888,
              "#fdca26"
             ],
             [
              1,
              "#f0f921"
             ]
            ],
            "type": "heatmap"
           }
          ],
          "heatmapgl": [
           {
            "colorbar": {
             "outlinewidth": 0,
             "ticks": ""
            },
            "colorscale": [
             [
              0,
              "#0d0887"
             ],
             [
              0.1111111111111111,
              "#46039f"
             ],
             [
              0.2222222222222222,
              "#7201a8"
             ],
             [
              0.3333333333333333,
              "#9c179e"
             ],
             [
              0.4444444444444444,
              "#bd3786"
             ],
             [
              0.5555555555555556,
              "#d8576b"
             ],
             [
              0.6666666666666666,
              "#ed7953"
             ],
             [
              0.7777777777777778,
              "#fb9f3a"
             ],
             [
              0.8888888888888888,
              "#fdca26"
             ],
             [
              1,
              "#f0f921"
             ]
            ],
            "type": "heatmapgl"
           }
          ],
          "histogram": [
           {
            "marker": {
             "pattern": {
              "fillmode": "overlay",
              "size": 10,
              "solidity": 0.2
             }
            },
            "type": "histogram"
           }
          ],
          "histogram2d": [
           {
            "colorbar": {
             "outlinewidth": 0,
             "ticks": ""
            },
            "colorscale": [
             [
              0,
              "#0d0887"
             ],
             [
              0.1111111111111111,
              "#46039f"
             ],
             [
              0.2222222222222222,
              "#7201a8"
             ],
             [
              0.3333333333333333,
              "#9c179e"
             ],
             [
              0.4444444444444444,
              "#bd3786"
             ],
             [
              0.5555555555555556,
              "#d8576b"
             ],
             [
              0.6666666666666666,
              "#ed7953"
             ],
             [
              0.7777777777777778,
              "#fb9f3a"
             ],
             [
              0.8888888888888888,
              "#fdca26"
             ],
             [
              1,
              "#f0f921"
             ]
            ],
            "type": "histogram2d"
           }
          ],
          "histogram2dcontour": [
           {
            "colorbar": {
             "outlinewidth": 0,
             "ticks": ""
            },
            "colorscale": [
             [
              0,
              "#0d0887"
             ],
             [
              0.1111111111111111,
              "#46039f"
             ],
             [
              0.2222222222222222,
              "#7201a8"
             ],
             [
              0.3333333333333333,
              "#9c179e"
             ],
             [
              0.4444444444444444,
              "#bd3786"
             ],
             [
              0.5555555555555556,
              "#d8576b"
             ],
             [
              0.6666666666666666,
              "#ed7953"
             ],
             [
              0.7777777777777778,
              "#fb9f3a"
             ],
             [
              0.8888888888888888,
              "#fdca26"
             ],
             [
              1,
              "#f0f921"
             ]
            ],
            "type": "histogram2dcontour"
           }
          ],
          "mesh3d": [
           {
            "colorbar": {
             "outlinewidth": 0,
             "ticks": ""
            },
            "type": "mesh3d"
           }
          ],
          "parcoords": [
           {
            "line": {
             "colorbar": {
              "outlinewidth": 0,
              "ticks": ""
             }
            },
            "type": "parcoords"
           }
          ],
          "pie": [
           {
            "automargin": true,
            "type": "pie"
           }
          ],
          "scatter": [
           {
            "fillpattern": {
             "fillmode": "overlay",
             "size": 10,
             "solidity": 0.2
            },
            "type": "scatter"
           }
          ],
          "scatter3d": [
           {
            "line": {
             "colorbar": {
              "outlinewidth": 0,
              "ticks": ""
             }
            },
            "marker": {
             "colorbar": {
              "outlinewidth": 0,
              "ticks": ""
             }
            },
            "type": "scatter3d"
           }
          ],
          "scattercarpet": [
           {
            "marker": {
             "colorbar": {
              "outlinewidth": 0,
              "ticks": ""
             }
            },
            "type": "scattercarpet"
           }
          ],
          "scattergeo": [
           {
            "marker": {
             "colorbar": {
              "outlinewidth": 0,
              "ticks": ""
             }
            },
            "type": "scattergeo"
           }
          ],
          "scattergl": [
           {
            "marker": {
             "colorbar": {
              "outlinewidth": 0,
              "ticks": ""
             }
            },
            "type": "scattergl"
           }
          ],
          "scattermapbox": [
           {
            "marker": {
             "colorbar": {
              "outlinewidth": 0,
              "ticks": ""
             }
            },
            "type": "scattermapbox"
           }
          ],
          "scatterpolar": [
           {
            "marker": {
             "colorbar": {
              "outlinewidth": 0,
              "ticks": ""
             }
            },
            "type": "scatterpolar"
           }
          ],
          "scatterpolargl": [
           {
            "marker": {
             "colorbar": {
              "outlinewidth": 0,
              "ticks": ""
             }
            },
            "type": "scatterpolargl"
           }
          ],
          "scatterternary": [
           {
            "marker": {
             "colorbar": {
              "outlinewidth": 0,
              "ticks": ""
             }
            },
            "type": "scatterternary"
           }
          ],
          "surface": [
           {
            "colorbar": {
             "outlinewidth": 0,
             "ticks": ""
            },
            "colorscale": [
             [
              0,
              "#0d0887"
             ],
             [
              0.1111111111111111,
              "#46039f"
             ],
             [
              0.2222222222222222,
              "#7201a8"
             ],
             [
              0.3333333333333333,
              "#9c179e"
             ],
             [
              0.4444444444444444,
              "#bd3786"
             ],
             [
              0.5555555555555556,
              "#d8576b"
             ],
             [
              0.6666666666666666,
              "#ed7953"
             ],
             [
              0.7777777777777778,
              "#fb9f3a"
             ],
             [
              0.8888888888888888,
              "#fdca26"
             ],
             [
              1,
              "#f0f921"
             ]
            ],
            "type": "surface"
           }
          ],
          "table": [
           {
            "cells": {
             "fill": {
              "color": "#EBF0F8"
             },
             "line": {
              "color": "white"
             }
            },
            "header": {
             "fill": {
              "color": "#C8D4E3"
             },
             "line": {
              "color": "white"
             }
            },
            "type": "table"
           }
          ]
         },
         "layout": {
          "annotationdefaults": {
           "arrowcolor": "#2a3f5f",
           "arrowhead": 0,
           "arrowwidth": 1
          },
          "autotypenumbers": "strict",
          "coloraxis": {
           "colorbar": {
            "outlinewidth": 0,
            "ticks": ""
           }
          },
          "colorscale": {
           "diverging": [
            [
             0,
             "#8e0152"
            ],
            [
             0.1,
             "#c51b7d"
            ],
            [
             0.2,
             "#de77ae"
            ],
            [
             0.3,
             "#f1b6da"
            ],
            [
             0.4,
             "#fde0ef"
            ],
            [
             0.5,
             "#f7f7f7"
            ],
            [
             0.6,
             "#e6f5d0"
            ],
            [
             0.7,
             "#b8e186"
            ],
            [
             0.8,
             "#7fbc41"
            ],
            [
             0.9,
             "#4d9221"
            ],
            [
             1,
             "#276419"
            ]
           ],
           "sequential": [
            [
             0,
             "#0d0887"
            ],
            [
             0.1111111111111111,
             "#46039f"
            ],
            [
             0.2222222222222222,
             "#7201a8"
            ],
            [
             0.3333333333333333,
             "#9c179e"
            ],
            [
             0.4444444444444444,
             "#bd3786"
            ],
            [
             0.5555555555555556,
             "#d8576b"
            ],
            [
             0.6666666666666666,
             "#ed7953"
            ],
            [
             0.7777777777777778,
             "#fb9f3a"
            ],
            [
             0.8888888888888888,
             "#fdca26"
            ],
            [
             1,
             "#f0f921"
            ]
           ],
           "sequentialminus": [
            [
             0,
             "#0d0887"
            ],
            [
             0.1111111111111111,
             "#46039f"
            ],
            [
             0.2222222222222222,
             "#7201a8"
            ],
            [
             0.3333333333333333,
             "#9c179e"
            ],
            [
             0.4444444444444444,
             "#bd3786"
            ],
            [
             0.5555555555555556,
             "#d8576b"
            ],
            [
             0.6666666666666666,
             "#ed7953"
            ],
            [
             0.7777777777777778,
             "#fb9f3a"
            ],
            [
             0.8888888888888888,
             "#fdca26"
            ],
            [
             1,
             "#f0f921"
            ]
           ]
          },
          "colorway": [
           "#636efa",
           "#EF553B",
           "#00cc96",
           "#ab63fa",
           "#FFA15A",
           "#19d3f3",
           "#FF6692",
           "#B6E880",
           "#FF97FF",
           "#FECB52"
          ],
          "font": {
           "color": "#2a3f5f"
          },
          "geo": {
           "bgcolor": "white",
           "lakecolor": "white",
           "landcolor": "#E5ECF6",
           "showlakes": true,
           "showland": true,
           "subunitcolor": "white"
          },
          "hoverlabel": {
           "align": "left"
          },
          "hovermode": "closest",
          "mapbox": {
           "style": "light"
          },
          "paper_bgcolor": "white",
          "plot_bgcolor": "#E5ECF6",
          "polar": {
           "angularaxis": {
            "gridcolor": "white",
            "linecolor": "white",
            "ticks": ""
           },
           "bgcolor": "#E5ECF6",
           "radialaxis": {
            "gridcolor": "white",
            "linecolor": "white",
            "ticks": ""
           }
          },
          "scene": {
           "xaxis": {
            "backgroundcolor": "#E5ECF6",
            "gridcolor": "white",
            "gridwidth": 2,
            "linecolor": "white",
            "showbackground": true,
            "ticks": "",
            "zerolinecolor": "white"
           },
           "yaxis": {
            "backgroundcolor": "#E5ECF6",
            "gridcolor": "white",
            "gridwidth": 2,
            "linecolor": "white",
            "showbackground": true,
            "ticks": "",
            "zerolinecolor": "white"
           },
           "zaxis": {
            "backgroundcolor": "#E5ECF6",
            "gridcolor": "white",
            "gridwidth": 2,
            "linecolor": "white",
            "showbackground": true,
            "ticks": "",
            "zerolinecolor": "white"
           }
          },
          "shapedefaults": {
           "line": {
            "color": "#2a3f5f"
           }
          },
          "ternary": {
           "aaxis": {
            "gridcolor": "white",
            "linecolor": "white",
            "ticks": ""
           },
           "baxis": {
            "gridcolor": "white",
            "linecolor": "white",
            "ticks": ""
           },
           "bgcolor": "#E5ECF6",
           "caxis": {
            "gridcolor": "white",
            "linecolor": "white",
            "ticks": ""
           }
          },
          "title": {
           "x": 0.05
          },
          "xaxis": {
           "automargin": true,
           "gridcolor": "white",
           "linecolor": "white",
           "ticks": "",
           "title": {
            "standoff": 15
           },
           "zerolinecolor": "white",
           "zerolinewidth": 2
          },
          "yaxis": {
           "automargin": true,
           "gridcolor": "white",
           "linecolor": "white",
           "ticks": "",
           "title": {
            "standoff": 15
           },
           "zerolinecolor": "white",
           "zerolinewidth": 2
          }
         }
        },
        "title": {
         "text": "Concentración premedio port tratamiento - R. communis"
        }
       }
      }
     },
     "metadata": {},
     "output_type": "display_data"
    }
   ],
   "source": [
    "tratamiento=df_mico_grouped[\"Trat\"].unique()\n",
    "\n",
    "fig = go.Figure(data=[\n",
    "    go.Bar(name='Hifa', x=tratamiento, y=df_mico_grouped[(df_mico_grouped[\"Especie\"] == 'R. communis')][\"Hifa\"]),    \n",
    "    go.Bar(name='Vesícula', x=tratamiento, y=df_mico_grouped[(df_mico_grouped[\"Especie\"] == 'R. communis')][\"Vesícula\"]),\n",
    "    go.Bar(name='Arbúsculo', x=tratamiento, y=df_mico_grouped[(df_mico_grouped[\"Especie\"] == 'R. communis')][\"Arbúsculo\"]),\n",
    "    go.Bar(name='Espora', x=tratamiento, y=df_mico_grouped[(df_mico_grouped[\"Especie\"] == 'R. communis')][\"Espora\"]),\n",
    "    go.Bar(name='Endófito', x=tratamiento, y=df_mico_grouped[(df_mico_grouped[\"Especie\"] == 'R. communis')][\"Endófito\"]),\n",
    "])\n",
    "# Change the bar mode\n",
    "fig.update_layout(barmode='group', title='Concentración promedio por tratamiento - R. communis')\n",
    "fig.show()"
   ]
  },
  {
   "cell_type": "code",
   "execution_count": 100,
   "metadata": {},
   "outputs": [
    {
     "data": {
      "application/vnd.plotly.v1+json": {
       "config": {
        "plotlyServerURL": "https://plot.ly"
       },
       "data": [
        {
         "name": "Hifa",
         "type": "bar",
         "x": [
          "C",
          "CI",
          "J",
          "JI",
          "SN"
         ],
         "y": [
          0.2,
          6.6,
          2.1666666666666665,
          4.25,
          11.4
         ]
        },
        {
         "name": "Vesícula",
         "type": "bar",
         "x": [
          "C",
          "CI",
          "J",
          "JI",
          "SN"
         ],
         "y": [
          0,
          0.4,
          0,
          0,
          2
         ]
        },
        {
         "name": "Arbúsculo",
         "type": "bar",
         "x": [
          "C",
          "CI",
          "J",
          "JI",
          "SN"
         ],
         "y": [
          0,
          0.2,
          0,
          0,
          0
         ]
        },
        {
         "name": "Espora",
         "type": "bar",
         "x": [
          "C",
          "CI",
          "J",
          "JI",
          "SN"
         ],
         "y": [
          0,
          25,
          2.1666666666666665,
          8.25,
          18.4
         ]
        },
        {
         "name": "Endófito",
         "type": "bar",
         "x": [
          "C",
          "CI",
          "J",
          "JI",
          "SN"
         ],
         "y": [
          0,
          0,
          0,
          0.25,
          0.4
         ]
        }
       ],
       "layout": {
        "barmode": "group",
        "template": {
         "data": {
          "bar": [
           {
            "error_x": {
             "color": "#2a3f5f"
            },
            "error_y": {
             "color": "#2a3f5f"
            },
            "marker": {
             "line": {
              "color": "#E5ECF6",
              "width": 0.5
             },
             "pattern": {
              "fillmode": "overlay",
              "size": 10,
              "solidity": 0.2
             }
            },
            "type": "bar"
           }
          ],
          "barpolar": [
           {
            "marker": {
             "line": {
              "color": "#E5ECF6",
              "width": 0.5
             },
             "pattern": {
              "fillmode": "overlay",
              "size": 10,
              "solidity": 0.2
             }
            },
            "type": "barpolar"
           }
          ],
          "carpet": [
           {
            "aaxis": {
             "endlinecolor": "#2a3f5f",
             "gridcolor": "white",
             "linecolor": "white",
             "minorgridcolor": "white",
             "startlinecolor": "#2a3f5f"
            },
            "baxis": {
             "endlinecolor": "#2a3f5f",
             "gridcolor": "white",
             "linecolor": "white",
             "minorgridcolor": "white",
             "startlinecolor": "#2a3f5f"
            },
            "type": "carpet"
           }
          ],
          "choropleth": [
           {
            "colorbar": {
             "outlinewidth": 0,
             "ticks": ""
            },
            "type": "choropleth"
           }
          ],
          "contour": [
           {
            "colorbar": {
             "outlinewidth": 0,
             "ticks": ""
            },
            "colorscale": [
             [
              0,
              "#0d0887"
             ],
             [
              0.1111111111111111,
              "#46039f"
             ],
             [
              0.2222222222222222,
              "#7201a8"
             ],
             [
              0.3333333333333333,
              "#9c179e"
             ],
             [
              0.4444444444444444,
              "#bd3786"
             ],
             [
              0.5555555555555556,
              "#d8576b"
             ],
             [
              0.6666666666666666,
              "#ed7953"
             ],
             [
              0.7777777777777778,
              "#fb9f3a"
             ],
             [
              0.8888888888888888,
              "#fdca26"
             ],
             [
              1,
              "#f0f921"
             ]
            ],
            "type": "contour"
           }
          ],
          "contourcarpet": [
           {
            "colorbar": {
             "outlinewidth": 0,
             "ticks": ""
            },
            "type": "contourcarpet"
           }
          ],
          "heatmap": [
           {
            "colorbar": {
             "outlinewidth": 0,
             "ticks": ""
            },
            "colorscale": [
             [
              0,
              "#0d0887"
             ],
             [
              0.1111111111111111,
              "#46039f"
             ],
             [
              0.2222222222222222,
              "#7201a8"
             ],
             [
              0.3333333333333333,
              "#9c179e"
             ],
             [
              0.4444444444444444,
              "#bd3786"
             ],
             [
              0.5555555555555556,
              "#d8576b"
             ],
             [
              0.6666666666666666,
              "#ed7953"
             ],
             [
              0.7777777777777778,
              "#fb9f3a"
             ],
             [
              0.8888888888888888,
              "#fdca26"
             ],
             [
              1,
              "#f0f921"
             ]
            ],
            "type": "heatmap"
           }
          ],
          "heatmapgl": [
           {
            "colorbar": {
             "outlinewidth": 0,
             "ticks": ""
            },
            "colorscale": [
             [
              0,
              "#0d0887"
             ],
             [
              0.1111111111111111,
              "#46039f"
             ],
             [
              0.2222222222222222,
              "#7201a8"
             ],
             [
              0.3333333333333333,
              "#9c179e"
             ],
             [
              0.4444444444444444,
              "#bd3786"
             ],
             [
              0.5555555555555556,
              "#d8576b"
             ],
             [
              0.6666666666666666,
              "#ed7953"
             ],
             [
              0.7777777777777778,
              "#fb9f3a"
             ],
             [
              0.8888888888888888,
              "#fdca26"
             ],
             [
              1,
              "#f0f921"
             ]
            ],
            "type": "heatmapgl"
           }
          ],
          "histogram": [
           {
            "marker": {
             "pattern": {
              "fillmode": "overlay",
              "size": 10,
              "solidity": 0.2
             }
            },
            "type": "histogram"
           }
          ],
          "histogram2d": [
           {
            "colorbar": {
             "outlinewidth": 0,
             "ticks": ""
            },
            "colorscale": [
             [
              0,
              "#0d0887"
             ],
             [
              0.1111111111111111,
              "#46039f"
             ],
             [
              0.2222222222222222,
              "#7201a8"
             ],
             [
              0.3333333333333333,
              "#9c179e"
             ],
             [
              0.4444444444444444,
              "#bd3786"
             ],
             [
              0.5555555555555556,
              "#d8576b"
             ],
             [
              0.6666666666666666,
              "#ed7953"
             ],
             [
              0.7777777777777778,
              "#fb9f3a"
             ],
             [
              0.8888888888888888,
              "#fdca26"
             ],
             [
              1,
              "#f0f921"
             ]
            ],
            "type": "histogram2d"
           }
          ],
          "histogram2dcontour": [
           {
            "colorbar": {
             "outlinewidth": 0,
             "ticks": ""
            },
            "colorscale": [
             [
              0,
              "#0d0887"
             ],
             [
              0.1111111111111111,
              "#46039f"
             ],
             [
              0.2222222222222222,
              "#7201a8"
             ],
             [
              0.3333333333333333,
              "#9c179e"
             ],
             [
              0.4444444444444444,
              "#bd3786"
             ],
             [
              0.5555555555555556,
              "#d8576b"
             ],
             [
              0.6666666666666666,
              "#ed7953"
             ],
             [
              0.7777777777777778,
              "#fb9f3a"
             ],
             [
              0.8888888888888888,
              "#fdca26"
             ],
             [
              1,
              "#f0f921"
             ]
            ],
            "type": "histogram2dcontour"
           }
          ],
          "mesh3d": [
           {
            "colorbar": {
             "outlinewidth": 0,
             "ticks": ""
            },
            "type": "mesh3d"
           }
          ],
          "parcoords": [
           {
            "line": {
             "colorbar": {
              "outlinewidth": 0,
              "ticks": ""
             }
            },
            "type": "parcoords"
           }
          ],
          "pie": [
           {
            "automargin": true,
            "type": "pie"
           }
          ],
          "scatter": [
           {
            "fillpattern": {
             "fillmode": "overlay",
             "size": 10,
             "solidity": 0.2
            },
            "type": "scatter"
           }
          ],
          "scatter3d": [
           {
            "line": {
             "colorbar": {
              "outlinewidth": 0,
              "ticks": ""
             }
            },
            "marker": {
             "colorbar": {
              "outlinewidth": 0,
              "ticks": ""
             }
            },
            "type": "scatter3d"
           }
          ],
          "scattercarpet": [
           {
            "marker": {
             "colorbar": {
              "outlinewidth": 0,
              "ticks": ""
             }
            },
            "type": "scattercarpet"
           }
          ],
          "scattergeo": [
           {
            "marker": {
             "colorbar": {
              "outlinewidth": 0,
              "ticks": ""
             }
            },
            "type": "scattergeo"
           }
          ],
          "scattergl": [
           {
            "marker": {
             "colorbar": {
              "outlinewidth": 0,
              "ticks": ""
             }
            },
            "type": "scattergl"
           }
          ],
          "scattermapbox": [
           {
            "marker": {
             "colorbar": {
              "outlinewidth": 0,
              "ticks": ""
             }
            },
            "type": "scattermapbox"
           }
          ],
          "scatterpolar": [
           {
            "marker": {
             "colorbar": {
              "outlinewidth": 0,
              "ticks": ""
             }
            },
            "type": "scatterpolar"
           }
          ],
          "scatterpolargl": [
           {
            "marker": {
             "colorbar": {
              "outlinewidth": 0,
              "ticks": ""
             }
            },
            "type": "scatterpolargl"
           }
          ],
          "scatterternary": [
           {
            "marker": {
             "colorbar": {
              "outlinewidth": 0,
              "ticks": ""
             }
            },
            "type": "scatterternary"
           }
          ],
          "surface": [
           {
            "colorbar": {
             "outlinewidth": 0,
             "ticks": ""
            },
            "colorscale": [
             [
              0,
              "#0d0887"
             ],
             [
              0.1111111111111111,
              "#46039f"
             ],
             [
              0.2222222222222222,
              "#7201a8"
             ],
             [
              0.3333333333333333,
              "#9c179e"
             ],
             [
              0.4444444444444444,
              "#bd3786"
             ],
             [
              0.5555555555555556,
              "#d8576b"
             ],
             [
              0.6666666666666666,
              "#ed7953"
             ],
             [
              0.7777777777777778,
              "#fb9f3a"
             ],
             [
              0.8888888888888888,
              "#fdca26"
             ],
             [
              1,
              "#f0f921"
             ]
            ],
            "type": "surface"
           }
          ],
          "table": [
           {
            "cells": {
             "fill": {
              "color": "#EBF0F8"
             },
             "line": {
              "color": "white"
             }
            },
            "header": {
             "fill": {
              "color": "#C8D4E3"
             },
             "line": {
              "color": "white"
             }
            },
            "type": "table"
           }
          ]
         },
         "layout": {
          "annotationdefaults": {
           "arrowcolor": "#2a3f5f",
           "arrowhead": 0,
           "arrowwidth": 1
          },
          "autotypenumbers": "strict",
          "coloraxis": {
           "colorbar": {
            "outlinewidth": 0,
            "ticks": ""
           }
          },
          "colorscale": {
           "diverging": [
            [
             0,
             "#8e0152"
            ],
            [
             0.1,
             "#c51b7d"
            ],
            [
             0.2,
             "#de77ae"
            ],
            [
             0.3,
             "#f1b6da"
            ],
            [
             0.4,
             "#fde0ef"
            ],
            [
             0.5,
             "#f7f7f7"
            ],
            [
             0.6,
             "#e6f5d0"
            ],
            [
             0.7,
             "#b8e186"
            ],
            [
             0.8,
             "#7fbc41"
            ],
            [
             0.9,
             "#4d9221"
            ],
            [
             1,
             "#276419"
            ]
           ],
           "sequential": [
            [
             0,
             "#0d0887"
            ],
            [
             0.1111111111111111,
             "#46039f"
            ],
            [
             0.2222222222222222,
             "#7201a8"
            ],
            [
             0.3333333333333333,
             "#9c179e"
            ],
            [
             0.4444444444444444,
             "#bd3786"
            ],
            [
             0.5555555555555556,
             "#d8576b"
            ],
            [
             0.6666666666666666,
             "#ed7953"
            ],
            [
             0.7777777777777778,
             "#fb9f3a"
            ],
            [
             0.8888888888888888,
             "#fdca26"
            ],
            [
             1,
             "#f0f921"
            ]
           ],
           "sequentialminus": [
            [
             0,
             "#0d0887"
            ],
            [
             0.1111111111111111,
             "#46039f"
            ],
            [
             0.2222222222222222,
             "#7201a8"
            ],
            [
             0.3333333333333333,
             "#9c179e"
            ],
            [
             0.4444444444444444,
             "#bd3786"
            ],
            [
             0.5555555555555556,
             "#d8576b"
            ],
            [
             0.6666666666666666,
             "#ed7953"
            ],
            [
             0.7777777777777778,
             "#fb9f3a"
            ],
            [
             0.8888888888888888,
             "#fdca26"
            ],
            [
             1,
             "#f0f921"
            ]
           ]
          },
          "colorway": [
           "#636efa",
           "#EF553B",
           "#00cc96",
           "#ab63fa",
           "#FFA15A",
           "#19d3f3",
           "#FF6692",
           "#B6E880",
           "#FF97FF",
           "#FECB52"
          ],
          "font": {
           "color": "#2a3f5f"
          },
          "geo": {
           "bgcolor": "white",
           "lakecolor": "white",
           "landcolor": "#E5ECF6",
           "showlakes": true,
           "showland": true,
           "subunitcolor": "white"
          },
          "hoverlabel": {
           "align": "left"
          },
          "hovermode": "closest",
          "mapbox": {
           "style": "light"
          },
          "paper_bgcolor": "white",
          "plot_bgcolor": "#E5ECF6",
          "polar": {
           "angularaxis": {
            "gridcolor": "white",
            "linecolor": "white",
            "ticks": ""
           },
           "bgcolor": "#E5ECF6",
           "radialaxis": {
            "gridcolor": "white",
            "linecolor": "white",
            "ticks": ""
           }
          },
          "scene": {
           "xaxis": {
            "backgroundcolor": "#E5ECF6",
            "gridcolor": "white",
            "gridwidth": 2,
            "linecolor": "white",
            "showbackground": true,
            "ticks": "",
            "zerolinecolor": "white"
           },
           "yaxis": {
            "backgroundcolor": "#E5ECF6",
            "gridcolor": "white",
            "gridwidth": 2,
            "linecolor": "white",
            "showbackground": true,
            "ticks": "",
            "zerolinecolor": "white"
           },
           "zaxis": {
            "backgroundcolor": "#E5ECF6",
            "gridcolor": "white",
            "gridwidth": 2,
            "linecolor": "white",
            "showbackground": true,
            "ticks": "",
            "zerolinecolor": "white"
           }
          },
          "shapedefaults": {
           "line": {
            "color": "#2a3f5f"
           }
          },
          "ternary": {
           "aaxis": {
            "gridcolor": "white",
            "linecolor": "white",
            "ticks": ""
           },
           "baxis": {
            "gridcolor": "white",
            "linecolor": "white",
            "ticks": ""
           },
           "bgcolor": "#E5ECF6",
           "caxis": {
            "gridcolor": "white",
            "linecolor": "white",
            "ticks": ""
           }
          },
          "title": {
           "x": 0.05
          },
          "xaxis": {
           "automargin": true,
           "gridcolor": "white",
           "linecolor": "white",
           "ticks": "",
           "title": {
            "standoff": 15
           },
           "zerolinecolor": "white",
           "zerolinewidth": 2
          },
          "yaxis": {
           "automargin": true,
           "gridcolor": "white",
           "linecolor": "white",
           "ticks": "",
           "title": {
            "standoff": 15
           },
           "zerolinecolor": "white",
           "zerolinewidth": 2
          }
         }
        },
        "title": {
         "text": "Concentración premedio port tratamiento - V. farnesiana"
        }
       }
      }
     },
     "metadata": {},
     "output_type": "display_data"
    }
   ],
   "source": [
    "tratamiento=df_mico_grouped[\"Trat\"].unique()\n",
    "\n",
    "fig = go.Figure(data=[\n",
    "    go.Bar(name='Hifa', x=tratamiento, y=df_mico_grouped[(df_mico_grouped[\"Especie\"] == 'V. farnesiana')][\"Hifa\"]),\n",
    "    go.Bar(name='Vesícula', x=tratamiento, y=df_mico_grouped[(df_mico_grouped[\"Especie\"] == 'V. farnesiana')][\"Vesícula\"]),\n",
    "    go.Bar(name='Arbúsculo', x=tratamiento, y=df_mico_grouped[(df_mico_grouped[\"Especie\"] == 'V. farnesiana')][\"Arbúsculo\"]),\n",
    "    go.Bar(name='Espora', x=tratamiento, y=df_mico_grouped[(df_mico_grouped[\"Especie\"] == 'V. farnesiana')][\"Espora\"]),\n",
    "    go.Bar(name='Endófito', x=tratamiento, y=df_mico_grouped[(df_mico_grouped[\"Especie\"] == 'V. farnesiana')][\"Endófito\"]),\n",
    "])\n",
    "# Change the bar mode\n",
    "fig.update_layout(barmode='group', title='Concentración promedio por tratamiento - V. farnesiana')\n",
    "fig.show()"
   ]
  },
  {
   "attachments": {},
   "cell_type": "markdown",
   "metadata": {},
   "source": [
    "## Base Datos 1"
   ]
  },
  {
   "cell_type": "code",
   "execution_count": 140,
   "metadata": {},
   "outputs": [
    {
     "data": {
      "text/html": [
       "<div>\n",
       "<style scoped>\n",
       "    .dataframe tbody tr th:only-of-type {\n",
       "        vertical-align: middle;\n",
       "    }\n",
       "\n",
       "    .dataframe tbody tr th {\n",
       "        vertical-align: top;\n",
       "    }\n",
       "\n",
       "    .dataframe thead th {\n",
       "        text-align: right;\n",
       "    }\n",
       "</style>\n",
       "<table border=\"1\" class=\"dataframe\">\n",
       "  <thead>\n",
       "    <tr style=\"text-align: right;\">\n",
       "      <th></th>\n",
       "      <th>ID</th>\n",
       "      <th>Réplica</th>\n",
       "      <th>Especie</th>\n",
       "      <th>Tratamiento</th>\n",
       "      <th>Germinación</th>\n",
       "      <th>H1</th>\n",
       "      <th>H2</th>\n",
       "      <th>H3</th>\n",
       "      <th>H4</th>\n",
       "      <th>H5</th>\n",
       "      <th>...</th>\n",
       "      <th>H11</th>\n",
       "      <th>H12</th>\n",
       "      <th>H13</th>\n",
       "      <th>H14</th>\n",
       "      <th>H15</th>\n",
       "      <th>Supervivencia</th>\n",
       "      <th>Fv_am</th>\n",
       "      <th>Pi_am</th>\n",
       "      <th>Fv_pm</th>\n",
       "      <th>Pi_pm</th>\n",
       "    </tr>\n",
       "  </thead>\n",
       "  <tbody>\n",
       "    <tr>\n",
       "      <th>0</th>\n",
       "      <td>7030SI1</td>\n",
       "      <td>1</td>\n",
       "      <td>V. farnesiana</td>\n",
       "      <td>C</td>\n",
       "      <td>1</td>\n",
       "      <td>6.0</td>\n",
       "      <td>5.5</td>\n",
       "      <td>6.5</td>\n",
       "      <td>7.0</td>\n",
       "      <td>9.0</td>\n",
       "      <td>...</td>\n",
       "      <td>16.0</td>\n",
       "      <td>16.0</td>\n",
       "      <td>19.0</td>\n",
       "      <td>19.0</td>\n",
       "      <td>19.5</td>\n",
       "      <td>1</td>\n",
       "      <td>0.759</td>\n",
       "      <td>2.836</td>\n",
       "      <td>0.738</td>\n",
       "      <td>1.233</td>\n",
       "    </tr>\n",
       "    <tr>\n",
       "      <th>1</th>\n",
       "      <td>7030SI2</td>\n",
       "      <td>2</td>\n",
       "      <td>V. farnesiana</td>\n",
       "      <td>C</td>\n",
       "      <td>0</td>\n",
       "      <td>4.0</td>\n",
       "      <td>7.0</td>\n",
       "      <td>9.5</td>\n",
       "      <td>12.0</td>\n",
       "      <td>16.0</td>\n",
       "      <td>...</td>\n",
       "      <td>45.0</td>\n",
       "      <td>45.0</td>\n",
       "      <td>45.5</td>\n",
       "      <td>46.0</td>\n",
       "      <td>59.0</td>\n",
       "      <td>1</td>\n",
       "      <td>0.841</td>\n",
       "      <td>22.869</td>\n",
       "      <td>0.699</td>\n",
       "      <td>1.044</td>\n",
       "    </tr>\n",
       "    <tr>\n",
       "      <th>2</th>\n",
       "      <td>7030SI3</td>\n",
       "      <td>3</td>\n",
       "      <td>V. farnesiana</td>\n",
       "      <td>C</td>\n",
       "      <td>0</td>\n",
       "      <td>4.0</td>\n",
       "      <td>4.0</td>\n",
       "      <td>NaN</td>\n",
       "      <td>NaN</td>\n",
       "      <td>NaN</td>\n",
       "      <td>...</td>\n",
       "      <td>NaN</td>\n",
       "      <td>NaN</td>\n",
       "      <td>NaN</td>\n",
       "      <td>NaN</td>\n",
       "      <td>NaN</td>\n",
       "      <td>0</td>\n",
       "      <td>0.000</td>\n",
       "      <td>0.000</td>\n",
       "      <td>0.000</td>\n",
       "      <td>0.000</td>\n",
       "    </tr>\n",
       "    <tr>\n",
       "      <th>3</th>\n",
       "      <td>7030SI4</td>\n",
       "      <td>4</td>\n",
       "      <td>V. farnesiana</td>\n",
       "      <td>C</td>\n",
       "      <td>0</td>\n",
       "      <td>5.5</td>\n",
       "      <td>6.0</td>\n",
       "      <td>7.0</td>\n",
       "      <td>8.0</td>\n",
       "      <td>9.5</td>\n",
       "      <td>...</td>\n",
       "      <td>35.0</td>\n",
       "      <td>34.5</td>\n",
       "      <td>31.0</td>\n",
       "      <td>31.0</td>\n",
       "      <td>33.0</td>\n",
       "      <td>1</td>\n",
       "      <td>0.831</td>\n",
       "      <td>19.246</td>\n",
       "      <td>0.586</td>\n",
       "      <td>0.457</td>\n",
       "    </tr>\n",
       "    <tr>\n",
       "      <th>4</th>\n",
       "      <td>7030SI5</td>\n",
       "      <td>5</td>\n",
       "      <td>R. communis</td>\n",
       "      <td>C</td>\n",
       "      <td>1</td>\n",
       "      <td>4.0</td>\n",
       "      <td>5.5</td>\n",
       "      <td>5.5</td>\n",
       "      <td>6.5</td>\n",
       "      <td>7.5</td>\n",
       "      <td>...</td>\n",
       "      <td>15.0</td>\n",
       "      <td>15.5</td>\n",
       "      <td>17.5</td>\n",
       "      <td>18.0</td>\n",
       "      <td>18.5</td>\n",
       "      <td>1</td>\n",
       "      <td>0.792</td>\n",
       "      <td>4.561</td>\n",
       "      <td>0.521</td>\n",
       "      <td>0.119</td>\n",
       "    </tr>\n",
       "  </tbody>\n",
       "</table>\n",
       "<p>5 rows × 25 columns</p>\n",
       "</div>"
      ],
      "text/plain": [
       "        ID  Réplica        Especie Tratamiento  Germinación   H1   H2   H3  \\\n",
       "0  7030SI1        1  V. farnesiana           C            1  6.0  5.5  6.5   \n",
       "1  7030SI2        2  V. farnesiana           C            0  4.0  7.0  9.5   \n",
       "2  7030SI3        3  V. farnesiana           C            0  4.0  4.0  NaN   \n",
       "3  7030SI4        4  V. farnesiana           C            0  5.5  6.0  7.0   \n",
       "4  7030SI5        5    R. communis           C            1  4.0  5.5  5.5   \n",
       "\n",
       "     H4    H5  ...   H11   H12   H13   H14   H15  Supervivencia   Fv_am  \\\n",
       "0   7.0   9.0  ...  16.0  16.0  19.0  19.0  19.5               1  0.759   \n",
       "1  12.0  16.0  ...  45.0  45.0  45.5  46.0  59.0               1  0.841   \n",
       "2   NaN   NaN  ...   NaN   NaN   NaN   NaN   NaN               0  0.000   \n",
       "3   8.0   9.5  ...  35.0  34.5  31.0  31.0  33.0               1  0.831   \n",
       "4   6.5   7.5  ...  15.0  15.5  17.5  18.0  18.5               1  0.792   \n",
       "\n",
       "    Pi_am  Fv_pm  Pi_pm  \n",
       "0   2.836  0.738  1.233  \n",
       "1  22.869  0.699  1.044  \n",
       "2   0.000  0.000  0.000  \n",
       "3  19.246  0.586  0.457  \n",
       "4   4.561  0.521  0.119  \n",
       "\n",
       "[5 rows x 25 columns]"
      ]
     },
     "execution_count": 140,
     "metadata": {},
     "output_type": "execute_result"
    }
   ],
   "source": [
    "df_plants_raw.head()"
   ]
  },
  {
   "cell_type": "code",
   "execution_count": 131,
   "metadata": {},
   "outputs": [
    {
     "data": {
      "text/plain": [
       "Index(['H1', 'H2', 'H3', 'H4', 'H5', 'H6', 'H7', 'H8', 'H9', 'H10', 'H11',\n",
       "       'H12', 'H13', 'H14', 'H15'],\n",
       "      dtype='object')"
      ]
     },
     "execution_count": 131,
     "metadata": {},
     "output_type": "execute_result"
    }
   ],
   "source": [
    "# We will create a new table categorizing the data, to reduce the columns convetirng them to a \"Especie\" column\n",
    "df_TB4_Test = df_TB4.copy()\n",
    "df_Ordered = pd.DataFrame(columns=[\"Profundidad\", \"Especie\", \"Valor\"])\n",
    "\n",
    "list_columns = df_TB4_Test.columns[df_TB4_Test.columns != \"Profundidad\"]\n",
    "\n",
    "for col in list_columns:\n",
    "    for nrow in range(0,len(df_TB4_Test.index)):\n",
    "        specie = col\n",
    "        profundidad = df_TB4_Test[\"Profundidad\"].iloc[nrow]\n",
    "        valor = df_TB4_Test[col].iloc[nrow]\n",
    "        # Add a new row\n",
    "        df_Ordered.loc[len(df_Ordered.index)] = [profundidad, specie, valor] \n",
    "\n",
    "df_Ordered\n"
   ]
  },
  {
   "cell_type": "code",
   "execution_count": 143,
   "metadata": {},
   "outputs": [
    {
     "data": {
      "text/html": [
       "<div>\n",
       "<style scoped>\n",
       "    .dataframe tbody tr th:only-of-type {\n",
       "        vertical-align: middle;\n",
       "    }\n",
       "\n",
       "    .dataframe tbody tr th {\n",
       "        vertical-align: top;\n",
       "    }\n",
       "\n",
       "    .dataframe thead th {\n",
       "        text-align: right;\n",
       "    }\n",
       "</style>\n",
       "<table border=\"1\" class=\"dataframe\">\n",
       "  <thead>\n",
       "    <tr style=\"text-align: right;\">\n",
       "      <th></th>\n",
       "      <th>idPlanta</th>\n",
       "      <th>Especie</th>\n",
       "      <th>Tratamiento</th>\n",
       "      <th>Semana</th>\n",
       "      <th>Altura</th>\n",
       "    </tr>\n",
       "  </thead>\n",
       "  <tbody>\n",
       "    <tr>\n",
       "      <th>0</th>\n",
       "      <td>7030SI1</td>\n",
       "      <td>V. farnesiana</td>\n",
       "      <td>C</td>\n",
       "      <td>H1</td>\n",
       "      <td>6.0</td>\n",
       "    </tr>\n",
       "    <tr>\n",
       "      <th>1</th>\n",
       "      <td>7030SI2</td>\n",
       "      <td>V. farnesiana</td>\n",
       "      <td>C</td>\n",
       "      <td>H1</td>\n",
       "      <td>4.0</td>\n",
       "    </tr>\n",
       "    <tr>\n",
       "      <th>2</th>\n",
       "      <td>7030SI3</td>\n",
       "      <td>V. farnesiana</td>\n",
       "      <td>C</td>\n",
       "      <td>H1</td>\n",
       "      <td>4.0</td>\n",
       "    </tr>\n",
       "    <tr>\n",
       "      <th>3</th>\n",
       "      <td>7030SI4</td>\n",
       "      <td>V. farnesiana</td>\n",
       "      <td>C</td>\n",
       "      <td>H1</td>\n",
       "      <td>5.5</td>\n",
       "    </tr>\n",
       "    <tr>\n",
       "      <th>4</th>\n",
       "      <td>7030SI5</td>\n",
       "      <td>R. communis</td>\n",
       "      <td>C</td>\n",
       "      <td>H1</td>\n",
       "      <td>4.0</td>\n",
       "    </tr>\n",
       "    <tr>\n",
       "      <th>...</th>\n",
       "      <td>...</td>\n",
       "      <td>...</td>\n",
       "      <td>...</td>\n",
       "      <td>...</td>\n",
       "      <td>...</td>\n",
       "    </tr>\n",
       "    <tr>\n",
       "      <th>1495</th>\n",
       "      <td>96</td>\n",
       "      <td>V. farnesiana</td>\n",
       "      <td>SN</td>\n",
       "      <td>H15</td>\n",
       "      <td>61.0</td>\n",
       "    </tr>\n",
       "    <tr>\n",
       "      <th>1496</th>\n",
       "      <td>97</td>\n",
       "      <td>V. farnesiana</td>\n",
       "      <td>SN</td>\n",
       "      <td>H15</td>\n",
       "      <td>64.0</td>\n",
       "    </tr>\n",
       "    <tr>\n",
       "      <th>1497</th>\n",
       "      <td>98</td>\n",
       "      <td>R. communis</td>\n",
       "      <td>SN</td>\n",
       "      <td>H15</td>\n",
       "      <td>12.5</td>\n",
       "    </tr>\n",
       "    <tr>\n",
       "      <th>1498</th>\n",
       "      <td>99</td>\n",
       "      <td>V. farnesiana</td>\n",
       "      <td>SN</td>\n",
       "      <td>H15</td>\n",
       "      <td>65.0</td>\n",
       "    </tr>\n",
       "    <tr>\n",
       "      <th>1499</th>\n",
       "      <td>100</td>\n",
       "      <td>R. communis</td>\n",
       "      <td>SN</td>\n",
       "      <td>H15</td>\n",
       "      <td>13.0</td>\n",
       "    </tr>\n",
       "  </tbody>\n",
       "</table>\n",
       "<p>1500 rows × 5 columns</p>\n",
       "</div>"
      ],
      "text/plain": [
       "     idPlanta        Especie Tratamiento Semana  Altura\n",
       "0     7030SI1  V. farnesiana           C     H1     6.0\n",
       "1     7030SI2  V. farnesiana           C     H1     4.0\n",
       "2     7030SI3  V. farnesiana           C     H1     4.0\n",
       "3     7030SI4  V. farnesiana           C     H1     5.5\n",
       "4     7030SI5    R. communis           C     H1     4.0\n",
       "...       ...            ...         ...    ...     ...\n",
       "1495       96  V. farnesiana          SN    H15    61.0\n",
       "1496       97  V. farnesiana          SN    H15    64.0\n",
       "1497       98    R. communis          SN    H15    12.5\n",
       "1498       99  V. farnesiana          SN    H15    65.0\n",
       "1499      100    R. communis          SN    H15    13.0\n",
       "\n",
       "[1500 rows x 5 columns]"
      ]
     },
     "execution_count": 143,
     "metadata": {},
     "output_type": "execute_result"
    }
   ],
   "source": [
    "# Create a new table containg a time series of the plant's grow\n",
    "# df_plants_raw\n",
    "weeks = df_plants_raw.columns[5:20]\n",
    "\n",
    "df_Plants_Time = pd.DataFrame(columns=[\"idPlanta\", \"Especie\", \"Tratamiento\", \"Semana\", \"Altura\"])\n",
    "\n",
    "for week in weeks:\n",
    "    for nrow in range(0, len(df_plants_raw.index)):\n",
    "        plantaID = df_plants_raw[\"ID\"].iloc[nrow]\n",
    "        specie = df_plants_raw[\"Especie\"].iloc[nrow]\n",
    "        trat = df_plants_raw[\"Tratamiento\"].iloc[nrow]\n",
    "        semana = week\n",
    "        high = df_plants_raw[week].iloc[nrow]\n",
    "\n",
    "        df_Plants_Time.loc[len(df_Plants_Time.index)] = [plantaID, specie, trat, semana, high] \n",
    "        \n",
    "df_Plants_Time"
   ]
  },
  {
   "cell_type": "code",
   "execution_count": 163,
   "metadata": {},
   "outputs": [
    {
     "data": {
      "application/vnd.plotly.v1+json": {
       "config": {
        "plotlyServerURL": "https://plot.ly"
       },
       "data": [
        {
         "line": {
          "color": "green",
          "width": 1
         },
         "name": "7030SI1",
         "type": "scatter",
         "x": [
          "H1",
          "H2",
          "H3",
          "H4",
          "H5",
          "H6",
          "H7",
          "H8",
          "H9",
          "H10",
          "H11",
          "H12",
          "H13",
          "H14",
          "H15"
         ],
         "y": [
          6,
          5.5,
          6.5,
          7,
          9,
          10.5,
          13,
          15,
          15.5,
          16,
          16,
          16,
          19,
          19,
          19.5
         ]
        },
        {
         "line": {
          "color": "green",
          "width": 1
         },
         "name": "7030SI2",
         "type": "scatter",
         "x": [
          "H1",
          "H2",
          "H3",
          "H4",
          "H5",
          "H6",
          "H7",
          "H8",
          "H9",
          "H10",
          "H11",
          "H12",
          "H13",
          "H14",
          "H15"
         ],
         "y": [
          4,
          7,
          9.5,
          12,
          16,
          21,
          27,
          32.5,
          37.5,
          42,
          45,
          45,
          45.5,
          46,
          59
         ]
        },
        {
         "line": {
          "color": "green",
          "width": 1
         },
         "name": "7030SI4",
         "type": "scatter",
         "x": [
          "H1",
          "H2",
          "H3",
          "H4",
          "H5",
          "H6",
          "H7",
          "H8",
          "H9",
          "H10",
          "H11",
          "H12",
          "H13",
          "H14",
          "H15"
         ],
         "y": [
          5.5,
          6,
          7,
          8,
          9.5,
          12,
          15.5,
          19.5,
          26,
          32,
          35,
          34.5,
          31,
          31,
          33
         ]
        },
        {
         "line": {
          "color": "blue",
          "width": 1
         },
         "name": "7030SI5",
         "type": "scatter",
         "x": [
          "H1",
          "H2",
          "H3",
          "H4",
          "H5",
          "H6",
          "H7",
          "H8",
          "H9",
          "H10",
          "H11",
          "H12",
          "H13",
          "H14",
          "H15"
         ],
         "y": [
          4,
          5.5,
          5.5,
          6.5,
          7.5,
          9.5,
          10.5,
          10.5,
          12.5,
          13,
          15,
          15.5,
          17.5,
          18,
          18.5
         ]
        },
        {
         "line": {
          "color": "blue",
          "width": 1
         },
         "name": "7030SI8",
         "type": "scatter",
         "x": [
          "H1",
          "H2",
          "H3",
          "H4",
          "H5",
          "H6",
          "H7",
          "H8",
          "H9",
          "H10",
          "H11",
          "H12",
          "H13",
          "H14",
          "H15"
         ],
         "y": [
          3,
          4,
          4,
          4.5,
          5.5,
          7,
          8,
          9,
          10.5,
          12,
          14,
          14,
          14,
          14.5,
          15.5
         ]
        },
        {
         "line": {
          "color": "blue",
          "width": 1
         },
         "name": "7030SI9",
         "type": "scatter",
         "x": [
          "H1",
          "H2",
          "H3",
          "H4",
          "H5",
          "H6",
          "H7",
          "H8",
          "H9",
          "H10",
          "H11",
          "H12",
          "H13",
          "H14",
          "H15"
         ],
         "y": [
          1.5,
          3,
          3.5,
          4.5,
          4.5,
          7,
          7.5,
          8.5,
          9.5,
          11,
          12.5,
          13,
          13,
          14,
          15
         ]
        },
        {
         "line": {
          "color": "green",
          "width": 1
         },
         "name": "7030SI10",
         "type": "scatter",
         "x": [
          "H1",
          "H2",
          "H3",
          "H4",
          "H5",
          "H6",
          "H7",
          "H8",
          "H9",
          "H10",
          "H11",
          "H12",
          "H13",
          "H14",
          "H15"
         ],
         "y": [
          2.5,
          4,
          5,
          6.5,
          8,
          10.5,
          13.5,
          15.5,
          21.5,
          26,
          39,
          39,
          39,
          42,
          42
         ]
        },
        {
         "line": {
          "color": "green",
          "width": 1
         },
         "name": "7030SI11",
         "type": "scatter",
         "x": [
          "H1",
          "H2",
          "H3",
          "H4",
          "H5",
          "H6",
          "H7",
          "H8",
          "H9",
          "H10",
          "H11",
          "H12",
          "H13",
          "H14",
          "H15"
         ],
         "y": [
          3,
          6.5,
          6.5,
          7,
          9,
          11.5,
          15,
          18.5,
          23.5,
          30.5,
          37.5,
          45,
          46.5,
          48,
          49.5
         ]
        },
        {
         "line": {
          "color": "green",
          "width": 1
         },
         "name": "7030SI12",
         "type": "scatter",
         "x": [
          "H1",
          "H2",
          "H3",
          "H4",
          "H5",
          "H6",
          "H7",
          "H8",
          "H9",
          "H10",
          "H11",
          "H12",
          "H13",
          "H14",
          "H15"
         ],
         "y": [
          8,
          8.5,
          14,
          21,
          28,
          36,
          42,
          46,
          55,
          57.5,
          57,
          57.5,
          57.5,
          57.5,
          57.5
         ]
        },
        {
         "line": {
          "color": "green",
          "width": 1
         },
         "name": "7030SI13",
         "type": "scatter",
         "x": [
          "H1",
          "H2",
          "H3",
          "H4",
          "H5",
          "H6",
          "H7",
          "H8",
          "H9",
          "H10",
          "H11",
          "H12",
          "H13",
          "H14",
          "H15"
         ],
         "y": [
          4.5,
          4.5,
          4.5,
          5,
          6.5,
          8,
          10.5,
          13.5,
          18,
          22.5,
          29,
          36.5,
          43,
          43,
          43
         ]
        },
        {
         "line": {
          "color": "blue",
          "width": 1
         },
         "name": "7030SI14",
         "type": "scatter",
         "x": [
          "H1",
          "H2",
          "H3",
          "H4",
          "H5",
          "H6",
          "H7",
          "H8",
          "H9",
          "H10",
          "H11",
          "H12",
          "H13",
          "H14",
          "H15"
         ],
         "y": [
          7.5,
          6.5,
          7.5,
          8.5,
          8.5,
          9,
          9,
          10,
          11.5,
          12,
          13,
          14,
          16,
          17.5,
          18
         ]
        },
        {
         "line": {
          "color": "blue",
          "width": 1
         },
         "name": "7030SI15",
         "type": "scatter",
         "x": [
          "H1",
          "H2",
          "H3",
          "H4",
          "H5",
          "H6",
          "H7",
          "H8",
          "H9",
          "H10",
          "H11",
          "H12",
          "H13",
          "H14",
          "H15"
         ],
         "y": [
          6,
          6,
          6.5,
          7.5,
          9,
          10.5,
          10.5,
          12,
          13.5,
          15,
          20,
          23,
          23,
          23,
          24.5
         ]
        },
        {
         "line": {
          "color": "blue",
          "width": 1
         },
         "name": "7030SI16",
         "type": "scatter",
         "x": [
          "H1",
          "H2",
          "H3",
          "H4",
          "H5",
          "H6",
          "H7",
          "H8",
          "H9",
          "H10",
          "H11",
          "H12",
          "H13",
          "H14",
          "H15"
         ],
         "y": [
          4,
          5.5,
          6,
          6.5,
          7.5,
          9,
          9.5,
          10.5,
          12,
          13,
          16,
          16,
          16.5,
          17.5,
          18
         ]
        },
        {
         "line": {
          "color": "blue",
          "width": 1
         },
         "name": "7030SI17",
         "type": "scatter",
         "x": [
          "H1",
          "H2",
          "H3",
          "H4",
          "H5",
          "H6",
          "H7",
          "H8",
          "H9",
          "H10",
          "H11",
          "H12",
          "H13",
          "H14",
          "H15"
         ],
         "y": [
          3.5,
          5.5,
          5.5,
          7,
          7.5,
          9,
          10.5,
          12,
          14,
          16,
          22,
          22,
          22,
          22,
          24.5
         ]
        },
        {
         "line": {
          "color": "blue",
          "width": 1
         },
         "name": "7030SI18",
         "type": "scatter",
         "x": [
          "H1",
          "H2",
          "H3",
          "H4",
          "H5",
          "H6",
          "H7",
          "H8",
          "H9",
          "H10",
          "H11",
          "H12",
          "H13",
          "H14",
          "H15"
         ],
         "y": [
          3.5,
          2.5,
          3,
          4.5,
          6,
          8,
          9.5,
          11,
          13,
          14.5,
          15.5,
          16,
          17.5,
          18,
          19
         ]
        },
        {
         "line": {
          "color": "green",
          "width": 1
         },
         "name": "7030SI19",
         "type": "scatter",
         "x": [
          "H1",
          "H2",
          "H3",
          "H4",
          "H5",
          "H6",
          "H7",
          "H8",
          "H9",
          "H10",
          "H11",
          "H12",
          "H13",
          "H14",
          "H15"
         ],
         "y": [
          2.5,
          4.5,
          5,
          5,
          5,
          7.5,
          11.5,
          16.5,
          19.5,
          23,
          29,
          29,
          28,
          28,
          37
         ]
        },
        {
         "line": {
          "color": "green",
          "width": 1
         },
         "name": "7030SI20",
         "type": "scatter",
         "x": [
          "H1",
          "H2",
          "H3",
          "H4",
          "H5",
          "H6",
          "H7",
          "H8",
          "H9",
          "H10",
          "H11",
          "H12",
          "H13",
          "H14",
          "H15"
         ],
         "y": [
          5.5,
          6,
          6.5,
          7,
          8.5,
          10,
          13.5,
          17.5,
          20,
          24.5,
          31,
          31.5,
          31.5,
          32,
          33
         ]
        },
        {
         "line": {
          "color": "green",
          "width": 1
         },
         "name": "100SI21",
         "type": "scatter",
         "x": [
          "H1",
          "H2",
          "H3",
          "H4",
          "H5",
          "H6",
          "H7",
          "H8",
          "H9",
          "H10",
          "H11",
          "H12",
          "H13",
          "H14",
          "H15"
         ],
         "y": [
          5.5,
          8,
          8,
          9.5,
          9.5,
          10.5,
          10.5,
          10.5,
          10.5,
          10.5,
          11.5,
          11.5,
          10,
          10,
          10
         ]
        },
        {
         "line": {
          "color": "blue",
          "width": 1
         },
         "name": "100SI22",
         "type": "scatter",
         "x": [
          "H1",
          "H2",
          "H3",
          "H4",
          "H5",
          "H6",
          "H7",
          "H8",
          "H9",
          "H10",
          "H11",
          "H12",
          "H13",
          "H14",
          "H15"
         ],
         "y": [
          2,
          3,
          3,
          3,
          4,
          4,
          4,
          5,
          5,
          5,
          6,
          6,
          6,
          6.5,
          6.5
         ]
        },
        {
         "line": {
          "color": "blue",
          "width": 1
         },
         "name": "100SI23",
         "type": "scatter",
         "x": [
          "H1",
          "H2",
          "H3",
          "H4",
          "H5",
          "H6",
          "H7",
          "H8",
          "H9",
          "H10",
          "H11",
          "H12",
          "H13",
          "H14",
          "H15"
         ],
         "y": [
          2,
          3,
          3,
          3,
          3.5,
          3.5,
          3.5,
          4,
          4,
          4.5,
          5,
          5,
          5,
          6,
          6
         ]
        },
        {
         "line": {
          "color": "green",
          "width": 1
         },
         "name": "100SI28",
         "type": "scatter",
         "x": [
          "H1",
          "H2",
          "H3",
          "H4",
          "H5",
          "H6",
          "H7",
          "H8",
          "H9",
          "H10",
          "H11",
          "H12",
          "H13",
          "H14",
          "H15"
         ],
         "y": [
          6,
          7,
          7,
          7,
          7,
          7,
          7,
          7,
          7,
          7,
          6,
          6,
          5.5,
          6,
          6
         ]
        },
        {
         "line": {
          "color": "green",
          "width": 1
         },
         "name": "100SI30",
         "type": "scatter",
         "x": [
          "H1",
          "H2",
          "H3",
          "H4",
          "H5",
          "H6",
          "H7",
          "H8",
          "H9",
          "H10",
          "H11",
          "H12",
          "H13",
          "H14",
          "H15"
         ],
         "y": [
          7,
          6.5,
          7,
          8,
          8.5,
          9,
          9.5,
          10.5,
          10.5,
          11.5,
          19.5,
          12,
          11,
          11,
          11.5
         ]
        },
        {
         "line": {
          "color": "blue",
          "width": 1
         },
         "name": "100SI33",
         "type": "scatter",
         "x": [
          "H1",
          "H2",
          "H3",
          "H4",
          "H5",
          "H6",
          "H7",
          "H8",
          "H9",
          "H10",
          "H11",
          "H12",
          "H13",
          "H14",
          "H15"
         ],
         "y": [
          2,
          3,
          3,
          3,
          3,
          3.5,
          3.5,
          4,
          4.5,
          4.5,
          5,
          5,
          5.5,
          6.5,
          6.5
         ]
        },
        {
         "line": {
          "color": "green",
          "width": 1
         },
         "name": "100SI35",
         "type": "scatter",
         "x": [
          "H1",
          "H2",
          "H3",
          "H4",
          "H5",
          "H6",
          "H7",
          "H8",
          "H9",
          "H10",
          "H11",
          "H12",
          "H13",
          "H14",
          "H15"
         ],
         "y": [
          5,
          6.5,
          6.5,
          7,
          7.5,
          8,
          8.5,
          9.5,
          9.5,
          9.5,
          10.5,
          10.5,
          11,
          11.5,
          11
         ]
        },
        {
         "line": {
          "color": "green",
          "width": 1
         },
         "name": "100SI38",
         "type": "scatter",
         "x": [
          "H1",
          "H2",
          "H3",
          "H4",
          "H5",
          "H6",
          "H7",
          "H8",
          "H9",
          "H10",
          "H11",
          "H12",
          "H13",
          "H14",
          "H15"
         ],
         "y": [
          5.5,
          8,
          8,
          9.5,
          9.5,
          10,
          10.5,
          11.5,
          11.5,
          12,
          13.5,
          13.5,
          14,
          14,
          14
         ]
        },
        {
         "line": {
          "color": "green",
          "width": 1
         },
         "name": "100SI39",
         "type": "scatter",
         "x": [
          "H1",
          "H2",
          "H3",
          "H4",
          "H5",
          "H6",
          "H7",
          "H8",
          "H9",
          "H10",
          "H11",
          "H12",
          "H13",
          "H14",
          "H15"
         ],
         "y": [
          8.5,
          8,
          8,
          8.5,
          8.5,
          8.5,
          9,
          9,
          9,
          9.5,
          9,
          9.5,
          9.5,
          10,
          11
         ]
        },
        {
         "line": {
          "color": "green",
          "width": 1
         },
         "name": "100CI42",
         "type": "scatter",
         "x": [
          "H1",
          "H2",
          "H3",
          "H4",
          "H5",
          "H6",
          "H7",
          "H8",
          "H9",
          "H10",
          "H11",
          "H12",
          "H13",
          "H14",
          "H15"
         ],
         "y": [
          5.5,
          6,
          6.5,
          7,
          7,
          8.5,
          9,
          9,
          10,
          10,
          10,
          11,
          10,
          10.5,
          10.5
         ]
        },
        {
         "line": {
          "color": "green",
          "width": 1
         },
         "name": "100CI43",
         "type": "scatter",
         "x": [
          "H1",
          "H2",
          "H3",
          "H4",
          "H5",
          "H6",
          "H7",
          "H8",
          "H9",
          "H10",
          "H11",
          "H12",
          "H13",
          "H14",
          "H15"
         ],
         "y": [
          3.5,
          6.5,
          6.5,
          7,
          7,
          7.5,
          7.5,
          8,
          8.5,
          8.5,
          9,
          9,
          8.5,
          9,
          10
         ]
        },
        {
         "line": {
          "color": "green",
          "width": 1
         },
         "name": "100CI45",
         "type": "scatter",
         "x": [
          "H1",
          "H2",
          "H3",
          "H4",
          "H5",
          "H6",
          "H7",
          "H8",
          "H9",
          "H10",
          "H11",
          "H12",
          "H13",
          "H14",
          "H15"
         ],
         "y": [
          5,
          7.5,
          8,
          8.5,
          9,
          9.5,
          10,
          10.5,
          11,
          11.5,
          11.5,
          11.5,
          10.5,
          10.5,
          10
         ]
        },
        {
         "line": {
          "color": "blue",
          "width": 1
         },
         "name": "100CI48",
         "type": "scatter",
         "x": [
          "H1",
          "H2",
          "H3",
          "H4",
          "H5",
          "H6",
          "H7",
          "H8",
          "H9",
          "H10",
          "H11",
          "H12",
          "H13",
          "H14",
          "H15"
         ],
         "y": [
          3.5,
          4,
          4,
          4,
          4,
          null,
          4,
          4.5,
          5,
          5,
          5,
          5,
          5,
          5,
          5.5
         ]
        },
        {
         "line": {
          "color": "green",
          "width": 1
         },
         "name": "100CI52",
         "type": "scatter",
         "x": [
          "H1",
          "H2",
          "H3",
          "H4",
          "H5",
          "H6",
          "H7",
          "H8",
          "H9",
          "H10",
          "H11",
          "H12",
          "H13",
          "H14",
          "H15"
         ],
         "y": [
          4,
          4.5,
          5,
          5,
          5.5,
          5.5,
          6.5,
          6.5,
          7,
          7,
          7.5,
          7.5,
          7.5,
          7.5,
          7.5
         ]
        },
        {
         "line": {
          "color": "blue",
          "width": 1
         },
         "name": "100CI58",
         "type": "scatter",
         "x": [
          "H1",
          "H2",
          "H3",
          "H4",
          "H5",
          "H6",
          "H7",
          "H8",
          "H9",
          "H10",
          "H11",
          "H12",
          "H13",
          "H14",
          "H15"
         ],
         "y": [
          2.5,
          2.5,
          2.5,
          2.5,
          2.5,
          2.5,
          2.5,
          3.5,
          3.5,
          3.5,
          3.5,
          3.5,
          4,
          4,
          4
         ]
        },
        {
         "line": {
          "color": "blue",
          "width": 1
         },
         "name": "100CI60",
         "type": "scatter",
         "x": [
          "H1",
          "H2",
          "H3",
          "H4",
          "H5",
          "H6",
          "H7",
          "H8",
          "H9",
          "H10",
          "H11",
          "H12",
          "H13",
          "H14",
          "H15"
         ],
         "y": [
          2,
          2.5,
          3.5,
          3.5,
          3.5,
          3.5,
          3.5,
          4,
          4,
          4,
          4,
          4,
          4.5,
          4.5,
          4.5
         ]
        },
        {
         "line": {
          "color": "green",
          "width": 1
         },
         "name": "7030CI61",
         "type": "scatter",
         "x": [
          "H1",
          "H2",
          "H3",
          "H4",
          "H5",
          "H6",
          "H7",
          "H8",
          "H9",
          "H10",
          "H11",
          "H12",
          "H13",
          "H14",
          "H15"
         ],
         "y": [
          6,
          10,
          13.5,
          19.5,
          22.5,
          32,
          38,
          42.5,
          48,
          48,
          55,
          55,
          55,
          55,
          55
         ]
        },
        {
         "line": {
          "color": "green",
          "width": 1
         },
         "name": "7030CI62",
         "type": "scatter",
         "x": [
          "H1",
          "H2",
          "H3",
          "H4",
          "H5",
          "H6",
          "H7",
          "H8",
          "H9",
          "H10",
          "H11",
          "H12",
          "H13",
          "H14",
          "H15"
         ],
         "y": [
          6,
          10.5,
          13.5,
          18,
          22,
          30,
          37,
          43,
          53.5,
          61,
          61,
          61,
          61,
          61,
          61
         ]
        },
        {
         "line": {
          "color": "green",
          "width": 1
         },
         "name": "7030CI63",
         "type": "scatter",
         "x": [
          "H1",
          "H2",
          "H3",
          "H4",
          "H5",
          "H6",
          "H7",
          "H8",
          "H9",
          "H10",
          "H11",
          "H12",
          "H13",
          "H14",
          "H15"
         ],
         "y": [
          9,
          12.5,
          14,
          16,
          18,
          23,
          26.5,
          30,
          32,
          32,
          32,
          32,
          32,
          32.5,
          42
         ]
        },
        {
         "line": {
          "color": "green",
          "width": 1
         },
         "name": "7030CI64",
         "type": "scatter",
         "x": [
          "H1",
          "H2",
          "H3",
          "H4",
          "H5",
          "H6",
          "H7",
          "H8",
          "H9",
          "H10",
          "H11",
          "H12",
          "H13",
          "H14",
          "H15"
         ],
         "y": [
          7.5,
          10.5,
          13.5,
          17,
          22,
          28,
          33.5,
          38,
          45,
          48,
          48,
          48,
          48,
          48,
          48
         ]
        },
        {
         "line": {
          "color": "blue",
          "width": 1
         },
         "name": "7030CI65",
         "type": "scatter",
         "x": [
          "H1",
          "H2",
          "H3",
          "H4",
          "H5",
          "H6",
          "H7",
          "H8",
          "H9",
          "H10",
          "H11",
          "H12",
          "H13",
          "H14",
          "H15"
         ],
         "y": [
          7,
          8,
          8,
          8,
          9,
          9.5,
          9.5,
          10.5,
          11,
          11,
          12,
          12,
          10.5,
          11,
          11
         ]
        },
        {
         "line": {
          "color": "blue",
          "width": 1
         },
         "name": "7030CI67",
         "type": "scatter",
         "x": [
          "H1",
          "H2",
          "H3",
          "H4",
          "H5",
          "H6",
          "H7",
          "H8",
          "H9",
          "H10",
          "H11",
          "H12",
          "H13",
          "H14",
          "H15"
         ],
         "y": [
          6.5,
          6.5,
          7.5,
          8.5,
          9.5,
          10,
          10,
          10.5,
          10.5,
          11.5,
          14.5,
          16,
          16,
          16,
          16
         ]
        },
        {
         "line": {
          "color": "blue",
          "width": 1
         },
         "name": "7030CI68",
         "type": "scatter",
         "x": [
          "H1",
          "H2",
          "H3",
          "H4",
          "H5",
          "H6",
          "H7",
          "H8",
          "H9",
          "H10",
          "H11",
          "H12",
          "H13",
          "H14",
          "H15"
         ],
         "y": [
          5,
          7,
          7,
          8.5,
          9,
          9.5,
          10,
          10.5,
          13,
          14,
          18,
          20,
          20,
          21,
          21.5
         ]
        },
        {
         "line": {
          "color": "blue",
          "width": 1
         },
         "name": "7030CI69",
         "type": "scatter",
         "x": [
          "H1",
          "H2",
          "H3",
          "H4",
          "H5",
          "H6",
          "H7",
          "H8",
          "H9",
          "H10",
          "H11",
          "H12",
          "H13",
          "H14",
          "H15"
         ],
         "y": [
          6.5,
          6.5,
          7,
          7.5,
          7.5,
          8,
          8,
          10.5,
          12.5,
          14,
          18.5,
          19,
          20,
          21,
          21
         ]
        },
        {
         "line": {
          "color": "blue",
          "width": 1
         },
         "name": "7030CI70",
         "type": "scatter",
         "x": [
          "H1",
          "H2",
          "H3",
          "H4",
          "H5",
          "H6",
          "H7",
          "H8",
          "H9",
          "H10",
          "H11",
          "H12",
          "H13",
          "H14",
          "H15"
         ],
         "y": [
          6.5,
          9,
          9.5,
          10,
          10,
          9.5,
          12,
          13,
          14,
          15.5,
          18.5,
          19,
          20.5,
          21,
          21.5
         ]
        },
        {
         "line": {
          "color": "green",
          "width": 1
         },
         "name": "7030CI71",
         "type": "scatter",
         "x": [
          "H1",
          "H2",
          "H3",
          "H4",
          "H5",
          "H6",
          "H7",
          "H8",
          "H9",
          "H10",
          "H11",
          "H12",
          "H13",
          "H14",
          "H15"
         ],
         "y": [
          10,
          13.5,
          15.5,
          16.5,
          20.5,
          27,
          33,
          38,
          46.5,
          47,
          47,
          47,
          47.5,
          52.5,
          53
         ]
        },
        {
         "line": {
          "color": "green",
          "width": 1
         },
         "name": "7030CI72",
         "type": "scatter",
         "x": [
          "H1",
          "H2",
          "H3",
          "H4",
          "H5",
          "H6",
          "H7",
          "H8",
          "H9",
          "H10",
          "H11",
          "H12",
          "H13",
          "H14",
          "H15"
         ],
         "y": [
          6.5,
          9,
          9.5,
          12,
          17,
          23,
          30,
          35,
          41.5,
          41.5,
          48.5,
          49,
          49.5,
          52.5,
          54
         ]
        },
        {
         "line": {
          "color": "green",
          "width": 1
         },
         "name": "7030CI73",
         "type": "scatter",
         "x": [
          "H1",
          "H2",
          "H3",
          "H4",
          "H5",
          "H6",
          "H7",
          "H8",
          "H9",
          "H10",
          "H11",
          "H12",
          "H13",
          "H14",
          "H15"
         ],
         "y": [
          7.5,
          11.5,
          15,
          21.5,
          28.5,
          38,
          46,
          51,
          60.5,
          62,
          62,
          70,
          71,
          71,
          72
         ]
        },
        {
         "line": {
          "color": "green",
          "width": 1
         },
         "name": "7030CI74",
         "type": "scatter",
         "x": [
          "H1",
          "H2",
          "H3",
          "H4",
          "H5",
          "H6",
          "H7",
          "H8",
          "H9",
          "H10",
          "H11",
          "H12",
          "H13",
          "H14",
          "H15"
         ],
         "y": [
          9,
          9.5,
          9.5,
          12,
          14.5,
          20,
          26,
          33,
          42,
          42,
          42,
          45,
          48,
          49.5,
          49.5
         ]
        },
        {
         "line": {
          "color": "green",
          "width": 1
         },
         "name": "7030CI75",
         "type": "scatter",
         "x": [
          "H1",
          "H2",
          "H3",
          "H4",
          "H5",
          "H6",
          "H7",
          "H8",
          "H9",
          "H10",
          "H11",
          "H12",
          "H13",
          "H14",
          "H15"
         ],
         "y": [
          7.5,
          8.5,
          8.5,
          10,
          10,
          10.5,
          12.5,
          17.5,
          24,
          26.5,
          30,
          30,
          30,
          30,
          42
         ]
        },
        {
         "line": {
          "color": "blue",
          "width": 1
         },
         "name": "7030CI77",
         "type": "scatter",
         "x": [
          "H1",
          "H2",
          "H3",
          "H4",
          "H5",
          "H6",
          "H7",
          "H8",
          "H9",
          "H10",
          "H11",
          "H12",
          "H13",
          "H14",
          "H15"
         ],
         "y": [
          5,
          6,
          6.5,
          6.5,
          6.5,
          7,
          7,
          7.5,
          9.5,
          10.5,
          14.5,
          15.5,
          16.5,
          16.5,
          16.5
         ]
        },
        {
         "line": {
          "color": "blue",
          "width": 1
         },
         "name": "7030CI78",
         "type": "scatter",
         "x": [
          "H1",
          "H2",
          "H3",
          "H4",
          "H5",
          "H6",
          "H7",
          "H8",
          "H9",
          "H10",
          "H11",
          "H12",
          "H13",
          "H14",
          "H15"
         ],
         "y": [
          4,
          4.5,
          5,
          5,
          5,
          7,
          7.5,
          8,
          9,
          11,
          16,
          16,
          17,
          17.5,
          17.5
         ]
        },
        {
         "line": {
          "color": "blue",
          "width": 1
         },
         "name": "7030CI79",
         "type": "scatter",
         "x": [
          "H1",
          "H2",
          "H3",
          "H4",
          "H5",
          "H6",
          "H7",
          "H8",
          "H9",
          "H10",
          "H11",
          "H12",
          "H13",
          "H14",
          "H15"
         ],
         "y": [
          4.5,
          6,
          6,
          8,
          9,
          11,
          11.5,
          12.5,
          15,
          15.5,
          19,
          19.5,
          21.5,
          22.5,
          23
         ]
        },
        {
         "line": {
          "color": "green",
          "width": 1
         },
         "name": "81",
         "type": "scatter",
         "x": [
          "H1",
          "H2",
          "H3",
          "H4",
          "H5",
          "H6",
          "H7",
          "H8",
          "H9",
          "H10",
          "H11",
          "H12",
          "H13",
          "H14",
          "H15"
         ],
         "y": [
          16.5,
          20,
          23.5,
          29.5,
          35,
          42.5,
          51,
          54.5,
          61,
          64,
          66,
          66.5,
          66.5,
          66.5,
          66.5
         ]
        },
        {
         "line": {
          "color": "green",
          "width": 1
         },
         "name": "82",
         "type": "scatter",
         "x": [
          "H1",
          "H2",
          "H3",
          "H4",
          "H5",
          "H6",
          "H7",
          "H8",
          "H9",
          "H10",
          "H11",
          "H12",
          "H13",
          "H14",
          "H15"
         ],
         "y": [
          15,
          20.5,
          27,
          34,
          41,
          48,
          54.5,
          60,
          65.5,
          68,
          74,
          74.5,
          74.5,
          76,
          76
         ]
        },
        {
         "line": {
          "color": "green",
          "width": 1
         },
         "name": "83",
         "type": "scatter",
         "x": [
          "H1",
          "H2",
          "H3",
          "H4",
          "H5",
          "H6",
          "H7",
          "H8",
          "H9",
          "H10",
          "H11",
          "H12",
          "H13",
          "H14",
          "H15"
         ],
         "y": [
          11,
          17,
          21,
          27.5,
          32,
          38,
          44.5,
          48.5,
          50,
          52.5,
          53,
          53,
          53,
          55.5,
          56
         ]
        },
        {
         "line": {
          "color": "green",
          "width": 1
         },
         "name": "84",
         "type": "scatter",
         "x": [
          "H1",
          "H2",
          "H3",
          "H4",
          "H5",
          "H6",
          "H7",
          "H8",
          "H9",
          "H10",
          "H11",
          "H12",
          "H13",
          "H14",
          "H15"
         ],
         "y": [
          17.5,
          25,
          31,
          41.5,
          49,
          58.5,
          65,
          69.5,
          69.5,
          69.5,
          69.5,
          69.5,
          69.5,
          72,
          73
         ]
        },
        {
         "line": {
          "color": "green",
          "width": 1
         },
         "name": "85",
         "type": "scatter",
         "x": [
          "H1",
          "H2",
          "H3",
          "H4",
          "H5",
          "H6",
          "H7",
          "H8",
          "H9",
          "H10",
          "H11",
          "H12",
          "H13",
          "H14",
          "H15"
         ],
         "y": [
          9,
          14.5,
          17.5,
          23.5,
          27,
          34,
          41.5,
          49,
          53,
          53.5,
          53.5,
          53.5,
          54.5,
          54.5,
          54.5
         ]
        },
        {
         "line": {
          "color": "blue",
          "width": 1
         },
         "name": "87",
         "type": "scatter",
         "x": [
          "H1",
          "H2",
          "H3",
          "H4",
          "H5",
          "H6",
          "H7",
          "H8",
          "H9",
          "H10",
          "H11",
          "H12",
          "H13",
          "H14",
          "H15"
         ],
         "y": [
          4,
          5.5,
          6,
          6,
          6,
          7,
          7.5,
          9.5,
          10.5,
          13,
          14,
          14.5,
          15.5,
          16,
          16
         ]
        },
        {
         "line": {
          "color": "blue",
          "width": 1
         },
         "name": "88",
         "type": "scatter",
         "x": [
          "H1",
          "H2",
          "H3",
          "H4",
          "H5",
          "H6",
          "H7",
          "H8",
          "H9",
          "H10",
          "H11",
          "H12",
          "H13",
          "H14",
          "H15"
         ],
         "y": [
          3,
          5,
          5.5,
          5.5,
          5.5,
          5.5,
          7,
          7,
          8.5,
          9.5,
          11.5,
          12,
          12,
          12,
          14.5
         ]
        },
        {
         "line": {
          "color": "green",
          "width": 1
         },
         "name": "89",
         "type": "scatter",
         "x": [
          "H1",
          "H2",
          "H3",
          "H4",
          "H5",
          "H6",
          "H7",
          "H8",
          "H9",
          "H10",
          "H11",
          "H12",
          "H13",
          "H14",
          "H15"
         ],
         "y": [
          6.5,
          9.5,
          10.5,
          12,
          14.5,
          17,
          19,
          21.5,
          25.5,
          26,
          31,
          36,
          36,
          36,
          36
         ]
        },
        {
         "line": {
          "color": "blue",
          "width": 1
         },
         "name": "90",
         "type": "scatter",
         "x": [
          "H1",
          "H2",
          "H3",
          "H4",
          "H5",
          "H6",
          "H7",
          "H8",
          "H9",
          "H10",
          "H11",
          "H12",
          "H13",
          "H14",
          "H15"
         ],
         "y": [
          2.5,
          3.5,
          4,
          4,
          5,
          6,
          7,
          8,
          9,
          9.5,
          12.5,
          12.5,
          13,
          13.5,
          15
         ]
        },
        {
         "line": {
          "color": "blue",
          "width": 1
         },
         "name": "91",
         "type": "scatter",
         "x": [
          "H1",
          "H2",
          "H3",
          "H4",
          "H5",
          "H6",
          "H7",
          "H8",
          "H9",
          "H10",
          "H11",
          "H12",
          "H13",
          "H14",
          "H15"
         ],
         "y": [
          4.5,
          5,
          5,
          5,
          5.5,
          6.5,
          7,
          7.5,
          9,
          9.5,
          12,
          12,
          12.5,
          13,
          13
         ]
        },
        {
         "line": {
          "color": "green",
          "width": 1
         },
         "name": "92",
         "type": "scatter",
         "x": [
          "H1",
          "H2",
          "H3",
          "H4",
          "H5",
          "H6",
          "H7",
          "H8",
          "H9",
          "H10",
          "H11",
          "H12",
          "H13",
          "H14",
          "H15"
         ],
         "y": [
          8,
          11.5,
          14,
          17.5,
          20.5,
          26,
          33.5,
          39,
          46,
          49,
          55,
          56,
          56.5,
          58,
          59
         ]
        },
        {
         "line": {
          "color": "blue",
          "width": 1
         },
         "name": "93",
         "type": "scatter",
         "x": [
          "H1",
          "H2",
          "H3",
          "H4",
          "H5",
          "H6",
          "H7",
          "H8",
          "H9",
          "H10",
          "H11",
          "H12",
          "H13",
          "H14",
          "H15"
         ],
         "y": [
          5.5,
          6.5,
          7.5,
          8.5,
          9,
          10,
          11,
          11.5,
          11.5,
          12.5,
          15,
          15.5,
          16,
          16.5,
          16.5
         ]
        },
        {
         "line": {
          "color": "blue",
          "width": 1
         },
         "name": "94",
         "type": "scatter",
         "x": [
          "H1",
          "H2",
          "H3",
          "H4",
          "H5",
          "H6",
          "H7",
          "H8",
          "H9",
          "H10",
          "H11",
          "H12",
          "H13",
          "H14",
          "H15"
         ],
         "y": [
          4.5,
          5,
          5.5,
          7,
          7,
          9,
          9.5,
          11,
          12,
          13,
          17.5,
          18,
          18,
          19,
          19
         ]
        },
        {
         "line": {
          "color": "blue",
          "width": 1
         },
         "name": "95",
         "type": "scatter",
         "x": [
          "H1",
          "H2",
          "H3",
          "H4",
          "H5",
          "H6",
          "H7",
          "H8",
          "H9",
          "H10",
          "H11",
          "H12",
          "H13",
          "H14",
          "H15"
         ],
         "y": [
          2,
          3.5,
          5,
          5,
          6,
          7,
          7.5,
          8.5,
          9.5,
          10.5,
          11.5,
          12.5,
          13,
          14,
          14
         ]
        },
        {
         "line": {
          "color": "green",
          "width": 1
         },
         "name": "96",
         "type": "scatter",
         "x": [
          "H1",
          "H2",
          "H3",
          "H4",
          "H5",
          "H6",
          "H7",
          "H8",
          "H9",
          "H10",
          "H11",
          "H12",
          "H13",
          "H14",
          "H15"
         ],
         "y": [
          4,
          7.5,
          10,
          14,
          18.5,
          25,
          31.5,
          37.5,
          42,
          43,
          49.5,
          57.5,
          58,
          58.5,
          61
         ]
        },
        {
         "line": {
          "color": "green",
          "width": 1
         },
         "name": "97",
         "type": "scatter",
         "x": [
          "H1",
          "H2",
          "H3",
          "H4",
          "H5",
          "H6",
          "H7",
          "H8",
          "H9",
          "H10",
          "H11",
          "H12",
          "H13",
          "H14",
          "H15"
         ],
         "y": [
          11.5,
          17.5,
          25,
          32.5,
          38,
          45,
          49.5,
          52.5,
          57,
          62,
          62,
          62,
          63,
          63,
          64
         ]
        },
        {
         "line": {
          "color": "blue",
          "width": 1
         },
         "name": "98",
         "type": "scatter",
         "x": [
          "H1",
          "H2",
          "H3",
          "H4",
          "H5",
          "H6",
          "H7",
          "H8",
          "H9",
          "H10",
          "H11",
          "H12",
          "H13",
          "H14",
          "H15"
         ],
         "y": [
          3.5,
          3.5,
          3.5,
          4,
          4.5,
          6,
          6.5,
          7,
          9,
          9.5,
          10.5,
          10.5,
          11,
          11.5,
          12.5
         ]
        },
        {
         "line": {
          "color": "green",
          "width": 1
         },
         "name": "99",
         "type": "scatter",
         "x": [
          "H1",
          "H2",
          "H3",
          "H4",
          "H5",
          "H6",
          "H7",
          "H8",
          "H9",
          "H10",
          "H11",
          "H12",
          "H13",
          "H14",
          "H15"
         ],
         "y": [
          6.5,
          12.5,
          17.5,
          25.5,
          31,
          36,
          38.5,
          43.5,
          47,
          48,
          53,
          61,
          61,
          61,
          65
         ]
        },
        {
         "line": {
          "color": "blue",
          "width": 1
         },
         "name": "100",
         "type": "scatter",
         "x": [
          "H1",
          "H2",
          "H3",
          "H4",
          "H5",
          "H6",
          "H7",
          "H8",
          "H9",
          "H10",
          "H11",
          "H12",
          "H13",
          "H14",
          "H15"
         ],
         "y": [
          3.5,
          4.5,
          4.5,
          5,
          6,
          7,
          7.5,
          8,
          9.5,
          10,
          11.5,
          12,
          12,
          12.5,
          13
         ]
        }
       ],
       "layout": {
        "template": {
         "data": {
          "bar": [
           {
            "error_x": {
             "color": "#2a3f5f"
            },
            "error_y": {
             "color": "#2a3f5f"
            },
            "marker": {
             "line": {
              "color": "#E5ECF6",
              "width": 0.5
             },
             "pattern": {
              "fillmode": "overlay",
              "size": 10,
              "solidity": 0.2
             }
            },
            "type": "bar"
           }
          ],
          "barpolar": [
           {
            "marker": {
             "line": {
              "color": "#E5ECF6",
              "width": 0.5
             },
             "pattern": {
              "fillmode": "overlay",
              "size": 10,
              "solidity": 0.2
             }
            },
            "type": "barpolar"
           }
          ],
          "carpet": [
           {
            "aaxis": {
             "endlinecolor": "#2a3f5f",
             "gridcolor": "white",
             "linecolor": "white",
             "minorgridcolor": "white",
             "startlinecolor": "#2a3f5f"
            },
            "baxis": {
             "endlinecolor": "#2a3f5f",
             "gridcolor": "white",
             "linecolor": "white",
             "minorgridcolor": "white",
             "startlinecolor": "#2a3f5f"
            },
            "type": "carpet"
           }
          ],
          "choropleth": [
           {
            "colorbar": {
             "outlinewidth": 0,
             "ticks": ""
            },
            "type": "choropleth"
           }
          ],
          "contour": [
           {
            "colorbar": {
             "outlinewidth": 0,
             "ticks": ""
            },
            "colorscale": [
             [
              0,
              "#0d0887"
             ],
             [
              0.1111111111111111,
              "#46039f"
             ],
             [
              0.2222222222222222,
              "#7201a8"
             ],
             [
              0.3333333333333333,
              "#9c179e"
             ],
             [
              0.4444444444444444,
              "#bd3786"
             ],
             [
              0.5555555555555556,
              "#d8576b"
             ],
             [
              0.6666666666666666,
              "#ed7953"
             ],
             [
              0.7777777777777778,
              "#fb9f3a"
             ],
             [
              0.8888888888888888,
              "#fdca26"
             ],
             [
              1,
              "#f0f921"
             ]
            ],
            "type": "contour"
           }
          ],
          "contourcarpet": [
           {
            "colorbar": {
             "outlinewidth": 0,
             "ticks": ""
            },
            "type": "contourcarpet"
           }
          ],
          "heatmap": [
           {
            "colorbar": {
             "outlinewidth": 0,
             "ticks": ""
            },
            "colorscale": [
             [
              0,
              "#0d0887"
             ],
             [
              0.1111111111111111,
              "#46039f"
             ],
             [
              0.2222222222222222,
              "#7201a8"
             ],
             [
              0.3333333333333333,
              "#9c179e"
             ],
             [
              0.4444444444444444,
              "#bd3786"
             ],
             [
              0.5555555555555556,
              "#d8576b"
             ],
             [
              0.6666666666666666,
              "#ed7953"
             ],
             [
              0.7777777777777778,
              "#fb9f3a"
             ],
             [
              0.8888888888888888,
              "#fdca26"
             ],
             [
              1,
              "#f0f921"
             ]
            ],
            "type": "heatmap"
           }
          ],
          "heatmapgl": [
           {
            "colorbar": {
             "outlinewidth": 0,
             "ticks": ""
            },
            "colorscale": [
             [
              0,
              "#0d0887"
             ],
             [
              0.1111111111111111,
              "#46039f"
             ],
             [
              0.2222222222222222,
              "#7201a8"
             ],
             [
              0.3333333333333333,
              "#9c179e"
             ],
             [
              0.4444444444444444,
              "#bd3786"
             ],
             [
              0.5555555555555556,
              "#d8576b"
             ],
             [
              0.6666666666666666,
              "#ed7953"
             ],
             [
              0.7777777777777778,
              "#fb9f3a"
             ],
             [
              0.8888888888888888,
              "#fdca26"
             ],
             [
              1,
              "#f0f921"
             ]
            ],
            "type": "heatmapgl"
           }
          ],
          "histogram": [
           {
            "marker": {
             "pattern": {
              "fillmode": "overlay",
              "size": 10,
              "solidity": 0.2
             }
            },
            "type": "histogram"
           }
          ],
          "histogram2d": [
           {
            "colorbar": {
             "outlinewidth": 0,
             "ticks": ""
            },
            "colorscale": [
             [
              0,
              "#0d0887"
             ],
             [
              0.1111111111111111,
              "#46039f"
             ],
             [
              0.2222222222222222,
              "#7201a8"
             ],
             [
              0.3333333333333333,
              "#9c179e"
             ],
             [
              0.4444444444444444,
              "#bd3786"
             ],
             [
              0.5555555555555556,
              "#d8576b"
             ],
             [
              0.6666666666666666,
              "#ed7953"
             ],
             [
              0.7777777777777778,
              "#fb9f3a"
             ],
             [
              0.8888888888888888,
              "#fdca26"
             ],
             [
              1,
              "#f0f921"
             ]
            ],
            "type": "histogram2d"
           }
          ],
          "histogram2dcontour": [
           {
            "colorbar": {
             "outlinewidth": 0,
             "ticks": ""
            },
            "colorscale": [
             [
              0,
              "#0d0887"
             ],
             [
              0.1111111111111111,
              "#46039f"
             ],
             [
              0.2222222222222222,
              "#7201a8"
             ],
             [
              0.3333333333333333,
              "#9c179e"
             ],
             [
              0.4444444444444444,
              "#bd3786"
             ],
             [
              0.5555555555555556,
              "#d8576b"
             ],
             [
              0.6666666666666666,
              "#ed7953"
             ],
             [
              0.7777777777777778,
              "#fb9f3a"
             ],
             [
              0.8888888888888888,
              "#fdca26"
             ],
             [
              1,
              "#f0f921"
             ]
            ],
            "type": "histogram2dcontour"
           }
          ],
          "mesh3d": [
           {
            "colorbar": {
             "outlinewidth": 0,
             "ticks": ""
            },
            "type": "mesh3d"
           }
          ],
          "parcoords": [
           {
            "line": {
             "colorbar": {
              "outlinewidth": 0,
              "ticks": ""
             }
            },
            "type": "parcoords"
           }
          ],
          "pie": [
           {
            "automargin": true,
            "type": "pie"
           }
          ],
          "scatter": [
           {
            "fillpattern": {
             "fillmode": "overlay",
             "size": 10,
             "solidity": 0.2
            },
            "type": "scatter"
           }
          ],
          "scatter3d": [
           {
            "line": {
             "colorbar": {
              "outlinewidth": 0,
              "ticks": ""
             }
            },
            "marker": {
             "colorbar": {
              "outlinewidth": 0,
              "ticks": ""
             }
            },
            "type": "scatter3d"
           }
          ],
          "scattercarpet": [
           {
            "marker": {
             "colorbar": {
              "outlinewidth": 0,
              "ticks": ""
             }
            },
            "type": "scattercarpet"
           }
          ],
          "scattergeo": [
           {
            "marker": {
             "colorbar": {
              "outlinewidth": 0,
              "ticks": ""
             }
            },
            "type": "scattergeo"
           }
          ],
          "scattergl": [
           {
            "marker": {
             "colorbar": {
              "outlinewidth": 0,
              "ticks": ""
             }
            },
            "type": "scattergl"
           }
          ],
          "scattermapbox": [
           {
            "marker": {
             "colorbar": {
              "outlinewidth": 0,
              "ticks": ""
             }
            },
            "type": "scattermapbox"
           }
          ],
          "scatterpolar": [
           {
            "marker": {
             "colorbar": {
              "outlinewidth": 0,
              "ticks": ""
             }
            },
            "type": "scatterpolar"
           }
          ],
          "scatterpolargl": [
           {
            "marker": {
             "colorbar": {
              "outlinewidth": 0,
              "ticks": ""
             }
            },
            "type": "scatterpolargl"
           }
          ],
          "scatterternary": [
           {
            "marker": {
             "colorbar": {
              "outlinewidth": 0,
              "ticks": ""
             }
            },
            "type": "scatterternary"
           }
          ],
          "surface": [
           {
            "colorbar": {
             "outlinewidth": 0,
             "ticks": ""
            },
            "colorscale": [
             [
              0,
              "#0d0887"
             ],
             [
              0.1111111111111111,
              "#46039f"
             ],
             [
              0.2222222222222222,
              "#7201a8"
             ],
             [
              0.3333333333333333,
              "#9c179e"
             ],
             [
              0.4444444444444444,
              "#bd3786"
             ],
             [
              0.5555555555555556,
              "#d8576b"
             ],
             [
              0.6666666666666666,
              "#ed7953"
             ],
             [
              0.7777777777777778,
              "#fb9f3a"
             ],
             [
              0.8888888888888888,
              "#fdca26"
             ],
             [
              1,
              "#f0f921"
             ]
            ],
            "type": "surface"
           }
          ],
          "table": [
           {
            "cells": {
             "fill": {
              "color": "#EBF0F8"
             },
             "line": {
              "color": "white"
             }
            },
            "header": {
             "fill": {
              "color": "#C8D4E3"
             },
             "line": {
              "color": "white"
             }
            },
            "type": "table"
           }
          ]
         },
         "layout": {
          "annotationdefaults": {
           "arrowcolor": "#2a3f5f",
           "arrowhead": 0,
           "arrowwidth": 1
          },
          "autotypenumbers": "strict",
          "coloraxis": {
           "colorbar": {
            "outlinewidth": 0,
            "ticks": ""
           }
          },
          "colorscale": {
           "diverging": [
            [
             0,
             "#8e0152"
            ],
            [
             0.1,
             "#c51b7d"
            ],
            [
             0.2,
             "#de77ae"
            ],
            [
             0.3,
             "#f1b6da"
            ],
            [
             0.4,
             "#fde0ef"
            ],
            [
             0.5,
             "#f7f7f7"
            ],
            [
             0.6,
             "#e6f5d0"
            ],
            [
             0.7,
             "#b8e186"
            ],
            [
             0.8,
             "#7fbc41"
            ],
            [
             0.9,
             "#4d9221"
            ],
            [
             1,
             "#276419"
            ]
           ],
           "sequential": [
            [
             0,
             "#0d0887"
            ],
            [
             0.1111111111111111,
             "#46039f"
            ],
            [
             0.2222222222222222,
             "#7201a8"
            ],
            [
             0.3333333333333333,
             "#9c179e"
            ],
            [
             0.4444444444444444,
             "#bd3786"
            ],
            [
             0.5555555555555556,
             "#d8576b"
            ],
            [
             0.6666666666666666,
             "#ed7953"
            ],
            [
             0.7777777777777778,
             "#fb9f3a"
            ],
            [
             0.8888888888888888,
             "#fdca26"
            ],
            [
             1,
             "#f0f921"
            ]
           ],
           "sequentialminus": [
            [
             0,
             "#0d0887"
            ],
            [
             0.1111111111111111,
             "#46039f"
            ],
            [
             0.2222222222222222,
             "#7201a8"
            ],
            [
             0.3333333333333333,
             "#9c179e"
            ],
            [
             0.4444444444444444,
             "#bd3786"
            ],
            [
             0.5555555555555556,
             "#d8576b"
            ],
            [
             0.6666666666666666,
             "#ed7953"
            ],
            [
             0.7777777777777778,
             "#fb9f3a"
            ],
            [
             0.8888888888888888,
             "#fdca26"
            ],
            [
             1,
             "#f0f921"
            ]
           ]
          },
          "colorway": [
           "#636efa",
           "#EF553B",
           "#00cc96",
           "#ab63fa",
           "#FFA15A",
           "#19d3f3",
           "#FF6692",
           "#B6E880",
           "#FF97FF",
           "#FECB52"
          ],
          "font": {
           "color": "#2a3f5f"
          },
          "geo": {
           "bgcolor": "white",
           "lakecolor": "white",
           "landcolor": "#E5ECF6",
           "showlakes": true,
           "showland": true,
           "subunitcolor": "white"
          },
          "hoverlabel": {
           "align": "left"
          },
          "hovermode": "closest",
          "mapbox": {
           "style": "light"
          },
          "paper_bgcolor": "white",
          "plot_bgcolor": "#E5ECF6",
          "polar": {
           "angularaxis": {
            "gridcolor": "white",
            "linecolor": "white",
            "ticks": ""
           },
           "bgcolor": "#E5ECF6",
           "radialaxis": {
            "gridcolor": "white",
            "linecolor": "white",
            "ticks": ""
           }
          },
          "scene": {
           "xaxis": {
            "backgroundcolor": "#E5ECF6",
            "gridcolor": "white",
            "gridwidth": 2,
            "linecolor": "white",
            "showbackground": true,
            "ticks": "",
            "zerolinecolor": "white"
           },
           "yaxis": {
            "backgroundcolor": "#E5ECF6",
            "gridcolor": "white",
            "gridwidth": 2,
            "linecolor": "white",
            "showbackground": true,
            "ticks": "",
            "zerolinecolor": "white"
           },
           "zaxis": {
            "backgroundcolor": "#E5ECF6",
            "gridcolor": "white",
            "gridwidth": 2,
            "linecolor": "white",
            "showbackground": true,
            "ticks": "",
            "zerolinecolor": "white"
           }
          },
          "shapedefaults": {
           "line": {
            "color": "#2a3f5f"
           }
          },
          "ternary": {
           "aaxis": {
            "gridcolor": "white",
            "linecolor": "white",
            "ticks": ""
           },
           "baxis": {
            "gridcolor": "white",
            "linecolor": "white",
            "ticks": ""
           },
           "bgcolor": "#E5ECF6",
           "caxis": {
            "gridcolor": "white",
            "linecolor": "white",
            "ticks": ""
           }
          },
          "title": {
           "x": 0.05
          },
          "xaxis": {
           "automargin": true,
           "gridcolor": "white",
           "linecolor": "white",
           "ticks": "",
           "title": {
            "standoff": 15
           },
           "zerolinecolor": "white",
           "zerolinewidth": 2
          },
          "yaxis": {
           "automargin": true,
           "gridcolor": "white",
           "linecolor": "white",
           "ticks": "",
           "title": {
            "standoff": 15
           },
           "zerolinecolor": "white",
           "zerolinewidth": 2
          }
         }
        },
        "title": {
         "text": "Crecimiento de plantas a traves de las semanas"
        },
        "xaxis": {
         "title": {
          "text": "Semana"
         }
        },
        "yaxis": {
         "title": {
          "text": "Altura en CM"
         }
        }
       }
      }
     },
     "metadata": {},
     "output_type": "display_data"
    }
   ],
   "source": [
    "fig = go.Figure()\n",
    "\n",
    "for plantaID in df_Plants_Time[\"idPlanta\"].unique():\n",
    "\n",
    "    planta = df_Plants_Time[df_Plants_Time[\"idPlanta\"] == plantaID]\n",
    "    if planta['Especie'].iloc[0] == \"V. farnesiana\":\n",
    "        fig.add_trace(go.Scatter(x=planta[\"Semana\"], y=planta[\"Altura\"], name=plantaID,\n",
    "                         line = dict(color='green', width=1)))\n",
    "    else:\n",
    "        fig.add_trace(go.Scatter(x=planta[\"Semana\"], y=planta[\"Altura\"], name=plantaID,\n",
    "                         line = dict(color='blue', width=1)))\n",
    "\n",
    "fig.update_layout(title='Crecimiento de plantas a traves de las semanas',\n",
    "                   xaxis_title='Semana',\n",
    "                   yaxis_title='Altura en CM')\n",
    "fig.show()"
   ]
  },
  {
   "attachments": {},
   "cell_type": "markdown",
   "metadata": {},
   "source": [
    "## I will survive!"
   ]
  },
  {
   "cell_type": "code",
   "execution_count": 165,
   "metadata": {},
   "outputs": [
    {
     "data": {
      "application/vnd.plotly.v1+json": {
       "config": {
        "plotlyServerURL": "https://plot.ly"
       },
       "data": [
        {
         "line": {
          "color": "green",
          "width": 1
         },
         "name": "7030SI1",
         "type": "scatter",
         "x": [
          "H1",
          "H2",
          "H3",
          "H4",
          "H5",
          "H6",
          "H7",
          "H8",
          "H9",
          "H10",
          "H11",
          "H12",
          "H13",
          "H14",
          "H15"
         ],
         "y": [
          6,
          5.5,
          6.5,
          7,
          9,
          10.5,
          13,
          15,
          15.5,
          16,
          16,
          16,
          19,
          19,
          19.5
         ]
        },
        {
         "line": {
          "color": "green",
          "width": 1
         },
         "name": "7030SI2",
         "type": "scatter",
         "x": [
          "H1",
          "H2",
          "H3",
          "H4",
          "H5",
          "H6",
          "H7",
          "H8",
          "H9",
          "H10",
          "H11",
          "H12",
          "H13",
          "H14",
          "H15"
         ],
         "y": [
          4,
          7,
          9.5,
          12,
          16,
          21,
          27,
          32.5,
          37.5,
          42,
          45,
          45,
          45.5,
          46,
          59
         ]
        },
        {
         "line": {
          "color": "green",
          "width": 1
         },
         "name": "7030SI4",
         "type": "scatter",
         "x": [
          "H1",
          "H2",
          "H3",
          "H4",
          "H5",
          "H6",
          "H7",
          "H8",
          "H9",
          "H10",
          "H11",
          "H12",
          "H13",
          "H14",
          "H15"
         ],
         "y": [
          5.5,
          6,
          7,
          8,
          9.5,
          12,
          15.5,
          19.5,
          26,
          32,
          35,
          34.5,
          31,
          31,
          33
         ]
        },
        {
         "line": {
          "color": "blue",
          "width": 1
         },
         "name": "7030SI5",
         "type": "scatter",
         "x": [
          "H1",
          "H2",
          "H3",
          "H4",
          "H5",
          "H6",
          "H7",
          "H8",
          "H9",
          "H10",
          "H11",
          "H12",
          "H13",
          "H14",
          "H15"
         ],
         "y": [
          4,
          5.5,
          5.5,
          6.5,
          7.5,
          9.5,
          10.5,
          10.5,
          12.5,
          13,
          15,
          15.5,
          17.5,
          18,
          18.5
         ]
        },
        {
         "line": {
          "color": "blue",
          "width": 1
         },
         "name": "7030SI8",
         "type": "scatter",
         "x": [
          "H1",
          "H2",
          "H3",
          "H4",
          "H5",
          "H6",
          "H7",
          "H8",
          "H9",
          "H10",
          "H11",
          "H12",
          "H13",
          "H14",
          "H15"
         ],
         "y": [
          3,
          4,
          4,
          4.5,
          5.5,
          7,
          8,
          9,
          10.5,
          12,
          14,
          14,
          14,
          14.5,
          15.5
         ]
        },
        {
         "line": {
          "color": "blue",
          "width": 1
         },
         "name": "7030SI9",
         "type": "scatter",
         "x": [
          "H1",
          "H2",
          "H3",
          "H4",
          "H5",
          "H6",
          "H7",
          "H8",
          "H9",
          "H10",
          "H11",
          "H12",
          "H13",
          "H14",
          "H15"
         ],
         "y": [
          1.5,
          3,
          3.5,
          4.5,
          4.5,
          7,
          7.5,
          8.5,
          9.5,
          11,
          12.5,
          13,
          13,
          14,
          15
         ]
        },
        {
         "line": {
          "color": "green",
          "width": 1
         },
         "name": "7030SI10",
         "type": "scatter",
         "x": [
          "H1",
          "H2",
          "H3",
          "H4",
          "H5",
          "H6",
          "H7",
          "H8",
          "H9",
          "H10",
          "H11",
          "H12",
          "H13",
          "H14",
          "H15"
         ],
         "y": [
          2.5,
          4,
          5,
          6.5,
          8,
          10.5,
          13.5,
          15.5,
          21.5,
          26,
          39,
          39,
          39,
          42,
          42
         ]
        },
        {
         "line": {
          "color": "green",
          "width": 1
         },
         "name": "7030SI11",
         "type": "scatter",
         "x": [
          "H1",
          "H2",
          "H3",
          "H4",
          "H5",
          "H6",
          "H7",
          "H8",
          "H9",
          "H10",
          "H11",
          "H12",
          "H13",
          "H14",
          "H15"
         ],
         "y": [
          3,
          6.5,
          6.5,
          7,
          9,
          11.5,
          15,
          18.5,
          23.5,
          30.5,
          37.5,
          45,
          46.5,
          48,
          49.5
         ]
        },
        {
         "line": {
          "color": "green",
          "width": 1
         },
         "name": "7030SI12",
         "type": "scatter",
         "x": [
          "H1",
          "H2",
          "H3",
          "H4",
          "H5",
          "H6",
          "H7",
          "H8",
          "H9",
          "H10",
          "H11",
          "H12",
          "H13",
          "H14",
          "H15"
         ],
         "y": [
          8,
          8.5,
          14,
          21,
          28,
          36,
          42,
          46,
          55,
          57.5,
          57,
          57.5,
          57.5,
          57.5,
          57.5
         ]
        },
        {
         "line": {
          "color": "green",
          "width": 1
         },
         "name": "7030SI13",
         "type": "scatter",
         "x": [
          "H1",
          "H2",
          "H3",
          "H4",
          "H5",
          "H6",
          "H7",
          "H8",
          "H9",
          "H10",
          "H11",
          "H12",
          "H13",
          "H14",
          "H15"
         ],
         "y": [
          4.5,
          4.5,
          4.5,
          5,
          6.5,
          8,
          10.5,
          13.5,
          18,
          22.5,
          29,
          36.5,
          43,
          43,
          43
         ]
        },
        {
         "line": {
          "color": "blue",
          "width": 1
         },
         "name": "7030SI14",
         "type": "scatter",
         "x": [
          "H1",
          "H2",
          "H3",
          "H4",
          "H5",
          "H6",
          "H7",
          "H8",
          "H9",
          "H10",
          "H11",
          "H12",
          "H13",
          "H14",
          "H15"
         ],
         "y": [
          7.5,
          6.5,
          7.5,
          8.5,
          8.5,
          9,
          9,
          10,
          11.5,
          12,
          13,
          14,
          16,
          17.5,
          18
         ]
        },
        {
         "line": {
          "color": "blue",
          "width": 1
         },
         "name": "7030SI15",
         "type": "scatter",
         "x": [
          "H1",
          "H2",
          "H3",
          "H4",
          "H5",
          "H6",
          "H7",
          "H8",
          "H9",
          "H10",
          "H11",
          "H12",
          "H13",
          "H14",
          "H15"
         ],
         "y": [
          6,
          6,
          6.5,
          7.5,
          9,
          10.5,
          10.5,
          12,
          13.5,
          15,
          20,
          23,
          23,
          23,
          24.5
         ]
        },
        {
         "line": {
          "color": "blue",
          "width": 1
         },
         "name": "7030SI16",
         "type": "scatter",
         "x": [
          "H1",
          "H2",
          "H3",
          "H4",
          "H5",
          "H6",
          "H7",
          "H8",
          "H9",
          "H10",
          "H11",
          "H12",
          "H13",
          "H14",
          "H15"
         ],
         "y": [
          4,
          5.5,
          6,
          6.5,
          7.5,
          9,
          9.5,
          10.5,
          12,
          13,
          16,
          16,
          16.5,
          17.5,
          18
         ]
        },
        {
         "line": {
          "color": "blue",
          "width": 1
         },
         "name": "7030SI17",
         "type": "scatter",
         "x": [
          "H1",
          "H2",
          "H3",
          "H4",
          "H5",
          "H6",
          "H7",
          "H8",
          "H9",
          "H10",
          "H11",
          "H12",
          "H13",
          "H14",
          "H15"
         ],
         "y": [
          3.5,
          5.5,
          5.5,
          7,
          7.5,
          9,
          10.5,
          12,
          14,
          16,
          22,
          22,
          22,
          22,
          24.5
         ]
        },
        {
         "line": {
          "color": "blue",
          "width": 1
         },
         "name": "7030SI18",
         "type": "scatter",
         "x": [
          "H1",
          "H2",
          "H3",
          "H4",
          "H5",
          "H6",
          "H7",
          "H8",
          "H9",
          "H10",
          "H11",
          "H12",
          "H13",
          "H14",
          "H15"
         ],
         "y": [
          3.5,
          2.5,
          3,
          4.5,
          6,
          8,
          9.5,
          11,
          13,
          14.5,
          15.5,
          16,
          17.5,
          18,
          19
         ]
        },
        {
         "line": {
          "color": "green",
          "width": 1
         },
         "name": "7030SI19",
         "type": "scatter",
         "x": [
          "H1",
          "H2",
          "H3",
          "H4",
          "H5",
          "H6",
          "H7",
          "H8",
          "H9",
          "H10",
          "H11",
          "H12",
          "H13",
          "H14",
          "H15"
         ],
         "y": [
          2.5,
          4.5,
          5,
          5,
          5,
          7.5,
          11.5,
          16.5,
          19.5,
          23,
          29,
          29,
          28,
          28,
          37
         ]
        },
        {
         "line": {
          "color": "green",
          "width": 1
         },
         "name": "7030SI20",
         "type": "scatter",
         "x": [
          "H1",
          "H2",
          "H3",
          "H4",
          "H5",
          "H6",
          "H7",
          "H8",
          "H9",
          "H10",
          "H11",
          "H12",
          "H13",
          "H14",
          "H15"
         ],
         "y": [
          5.5,
          6,
          6.5,
          7,
          8.5,
          10,
          13.5,
          17.5,
          20,
          24.5,
          31,
          31.5,
          31.5,
          32,
          33
         ]
        },
        {
         "line": {
          "color": "green",
          "width": 1
         },
         "name": "100SI21",
         "type": "scatter",
         "x": [
          "H1",
          "H2",
          "H3",
          "H4",
          "H5",
          "H6",
          "H7",
          "H8",
          "H9",
          "H10",
          "H11",
          "H12",
          "H13",
          "H14",
          "H15"
         ],
         "y": [
          5.5,
          8,
          8,
          9.5,
          9.5,
          10.5,
          10.5,
          10.5,
          10.5,
          10.5,
          11.5,
          11.5,
          10,
          10,
          10
         ]
        },
        {
         "line": {
          "color": "blue",
          "width": 1
         },
         "name": "100SI22",
         "type": "scatter",
         "x": [
          "H1",
          "H2",
          "H3",
          "H4",
          "H5",
          "H6",
          "H7",
          "H8",
          "H9",
          "H10",
          "H11",
          "H12",
          "H13",
          "H14",
          "H15"
         ],
         "y": [
          2,
          3,
          3,
          3,
          4,
          4,
          4,
          5,
          5,
          5,
          6,
          6,
          6,
          6.5,
          6.5
         ]
        },
        {
         "line": {
          "color": "blue",
          "width": 1
         },
         "name": "100SI23",
         "type": "scatter",
         "x": [
          "H1",
          "H2",
          "H3",
          "H4",
          "H5",
          "H6",
          "H7",
          "H8",
          "H9",
          "H10",
          "H11",
          "H12",
          "H13",
          "H14",
          "H15"
         ],
         "y": [
          2,
          3,
          3,
          3,
          3.5,
          3.5,
          3.5,
          4,
          4,
          4.5,
          5,
          5,
          5,
          6,
          6
         ]
        },
        {
         "line": {
          "color": "green",
          "width": 1
         },
         "name": "100SI28",
         "type": "scatter",
         "x": [
          "H1",
          "H2",
          "H3",
          "H4",
          "H5",
          "H6",
          "H7",
          "H8",
          "H9",
          "H10",
          "H11",
          "H12",
          "H13",
          "H14",
          "H15"
         ],
         "y": [
          6,
          7,
          7,
          7,
          7,
          7,
          7,
          7,
          7,
          7,
          6,
          6,
          5.5,
          6,
          6
         ]
        },
        {
         "line": {
          "color": "green",
          "width": 1
         },
         "name": "100SI30",
         "type": "scatter",
         "x": [
          "H1",
          "H2",
          "H3",
          "H4",
          "H5",
          "H6",
          "H7",
          "H8",
          "H9",
          "H10",
          "H11",
          "H12",
          "H13",
          "H14",
          "H15"
         ],
         "y": [
          7,
          6.5,
          7,
          8,
          8.5,
          9,
          9.5,
          10.5,
          10.5,
          11.5,
          19.5,
          12,
          11,
          11,
          11.5
         ]
        },
        {
         "line": {
          "color": "blue",
          "width": 1
         },
         "name": "100SI33",
         "type": "scatter",
         "x": [
          "H1",
          "H2",
          "H3",
          "H4",
          "H5",
          "H6",
          "H7",
          "H8",
          "H9",
          "H10",
          "H11",
          "H12",
          "H13",
          "H14",
          "H15"
         ],
         "y": [
          2,
          3,
          3,
          3,
          3,
          3.5,
          3.5,
          4,
          4.5,
          4.5,
          5,
          5,
          5.5,
          6.5,
          6.5
         ]
        },
        {
         "line": {
          "color": "green",
          "width": 1
         },
         "name": "100SI35",
         "type": "scatter",
         "x": [
          "H1",
          "H2",
          "H3",
          "H4",
          "H5",
          "H6",
          "H7",
          "H8",
          "H9",
          "H10",
          "H11",
          "H12",
          "H13",
          "H14",
          "H15"
         ],
         "y": [
          5,
          6.5,
          6.5,
          7,
          7.5,
          8,
          8.5,
          9.5,
          9.5,
          9.5,
          10.5,
          10.5,
          11,
          11.5,
          11
         ]
        },
        {
         "line": {
          "color": "green",
          "width": 1
         },
         "name": "100SI38",
         "type": "scatter",
         "x": [
          "H1",
          "H2",
          "H3",
          "H4",
          "H5",
          "H6",
          "H7",
          "H8",
          "H9",
          "H10",
          "H11",
          "H12",
          "H13",
          "H14",
          "H15"
         ],
         "y": [
          5.5,
          8,
          8,
          9.5,
          9.5,
          10,
          10.5,
          11.5,
          11.5,
          12,
          13.5,
          13.5,
          14,
          14,
          14
         ]
        },
        {
         "line": {
          "color": "green",
          "width": 1
         },
         "name": "100SI39",
         "type": "scatter",
         "x": [
          "H1",
          "H2",
          "H3",
          "H4",
          "H5",
          "H6",
          "H7",
          "H8",
          "H9",
          "H10",
          "H11",
          "H12",
          "H13",
          "H14",
          "H15"
         ],
         "y": [
          8.5,
          8,
          8,
          8.5,
          8.5,
          8.5,
          9,
          9,
          9,
          9.5,
          9,
          9.5,
          9.5,
          10,
          11
         ]
        },
        {
         "line": {
          "color": "green",
          "width": 1
         },
         "name": "100CI42",
         "type": "scatter",
         "x": [
          "H1",
          "H2",
          "H3",
          "H4",
          "H5",
          "H6",
          "H7",
          "H8",
          "H9",
          "H10",
          "H11",
          "H12",
          "H13",
          "H14",
          "H15"
         ],
         "y": [
          5.5,
          6,
          6.5,
          7,
          7,
          8.5,
          9,
          9,
          10,
          10,
          10,
          11,
          10,
          10.5,
          10.5
         ]
        },
        {
         "line": {
          "color": "green",
          "width": 1
         },
         "name": "100CI43",
         "type": "scatter",
         "x": [
          "H1",
          "H2",
          "H3",
          "H4",
          "H5",
          "H6",
          "H7",
          "H8",
          "H9",
          "H10",
          "H11",
          "H12",
          "H13",
          "H14",
          "H15"
         ],
         "y": [
          3.5,
          6.5,
          6.5,
          7,
          7,
          7.5,
          7.5,
          8,
          8.5,
          8.5,
          9,
          9,
          8.5,
          9,
          10
         ]
        },
        {
         "line": {
          "color": "green",
          "width": 1
         },
         "name": "100CI45",
         "type": "scatter",
         "x": [
          "H1",
          "H2",
          "H3",
          "H4",
          "H5",
          "H6",
          "H7",
          "H8",
          "H9",
          "H10",
          "H11",
          "H12",
          "H13",
          "H14",
          "H15"
         ],
         "y": [
          5,
          7.5,
          8,
          8.5,
          9,
          9.5,
          10,
          10.5,
          11,
          11.5,
          11.5,
          11.5,
          10.5,
          10.5,
          10
         ]
        },
        {
         "line": {
          "color": "blue",
          "width": 1
         },
         "name": "100CI48",
         "type": "scatter",
         "x": [
          "H1",
          "H2",
          "H3",
          "H4",
          "H5",
          "H6",
          "H7",
          "H8",
          "H9",
          "H10",
          "H11",
          "H12",
          "H13",
          "H14",
          "H15"
         ],
         "y": [
          3.5,
          4,
          4,
          4,
          4,
          null,
          4,
          4.5,
          5,
          5,
          5,
          5,
          5,
          5,
          5.5
         ]
        },
        {
         "line": {
          "color": "green",
          "width": 1
         },
         "name": "100CI52",
         "type": "scatter",
         "x": [
          "H1",
          "H2",
          "H3",
          "H4",
          "H5",
          "H6",
          "H7",
          "H8",
          "H9",
          "H10",
          "H11",
          "H12",
          "H13",
          "H14",
          "H15"
         ],
         "y": [
          4,
          4.5,
          5,
          5,
          5.5,
          5.5,
          6.5,
          6.5,
          7,
          7,
          7.5,
          7.5,
          7.5,
          7.5,
          7.5
         ]
        },
        {
         "line": {
          "color": "blue",
          "width": 1
         },
         "name": "100CI58",
         "type": "scatter",
         "x": [
          "H1",
          "H2",
          "H3",
          "H4",
          "H5",
          "H6",
          "H7",
          "H8",
          "H9",
          "H10",
          "H11",
          "H12",
          "H13",
          "H14",
          "H15"
         ],
         "y": [
          2.5,
          2.5,
          2.5,
          2.5,
          2.5,
          2.5,
          2.5,
          3.5,
          3.5,
          3.5,
          3.5,
          3.5,
          4,
          4,
          4
         ]
        },
        {
         "line": {
          "color": "blue",
          "width": 1
         },
         "name": "100CI60",
         "type": "scatter",
         "x": [
          "H1",
          "H2",
          "H3",
          "H4",
          "H5",
          "H6",
          "H7",
          "H8",
          "H9",
          "H10",
          "H11",
          "H12",
          "H13",
          "H14",
          "H15"
         ],
         "y": [
          2,
          2.5,
          3.5,
          3.5,
          3.5,
          3.5,
          3.5,
          4,
          4,
          4,
          4,
          4,
          4.5,
          4.5,
          4.5
         ]
        },
        {
         "line": {
          "color": "green",
          "width": 1
         },
         "name": "7030CI61",
         "type": "scatter",
         "x": [
          "H1",
          "H2",
          "H3",
          "H4",
          "H5",
          "H6",
          "H7",
          "H8",
          "H9",
          "H10",
          "H11",
          "H12",
          "H13",
          "H14",
          "H15"
         ],
         "y": [
          6,
          10,
          13.5,
          19.5,
          22.5,
          32,
          38,
          42.5,
          48,
          48,
          55,
          55,
          55,
          55,
          55
         ]
        },
        {
         "line": {
          "color": "green",
          "width": 1
         },
         "name": "7030CI62",
         "type": "scatter",
         "x": [
          "H1",
          "H2",
          "H3",
          "H4",
          "H5",
          "H6",
          "H7",
          "H8",
          "H9",
          "H10",
          "H11",
          "H12",
          "H13",
          "H14",
          "H15"
         ],
         "y": [
          6,
          10.5,
          13.5,
          18,
          22,
          30,
          37,
          43,
          53.5,
          61,
          61,
          61,
          61,
          61,
          61
         ]
        },
        {
         "line": {
          "color": "green",
          "width": 1
         },
         "name": "7030CI63",
         "type": "scatter",
         "x": [
          "H1",
          "H2",
          "H3",
          "H4",
          "H5",
          "H6",
          "H7",
          "H8",
          "H9",
          "H10",
          "H11",
          "H12",
          "H13",
          "H14",
          "H15"
         ],
         "y": [
          9,
          12.5,
          14,
          16,
          18,
          23,
          26.5,
          30,
          32,
          32,
          32,
          32,
          32,
          32.5,
          42
         ]
        },
        {
         "line": {
          "color": "green",
          "width": 1
         },
         "name": "7030CI64",
         "type": "scatter",
         "x": [
          "H1",
          "H2",
          "H3",
          "H4",
          "H5",
          "H6",
          "H7",
          "H8",
          "H9",
          "H10",
          "H11",
          "H12",
          "H13",
          "H14",
          "H15"
         ],
         "y": [
          7.5,
          10.5,
          13.5,
          17,
          22,
          28,
          33.5,
          38,
          45,
          48,
          48,
          48,
          48,
          48,
          48
         ]
        },
        {
         "line": {
          "color": "blue",
          "width": 1
         },
         "name": "7030CI65",
         "type": "scatter",
         "x": [
          "H1",
          "H2",
          "H3",
          "H4",
          "H5",
          "H6",
          "H7",
          "H8",
          "H9",
          "H10",
          "H11",
          "H12",
          "H13",
          "H14",
          "H15"
         ],
         "y": [
          7,
          8,
          8,
          8,
          9,
          9.5,
          9.5,
          10.5,
          11,
          11,
          12,
          12,
          10.5,
          11,
          11
         ]
        },
        {
         "line": {
          "color": "blue",
          "width": 1
         },
         "name": "7030CI67",
         "type": "scatter",
         "x": [
          "H1",
          "H2",
          "H3",
          "H4",
          "H5",
          "H6",
          "H7",
          "H8",
          "H9",
          "H10",
          "H11",
          "H12",
          "H13",
          "H14",
          "H15"
         ],
         "y": [
          6.5,
          6.5,
          7.5,
          8.5,
          9.5,
          10,
          10,
          10.5,
          10.5,
          11.5,
          14.5,
          16,
          16,
          16,
          16
         ]
        },
        {
         "line": {
          "color": "blue",
          "width": 1
         },
         "name": "7030CI68",
         "type": "scatter",
         "x": [
          "H1",
          "H2",
          "H3",
          "H4",
          "H5",
          "H6",
          "H7",
          "H8",
          "H9",
          "H10",
          "H11",
          "H12",
          "H13",
          "H14",
          "H15"
         ],
         "y": [
          5,
          7,
          7,
          8.5,
          9,
          9.5,
          10,
          10.5,
          13,
          14,
          18,
          20,
          20,
          21,
          21.5
         ]
        },
        {
         "line": {
          "color": "blue",
          "width": 1
         },
         "name": "7030CI69",
         "type": "scatter",
         "x": [
          "H1",
          "H2",
          "H3",
          "H4",
          "H5",
          "H6",
          "H7",
          "H8",
          "H9",
          "H10",
          "H11",
          "H12",
          "H13",
          "H14",
          "H15"
         ],
         "y": [
          6.5,
          6.5,
          7,
          7.5,
          7.5,
          8,
          8,
          10.5,
          12.5,
          14,
          18.5,
          19,
          20,
          21,
          21
         ]
        },
        {
         "line": {
          "color": "blue",
          "width": 1
         },
         "name": "7030CI70",
         "type": "scatter",
         "x": [
          "H1",
          "H2",
          "H3",
          "H4",
          "H5",
          "H6",
          "H7",
          "H8",
          "H9",
          "H10",
          "H11",
          "H12",
          "H13",
          "H14",
          "H15"
         ],
         "y": [
          6.5,
          9,
          9.5,
          10,
          10,
          9.5,
          12,
          13,
          14,
          15.5,
          18.5,
          19,
          20.5,
          21,
          21.5
         ]
        },
        {
         "line": {
          "color": "green",
          "width": 1
         },
         "name": "7030CI71",
         "type": "scatter",
         "x": [
          "H1",
          "H2",
          "H3",
          "H4",
          "H5",
          "H6",
          "H7",
          "H8",
          "H9",
          "H10",
          "H11",
          "H12",
          "H13",
          "H14",
          "H15"
         ],
         "y": [
          10,
          13.5,
          15.5,
          16.5,
          20.5,
          27,
          33,
          38,
          46.5,
          47,
          47,
          47,
          47.5,
          52.5,
          53
         ]
        },
        {
         "line": {
          "color": "green",
          "width": 1
         },
         "name": "7030CI72",
         "type": "scatter",
         "x": [
          "H1",
          "H2",
          "H3",
          "H4",
          "H5",
          "H6",
          "H7",
          "H8",
          "H9",
          "H10",
          "H11",
          "H12",
          "H13",
          "H14",
          "H15"
         ],
         "y": [
          6.5,
          9,
          9.5,
          12,
          17,
          23,
          30,
          35,
          41.5,
          41.5,
          48.5,
          49,
          49.5,
          52.5,
          54
         ]
        },
        {
         "line": {
          "color": "green",
          "width": 1
         },
         "name": "7030CI73",
         "type": "scatter",
         "x": [
          "H1",
          "H2",
          "H3",
          "H4",
          "H5",
          "H6",
          "H7",
          "H8",
          "H9",
          "H10",
          "H11",
          "H12",
          "H13",
          "H14",
          "H15"
         ],
         "y": [
          7.5,
          11.5,
          15,
          21.5,
          28.5,
          38,
          46,
          51,
          60.5,
          62,
          62,
          70,
          71,
          71,
          72
         ]
        },
        {
         "line": {
          "color": "green",
          "width": 1
         },
         "name": "7030CI74",
         "type": "scatter",
         "x": [
          "H1",
          "H2",
          "H3",
          "H4",
          "H5",
          "H6",
          "H7",
          "H8",
          "H9",
          "H10",
          "H11",
          "H12",
          "H13",
          "H14",
          "H15"
         ],
         "y": [
          9,
          9.5,
          9.5,
          12,
          14.5,
          20,
          26,
          33,
          42,
          42,
          42,
          45,
          48,
          49.5,
          49.5
         ]
        },
        {
         "line": {
          "color": "green",
          "width": 1
         },
         "name": "7030CI75",
         "type": "scatter",
         "x": [
          "H1",
          "H2",
          "H3",
          "H4",
          "H5",
          "H6",
          "H7",
          "H8",
          "H9",
          "H10",
          "H11",
          "H12",
          "H13",
          "H14",
          "H15"
         ],
         "y": [
          7.5,
          8.5,
          8.5,
          10,
          10,
          10.5,
          12.5,
          17.5,
          24,
          26.5,
          30,
          30,
          30,
          30,
          42
         ]
        },
        {
         "line": {
          "color": "blue",
          "width": 1
         },
         "name": "7030CI77",
         "type": "scatter",
         "x": [
          "H1",
          "H2",
          "H3",
          "H4",
          "H5",
          "H6",
          "H7",
          "H8",
          "H9",
          "H10",
          "H11",
          "H12",
          "H13",
          "H14",
          "H15"
         ],
         "y": [
          5,
          6,
          6.5,
          6.5,
          6.5,
          7,
          7,
          7.5,
          9.5,
          10.5,
          14.5,
          15.5,
          16.5,
          16.5,
          16.5
         ]
        },
        {
         "line": {
          "color": "blue",
          "width": 1
         },
         "name": "7030CI78",
         "type": "scatter",
         "x": [
          "H1",
          "H2",
          "H3",
          "H4",
          "H5",
          "H6",
          "H7",
          "H8",
          "H9",
          "H10",
          "H11",
          "H12",
          "H13",
          "H14",
          "H15"
         ],
         "y": [
          4,
          4.5,
          5,
          5,
          5,
          7,
          7.5,
          8,
          9,
          11,
          16,
          16,
          17,
          17.5,
          17.5
         ]
        },
        {
         "line": {
          "color": "blue",
          "width": 1
         },
         "name": "7030CI79",
         "type": "scatter",
         "x": [
          "H1",
          "H2",
          "H3",
          "H4",
          "H5",
          "H6",
          "H7",
          "H8",
          "H9",
          "H10",
          "H11",
          "H12",
          "H13",
          "H14",
          "H15"
         ],
         "y": [
          4.5,
          6,
          6,
          8,
          9,
          11,
          11.5,
          12.5,
          15,
          15.5,
          19,
          19.5,
          21.5,
          22.5,
          23
         ]
        },
        {
         "line": {
          "color": "green",
          "width": 1
         },
         "name": "81",
         "type": "scatter",
         "x": [
          "H1",
          "H2",
          "H3",
          "H4",
          "H5",
          "H6",
          "H7",
          "H8",
          "H9",
          "H10",
          "H11",
          "H12",
          "H13",
          "H14",
          "H15"
         ],
         "y": [
          16.5,
          20,
          23.5,
          29.5,
          35,
          42.5,
          51,
          54.5,
          61,
          64,
          66,
          66.5,
          66.5,
          66.5,
          66.5
         ]
        },
        {
         "line": {
          "color": "green",
          "width": 1
         },
         "name": "82",
         "type": "scatter",
         "x": [
          "H1",
          "H2",
          "H3",
          "H4",
          "H5",
          "H6",
          "H7",
          "H8",
          "H9",
          "H10",
          "H11",
          "H12",
          "H13",
          "H14",
          "H15"
         ],
         "y": [
          15,
          20.5,
          27,
          34,
          41,
          48,
          54.5,
          60,
          65.5,
          68,
          74,
          74.5,
          74.5,
          76,
          76
         ]
        },
        {
         "line": {
          "color": "green",
          "width": 1
         },
         "name": "83",
         "type": "scatter",
         "x": [
          "H1",
          "H2",
          "H3",
          "H4",
          "H5",
          "H6",
          "H7",
          "H8",
          "H9",
          "H10",
          "H11",
          "H12",
          "H13",
          "H14",
          "H15"
         ],
         "y": [
          11,
          17,
          21,
          27.5,
          32,
          38,
          44.5,
          48.5,
          50,
          52.5,
          53,
          53,
          53,
          55.5,
          56
         ]
        },
        {
         "line": {
          "color": "green",
          "width": 1
         },
         "name": "84",
         "type": "scatter",
         "x": [
          "H1",
          "H2",
          "H3",
          "H4",
          "H5",
          "H6",
          "H7",
          "H8",
          "H9",
          "H10",
          "H11",
          "H12",
          "H13",
          "H14",
          "H15"
         ],
         "y": [
          17.5,
          25,
          31,
          41.5,
          49,
          58.5,
          65,
          69.5,
          69.5,
          69.5,
          69.5,
          69.5,
          69.5,
          72,
          73
         ]
        },
        {
         "line": {
          "color": "green",
          "width": 1
         },
         "name": "85",
         "type": "scatter",
         "x": [
          "H1",
          "H2",
          "H3",
          "H4",
          "H5",
          "H6",
          "H7",
          "H8",
          "H9",
          "H10",
          "H11",
          "H12",
          "H13",
          "H14",
          "H15"
         ],
         "y": [
          9,
          14.5,
          17.5,
          23.5,
          27,
          34,
          41.5,
          49,
          53,
          53.5,
          53.5,
          53.5,
          54.5,
          54.5,
          54.5
         ]
        },
        {
         "line": {
          "color": "blue",
          "width": 1
         },
         "name": "87",
         "type": "scatter",
         "x": [
          "H1",
          "H2",
          "H3",
          "H4",
          "H5",
          "H6",
          "H7",
          "H8",
          "H9",
          "H10",
          "H11",
          "H12",
          "H13",
          "H14",
          "H15"
         ],
         "y": [
          4,
          5.5,
          6,
          6,
          6,
          7,
          7.5,
          9.5,
          10.5,
          13,
          14,
          14.5,
          15.5,
          16,
          16
         ]
        },
        {
         "line": {
          "color": "blue",
          "width": 1
         },
         "name": "88",
         "type": "scatter",
         "x": [
          "H1",
          "H2",
          "H3",
          "H4",
          "H5",
          "H6",
          "H7",
          "H8",
          "H9",
          "H10",
          "H11",
          "H12",
          "H13",
          "H14",
          "H15"
         ],
         "y": [
          3,
          5,
          5.5,
          5.5,
          5.5,
          5.5,
          7,
          7,
          8.5,
          9.5,
          11.5,
          12,
          12,
          12,
          14.5
         ]
        },
        {
         "line": {
          "color": "green",
          "width": 1
         },
         "name": "89",
         "type": "scatter",
         "x": [
          "H1",
          "H2",
          "H3",
          "H4",
          "H5",
          "H6",
          "H7",
          "H8",
          "H9",
          "H10",
          "H11",
          "H12",
          "H13",
          "H14",
          "H15"
         ],
         "y": [
          6.5,
          9.5,
          10.5,
          12,
          14.5,
          17,
          19,
          21.5,
          25.5,
          26,
          31,
          36,
          36,
          36,
          36
         ]
        },
        {
         "line": {
          "color": "blue",
          "width": 1
         },
         "name": "90",
         "type": "scatter",
         "x": [
          "H1",
          "H2",
          "H3",
          "H4",
          "H5",
          "H6",
          "H7",
          "H8",
          "H9",
          "H10",
          "H11",
          "H12",
          "H13",
          "H14",
          "H15"
         ],
         "y": [
          2.5,
          3.5,
          4,
          4,
          5,
          6,
          7,
          8,
          9,
          9.5,
          12.5,
          12.5,
          13,
          13.5,
          15
         ]
        },
        {
         "line": {
          "color": "blue",
          "width": 1
         },
         "name": "91",
         "type": "scatter",
         "x": [
          "H1",
          "H2",
          "H3",
          "H4",
          "H5",
          "H6",
          "H7",
          "H8",
          "H9",
          "H10",
          "H11",
          "H12",
          "H13",
          "H14",
          "H15"
         ],
         "y": [
          4.5,
          5,
          5,
          5,
          5.5,
          6.5,
          7,
          7.5,
          9,
          9.5,
          12,
          12,
          12.5,
          13,
          13
         ]
        },
        {
         "line": {
          "color": "green",
          "width": 1
         },
         "name": "92",
         "type": "scatter",
         "x": [
          "H1",
          "H2",
          "H3",
          "H4",
          "H5",
          "H6",
          "H7",
          "H8",
          "H9",
          "H10",
          "H11",
          "H12",
          "H13",
          "H14",
          "H15"
         ],
         "y": [
          8,
          11.5,
          14,
          17.5,
          20.5,
          26,
          33.5,
          39,
          46,
          49,
          55,
          56,
          56.5,
          58,
          59
         ]
        },
        {
         "line": {
          "color": "blue",
          "width": 1
         },
         "name": "93",
         "type": "scatter",
         "x": [
          "H1",
          "H2",
          "H3",
          "H4",
          "H5",
          "H6",
          "H7",
          "H8",
          "H9",
          "H10",
          "H11",
          "H12",
          "H13",
          "H14",
          "H15"
         ],
         "y": [
          5.5,
          6.5,
          7.5,
          8.5,
          9,
          10,
          11,
          11.5,
          11.5,
          12.5,
          15,
          15.5,
          16,
          16.5,
          16.5
         ]
        },
        {
         "line": {
          "color": "blue",
          "width": 1
         },
         "name": "94",
         "type": "scatter",
         "x": [
          "H1",
          "H2",
          "H3",
          "H4",
          "H5",
          "H6",
          "H7",
          "H8",
          "H9",
          "H10",
          "H11",
          "H12",
          "H13",
          "H14",
          "H15"
         ],
         "y": [
          4.5,
          5,
          5.5,
          7,
          7,
          9,
          9.5,
          11,
          12,
          13,
          17.5,
          18,
          18,
          19,
          19
         ]
        },
        {
         "line": {
          "color": "blue",
          "width": 1
         },
         "name": "95",
         "type": "scatter",
         "x": [
          "H1",
          "H2",
          "H3",
          "H4",
          "H5",
          "H6",
          "H7",
          "H8",
          "H9",
          "H10",
          "H11",
          "H12",
          "H13",
          "H14",
          "H15"
         ],
         "y": [
          2,
          3.5,
          5,
          5,
          6,
          7,
          7.5,
          8.5,
          9.5,
          10.5,
          11.5,
          12.5,
          13,
          14,
          14
         ]
        },
        {
         "line": {
          "color": "green",
          "width": 1
         },
         "name": "96",
         "type": "scatter",
         "x": [
          "H1",
          "H2",
          "H3",
          "H4",
          "H5",
          "H6",
          "H7",
          "H8",
          "H9",
          "H10",
          "H11",
          "H12",
          "H13",
          "H14",
          "H15"
         ],
         "y": [
          4,
          7.5,
          10,
          14,
          18.5,
          25,
          31.5,
          37.5,
          42,
          43,
          49.5,
          57.5,
          58,
          58.5,
          61
         ]
        },
        {
         "line": {
          "color": "green",
          "width": 1
         },
         "name": "97",
         "type": "scatter",
         "x": [
          "H1",
          "H2",
          "H3",
          "H4",
          "H5",
          "H6",
          "H7",
          "H8",
          "H9",
          "H10",
          "H11",
          "H12",
          "H13",
          "H14",
          "H15"
         ],
         "y": [
          11.5,
          17.5,
          25,
          32.5,
          38,
          45,
          49.5,
          52.5,
          57,
          62,
          62,
          62,
          63,
          63,
          64
         ]
        },
        {
         "line": {
          "color": "blue",
          "width": 1
         },
         "name": "98",
         "type": "scatter",
         "x": [
          "H1",
          "H2",
          "H3",
          "H4",
          "H5",
          "H6",
          "H7",
          "H8",
          "H9",
          "H10",
          "H11",
          "H12",
          "H13",
          "H14",
          "H15"
         ],
         "y": [
          3.5,
          3.5,
          3.5,
          4,
          4.5,
          6,
          6.5,
          7,
          9,
          9.5,
          10.5,
          10.5,
          11,
          11.5,
          12.5
         ]
        },
        {
         "line": {
          "color": "green",
          "width": 1
         },
         "name": "99",
         "type": "scatter",
         "x": [
          "H1",
          "H2",
          "H3",
          "H4",
          "H5",
          "H6",
          "H7",
          "H8",
          "H9",
          "H10",
          "H11",
          "H12",
          "H13",
          "H14",
          "H15"
         ],
         "y": [
          6.5,
          12.5,
          17.5,
          25.5,
          31,
          36,
          38.5,
          43.5,
          47,
          48,
          53,
          61,
          61,
          61,
          65
         ]
        },
        {
         "line": {
          "color": "blue",
          "width": 1
         },
         "name": "100",
         "type": "scatter",
         "x": [
          "H1",
          "H2",
          "H3",
          "H4",
          "H5",
          "H6",
          "H7",
          "H8",
          "H9",
          "H10",
          "H11",
          "H12",
          "H13",
          "H14",
          "H15"
         ],
         "y": [
          3.5,
          4.5,
          4.5,
          5,
          6,
          7,
          7.5,
          8,
          9.5,
          10,
          11.5,
          12,
          12,
          12.5,
          13
         ]
        }
       ],
       "layout": {
        "template": {
         "data": {
          "bar": [
           {
            "error_x": {
             "color": "#2a3f5f"
            },
            "error_y": {
             "color": "#2a3f5f"
            },
            "marker": {
             "line": {
              "color": "#E5ECF6",
              "width": 0.5
             },
             "pattern": {
              "fillmode": "overlay",
              "size": 10,
              "solidity": 0.2
             }
            },
            "type": "bar"
           }
          ],
          "barpolar": [
           {
            "marker": {
             "line": {
              "color": "#E5ECF6",
              "width": 0.5
             },
             "pattern": {
              "fillmode": "overlay",
              "size": 10,
              "solidity": 0.2
             }
            },
            "type": "barpolar"
           }
          ],
          "carpet": [
           {
            "aaxis": {
             "endlinecolor": "#2a3f5f",
             "gridcolor": "white",
             "linecolor": "white",
             "minorgridcolor": "white",
             "startlinecolor": "#2a3f5f"
            },
            "baxis": {
             "endlinecolor": "#2a3f5f",
             "gridcolor": "white",
             "linecolor": "white",
             "minorgridcolor": "white",
             "startlinecolor": "#2a3f5f"
            },
            "type": "carpet"
           }
          ],
          "choropleth": [
           {
            "colorbar": {
             "outlinewidth": 0,
             "ticks": ""
            },
            "type": "choropleth"
           }
          ],
          "contour": [
           {
            "colorbar": {
             "outlinewidth": 0,
             "ticks": ""
            },
            "colorscale": [
             [
              0,
              "#0d0887"
             ],
             [
              0.1111111111111111,
              "#46039f"
             ],
             [
              0.2222222222222222,
              "#7201a8"
             ],
             [
              0.3333333333333333,
              "#9c179e"
             ],
             [
              0.4444444444444444,
              "#bd3786"
             ],
             [
              0.5555555555555556,
              "#d8576b"
             ],
             [
              0.6666666666666666,
              "#ed7953"
             ],
             [
              0.7777777777777778,
              "#fb9f3a"
             ],
             [
              0.8888888888888888,
              "#fdca26"
             ],
             [
              1,
              "#f0f921"
             ]
            ],
            "type": "contour"
           }
          ],
          "contourcarpet": [
           {
            "colorbar": {
             "outlinewidth": 0,
             "ticks": ""
            },
            "type": "contourcarpet"
           }
          ],
          "heatmap": [
           {
            "colorbar": {
             "outlinewidth": 0,
             "ticks": ""
            },
            "colorscale": [
             [
              0,
              "#0d0887"
             ],
             [
              0.1111111111111111,
              "#46039f"
             ],
             [
              0.2222222222222222,
              "#7201a8"
             ],
             [
              0.3333333333333333,
              "#9c179e"
             ],
             [
              0.4444444444444444,
              "#bd3786"
             ],
             [
              0.5555555555555556,
              "#d8576b"
             ],
             [
              0.6666666666666666,
              "#ed7953"
             ],
             [
              0.7777777777777778,
              "#fb9f3a"
             ],
             [
              0.8888888888888888,
              "#fdca26"
             ],
             [
              1,
              "#f0f921"
             ]
            ],
            "type": "heatmap"
           }
          ],
          "heatmapgl": [
           {
            "colorbar": {
             "outlinewidth": 0,
             "ticks": ""
            },
            "colorscale": [
             [
              0,
              "#0d0887"
             ],
             [
              0.1111111111111111,
              "#46039f"
             ],
             [
              0.2222222222222222,
              "#7201a8"
             ],
             [
              0.3333333333333333,
              "#9c179e"
             ],
             [
              0.4444444444444444,
              "#bd3786"
             ],
             [
              0.5555555555555556,
              "#d8576b"
             ],
             [
              0.6666666666666666,
              "#ed7953"
             ],
             [
              0.7777777777777778,
              "#fb9f3a"
             ],
             [
              0.8888888888888888,
              "#fdca26"
             ],
             [
              1,
              "#f0f921"
             ]
            ],
            "type": "heatmapgl"
           }
          ],
          "histogram": [
           {
            "marker": {
             "pattern": {
              "fillmode": "overlay",
              "size": 10,
              "solidity": 0.2
             }
            },
            "type": "histogram"
           }
          ],
          "histogram2d": [
           {
            "colorbar": {
             "outlinewidth": 0,
             "ticks": ""
            },
            "colorscale": [
             [
              0,
              "#0d0887"
             ],
             [
              0.1111111111111111,
              "#46039f"
             ],
             [
              0.2222222222222222,
              "#7201a8"
             ],
             [
              0.3333333333333333,
              "#9c179e"
             ],
             [
              0.4444444444444444,
              "#bd3786"
             ],
             [
              0.5555555555555556,
              "#d8576b"
             ],
             [
              0.6666666666666666,
              "#ed7953"
             ],
             [
              0.7777777777777778,
              "#fb9f3a"
             ],
             [
              0.8888888888888888,
              "#fdca26"
             ],
             [
              1,
              "#f0f921"
             ]
            ],
            "type": "histogram2d"
           }
          ],
          "histogram2dcontour": [
           {
            "colorbar": {
             "outlinewidth": 0,
             "ticks": ""
            },
            "colorscale": [
             [
              0,
              "#0d0887"
             ],
             [
              0.1111111111111111,
              "#46039f"
             ],
             [
              0.2222222222222222,
              "#7201a8"
             ],
             [
              0.3333333333333333,
              "#9c179e"
             ],
             [
              0.4444444444444444,
              "#bd3786"
             ],
             [
              0.5555555555555556,
              "#d8576b"
             ],
             [
              0.6666666666666666,
              "#ed7953"
             ],
             [
              0.7777777777777778,
              "#fb9f3a"
             ],
             [
              0.8888888888888888,
              "#fdca26"
             ],
             [
              1,
              "#f0f921"
             ]
            ],
            "type": "histogram2dcontour"
           }
          ],
          "mesh3d": [
           {
            "colorbar": {
             "outlinewidth": 0,
             "ticks": ""
            },
            "type": "mesh3d"
           }
          ],
          "parcoords": [
           {
            "line": {
             "colorbar": {
              "outlinewidth": 0,
              "ticks": ""
             }
            },
            "type": "parcoords"
           }
          ],
          "pie": [
           {
            "automargin": true,
            "type": "pie"
           }
          ],
          "scatter": [
           {
            "fillpattern": {
             "fillmode": "overlay",
             "size": 10,
             "solidity": 0.2
            },
            "type": "scatter"
           }
          ],
          "scatter3d": [
           {
            "line": {
             "colorbar": {
              "outlinewidth": 0,
              "ticks": ""
             }
            },
            "marker": {
             "colorbar": {
              "outlinewidth": 0,
              "ticks": ""
             }
            },
            "type": "scatter3d"
           }
          ],
          "scattercarpet": [
           {
            "marker": {
             "colorbar": {
              "outlinewidth": 0,
              "ticks": ""
             }
            },
            "type": "scattercarpet"
           }
          ],
          "scattergeo": [
           {
            "marker": {
             "colorbar": {
              "outlinewidth": 0,
              "ticks": ""
             }
            },
            "type": "scattergeo"
           }
          ],
          "scattergl": [
           {
            "marker": {
             "colorbar": {
              "outlinewidth": 0,
              "ticks": ""
             }
            },
            "type": "scattergl"
           }
          ],
          "scattermapbox": [
           {
            "marker": {
             "colorbar": {
              "outlinewidth": 0,
              "ticks": ""
             }
            },
            "type": "scattermapbox"
           }
          ],
          "scatterpolar": [
           {
            "marker": {
             "colorbar": {
              "outlinewidth": 0,
              "ticks": ""
             }
            },
            "type": "scatterpolar"
           }
          ],
          "scatterpolargl": [
           {
            "marker": {
             "colorbar": {
              "outlinewidth": 0,
              "ticks": ""
             }
            },
            "type": "scatterpolargl"
           }
          ],
          "scatterternary": [
           {
            "marker": {
             "colorbar": {
              "outlinewidth": 0,
              "ticks": ""
             }
            },
            "type": "scatterternary"
           }
          ],
          "surface": [
           {
            "colorbar": {
             "outlinewidth": 0,
             "ticks": ""
            },
            "colorscale": [
             [
              0,
              "#0d0887"
             ],
             [
              0.1111111111111111,
              "#46039f"
             ],
             [
              0.2222222222222222,
              "#7201a8"
             ],
             [
              0.3333333333333333,
              "#9c179e"
             ],
             [
              0.4444444444444444,
              "#bd3786"
             ],
             [
              0.5555555555555556,
              "#d8576b"
             ],
             [
              0.6666666666666666,
              "#ed7953"
             ],
             [
              0.7777777777777778,
              "#fb9f3a"
             ],
             [
              0.8888888888888888,
              "#fdca26"
             ],
             [
              1,
              "#f0f921"
             ]
            ],
            "type": "surface"
           }
          ],
          "table": [
           {
            "cells": {
             "fill": {
              "color": "#EBF0F8"
             },
             "line": {
              "color": "white"
             }
            },
            "header": {
             "fill": {
              "color": "#C8D4E3"
             },
             "line": {
              "color": "white"
             }
            },
            "type": "table"
           }
          ]
         },
         "layout": {
          "annotationdefaults": {
           "arrowcolor": "#2a3f5f",
           "arrowhead": 0,
           "arrowwidth": 1
          },
          "autotypenumbers": "strict",
          "coloraxis": {
           "colorbar": {
            "outlinewidth": 0,
            "ticks": ""
           }
          },
          "colorscale": {
           "diverging": [
            [
             0,
             "#8e0152"
            ],
            [
             0.1,
             "#c51b7d"
            ],
            [
             0.2,
             "#de77ae"
            ],
            [
             0.3,
             "#f1b6da"
            ],
            [
             0.4,
             "#fde0ef"
            ],
            [
             0.5,
             "#f7f7f7"
            ],
            [
             0.6,
             "#e6f5d0"
            ],
            [
             0.7,
             "#b8e186"
            ],
            [
             0.8,
             "#7fbc41"
            ],
            [
             0.9,
             "#4d9221"
            ],
            [
             1,
             "#276419"
            ]
           ],
           "sequential": [
            [
             0,
             "#0d0887"
            ],
            [
             0.1111111111111111,
             "#46039f"
            ],
            [
             0.2222222222222222,
             "#7201a8"
            ],
            [
             0.3333333333333333,
             "#9c179e"
            ],
            [
             0.4444444444444444,
             "#bd3786"
            ],
            [
             0.5555555555555556,
             "#d8576b"
            ],
            [
             0.6666666666666666,
             "#ed7953"
            ],
            [
             0.7777777777777778,
             "#fb9f3a"
            ],
            [
             0.8888888888888888,
             "#fdca26"
            ],
            [
             1,
             "#f0f921"
            ]
           ],
           "sequentialminus": [
            [
             0,
             "#0d0887"
            ],
            [
             0.1111111111111111,
             "#46039f"
            ],
            [
             0.2222222222222222,
             "#7201a8"
            ],
            [
             0.3333333333333333,
             "#9c179e"
            ],
            [
             0.4444444444444444,
             "#bd3786"
            ],
            [
             0.5555555555555556,
             "#d8576b"
            ],
            [
             0.6666666666666666,
             "#ed7953"
            ],
            [
             0.7777777777777778,
             "#fb9f3a"
            ],
            [
             0.8888888888888888,
             "#fdca26"
            ],
            [
             1,
             "#f0f921"
            ]
           ]
          },
          "colorway": [
           "#636efa",
           "#EF553B",
           "#00cc96",
           "#ab63fa",
           "#FFA15A",
           "#19d3f3",
           "#FF6692",
           "#B6E880",
           "#FF97FF",
           "#FECB52"
          ],
          "font": {
           "color": "#2a3f5f"
          },
          "geo": {
           "bgcolor": "white",
           "lakecolor": "white",
           "landcolor": "#E5ECF6",
           "showlakes": true,
           "showland": true,
           "subunitcolor": "white"
          },
          "hoverlabel": {
           "align": "left"
          },
          "hovermode": "closest",
          "mapbox": {
           "style": "light"
          },
          "paper_bgcolor": "white",
          "plot_bgcolor": "#E5ECF6",
          "polar": {
           "angularaxis": {
            "gridcolor": "white",
            "linecolor": "white",
            "ticks": ""
           },
           "bgcolor": "#E5ECF6",
           "radialaxis": {
            "gridcolor": "white",
            "linecolor": "white",
            "ticks": ""
           }
          },
          "scene": {
           "xaxis": {
            "backgroundcolor": "#E5ECF6",
            "gridcolor": "white",
            "gridwidth": 2,
            "linecolor": "white",
            "showbackground": true,
            "ticks": "",
            "zerolinecolor": "white"
           },
           "yaxis": {
            "backgroundcolor": "#E5ECF6",
            "gridcolor": "white",
            "gridwidth": 2,
            "linecolor": "white",
            "showbackground": true,
            "ticks": "",
            "zerolinecolor": "white"
           },
           "zaxis": {
            "backgroundcolor": "#E5ECF6",
            "gridcolor": "white",
            "gridwidth": 2,
            "linecolor": "white",
            "showbackground": true,
            "ticks": "",
            "zerolinecolor": "white"
           }
          },
          "shapedefaults": {
           "line": {
            "color": "#2a3f5f"
           }
          },
          "ternary": {
           "aaxis": {
            "gridcolor": "white",
            "linecolor": "white",
            "ticks": ""
           },
           "baxis": {
            "gridcolor": "white",
            "linecolor": "white",
            "ticks": ""
           },
           "bgcolor": "#E5ECF6",
           "caxis": {
            "gridcolor": "white",
            "linecolor": "white",
            "ticks": ""
           }
          },
          "title": {
           "x": 0.05
          },
          "xaxis": {
           "automargin": true,
           "gridcolor": "white",
           "linecolor": "white",
           "ticks": "",
           "title": {
            "standoff": 15
           },
           "zerolinecolor": "white",
           "zerolinewidth": 2
          },
          "yaxis": {
           "automargin": true,
           "gridcolor": "white",
           "linecolor": "white",
           "ticks": "",
           "title": {
            "standoff": 15
           },
           "zerolinecolor": "white",
           "zerolinewidth": 2
          }
         }
        },
        "title": {
         "text": "Crecimiento de plantas a traves de las semanas"
        },
        "xaxis": {
         "title": {
          "text": "Semana"
         }
        },
        "yaxis": {
         "title": {
          "text": "Altura en CM"
         }
        }
       }
      }
     },
     "metadata": {},
     "output_type": "display_data"
    }
   ],
   "source": [
    "\n",
    "fig = go.Figure()\n",
    "\n",
    "for plantaID in df_plants_raw[df_plants_raw[\"Supervivencia \"] == 1][\"ID\"].unique():\n",
    "\n",
    "    planta = df_Plants_Time[df_Plants_Time[\"idPlanta\"] == plantaID]\n",
    "    if planta['Especie'].iloc[0] == \"V. farnesiana\":\n",
    "        fig.add_trace(go.Scatter(x=planta[\"Semana\"], y=planta[\"Altura\"], name=plantaID,\n",
    "                         line = dict(color='green', width=1)))\n",
    "    else:\n",
    "        fig.add_trace(go.Scatter(x=planta[\"Semana\"], y=planta[\"Altura\"], name=plantaID,\n",
    "                         line = dict(color='blue', width=1)))\n",
    "\n",
    "fig.update_layout(title='Crecimiento de plantas a traves de las semanas',\n",
    "                   xaxis_title='Semana',\n",
    "                   yaxis_title='Altura en CM')\n",
    "fig.show()"
   ]
  },
  {
   "cell_type": "code",
   "execution_count": 167,
   "metadata": {},
   "outputs": [
    {
     "data": {
      "text/plain": [
       "array(['C', 'J', 'JI', 'CI', 'SN'], dtype=object)"
      ]
     },
     "execution_count": 167,
     "metadata": {},
     "output_type": "execute_result"
    }
   ],
   "source": [
    "df_plants_raw.Tratamiento.unique()"
   ]
  },
  {
   "cell_type": "code",
   "execution_count": 178,
   "metadata": {},
   "outputs": [
    {
     "data": {
      "application/vnd.plotly.v1+json": {
       "config": {
        "plotlyServerURL": "https://plot.ly"
       },
       "data": [
        {
         "line": {
          "color": "brown",
          "width": 1
         },
         "name": "7030SI1",
         "type": "scatter",
         "x": [
          "H1",
          "H2",
          "H3",
          "H4",
          "H5",
          "H6",
          "H7",
          "H8",
          "H9",
          "H10",
          "H11",
          "H12",
          "H13",
          "H14",
          "H15"
         ],
         "y": [
          6,
          5.5,
          6.5,
          7,
          9,
          10.5,
          13,
          15,
          15.5,
          16,
          16,
          16,
          19,
          19,
          19.5
         ]
        },
        {
         "line": {
          "color": "brown",
          "width": 1
         },
         "name": "7030SI2",
         "type": "scatter",
         "x": [
          "H1",
          "H2",
          "H3",
          "H4",
          "H5",
          "H6",
          "H7",
          "H8",
          "H9",
          "H10",
          "H11",
          "H12",
          "H13",
          "H14",
          "H15"
         ],
         "y": [
          4,
          7,
          9.5,
          12,
          16,
          21,
          27,
          32.5,
          37.5,
          42,
          45,
          45,
          45.5,
          46,
          59
         ]
        },
        {
         "line": {
          "color": "brown",
          "width": 1
         },
         "name": "7030SI4",
         "type": "scatter",
         "x": [
          "H1",
          "H2",
          "H3",
          "H4",
          "H5",
          "H6",
          "H7",
          "H8",
          "H9",
          "H10",
          "H11",
          "H12",
          "H13",
          "H14",
          "H15"
         ],
         "y": [
          5.5,
          6,
          7,
          8,
          9.5,
          12,
          15.5,
          19.5,
          26,
          32,
          35,
          34.5,
          31,
          31,
          33
         ]
        },
        {
         "line": {
          "color": "brown",
          "width": 1
         },
         "name": "7030SI5",
         "type": "scatter",
         "x": [
          "H1",
          "H2",
          "H3",
          "H4",
          "H5",
          "H6",
          "H7",
          "H8",
          "H9",
          "H10",
          "H11",
          "H12",
          "H13",
          "H14",
          "H15"
         ],
         "y": [
          4,
          5.5,
          5.5,
          6.5,
          7.5,
          9.5,
          10.5,
          10.5,
          12.5,
          13,
          15,
          15.5,
          17.5,
          18,
          18.5
         ]
        },
        {
         "line": {
          "color": "brown",
          "width": 1
         },
         "name": "7030SI8",
         "type": "scatter",
         "x": [
          "H1",
          "H2",
          "H3",
          "H4",
          "H5",
          "H6",
          "H7",
          "H8",
          "H9",
          "H10",
          "H11",
          "H12",
          "H13",
          "H14",
          "H15"
         ],
         "y": [
          3,
          4,
          4,
          4.5,
          5.5,
          7,
          8,
          9,
          10.5,
          12,
          14,
          14,
          14,
          14.5,
          15.5
         ]
        },
        {
         "line": {
          "color": "brown",
          "width": 1
         },
         "name": "7030SI9",
         "type": "scatter",
         "x": [
          "H1",
          "H2",
          "H3",
          "H4",
          "H5",
          "H6",
          "H7",
          "H8",
          "H9",
          "H10",
          "H11",
          "H12",
          "H13",
          "H14",
          "H15"
         ],
         "y": [
          1.5,
          3,
          3.5,
          4.5,
          4.5,
          7,
          7.5,
          8.5,
          9.5,
          11,
          12.5,
          13,
          13,
          14,
          15
         ]
        },
        {
         "line": {
          "color": "brown",
          "width": 1
         },
         "name": "7030SI10",
         "type": "scatter",
         "x": [
          "H1",
          "H2",
          "H3",
          "H4",
          "H5",
          "H6",
          "H7",
          "H8",
          "H9",
          "H10",
          "H11",
          "H12",
          "H13",
          "H14",
          "H15"
         ],
         "y": [
          2.5,
          4,
          5,
          6.5,
          8,
          10.5,
          13.5,
          15.5,
          21.5,
          26,
          39,
          39,
          39,
          42,
          42
         ]
        },
        {
         "line": {
          "color": "brown",
          "width": 1
         },
         "name": "7030SI11",
         "type": "scatter",
         "x": [
          "H1",
          "H2",
          "H3",
          "H4",
          "H5",
          "H6",
          "H7",
          "H8",
          "H9",
          "H10",
          "H11",
          "H12",
          "H13",
          "H14",
          "H15"
         ],
         "y": [
          3,
          6.5,
          6.5,
          7,
          9,
          11.5,
          15,
          18.5,
          23.5,
          30.5,
          37.5,
          45,
          46.5,
          48,
          49.5
         ]
        },
        {
         "line": {
          "color": "brown",
          "width": 1
         },
         "name": "7030SI12",
         "type": "scatter",
         "x": [
          "H1",
          "H2",
          "H3",
          "H4",
          "H5",
          "H6",
          "H7",
          "H8",
          "H9",
          "H10",
          "H11",
          "H12",
          "H13",
          "H14",
          "H15"
         ],
         "y": [
          8,
          8.5,
          14,
          21,
          28,
          36,
          42,
          46,
          55,
          57.5,
          57,
          57.5,
          57.5,
          57.5,
          57.5
         ]
        },
        {
         "line": {
          "color": "brown",
          "width": 1
         },
         "name": "7030SI13",
         "type": "scatter",
         "x": [
          "H1",
          "H2",
          "H3",
          "H4",
          "H5",
          "H6",
          "H7",
          "H8",
          "H9",
          "H10",
          "H11",
          "H12",
          "H13",
          "H14",
          "H15"
         ],
         "y": [
          4.5,
          4.5,
          4.5,
          5,
          6.5,
          8,
          10.5,
          13.5,
          18,
          22.5,
          29,
          36.5,
          43,
          43,
          43
         ]
        },
        {
         "line": {
          "color": "brown",
          "width": 1
         },
         "name": "7030SI14",
         "type": "scatter",
         "x": [
          "H1",
          "H2",
          "H3",
          "H4",
          "H5",
          "H6",
          "H7",
          "H8",
          "H9",
          "H10",
          "H11",
          "H12",
          "H13",
          "H14",
          "H15"
         ],
         "y": [
          7.5,
          6.5,
          7.5,
          8.5,
          8.5,
          9,
          9,
          10,
          11.5,
          12,
          13,
          14,
          16,
          17.5,
          18
         ]
        },
        {
         "line": {
          "color": "brown",
          "width": 1
         },
         "name": "7030SI15",
         "type": "scatter",
         "x": [
          "H1",
          "H2",
          "H3",
          "H4",
          "H5",
          "H6",
          "H7",
          "H8",
          "H9",
          "H10",
          "H11",
          "H12",
          "H13",
          "H14",
          "H15"
         ],
         "y": [
          6,
          6,
          6.5,
          7.5,
          9,
          10.5,
          10.5,
          12,
          13.5,
          15,
          20,
          23,
          23,
          23,
          24.5
         ]
        },
        {
         "line": {
          "color": "brown",
          "width": 1
         },
         "name": "7030SI16",
         "type": "scatter",
         "x": [
          "H1",
          "H2",
          "H3",
          "H4",
          "H5",
          "H6",
          "H7",
          "H8",
          "H9",
          "H10",
          "H11",
          "H12",
          "H13",
          "H14",
          "H15"
         ],
         "y": [
          4,
          5.5,
          6,
          6.5,
          7.5,
          9,
          9.5,
          10.5,
          12,
          13,
          16,
          16,
          16.5,
          17.5,
          18
         ]
        },
        {
         "line": {
          "color": "brown",
          "width": 1
         },
         "name": "7030SI17",
         "type": "scatter",
         "x": [
          "H1",
          "H2",
          "H3",
          "H4",
          "H5",
          "H6",
          "H7",
          "H8",
          "H9",
          "H10",
          "H11",
          "H12",
          "H13",
          "H14",
          "H15"
         ],
         "y": [
          3.5,
          5.5,
          5.5,
          7,
          7.5,
          9,
          10.5,
          12,
          14,
          16,
          22,
          22,
          22,
          22,
          24.5
         ]
        },
        {
         "line": {
          "color": "brown",
          "width": 1
         },
         "name": "7030SI18",
         "type": "scatter",
         "x": [
          "H1",
          "H2",
          "H3",
          "H4",
          "H5",
          "H6",
          "H7",
          "H8",
          "H9",
          "H10",
          "H11",
          "H12",
          "H13",
          "H14",
          "H15"
         ],
         "y": [
          3.5,
          2.5,
          3,
          4.5,
          6,
          8,
          9.5,
          11,
          13,
          14.5,
          15.5,
          16,
          17.5,
          18,
          19
         ]
        },
        {
         "line": {
          "color": "brown",
          "width": 1
         },
         "name": "7030SI19",
         "type": "scatter",
         "x": [
          "H1",
          "H2",
          "H3",
          "H4",
          "H5",
          "H6",
          "H7",
          "H8",
          "H9",
          "H10",
          "H11",
          "H12",
          "H13",
          "H14",
          "H15"
         ],
         "y": [
          2.5,
          4.5,
          5,
          5,
          5,
          7.5,
          11.5,
          16.5,
          19.5,
          23,
          29,
          29,
          28,
          28,
          37
         ]
        },
        {
         "line": {
          "color": "brown",
          "width": 1
         },
         "name": "7030SI20",
         "type": "scatter",
         "x": [
          "H1",
          "H2",
          "H3",
          "H4",
          "H5",
          "H6",
          "H7",
          "H8",
          "H9",
          "H10",
          "H11",
          "H12",
          "H13",
          "H14",
          "H15"
         ],
         "y": [
          5.5,
          6,
          6.5,
          7,
          8.5,
          10,
          13.5,
          17.5,
          20,
          24.5,
          31,
          31.5,
          31.5,
          32,
          33
         ]
        },
        {
         "line": {
          "color": "gray",
          "width": 1
         },
         "name": "100SI21",
         "type": "scatter",
         "x": [
          "H1",
          "H2",
          "H3",
          "H4",
          "H5",
          "H6",
          "H7",
          "H8",
          "H9",
          "H10",
          "H11",
          "H12",
          "H13",
          "H14",
          "H15"
         ],
         "y": [
          5.5,
          8,
          8,
          9.5,
          9.5,
          10.5,
          10.5,
          10.5,
          10.5,
          10.5,
          11.5,
          11.5,
          10,
          10,
          10
         ]
        },
        {
         "line": {
          "color": "gray",
          "width": 1
         },
         "name": "100SI22",
         "type": "scatter",
         "x": [
          "H1",
          "H2",
          "H3",
          "H4",
          "H5",
          "H6",
          "H7",
          "H8",
          "H9",
          "H10",
          "H11",
          "H12",
          "H13",
          "H14",
          "H15"
         ],
         "y": [
          2,
          3,
          3,
          3,
          4,
          4,
          4,
          5,
          5,
          5,
          6,
          6,
          6,
          6.5,
          6.5
         ]
        },
        {
         "line": {
          "color": "gray",
          "width": 1
         },
         "name": "100SI23",
         "type": "scatter",
         "x": [
          "H1",
          "H2",
          "H3",
          "H4",
          "H5",
          "H6",
          "H7",
          "H8",
          "H9",
          "H10",
          "H11",
          "H12",
          "H13",
          "H14",
          "H15"
         ],
         "y": [
          2,
          3,
          3,
          3,
          3.5,
          3.5,
          3.5,
          4,
          4,
          4.5,
          5,
          5,
          5,
          6,
          6
         ]
        },
        {
         "line": {
          "color": "gray",
          "width": 1
         },
         "name": "100SI28",
         "type": "scatter",
         "x": [
          "H1",
          "H2",
          "H3",
          "H4",
          "H5",
          "H6",
          "H7",
          "H8",
          "H9",
          "H10",
          "H11",
          "H12",
          "H13",
          "H14",
          "H15"
         ],
         "y": [
          6,
          7,
          7,
          7,
          7,
          7,
          7,
          7,
          7,
          7,
          6,
          6,
          5.5,
          6,
          6
         ]
        },
        {
         "line": {
          "color": "gray",
          "width": 1
         },
         "name": "100SI30",
         "type": "scatter",
         "x": [
          "H1",
          "H2",
          "H3",
          "H4",
          "H5",
          "H6",
          "H7",
          "H8",
          "H9",
          "H10",
          "H11",
          "H12",
          "H13",
          "H14",
          "H15"
         ],
         "y": [
          7,
          6.5,
          7,
          8,
          8.5,
          9,
          9.5,
          10.5,
          10.5,
          11.5,
          19.5,
          12,
          11,
          11,
          11.5
         ]
        },
        {
         "line": {
          "color": "gray",
          "width": 1
         },
         "name": "100SI33",
         "type": "scatter",
         "x": [
          "H1",
          "H2",
          "H3",
          "H4",
          "H5",
          "H6",
          "H7",
          "H8",
          "H9",
          "H10",
          "H11",
          "H12",
          "H13",
          "H14",
          "H15"
         ],
         "y": [
          2,
          3,
          3,
          3,
          3,
          3.5,
          3.5,
          4,
          4.5,
          4.5,
          5,
          5,
          5.5,
          6.5,
          6.5
         ]
        },
        {
         "line": {
          "color": "gray",
          "width": 1
         },
         "name": "100SI35",
         "type": "scatter",
         "x": [
          "H1",
          "H2",
          "H3",
          "H4",
          "H5",
          "H6",
          "H7",
          "H8",
          "H9",
          "H10",
          "H11",
          "H12",
          "H13",
          "H14",
          "H15"
         ],
         "y": [
          5,
          6.5,
          6.5,
          7,
          7.5,
          8,
          8.5,
          9.5,
          9.5,
          9.5,
          10.5,
          10.5,
          11,
          11.5,
          11
         ]
        },
        {
         "line": {
          "color": "gray",
          "width": 1
         },
         "name": "100SI38",
         "type": "scatter",
         "x": [
          "H1",
          "H2",
          "H3",
          "H4",
          "H5",
          "H6",
          "H7",
          "H8",
          "H9",
          "H10",
          "H11",
          "H12",
          "H13",
          "H14",
          "H15"
         ],
         "y": [
          5.5,
          8,
          8,
          9.5,
          9.5,
          10,
          10.5,
          11.5,
          11.5,
          12,
          13.5,
          13.5,
          14,
          14,
          14
         ]
        },
        {
         "line": {
          "color": "gray",
          "width": 1
         },
         "name": "100SI39",
         "type": "scatter",
         "x": [
          "H1",
          "H2",
          "H3",
          "H4",
          "H5",
          "H6",
          "H7",
          "H8",
          "H9",
          "H10",
          "H11",
          "H12",
          "H13",
          "H14",
          "H15"
         ],
         "y": [
          8.5,
          8,
          8,
          8.5,
          8.5,
          8.5,
          9,
          9,
          9,
          9.5,
          9,
          9.5,
          9.5,
          10,
          11
         ]
        },
        {
         "line": {
          "color": "black",
          "width": 1
         },
         "name": "100CI42",
         "type": "scatter",
         "x": [
          "H1",
          "H2",
          "H3",
          "H4",
          "H5",
          "H6",
          "H7",
          "H8",
          "H9",
          "H10",
          "H11",
          "H12",
          "H13",
          "H14",
          "H15"
         ],
         "y": [
          5.5,
          6,
          6.5,
          7,
          7,
          8.5,
          9,
          9,
          10,
          10,
          10,
          11,
          10,
          10.5,
          10.5
         ]
        },
        {
         "line": {
          "color": "black",
          "width": 1
         },
         "name": "100CI43",
         "type": "scatter",
         "x": [
          "H1",
          "H2",
          "H3",
          "H4",
          "H5",
          "H6",
          "H7",
          "H8",
          "H9",
          "H10",
          "H11",
          "H12",
          "H13",
          "H14",
          "H15"
         ],
         "y": [
          3.5,
          6.5,
          6.5,
          7,
          7,
          7.5,
          7.5,
          8,
          8.5,
          8.5,
          9,
          9,
          8.5,
          9,
          10
         ]
        },
        {
         "line": {
          "color": "black",
          "width": 1
         },
         "name": "100CI45",
         "type": "scatter",
         "x": [
          "H1",
          "H2",
          "H3",
          "H4",
          "H5",
          "H6",
          "H7",
          "H8",
          "H9",
          "H10",
          "H11",
          "H12",
          "H13",
          "H14",
          "H15"
         ],
         "y": [
          5,
          7.5,
          8,
          8.5,
          9,
          9.5,
          10,
          10.5,
          11,
          11.5,
          11.5,
          11.5,
          10.5,
          10.5,
          10
         ]
        },
        {
         "line": {
          "color": "black",
          "width": 1
         },
         "name": "100CI48",
         "type": "scatter",
         "x": [
          "H1",
          "H2",
          "H3",
          "H4",
          "H5",
          "H6",
          "H7",
          "H8",
          "H9",
          "H10",
          "H11",
          "H12",
          "H13",
          "H14",
          "H15"
         ],
         "y": [
          3.5,
          4,
          4,
          4,
          4,
          null,
          4,
          4.5,
          5,
          5,
          5,
          5,
          5,
          5,
          5.5
         ]
        },
        {
         "line": {
          "color": "black",
          "width": 1
         },
         "name": "100CI52",
         "type": "scatter",
         "x": [
          "H1",
          "H2",
          "H3",
          "H4",
          "H5",
          "H6",
          "H7",
          "H8",
          "H9",
          "H10",
          "H11",
          "H12",
          "H13",
          "H14",
          "H15"
         ],
         "y": [
          4,
          4.5,
          5,
          5,
          5.5,
          5.5,
          6.5,
          6.5,
          7,
          7,
          7.5,
          7.5,
          7.5,
          7.5,
          7.5
         ]
        },
        {
         "line": {
          "color": "black",
          "width": 1
         },
         "name": "100CI58",
         "type": "scatter",
         "x": [
          "H1",
          "H2",
          "H3",
          "H4",
          "H5",
          "H6",
          "H7",
          "H8",
          "H9",
          "H10",
          "H11",
          "H12",
          "H13",
          "H14",
          "H15"
         ],
         "y": [
          2.5,
          2.5,
          2.5,
          2.5,
          2.5,
          2.5,
          2.5,
          3.5,
          3.5,
          3.5,
          3.5,
          3.5,
          4,
          4,
          4
         ]
        },
        {
         "line": {
          "color": "black",
          "width": 1
         },
         "name": "100CI60",
         "type": "scatter",
         "x": [
          "H1",
          "H2",
          "H3",
          "H4",
          "H5",
          "H6",
          "H7",
          "H8",
          "H9",
          "H10",
          "H11",
          "H12",
          "H13",
          "H14",
          "H15"
         ],
         "y": [
          2,
          2.5,
          3.5,
          3.5,
          3.5,
          3.5,
          3.5,
          4,
          4,
          4,
          4,
          4,
          4.5,
          4.5,
          4.5
         ]
        },
        {
         "line": {
          "color": "orange",
          "width": 1
         },
         "name": "7030CI61",
         "type": "scatter",
         "x": [
          "H1",
          "H2",
          "H3",
          "H4",
          "H5",
          "H6",
          "H7",
          "H8",
          "H9",
          "H10",
          "H11",
          "H12",
          "H13",
          "H14",
          "H15"
         ],
         "y": [
          6,
          10,
          13.5,
          19.5,
          22.5,
          32,
          38,
          42.5,
          48,
          48,
          55,
          55,
          55,
          55,
          55
         ]
        },
        {
         "line": {
          "color": "orange",
          "width": 1
         },
         "name": "7030CI62",
         "type": "scatter",
         "x": [
          "H1",
          "H2",
          "H3",
          "H4",
          "H5",
          "H6",
          "H7",
          "H8",
          "H9",
          "H10",
          "H11",
          "H12",
          "H13",
          "H14",
          "H15"
         ],
         "y": [
          6,
          10.5,
          13.5,
          18,
          22,
          30,
          37,
          43,
          53.5,
          61,
          61,
          61,
          61,
          61,
          61
         ]
        },
        {
         "line": {
          "color": "orange",
          "width": 1
         },
         "name": "7030CI63",
         "type": "scatter",
         "x": [
          "H1",
          "H2",
          "H3",
          "H4",
          "H5",
          "H6",
          "H7",
          "H8",
          "H9",
          "H10",
          "H11",
          "H12",
          "H13",
          "H14",
          "H15"
         ],
         "y": [
          9,
          12.5,
          14,
          16,
          18,
          23,
          26.5,
          30,
          32,
          32,
          32,
          32,
          32,
          32.5,
          42
         ]
        },
        {
         "line": {
          "color": "orange",
          "width": 1
         },
         "name": "7030CI64",
         "type": "scatter",
         "x": [
          "H1",
          "H2",
          "H3",
          "H4",
          "H5",
          "H6",
          "H7",
          "H8",
          "H9",
          "H10",
          "H11",
          "H12",
          "H13",
          "H14",
          "H15"
         ],
         "y": [
          7.5,
          10.5,
          13.5,
          17,
          22,
          28,
          33.5,
          38,
          45,
          48,
          48,
          48,
          48,
          48,
          48
         ]
        },
        {
         "line": {
          "color": "orange",
          "width": 1
         },
         "name": "7030CI65",
         "type": "scatter",
         "x": [
          "H1",
          "H2",
          "H3",
          "H4",
          "H5",
          "H6",
          "H7",
          "H8",
          "H9",
          "H10",
          "H11",
          "H12",
          "H13",
          "H14",
          "H15"
         ],
         "y": [
          7,
          8,
          8,
          8,
          9,
          9.5,
          9.5,
          10.5,
          11,
          11,
          12,
          12,
          10.5,
          11,
          11
         ]
        },
        {
         "line": {
          "color": "orange",
          "width": 1
         },
         "name": "7030CI67",
         "type": "scatter",
         "x": [
          "H1",
          "H2",
          "H3",
          "H4",
          "H5",
          "H6",
          "H7",
          "H8",
          "H9",
          "H10",
          "H11",
          "H12",
          "H13",
          "H14",
          "H15"
         ],
         "y": [
          6.5,
          6.5,
          7.5,
          8.5,
          9.5,
          10,
          10,
          10.5,
          10.5,
          11.5,
          14.5,
          16,
          16,
          16,
          16
         ]
        },
        {
         "line": {
          "color": "orange",
          "width": 1
         },
         "name": "7030CI68",
         "type": "scatter",
         "x": [
          "H1",
          "H2",
          "H3",
          "H4",
          "H5",
          "H6",
          "H7",
          "H8",
          "H9",
          "H10",
          "H11",
          "H12",
          "H13",
          "H14",
          "H15"
         ],
         "y": [
          5,
          7,
          7,
          8.5,
          9,
          9.5,
          10,
          10.5,
          13,
          14,
          18,
          20,
          20,
          21,
          21.5
         ]
        },
        {
         "line": {
          "color": "orange",
          "width": 1
         },
         "name": "7030CI69",
         "type": "scatter",
         "x": [
          "H1",
          "H2",
          "H3",
          "H4",
          "H5",
          "H6",
          "H7",
          "H8",
          "H9",
          "H10",
          "H11",
          "H12",
          "H13",
          "H14",
          "H15"
         ],
         "y": [
          6.5,
          6.5,
          7,
          7.5,
          7.5,
          8,
          8,
          10.5,
          12.5,
          14,
          18.5,
          19,
          20,
          21,
          21
         ]
        },
        {
         "line": {
          "color": "orange",
          "width": 1
         },
         "name": "7030CI70",
         "type": "scatter",
         "x": [
          "H1",
          "H2",
          "H3",
          "H4",
          "H5",
          "H6",
          "H7",
          "H8",
          "H9",
          "H10",
          "H11",
          "H12",
          "H13",
          "H14",
          "H15"
         ],
         "y": [
          6.5,
          9,
          9.5,
          10,
          10,
          9.5,
          12,
          13,
          14,
          15.5,
          18.5,
          19,
          20.5,
          21,
          21.5
         ]
        },
        {
         "line": {
          "color": "orange",
          "width": 1
         },
         "name": "7030CI71",
         "type": "scatter",
         "x": [
          "H1",
          "H2",
          "H3",
          "H4",
          "H5",
          "H6",
          "H7",
          "H8",
          "H9",
          "H10",
          "H11",
          "H12",
          "H13",
          "H14",
          "H15"
         ],
         "y": [
          10,
          13.5,
          15.5,
          16.5,
          20.5,
          27,
          33,
          38,
          46.5,
          47,
          47,
          47,
          47.5,
          52.5,
          53
         ]
        },
        {
         "line": {
          "color": "orange",
          "width": 1
         },
         "name": "7030CI72",
         "type": "scatter",
         "x": [
          "H1",
          "H2",
          "H3",
          "H4",
          "H5",
          "H6",
          "H7",
          "H8",
          "H9",
          "H10",
          "H11",
          "H12",
          "H13",
          "H14",
          "H15"
         ],
         "y": [
          6.5,
          9,
          9.5,
          12,
          17,
          23,
          30,
          35,
          41.5,
          41.5,
          48.5,
          49,
          49.5,
          52.5,
          54
         ]
        },
        {
         "line": {
          "color": "orange",
          "width": 1
         },
         "name": "7030CI73",
         "type": "scatter",
         "x": [
          "H1",
          "H2",
          "H3",
          "H4",
          "H5",
          "H6",
          "H7",
          "H8",
          "H9",
          "H10",
          "H11",
          "H12",
          "H13",
          "H14",
          "H15"
         ],
         "y": [
          7.5,
          11.5,
          15,
          21.5,
          28.5,
          38,
          46,
          51,
          60.5,
          62,
          62,
          70,
          71,
          71,
          72
         ]
        },
        {
         "line": {
          "color": "orange",
          "width": 1
         },
         "name": "7030CI74",
         "type": "scatter",
         "x": [
          "H1",
          "H2",
          "H3",
          "H4",
          "H5",
          "H6",
          "H7",
          "H8",
          "H9",
          "H10",
          "H11",
          "H12",
          "H13",
          "H14",
          "H15"
         ],
         "y": [
          9,
          9.5,
          9.5,
          12,
          14.5,
          20,
          26,
          33,
          42,
          42,
          42,
          45,
          48,
          49.5,
          49.5
         ]
        },
        {
         "line": {
          "color": "orange",
          "width": 1
         },
         "name": "7030CI75",
         "type": "scatter",
         "x": [
          "H1",
          "H2",
          "H3",
          "H4",
          "H5",
          "H6",
          "H7",
          "H8",
          "H9",
          "H10",
          "H11",
          "H12",
          "H13",
          "H14",
          "H15"
         ],
         "y": [
          7.5,
          8.5,
          8.5,
          10,
          10,
          10.5,
          12.5,
          17.5,
          24,
          26.5,
          30,
          30,
          30,
          30,
          42
         ]
        },
        {
         "line": {
          "color": "orange",
          "width": 1
         },
         "name": "7030CI77",
         "type": "scatter",
         "x": [
          "H1",
          "H2",
          "H3",
          "H4",
          "H5",
          "H6",
          "H7",
          "H8",
          "H9",
          "H10",
          "H11",
          "H12",
          "H13",
          "H14",
          "H15"
         ],
         "y": [
          5,
          6,
          6.5,
          6.5,
          6.5,
          7,
          7,
          7.5,
          9.5,
          10.5,
          14.5,
          15.5,
          16.5,
          16.5,
          16.5
         ]
        },
        {
         "line": {
          "color": "orange",
          "width": 1
         },
         "name": "7030CI78",
         "type": "scatter",
         "x": [
          "H1",
          "H2",
          "H3",
          "H4",
          "H5",
          "H6",
          "H7",
          "H8",
          "H9",
          "H10",
          "H11",
          "H12",
          "H13",
          "H14",
          "H15"
         ],
         "y": [
          4,
          4.5,
          5,
          5,
          5,
          7,
          7.5,
          8,
          9,
          11,
          16,
          16,
          17,
          17.5,
          17.5
         ]
        },
        {
         "line": {
          "color": "orange",
          "width": 1
         },
         "name": "7030CI79",
         "type": "scatter",
         "x": [
          "H1",
          "H2",
          "H3",
          "H4",
          "H5",
          "H6",
          "H7",
          "H8",
          "H9",
          "H10",
          "H11",
          "H12",
          "H13",
          "H14",
          "H15"
         ],
         "y": [
          4.5,
          6,
          6,
          8,
          9,
          11,
          11.5,
          12.5,
          15,
          15.5,
          19,
          19.5,
          21.5,
          22.5,
          23
         ]
        },
        {
         "line": {
          "color": "violet",
          "width": 1
         },
         "name": "81",
         "type": "scatter",
         "x": [
          "H1",
          "H2",
          "H3",
          "H4",
          "H5",
          "H6",
          "H7",
          "H8",
          "H9",
          "H10",
          "H11",
          "H12",
          "H13",
          "H14",
          "H15"
         ],
         "y": [
          16.5,
          20,
          23.5,
          29.5,
          35,
          42.5,
          51,
          54.5,
          61,
          64,
          66,
          66.5,
          66.5,
          66.5,
          66.5
         ]
        },
        {
         "line": {
          "color": "violet",
          "width": 1
         },
         "name": "82",
         "type": "scatter",
         "x": [
          "H1",
          "H2",
          "H3",
          "H4",
          "H5",
          "H6",
          "H7",
          "H8",
          "H9",
          "H10",
          "H11",
          "H12",
          "H13",
          "H14",
          "H15"
         ],
         "y": [
          15,
          20.5,
          27,
          34,
          41,
          48,
          54.5,
          60,
          65.5,
          68,
          74,
          74.5,
          74.5,
          76,
          76
         ]
        },
        {
         "line": {
          "color": "violet",
          "width": 1
         },
         "name": "83",
         "type": "scatter",
         "x": [
          "H1",
          "H2",
          "H3",
          "H4",
          "H5",
          "H6",
          "H7",
          "H8",
          "H9",
          "H10",
          "H11",
          "H12",
          "H13",
          "H14",
          "H15"
         ],
         "y": [
          11,
          17,
          21,
          27.5,
          32,
          38,
          44.5,
          48.5,
          50,
          52.5,
          53,
          53,
          53,
          55.5,
          56
         ]
        },
        {
         "line": {
          "color": "violet",
          "width": 1
         },
         "name": "84",
         "type": "scatter",
         "x": [
          "H1",
          "H2",
          "H3",
          "H4",
          "H5",
          "H6",
          "H7",
          "H8",
          "H9",
          "H10",
          "H11",
          "H12",
          "H13",
          "H14",
          "H15"
         ],
         "y": [
          17.5,
          25,
          31,
          41.5,
          49,
          58.5,
          65,
          69.5,
          69.5,
          69.5,
          69.5,
          69.5,
          69.5,
          72,
          73
         ]
        },
        {
         "line": {
          "color": "violet",
          "width": 1
         },
         "name": "85",
         "type": "scatter",
         "x": [
          "H1",
          "H2",
          "H3",
          "H4",
          "H5",
          "H6",
          "H7",
          "H8",
          "H9",
          "H10",
          "H11",
          "H12",
          "H13",
          "H14",
          "H15"
         ],
         "y": [
          9,
          14.5,
          17.5,
          23.5,
          27,
          34,
          41.5,
          49,
          53,
          53.5,
          53.5,
          53.5,
          54.5,
          54.5,
          54.5
         ]
        },
        {
         "line": {
          "color": "violet",
          "width": 1
         },
         "name": "87",
         "type": "scatter",
         "x": [
          "H1",
          "H2",
          "H3",
          "H4",
          "H5",
          "H6",
          "H7",
          "H8",
          "H9",
          "H10",
          "H11",
          "H12",
          "H13",
          "H14",
          "H15"
         ],
         "y": [
          4,
          5.5,
          6,
          6,
          6,
          7,
          7.5,
          9.5,
          10.5,
          13,
          14,
          14.5,
          15.5,
          16,
          16
         ]
        },
        {
         "line": {
          "color": "violet",
          "width": 1
         },
         "name": "88",
         "type": "scatter",
         "x": [
          "H1",
          "H2",
          "H3",
          "H4",
          "H5",
          "H6",
          "H7",
          "H8",
          "H9",
          "H10",
          "H11",
          "H12",
          "H13",
          "H14",
          "H15"
         ],
         "y": [
          3,
          5,
          5.5,
          5.5,
          5.5,
          5.5,
          7,
          7,
          8.5,
          9.5,
          11.5,
          12,
          12,
          12,
          14.5
         ]
        },
        {
         "line": {
          "color": "violet",
          "width": 1
         },
         "name": "89",
         "type": "scatter",
         "x": [
          "H1",
          "H2",
          "H3",
          "H4",
          "H5",
          "H6",
          "H7",
          "H8",
          "H9",
          "H10",
          "H11",
          "H12",
          "H13",
          "H14",
          "H15"
         ],
         "y": [
          6.5,
          9.5,
          10.5,
          12,
          14.5,
          17,
          19,
          21.5,
          25.5,
          26,
          31,
          36,
          36,
          36,
          36
         ]
        },
        {
         "line": {
          "color": "violet",
          "width": 1
         },
         "name": "90",
         "type": "scatter",
         "x": [
          "H1",
          "H2",
          "H3",
          "H4",
          "H5",
          "H6",
          "H7",
          "H8",
          "H9",
          "H10",
          "H11",
          "H12",
          "H13",
          "H14",
          "H15"
         ],
         "y": [
          2.5,
          3.5,
          4,
          4,
          5,
          6,
          7,
          8,
          9,
          9.5,
          12.5,
          12.5,
          13,
          13.5,
          15
         ]
        },
        {
         "line": {
          "color": "violet",
          "width": 1
         },
         "name": "91",
         "type": "scatter",
         "x": [
          "H1",
          "H2",
          "H3",
          "H4",
          "H5",
          "H6",
          "H7",
          "H8",
          "H9",
          "H10",
          "H11",
          "H12",
          "H13",
          "H14",
          "H15"
         ],
         "y": [
          4.5,
          5,
          5,
          5,
          5.5,
          6.5,
          7,
          7.5,
          9,
          9.5,
          12,
          12,
          12.5,
          13,
          13
         ]
        },
        {
         "line": {
          "color": "violet",
          "width": 1
         },
         "name": "92",
         "type": "scatter",
         "x": [
          "H1",
          "H2",
          "H3",
          "H4",
          "H5",
          "H6",
          "H7",
          "H8",
          "H9",
          "H10",
          "H11",
          "H12",
          "H13",
          "H14",
          "H15"
         ],
         "y": [
          8,
          11.5,
          14,
          17.5,
          20.5,
          26,
          33.5,
          39,
          46,
          49,
          55,
          56,
          56.5,
          58,
          59
         ]
        },
        {
         "line": {
          "color": "violet",
          "width": 1
         },
         "name": "93",
         "type": "scatter",
         "x": [
          "H1",
          "H2",
          "H3",
          "H4",
          "H5",
          "H6",
          "H7",
          "H8",
          "H9",
          "H10",
          "H11",
          "H12",
          "H13",
          "H14",
          "H15"
         ],
         "y": [
          5.5,
          6.5,
          7.5,
          8.5,
          9,
          10,
          11,
          11.5,
          11.5,
          12.5,
          15,
          15.5,
          16,
          16.5,
          16.5
         ]
        },
        {
         "line": {
          "color": "violet",
          "width": 1
         },
         "name": "94",
         "type": "scatter",
         "x": [
          "H1",
          "H2",
          "H3",
          "H4",
          "H5",
          "H6",
          "H7",
          "H8",
          "H9",
          "H10",
          "H11",
          "H12",
          "H13",
          "H14",
          "H15"
         ],
         "y": [
          4.5,
          5,
          5.5,
          7,
          7,
          9,
          9.5,
          11,
          12,
          13,
          17.5,
          18,
          18,
          19,
          19
         ]
        },
        {
         "line": {
          "color": "violet",
          "width": 1
         },
         "name": "95",
         "type": "scatter",
         "x": [
          "H1",
          "H2",
          "H3",
          "H4",
          "H5",
          "H6",
          "H7",
          "H8",
          "H9",
          "H10",
          "H11",
          "H12",
          "H13",
          "H14",
          "H15"
         ],
         "y": [
          2,
          3.5,
          5,
          5,
          6,
          7,
          7.5,
          8.5,
          9.5,
          10.5,
          11.5,
          12.5,
          13,
          14,
          14
         ]
        },
        {
         "line": {
          "color": "violet",
          "width": 1
         },
         "name": "96",
         "type": "scatter",
         "x": [
          "H1",
          "H2",
          "H3",
          "H4",
          "H5",
          "H6",
          "H7",
          "H8",
          "H9",
          "H10",
          "H11",
          "H12",
          "H13",
          "H14",
          "H15"
         ],
         "y": [
          4,
          7.5,
          10,
          14,
          18.5,
          25,
          31.5,
          37.5,
          42,
          43,
          49.5,
          57.5,
          58,
          58.5,
          61
         ]
        },
        {
         "line": {
          "color": "violet",
          "width": 1
         },
         "name": "97",
         "type": "scatter",
         "x": [
          "H1",
          "H2",
          "H3",
          "H4",
          "H5",
          "H6",
          "H7",
          "H8",
          "H9",
          "H10",
          "H11",
          "H12",
          "H13",
          "H14",
          "H15"
         ],
         "y": [
          11.5,
          17.5,
          25,
          32.5,
          38,
          45,
          49.5,
          52.5,
          57,
          62,
          62,
          62,
          63,
          63,
          64
         ]
        },
        {
         "line": {
          "color": "violet",
          "width": 1
         },
         "name": "98",
         "type": "scatter",
         "x": [
          "H1",
          "H2",
          "H3",
          "H4",
          "H5",
          "H6",
          "H7",
          "H8",
          "H9",
          "H10",
          "H11",
          "H12",
          "H13",
          "H14",
          "H15"
         ],
         "y": [
          3.5,
          3.5,
          3.5,
          4,
          4.5,
          6,
          6.5,
          7,
          9,
          9.5,
          10.5,
          10.5,
          11,
          11.5,
          12.5
         ]
        },
        {
         "line": {
          "color": "violet",
          "width": 1
         },
         "name": "99",
         "type": "scatter",
         "x": [
          "H1",
          "H2",
          "H3",
          "H4",
          "H5",
          "H6",
          "H7",
          "H8",
          "H9",
          "H10",
          "H11",
          "H12",
          "H13",
          "H14",
          "H15"
         ],
         "y": [
          6.5,
          12.5,
          17.5,
          25.5,
          31,
          36,
          38.5,
          43.5,
          47,
          48,
          53,
          61,
          61,
          61,
          65
         ]
        },
        {
         "line": {
          "color": "violet",
          "width": 1
         },
         "name": "100",
         "type": "scatter",
         "x": [
          "H1",
          "H2",
          "H3",
          "H4",
          "H5",
          "H6",
          "H7",
          "H8",
          "H9",
          "H10",
          "H11",
          "H12",
          "H13",
          "H14",
          "H15"
         ],
         "y": [
          3.5,
          4.5,
          4.5,
          5,
          6,
          7,
          7.5,
          8,
          9.5,
          10,
          11.5,
          12,
          12,
          12.5,
          13
         ]
        }
       ],
       "layout": {
        "template": {
         "data": {
          "bar": [
           {
            "error_x": {
             "color": "#2a3f5f"
            },
            "error_y": {
             "color": "#2a3f5f"
            },
            "marker": {
             "line": {
              "color": "#E5ECF6",
              "width": 0.5
             },
             "pattern": {
              "fillmode": "overlay",
              "size": 10,
              "solidity": 0.2
             }
            },
            "type": "bar"
           }
          ],
          "barpolar": [
           {
            "marker": {
             "line": {
              "color": "#E5ECF6",
              "width": 0.5
             },
             "pattern": {
              "fillmode": "overlay",
              "size": 10,
              "solidity": 0.2
             }
            },
            "type": "barpolar"
           }
          ],
          "carpet": [
           {
            "aaxis": {
             "endlinecolor": "#2a3f5f",
             "gridcolor": "white",
             "linecolor": "white",
             "minorgridcolor": "white",
             "startlinecolor": "#2a3f5f"
            },
            "baxis": {
             "endlinecolor": "#2a3f5f",
             "gridcolor": "white",
             "linecolor": "white",
             "minorgridcolor": "white",
             "startlinecolor": "#2a3f5f"
            },
            "type": "carpet"
           }
          ],
          "choropleth": [
           {
            "colorbar": {
             "outlinewidth": 0,
             "ticks": ""
            },
            "type": "choropleth"
           }
          ],
          "contour": [
           {
            "colorbar": {
             "outlinewidth": 0,
             "ticks": ""
            },
            "colorscale": [
             [
              0,
              "#0d0887"
             ],
             [
              0.1111111111111111,
              "#46039f"
             ],
             [
              0.2222222222222222,
              "#7201a8"
             ],
             [
              0.3333333333333333,
              "#9c179e"
             ],
             [
              0.4444444444444444,
              "#bd3786"
             ],
             [
              0.5555555555555556,
              "#d8576b"
             ],
             [
              0.6666666666666666,
              "#ed7953"
             ],
             [
              0.7777777777777778,
              "#fb9f3a"
             ],
             [
              0.8888888888888888,
              "#fdca26"
             ],
             [
              1,
              "#f0f921"
             ]
            ],
            "type": "contour"
           }
          ],
          "contourcarpet": [
           {
            "colorbar": {
             "outlinewidth": 0,
             "ticks": ""
            },
            "type": "contourcarpet"
           }
          ],
          "heatmap": [
           {
            "colorbar": {
             "outlinewidth": 0,
             "ticks": ""
            },
            "colorscale": [
             [
              0,
              "#0d0887"
             ],
             [
              0.1111111111111111,
              "#46039f"
             ],
             [
              0.2222222222222222,
              "#7201a8"
             ],
             [
              0.3333333333333333,
              "#9c179e"
             ],
             [
              0.4444444444444444,
              "#bd3786"
             ],
             [
              0.5555555555555556,
              "#d8576b"
             ],
             [
              0.6666666666666666,
              "#ed7953"
             ],
             [
              0.7777777777777778,
              "#fb9f3a"
             ],
             [
              0.8888888888888888,
              "#fdca26"
             ],
             [
              1,
              "#f0f921"
             ]
            ],
            "type": "heatmap"
           }
          ],
          "heatmapgl": [
           {
            "colorbar": {
             "outlinewidth": 0,
             "ticks": ""
            },
            "colorscale": [
             [
              0,
              "#0d0887"
             ],
             [
              0.1111111111111111,
              "#46039f"
             ],
             [
              0.2222222222222222,
              "#7201a8"
             ],
             [
              0.3333333333333333,
              "#9c179e"
             ],
             [
              0.4444444444444444,
              "#bd3786"
             ],
             [
              0.5555555555555556,
              "#d8576b"
             ],
             [
              0.6666666666666666,
              "#ed7953"
             ],
             [
              0.7777777777777778,
              "#fb9f3a"
             ],
             [
              0.8888888888888888,
              "#fdca26"
             ],
             [
              1,
              "#f0f921"
             ]
            ],
            "type": "heatmapgl"
           }
          ],
          "histogram": [
           {
            "marker": {
             "pattern": {
              "fillmode": "overlay",
              "size": 10,
              "solidity": 0.2
             }
            },
            "type": "histogram"
           }
          ],
          "histogram2d": [
           {
            "colorbar": {
             "outlinewidth": 0,
             "ticks": ""
            },
            "colorscale": [
             [
              0,
              "#0d0887"
             ],
             [
              0.1111111111111111,
              "#46039f"
             ],
             [
              0.2222222222222222,
              "#7201a8"
             ],
             [
              0.3333333333333333,
              "#9c179e"
             ],
             [
              0.4444444444444444,
              "#bd3786"
             ],
             [
              0.5555555555555556,
              "#d8576b"
             ],
             [
              0.6666666666666666,
              "#ed7953"
             ],
             [
              0.7777777777777778,
              "#fb9f3a"
             ],
             [
              0.8888888888888888,
              "#fdca26"
             ],
             [
              1,
              "#f0f921"
             ]
            ],
            "type": "histogram2d"
           }
          ],
          "histogram2dcontour": [
           {
            "colorbar": {
             "outlinewidth": 0,
             "ticks": ""
            },
            "colorscale": [
             [
              0,
              "#0d0887"
             ],
             [
              0.1111111111111111,
              "#46039f"
             ],
             [
              0.2222222222222222,
              "#7201a8"
             ],
             [
              0.3333333333333333,
              "#9c179e"
             ],
             [
              0.4444444444444444,
              "#bd3786"
             ],
             [
              0.5555555555555556,
              "#d8576b"
             ],
             [
              0.6666666666666666,
              "#ed7953"
             ],
             [
              0.7777777777777778,
              "#fb9f3a"
             ],
             [
              0.8888888888888888,
              "#fdca26"
             ],
             [
              1,
              "#f0f921"
             ]
            ],
            "type": "histogram2dcontour"
           }
          ],
          "mesh3d": [
           {
            "colorbar": {
             "outlinewidth": 0,
             "ticks": ""
            },
            "type": "mesh3d"
           }
          ],
          "parcoords": [
           {
            "line": {
             "colorbar": {
              "outlinewidth": 0,
              "ticks": ""
             }
            },
            "type": "parcoords"
           }
          ],
          "pie": [
           {
            "automargin": true,
            "type": "pie"
           }
          ],
          "scatter": [
           {
            "fillpattern": {
             "fillmode": "overlay",
             "size": 10,
             "solidity": 0.2
            },
            "type": "scatter"
           }
          ],
          "scatter3d": [
           {
            "line": {
             "colorbar": {
              "outlinewidth": 0,
              "ticks": ""
             }
            },
            "marker": {
             "colorbar": {
              "outlinewidth": 0,
              "ticks": ""
             }
            },
            "type": "scatter3d"
           }
          ],
          "scattercarpet": [
           {
            "marker": {
             "colorbar": {
              "outlinewidth": 0,
              "ticks": ""
             }
            },
            "type": "scattercarpet"
           }
          ],
          "scattergeo": [
           {
            "marker": {
             "colorbar": {
              "outlinewidth": 0,
              "ticks": ""
             }
            },
            "type": "scattergeo"
           }
          ],
          "scattergl": [
           {
            "marker": {
             "colorbar": {
              "outlinewidth": 0,
              "ticks": ""
             }
            },
            "type": "scattergl"
           }
          ],
          "scattermapbox": [
           {
            "marker": {
             "colorbar": {
              "outlinewidth": 0,
              "ticks": ""
             }
            },
            "type": "scattermapbox"
           }
          ],
          "scatterpolar": [
           {
            "marker": {
             "colorbar": {
              "outlinewidth": 0,
              "ticks": ""
             }
            },
            "type": "scatterpolar"
           }
          ],
          "scatterpolargl": [
           {
            "marker": {
             "colorbar": {
              "outlinewidth": 0,
              "ticks": ""
             }
            },
            "type": "scatterpolargl"
           }
          ],
          "scatterternary": [
           {
            "marker": {
             "colorbar": {
              "outlinewidth": 0,
              "ticks": ""
             }
            },
            "type": "scatterternary"
           }
          ],
          "surface": [
           {
            "colorbar": {
             "outlinewidth": 0,
             "ticks": ""
            },
            "colorscale": [
             [
              0,
              "#0d0887"
             ],
             [
              0.1111111111111111,
              "#46039f"
             ],
             [
              0.2222222222222222,
              "#7201a8"
             ],
             [
              0.3333333333333333,
              "#9c179e"
             ],
             [
              0.4444444444444444,
              "#bd3786"
             ],
             [
              0.5555555555555556,
              "#d8576b"
             ],
             [
              0.6666666666666666,
              "#ed7953"
             ],
             [
              0.7777777777777778,
              "#fb9f3a"
             ],
             [
              0.8888888888888888,
              "#fdca26"
             ],
             [
              1,
              "#f0f921"
             ]
            ],
            "type": "surface"
           }
          ],
          "table": [
           {
            "cells": {
             "fill": {
              "color": "#EBF0F8"
             },
             "line": {
              "color": "white"
             }
            },
            "header": {
             "fill": {
              "color": "#C8D4E3"
             },
             "line": {
              "color": "white"
             }
            },
            "type": "table"
           }
          ]
         },
         "layout": {
          "annotationdefaults": {
           "arrowcolor": "#2a3f5f",
           "arrowhead": 0,
           "arrowwidth": 1
          },
          "autotypenumbers": "strict",
          "coloraxis": {
           "colorbar": {
            "outlinewidth": 0,
            "ticks": ""
           }
          },
          "colorscale": {
           "diverging": [
            [
             0,
             "#8e0152"
            ],
            [
             0.1,
             "#c51b7d"
            ],
            [
             0.2,
             "#de77ae"
            ],
            [
             0.3,
             "#f1b6da"
            ],
            [
             0.4,
             "#fde0ef"
            ],
            [
             0.5,
             "#f7f7f7"
            ],
            [
             0.6,
             "#e6f5d0"
            ],
            [
             0.7,
             "#b8e186"
            ],
            [
             0.8,
             "#7fbc41"
            ],
            [
             0.9,
             "#4d9221"
            ],
            [
             1,
             "#276419"
            ]
           ],
           "sequential": [
            [
             0,
             "#0d0887"
            ],
            [
             0.1111111111111111,
             "#46039f"
            ],
            [
             0.2222222222222222,
             "#7201a8"
            ],
            [
             0.3333333333333333,
             "#9c179e"
            ],
            [
             0.4444444444444444,
             "#bd3786"
            ],
            [
             0.5555555555555556,
             "#d8576b"
            ],
            [
             0.6666666666666666,
             "#ed7953"
            ],
            [
             0.7777777777777778,
             "#fb9f3a"
            ],
            [
             0.8888888888888888,
             "#fdca26"
            ],
            [
             1,
             "#f0f921"
            ]
           ],
           "sequentialminus": [
            [
             0,
             "#0d0887"
            ],
            [
             0.1111111111111111,
             "#46039f"
            ],
            [
             0.2222222222222222,
             "#7201a8"
            ],
            [
             0.3333333333333333,
             "#9c179e"
            ],
            [
             0.4444444444444444,
             "#bd3786"
            ],
            [
             0.5555555555555556,
             "#d8576b"
            ],
            [
             0.6666666666666666,
             "#ed7953"
            ],
            [
             0.7777777777777778,
             "#fb9f3a"
            ],
            [
             0.8888888888888888,
             "#fdca26"
            ],
            [
             1,
             "#f0f921"
            ]
           ]
          },
          "colorway": [
           "#636efa",
           "#EF553B",
           "#00cc96",
           "#ab63fa",
           "#FFA15A",
           "#19d3f3",
           "#FF6692",
           "#B6E880",
           "#FF97FF",
           "#FECB52"
          ],
          "font": {
           "color": "#2a3f5f"
          },
          "geo": {
           "bgcolor": "white",
           "lakecolor": "white",
           "landcolor": "#E5ECF6",
           "showlakes": true,
           "showland": true,
           "subunitcolor": "white"
          },
          "hoverlabel": {
           "align": "left"
          },
          "hovermode": "closest",
          "mapbox": {
           "style": "light"
          },
          "paper_bgcolor": "white",
          "plot_bgcolor": "#E5ECF6",
          "polar": {
           "angularaxis": {
            "gridcolor": "white",
            "linecolor": "white",
            "ticks": ""
           },
           "bgcolor": "#E5ECF6",
           "radialaxis": {
            "gridcolor": "white",
            "linecolor": "white",
            "ticks": ""
           }
          },
          "scene": {
           "xaxis": {
            "backgroundcolor": "#E5ECF6",
            "gridcolor": "white",
            "gridwidth": 2,
            "linecolor": "white",
            "showbackground": true,
            "ticks": "",
            "zerolinecolor": "white"
           },
           "yaxis": {
            "backgroundcolor": "#E5ECF6",
            "gridcolor": "white",
            "gridwidth": 2,
            "linecolor": "white",
            "showbackground": true,
            "ticks": "",
            "zerolinecolor": "white"
           },
           "zaxis": {
            "backgroundcolor": "#E5ECF6",
            "gridcolor": "white",
            "gridwidth": 2,
            "linecolor": "white",
            "showbackground": true,
            "ticks": "",
            "zerolinecolor": "white"
           }
          },
          "shapedefaults": {
           "line": {
            "color": "#2a3f5f"
           }
          },
          "ternary": {
           "aaxis": {
            "gridcolor": "white",
            "linecolor": "white",
            "ticks": ""
           },
           "baxis": {
            "gridcolor": "white",
            "linecolor": "white",
            "ticks": ""
           },
           "bgcolor": "#E5ECF6",
           "caxis": {
            "gridcolor": "white",
            "linecolor": "white",
            "ticks": ""
           }
          },
          "title": {
           "x": 0.05
          },
          "xaxis": {
           "automargin": true,
           "gridcolor": "white",
           "linecolor": "white",
           "ticks": "",
           "title": {
            "standoff": 15
           },
           "zerolinecolor": "white",
           "zerolinewidth": 2
          },
          "yaxis": {
           "automargin": true,
           "gridcolor": "white",
           "linecolor": "white",
           "ticks": "",
           "title": {
            "standoff": 15
           },
           "zerolinecolor": "white",
           "zerolinewidth": 2
          }
         }
        },
        "title": {
         "text": "Crecimiento de plantas a traves de las semanas [C=brown, J=gray, JI=black, CI=Orange, SN=Violet]"
        },
        "xaxis": {
         "title": {
          "text": "Semana"
         }
        },
        "yaxis": {
         "title": {
          "text": "Altura en CM"
         }
        }
       }
      }
     },
     "metadata": {},
     "output_type": "display_data"
    }
   ],
   "source": [
    "\n",
    "fig = go.Figure()\n",
    "\n",
    "for plantaID in df_plants_raw[df_plants_raw[\"Supervivencia \"] == 1][\"ID\"].unique():\n",
    "\n",
    "    planta = df_Plants_Time[df_Plants_Time[\"idPlanta\"] == plantaID]\n",
    "    \n",
    "    if planta['Tratamiento'].iloc[0] == \"C\":\n",
    "        fig.add_trace(go.Scatter(x=planta[\"Semana\"], y=planta[\"Altura\"], name=plantaID,\n",
    "                         line = dict(color='brown', width=1)))\n",
    "    elif planta['Tratamiento'].iloc[0] == \"J\":\n",
    "        fig.add_trace(go.Scatter(x=planta[\"Semana\"], y=planta[\"Altura\"], name=plantaID,\n",
    "                         line = dict(color='gray', width=1)))\n",
    "    elif planta['Tratamiento'].iloc[0] == \"JI\":\n",
    "        fig.add_trace(go.Scatter(x=planta[\"Semana\"], y=planta[\"Altura\"], name=plantaID,\n",
    "                         line = dict(color='black', width=1)))\n",
    "    elif planta['Tratamiento'].iloc[0] == \"CI\":\n",
    "        fig.add_trace(go.Scatter(x=planta[\"Semana\"], y=planta[\"Altura\"], name=plantaID,\n",
    "                         line = dict(color='orange', width=1)))\n",
    "    else:\n",
    "        fig.add_trace(go.Scatter(x=planta[\"Semana\"], y=planta[\"Altura\"], name=plantaID,\n",
    "                         line = dict(color='violet', width=1)))\n",
    "\n",
    "fig.update_layout(title='Crecimiento de plantas a traves de las semanas [C=brown, J=gray, JI=black, CI=Orange, SN=Violet]',\n",
    "                   xaxis_title='Semana',\n",
    "                   yaxis_title='Altura en CM')\n",
    "fig.show()"
   ]
  }
 ],
 "metadata": {
  "kernelspec": {
   "display_name": "base",
   "language": "python",
   "name": "python3"
  },
  "language_info": {
   "codemirror_mode": {
    "name": "ipython",
    "version": 3
   },
   "file_extension": ".py",
   "mimetype": "text/x-python",
   "name": "python",
   "nbconvert_exporter": "python",
   "pygments_lexer": "ipython3",
   "version": "3.9.13"
  },
  "orig_nbformat": 4
 },
 "nbformat": 4,
 "nbformat_minor": 2
}
