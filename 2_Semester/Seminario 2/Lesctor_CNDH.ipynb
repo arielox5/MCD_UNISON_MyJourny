{
 "cells": [
  {
   "cell_type": "code",
   "execution_count": 2,
   "metadata": {},
   "outputs": [],
   "source": [
    "import pandas as pd\n",
    "from bs4 import BeautifulSoup\n",
    "import requests\n",
    "import urllib3\n",
    "from selenium import webdriver"
   ]
  },
  {
   "cell_type": "code",
   "execution_count": null,
   "metadata": {},
   "outputs": [],
   "source": [
    "# pip install --upgrade certifi\n",
    "# pip install selenium"
   ]
  },
  {
   "cell_type": "code",
   "execution_count": 16,
   "metadata": {},
   "outputs": [],
   "source": [
    "# df_test = pd.DataFrame(columns=['Entidad', 'Quejas', '%'])\n",
    "# df_ind_autoridad_IMMSS = pd.DataFrame(columns=['Entidad', 'Ano', 'Tipo', 'Descripcion', 'Cantidad'])\n",
    "df_ind_autoridad = pd.DataFrame(columns=['Autoridad', 'Entidad', 'Ano', 'Tipo', 'Descripcion', 'Cantidad'])\n",
    "df_hechos_violatorios = pd.DataFrame(columns=['Hecho_Violatorio', 'Autoridad', 'Ano', 'Entidad', 'Cantidad_Quejas'])\n",
    "df_hechos_violatorios_Miunicipios = pd.DataFrame(columns=['Hecho_Violatorio', 'Autoridad', 'Ano', 'Entidad', 'Municipio', 'Cantidad_Quejas'])\n",
    "\n",
    "list_años = [2014,2015,2016,2017,2018,2019,2020,2021,2022]\n",
    "list_pages_Ind_Autoridad = []\n",
    "\n",
    "\n",
    "list_Indcadores_Autoridad = [\n",
    "    # \"https://appweb2.cndh.org.mx/sna/ind_Autoridad_SM_3.asp?Id_Aut=1063&Id_Estado=\",\n",
    "    \"https://appweb2.cndh.org.mx/sna/ind_Autoridad_SM_3.asp?Id_Aut=28780&Id_Estado=\",\n",
    "    \"https://appweb2.cndh.org.mx/sna/ind_Autoridad_SM_3.asp?Id_Aut=31&Id_Estado=\",\n",
    "    \"https://appweb2.cndh.org.mx/sna/ind_Autoridad_SM_3.asp?Id_Aut=1114&Id_Estado=\",\n",
    "    \"https://appweb2.cndh.org.mx/sna/ind_Autoridad_SM_3.asp?Id_Aut=24040&Id_Estado=\",\n",
    "    \"https://appweb2.cndh.org.mx/sna/ind_Autoridad_SM_3.asp?Id_Aut=85&Id_Estado=\",\n",
    "    \"https://appweb2.cndh.org.mx/sna/ind_Autoridad_SM_3.asp?Id_Aut=24061&Id_Estado=\",\n",
    "    \"https://appweb2.cndh.org.mx/sna/ind_Autoridad_SM_3.asp?Id_Aut=853&Id_Estado=\",\n",
    "    \"https://appweb2.cndh.org.mx/sna/ind_Autoridad_SM_3.asp?Id_Aut=1289&Id_Estado=\",\n",
    "    \"https://appweb2.cndh.org.mx/sna/ind_Autoridad_SM_3.asp?Id_Aut=132&Id_Estado=\",\n",
    "    \"https://appweb2.cndh.org.mx/sna/ind_Autoridad_SM_3.asp?Id_Aut=622&Id_Estado=\",\n",
    "\n",
    "]\n",
    "# ------- Hechos violatorios\n",
    "list_pages_hv_get_autoridad = []\n",
    "list_hv_autoridades_url = []\n",
    "list_HV_HTML = []\n",
    "dict_HV_URL = {}  # Creating an empty dictionary\n",
    "for anio in list_años:\n",
    "    dict_HV_URL[str(anio)] = []\n",
    "\n",
    "list_Hechos_Violatorios_URL = [\n",
    "    \"https://appweb2.cndh.org.mx/sna/ind_HV_SM_1.asp?Id_ViolaUni=478\",\n",
    "    \"https://appweb2.cndh.org.mx/sna/ind_HV_SM_1.asp?Id_ViolaUni=396\",\n",
    "    \"https://appweb2.cndh.org.mx/sna/ind_HV_SM_1.asp?Id_ViolaUni=394\",\n",
    "    \"https://appweb2.cndh.org.mx/sna/ind_HV_SM_1.asp?Id_ViolaUni=412\",\n",
    "    \"https://appweb2.cndh.org.mx/sna/ind_HV_SM_1.asp?Id_ViolaUni=230\",\n",
    "    \"https://appweb2.cndh.org.mx/sna/ind_HV_SM_1.asp?Id_ViolaUni=512\"\n",
    "]\n",
    "\n",
    "# ------- Hechos violatorios\n",
    "list_pages_hv_get_autoridad = []\n",
    "list_hv_autoridades_url = []\n",
    "list_HV_HTML = []\n",
    "dict_HV_URL = {}  # Creating an empty dictionary\n",
    "for anio in list_años:\n",
    "    dict_HV_URL[str(anio)] = []\n",
    "\n",
    "\n",
    "def Obtener_Estado_Titulo(page_Indicador_Autoridad):\n",
    "    soup_estado = BeautifulSoup(page_Indicador_Autoridad, \"html.parser\")\n",
    "    estado_texto = soup_estado.find(class_=\"TituloEncabezadoTercerNivel\")\n",
    "    return estado_texto.get_text(strip=True)\n",
    "    \n",
    "\n",
    "def Obtener_Año(page_Indicador_Autoridad):\n",
    "    soup_anio = BeautifulSoup(page_Indicador_Autoridad, \"html.parser\")\n",
    "    # Checar si el estado tiene informacion para ese año\n",
    "    title_text = soup_anio.title.get_text()\n",
    "    if(title_text != \"500 - Internal server error.\"):\n",
    "        anio_texto = soup_anio.find(class_=\"Seleccionado\")        \n",
    "    return anio_texto.get_text(strip=True)\n",
    "\n",
    "def Obtener_Autoridad(page_Indicador_Autoridad):\n",
    "    soup_autoridad = BeautifulSoup(page_Indicador_Autoridad, \"html.parser\")\n",
    "    # Checar si el estado tiene informacion para ese año\n",
    "    title_text = soup_autoridad.title.get_text()\n",
    "    if(title_text != \"500 - Internal server error.\"):\n",
    "        autoridad_text = soup_autoridad.find(class_=\"TituloPrimerNivel\")\n",
    "        return autoridad_text.get_text(strip=True)\n",
    "\n",
    "def Obtener_Autoridad_Hechos_Violatorios(page_hv):\n",
    "    soup_hv = BeautifulSoup(page_hv, \"html.parser\")\n",
    "    # Checar si el estado tiene informacion para ese año\n",
    "    title_text = soup_hv.title.get_text()\n",
    "    if(title_text != \"500 - Internal server error.\"):\n",
    "        autoridad_text = soup_autoridad.find(class_=\"TituloPrimerNivel\")\n",
    "        return autoridad_text.get_text(strip=True)"
   ]
  },
  {
   "cell_type": "markdown",
   "metadata": {},
   "source": [
    "### Obtener HTML de cada sector"
   ]
  },
  {
   "cell_type": "code",
   "execution_count": 166,
   "metadata": {},
   "outputs": [],
   "source": [
    "# Create a new instance of the Firefox driver (you can use other browsers as well)\n",
    "driver = webdriver.Firefox()\n",
    "for anio in list_años[4:len(list_años)]:\n",
    "    \n",
    "    set_anio_page = \"https://appweb2.cndh.org.mx/sna/inicio\" + str(anio) + \".asp\"\n",
    "    if (anio == 2015):\n",
    "        set_anio_page = \"https://appweb2.cndh.org.mx/sna/inicioant.asp\"\n",
    "    if (anio == 2022):\n",
    "        set_anio_page = \"https://appweb2.cndh.org.mx/sna/inicio.asp\"\n",
    "\n",
    "    # Navigate to the URL\n",
    "    driver.get(set_anio_page)\n",
    "\n",
    "    for ind_Autoridad in list_Indcadores_Autoridad:\n",
    "        \n",
    "        for estado_concepto in range(1,35):\n",
    "            url_CNDH = ind_Autoridad + str(estado_concepto)\n",
    "            driver.get(url_CNDH)\n",
    "\n",
    "            # Wait for the page to load completely (you can adjust the timeout as needed)\n",
    "            timeout = 7\n",
    "            driver.implicitly_wait(timeout)\n",
    "\n",
    "            # Get the fully loaded page source\n",
    "            page_source = driver.page_source\n",
    "            list_pages_Ind_Autoridad.append(page_source)\n",
    "            \n",
    "# Close the browser\n",
    "driver.quit()   \n"
   ]
  },
  {
   "cell_type": "markdown",
   "metadata": {},
   "source": [
    "## Indicadores por Autoridad\n",
    "---"
   ]
  },
  {
   "cell_type": "code",
   "execution_count": 6,
   "metadata": {},
   "outputs": [],
   "source": [
    "# Obtener los datos de todos los estados\n",
    "\n",
    "# Create a BeautifulSoup object to parse the HTML content\n",
    "soup = BeautifulSoup(list_htmlResults[0], \"html.parser\")\n",
    "\n",
    "# Find the parent element by its ID\n",
    "parent_element_id = \"marcoEntidades\"\n",
    "parent_div = soup.find(id=parent_element_id)\n",
    "\n",
    "if parent_div:\n",
    "    # Find the <table> element inside the parent <div> element\n",
    "    table_element = parent_div.find(\"table\")\n",
    "\n",
    "    if table_element:\n",
    "        # Process the table content here\n",
    "        # For example, you can iterate over rows and cells using nested loops\n",
    "        contador = 0\n",
    "        for row in table_element.find_all(\"tr\"):\n",
    "            cells = row.find_all(\"td\")\n",
    "            row_data = [cell.get_text(strip=True) for cell in cells]\n",
    "            if(contador > 0):\n",
    "                df_test.loc[len(df_test.index)] = [row_data[0], row_data[1], row_data[2]]\n",
    "            contador = contador + 1\n",
    "            \n",
    "    else:\n",
    "        print(\"Table element not found inside the parent div.\")\n",
    "else:\n",
    "    print(\"Parent div element not found.\")"
   ]
  },
  {
   "cell_type": "code",
   "execution_count": 174,
   "metadata": {},
   "outputs": [
    {
     "data": {
      "text/plain": [
       "3060"
      ]
     },
     "execution_count": 174,
     "metadata": {},
     "output_type": "execute_result"
    }
   ],
   "source": [
    "len(list_pages_Ind_Autoridad)"
   ]
  },
  {
   "cell_type": "markdown",
   "metadata": {},
   "source": [
    "---"
   ]
  },
  {
   "cell_type": "markdown",
   "metadata": {},
   "source": [
    "### Obteniendo los valores de cada estado - IMSS\n",
    "\n",
    "Aqui obtenemos los tipos de violaciones y agregamos las columnas al dataframe"
   ]
  },
  {
   "cell_type": "code",
   "execution_count": 195,
   "metadata": {},
   "outputs": [
    {
     "name": "stdout",
     "output_type": "stream",
     "text": [
      "0\n",
      "0\n"
     ]
    }
   ],
   "source": [
    "# Obtener los Hechos Violatorios - Datos\n",
    "contador = 0\n",
    "for page_Indicador_Autoridad in list_pages_Ind_Autoridad:\n",
    "    # Create a BeautifulSoup object to parse the HTML content\n",
    "    \n",
    "    soup = BeautifulSoup(page_Indicador_Autoridad, \"html.parser\")\n",
    "    title_text = soup.title\n",
    "    if(title_text):\n",
    "        title_text = title_text.get_text()\n",
    "    else:\n",
    "        print(contador)\n",
    "        contador = contador + 1\n",
    "        continue\n",
    "    \n",
    "    \n",
    "    # Skipp if the page does not exist\n",
    "    if(title_text != \"500 - Internal server error.\"):       \n",
    "        \n",
    "        autoridad_ = Obtener_Autoridad(page_Indicador_Autoridad)\n",
    "        # Find the parent element by its ID\n",
    "        parent_div = soup.find(id=\"contenidoHechosViolatorios\")\n",
    "        if parent_div:\n",
    "            # Find the <table> element inside the parent <div> element\n",
    "            table_element = parent_div.find(\"table\")\n",
    "\n",
    "            if table_element:\n",
    "                # Process the table content here\n",
    "                # For example, you can iterate over rows and cells using nested loops\n",
    "                contador = 0\n",
    "                for row in table_element.find_all(\"tr\"):\n",
    "                    cells = row.find_all(\"td\")\n",
    "                    row_data = [cell.get_text(strip=True) for cell in cells]\n",
    "                    df_ind_autoridad.loc[len(df_ind_autoridad.index)] = [autoridad_, Obtener_Estado_Titulo(page_Indicador_Autoridad), Obtener_Año(page_Indicador_Autoridad), 'Hecho_Violatorio', row_data[0], row_data[1]]\n",
    "                    \n",
    "            else:\n",
    "                print(\"Table element not found inside the parent div.\")\n",
    "        else:\n",
    "            print(\"Parent div element not found.\")\n",
    "\n",
    "        # -----------------------------------------------------------------\n",
    "        # Get Motivos de Conlusion\n",
    "\n",
    "        # Find the parent element by its ID\n",
    "        parent_div = soup.find(id=\"contenidoMotivos\")\n",
    "        if parent_div:\n",
    "            # Find the <table> element inside the parent <div> element\n",
    "            table_element = parent_div.find(\"table\")\n",
    "\n",
    "            if table_element:\n",
    "                # Process the table content here\n",
    "                # For example, you can iterate over rows and cells using nested loops\n",
    "                contador = 0\n",
    "                for row in table_element.find_all(\"tr\"):\n",
    "                    cells = row.find_all(\"td\")\n",
    "                    row_data = [cell.get_text(strip=True) for cell in cells]\n",
    "                    df_ind_autoridad.loc[len(df_ind_autoridad.index)] = [autoridad_, Obtener_Estado_Titulo(page_Indicador_Autoridad), Obtener_Año(page_Indicador_Autoridad), 'Motivo_Conclusion', row_data[0], row_data[1]]\n",
    "                    \n",
    "            else:\n",
    "                print(\"Table element not found inside the parent div.\")\n",
    "        else:\n",
    "            print(\"Parent div element not found.\")\n"
   ]
  },
  {
   "cell_type": "code",
   "execution_count": 197,
   "metadata": {},
   "outputs": [],
   "source": [
    "df_ind_autoridad.to_csv(\"DF_DH_Por_Sector.csv\")\n",
    "# df_ind_autoridad_IMMSS.to_csv(\"Indicador_Autoridad_IMSS.csv\")\n",
    "# len(df_ind_autoridad[df_ind_autoridad[\"Tipo\"] == \"Hecho_Violatorio\"]['Descripcion'].unique())"
   ]
  },
  {
   "cell_type": "markdown",
   "metadata": {},
   "source": [
    "---\n",
    "# Hechos Violatorios"
   ]
  },
  {
   "cell_type": "markdown",
   "metadata": {},
   "source": [
    "1 - Obtener todas las paginas para obtener todas las autoridades por año"
   ]
  },
  {
   "cell_type": "code",
   "execution_count": 17,
   "metadata": {},
   "outputs": [],
   "source": [
    "# Create a new instance of the Firefox driver (you can use other browsers as well)\n",
    "driver = webdriver.Firefox()\n",
    "# for anio in list_años[4:len(list_años)]:\n",
    "for anio in list_años:\n",
    "    \n",
    "    set_anio_page = \"https://appweb2.cndh.org.mx/sna/inicio\" + str(anio) + \".asp\"\n",
    "    if (anio == 2015):\n",
    "        set_anio_page = \"https://appweb2.cndh.org.mx/sna/inicioant.asp\"\n",
    "    if (anio == 2022):\n",
    "        set_anio_page = \"https://appweb2.cndh.org.mx/sna/inicio.asp\"\n",
    "\n",
    "    # Navigate to the URL\n",
    "    driver.get(set_anio_page)\n",
    "\n",
    "    for hv_ in list_Hechos_Violatorios_URL:\n",
    "\n",
    "        url_CNDH = hv_\n",
    "        driver.get(url_CNDH)\n",
    "        timeout = 7\n",
    "        driver.implicitly_wait(timeout)\n",
    "        # Get the fully loaded page source\n",
    "        page_source = driver.page_source\n",
    "        list_pages_hv_get_autoridad.append(page_source)\n",
    "            \n",
    "# Close the browser\n",
    "driver.quit()   \n"
   ]
  },
  {
   "cell_type": "code",
   "execution_count": null,
   "metadata": {},
   "outputs": [],
   "source": [
    "# list_pages_hv_get_autoridad\n",
    "# list_Hechos_Violatorios_Get_Autoridades\n",
    "# list_pages_hv_get_autoridad = []\n",
    "# list_años\n",
    "# list_hv_autoridades = []\n",
    "# len(list_pages_hv_get_autoridad)\n",
    "# list_hv_autoridades"
   ]
  },
  {
   "cell_type": "markdown",
   "metadata": {},
   "source": [
    "2 - Obtener link de la tabla de resultados para cada autoridad por cada hecho violatorio\n",
    "Puesto que cada pagina en \"list_pages_hv_get_autoridad\" contiene todo el HTML por cada año"
   ]
  },
  {
   "cell_type": "code",
   "execution_count": 49,
   "metadata": {},
   "outputs": [],
   "source": [
    "# Obtener todas las autoridades \n",
    "for page_hv in list_pages_hv_get_autoridad:\n",
    "\n",
    "    # Create a BeautifulSoup object to parse the HTML content\n",
    "    soup = BeautifulSoup(page_hv, \"html.parser\")\n",
    "    title_text = soup.title.get_text()\n",
    "    if(title_text != \"500 - Internal server error.\"):\n",
    "\n",
    "        # Find the parent element by its ID\n",
    "        parent_element_id = \"contenidoEntidades\"\n",
    "        currentYear = soup.find(class_=\"Seleccionado\").get_text(strip=True)\n",
    "        parent_div = soup.find(id=parent_element_id)\n",
    "        \n",
    "\n",
    "        if parent_div:\n",
    "            # Find the <table> element inside the parent <div> element\n",
    "            table_element = parent_div.find(\"table\")\n",
    "\n",
    "            if table_element:\n",
    "                # Find all <a> elements within the <table>\n",
    "                a_elements = table_element.find_all(\"a\")\n",
    "\n",
    "                # Extract and print the href attributes\n",
    "                for a_element in a_elements:\n",
    "                    href_value = a_element['href']\n",
    "                    # list_hv_autoridades_url.append(href_value)\n",
    "                    dict_HV_URL[currentYear].append(href_value)\n",
    "                                       \n",
    "            else:\n",
    "                print(\"Table element not found inside the parent div.\")\n",
    "        else:\n",
    "            print(\"Parent div element not found.\")"
   ]
  },
  {
   "cell_type": "code",
   "execution_count": 72,
   "metadata": {},
   "outputs": [
    {
     "data": {
      "text/plain": [
       "1651"
      ]
     },
     "execution_count": 72,
     "metadata": {},
     "output_type": "execute_result"
    }
   ],
   "source": [
    "len(list_HV_HTML)"
   ]
  },
  {
   "cell_type": "markdown",
   "metadata": {},
   "source": [
    "3 - Obtener HTML con tabla de resultados de cada hecho violatorio por año de cada autoridad"
   ]
  },
  {
   "cell_type": "code",
   "execution_count": null,
   "metadata": {},
   "outputs": [],
   "source": [
    "# Create a new instance of the Firefox driver (you can use other browsers as well)\n",
    "driver = webdriver.Firefox()\n",
    "\n",
    "for anio in dict_HV_URL:\n",
    "    set_anio_page = \"https://appweb2.cndh.org.mx/sna/inicio\" + str(anio) + \".asp\"\n",
    "    if (anio == \"2015\"):\n",
    "        set_anio_page = \"https://appweb2.cndh.org.mx/sna/inicioant.asp\"\n",
    "    if (anio == \"2022\"):\n",
    "        set_anio_page = \"https://appweb2.cndh.org.mx/sna/inicio.asp\"\n",
    "\n",
    "    # Navigate to the URL\n",
    "    driver.get(set_anio_page)\n",
    "\n",
    "    # for page_hv in list_Hechos_Violatorios:\n",
    "    for url_autoridad in dict_HV_URL[anio]:\n",
    "        url_CNDH = \"https://appweb2.cndh.org.mx/sna/\" + url_autoridad\n",
    "        driver.get(url_CNDH)\n",
    "        timeout = 7\n",
    "        driver.implicitly_wait(timeout)\n",
    "        # Get the fully loaded page source\n",
    "        page_source = driver.page_source\n",
    "        list_HV_HTML.append(page_source)\n",
    "            \n",
    "# Close the browser\n",
    "driver.quit() "
   ]
  },
  {
   "cell_type": "markdown",
   "metadata": {},
   "source": [
    "4 - Obtener datos del HTML de cada Hecho Violatorio por año,"
   ]
  },
  {
   "cell_type": "code",
   "execution_count": 91,
   "metadata": {},
   "outputs": [],
   "source": [
    "# list_HV_HTML[0]\n",
    "# df_hechos_violatorios = pd.DataFrame(columns=['Hecho_Violatorio', 'Autoridad', 'Ano', 'Entidad', 'Cantidad_Quejas'])\n",
    "df_hechos_violatorios.to_csv(\"Hechos_Violatorios.csv\")"
   ]
  },
  {
   "cell_type": "code",
   "execution_count": null,
   "metadata": {},
   "outputs": [],
   "source": [
    "for html_HV in list_HV_HTML:\n",
    "\n",
    "    soup = BeautifulSoup(html_HV, \"html.parser\")\n",
    "\n",
    "    # Find the parent element by its ID\n",
    "    parent_element_id = \"contenidoHechosViolatorios\"\n",
    "    parent_div = soup.find(id=parent_element_id)\n",
    "\n",
    "    if parent_div:\n",
    "        # Find the <table> element inside the parent <div> element\n",
    "        table_element = parent_div.find(\"table\")\n",
    "\n",
    "        if table_element:\n",
    "            # Obtener Autoridad\n",
    "            autoridad_ = soup.find(class_=\"TituloTercerNivelA\").get_text(strip=True)\n",
    "            hecho_Violatorio_ = soup.find(class_=\"TituloPrimerNivel\").get_text(strip=True)\n",
    "            for row in table_element.find_all(\"tr\"):\n",
    "                cells = row.find_all(\"td\")\n",
    "                row_data = [cell.get_text(strip=True) for cell in cells]\n",
    "                df_hechos_violatorios.loc[len(df_hechos_violatorios.index)] = [hecho_Violatorio_, autoridad_, Obtener_Año(html_HV), row_data[0], row_data[1]]\n",
    "                \n",
    "        else:\n",
    "            print(\"Table element not found inside the parent div.\")\n",
    "    else:\n",
    "        print(\"Parent div element not found.\")"
   ]
  },
  {
   "cell_type": "markdown",
   "metadata": {},
   "source": [
    "---"
   ]
  },
  {
   "cell_type": "markdown",
   "metadata": {},
   "source": [
    "# Indicadores por Entidad Federativa\n",
    "\n",
    "1 - Checar cada link de cada año"
   ]
  },
  {
   "cell_type": "code",
   "execution_count": 18,
   "metadata": {},
   "outputs": [
    {
     "ename": "AttributeError",
     "evalue": "'NoneType' object has no attribute 'get_text'",
     "output_type": "error",
     "traceback": [
      "\u001b[1;31m---------------------------------------------------------------------------\u001b[0m",
      "\u001b[1;31mAttributeError\u001b[0m                            Traceback (most recent call last)",
      "\u001b[1;32m~\\AppData\\Local\\Temp\\ipykernel_15240\\1595312764.py\u001b[0m in \u001b[0;36m<module>\u001b[1;34m\u001b[0m\n\u001b[0;32m     48\u001b[0m                     \u001b[0msoup_autoridad\u001b[0m \u001b[1;33m=\u001b[0m \u001b[0mBeautifulSoup\u001b[0m\u001b[1;33m(\u001b[0m\u001b[0mhtml_autoridad_info\u001b[0m\u001b[1;33m,\u001b[0m \u001b[1;34m\"html.parser\"\u001b[0m\u001b[1;33m)\u001b[0m\u001b[1;33m\u001b[0m\u001b[1;33m\u001b[0m\u001b[0m\n\u001b[0;32m     49\u001b[0m                     \u001b[0mparent_div3\u001b[0m \u001b[1;33m=\u001b[0m \u001b[0msoup_autoridad\u001b[0m\u001b[1;33m.\u001b[0m\u001b[0mfind\u001b[0m\u001b[1;33m(\u001b[0m\u001b[0mid\u001b[0m\u001b[1;33m=\u001b[0m\u001b[1;34m\"contenidoHechosViolatorios\"\u001b[0m\u001b[1;33m)\u001b[0m\u001b[1;33m\u001b[0m\u001b[1;33m\u001b[0m\u001b[0m\n\u001b[1;32m---> 50\u001b[1;33m                     \u001b[0mnombre_autoridad\u001b[0m \u001b[1;33m=\u001b[0m \u001b[0msoup_autoridad\u001b[0m\u001b[1;33m.\u001b[0m\u001b[0mfind\u001b[0m\u001b[1;33m(\u001b[0m\u001b[0mclass_\u001b[0m\u001b[1;33m=\u001b[0m\u001b[1;34m\"TituloTercerNivelA\"\u001b[0m\u001b[1;33m)\u001b[0m\u001b[1;33m.\u001b[0m\u001b[0mget_text\u001b[0m\u001b[1;33m(\u001b[0m\u001b[0mstrip\u001b[0m\u001b[1;33m=\u001b[0m\u001b[1;32mTrue\u001b[0m\u001b[1;33m)\u001b[0m\u001b[1;33m\u001b[0m\u001b[1;33m\u001b[0m\u001b[0m\n\u001b[0m\u001b[0;32m     51\u001b[0m                     \u001b[1;32mif\u001b[0m \u001b[0mparent_div3\u001b[0m\u001b[1;33m:\u001b[0m\u001b[1;33m\u001b[0m\u001b[1;33m\u001b[0m\u001b[0m\n\u001b[0;32m     52\u001b[0m                         \u001b[0mtable_element_municipio\u001b[0m \u001b[1;33m=\u001b[0m \u001b[0mparent_div3\u001b[0m\u001b[1;33m.\u001b[0m\u001b[0mfind\u001b[0m\u001b[1;33m(\u001b[0m\u001b[1;34m\"table\"\u001b[0m\u001b[1;33m)\u001b[0m\u001b[1;33m\u001b[0m\u001b[1;33m\u001b[0m\u001b[0m\n",
      "\u001b[1;31mAttributeError\u001b[0m: 'NoneType' object has no attribute 'get_text'"
     ]
    }
   ],
   "source": [
    "# Create a new instance of the Firefox driver (you can use other browsers as well)\n",
    "driver = webdriver.Firefox()\n",
    "# for anio in list_años[4:len(list_años)]:\n",
    "# for anio in list_años:\n",
    "anio = 2014\n",
    "set_anio_page = \"https://appweb2.cndh.org.mx/sna/inicio\" + str(anio) + \".asp\"\n",
    "if (anio == 2015):\n",
    "    set_anio_page = \"https://appweb2.cndh.org.mx/sna/inicioant.asp\"\n",
    "if (anio == 2022):\n",
    "    set_anio_page = \"https://appweb2.cndh.org.mx/sna/inicio.asp\"\n",
    "\n",
    "# Navigate to the URL\n",
    "driver.get(set_anio_page)\n",
    "driver.get(\"https://appweb2.cndh.org.mx/sna/ind_EF_SM_mun_4.asp?Id_Aut=853&Id_Ef=10&Id_Estado=10&Id_Mun=502&valorAut=416&valorMun=50\")\n",
    "\n",
    "timeout = 7\n",
    "driver.implicitly_wait(timeout)\n",
    "# Get the fully loaded page source\n",
    "page_source = driver.page_source\n",
    "\n",
    "# Obtener todos los links de los estados\n",
    "soup = BeautifulSoup(page_source, \"html.parser\")\n",
    "parent_div = soup.find(id=\"contenidoAutoridad\")\n",
    "if parent_div:    \n",
    "    table_element = parent_div.find(\"table\")\n",
    "    if table_element:\n",
    "        href_list = table_element.find_all(href=True)\n",
    "        for elem in href_list:\n",
    "            # print(elem[\"href\"])\n",
    "            # 1 - URL de Cada Estado --------------------------------------\n",
    "            url_estado = \"https://appweb2.cndh.org.mx/sna/\" + elem[\"href\"]\n",
    "            driver.get(url_estado)\n",
    "            html_estado_info = driver.page_source\n",
    "            # Obtener las autoridades por estado\n",
    "            soup_estado = BeautifulSoup(html_estado_info, \"html.parser\")\n",
    "            parent_div2 = soup_estado.find(id=\"contenidoEntidades\")\n",
    "            nombre_estado = soup_estado.find(class_=\"TituloPrimerNivel\").get_text(strip=True)\n",
    "            if parent_div2:\n",
    "                table_element_estado = parent_div2.find(\"table\")\n",
    "                href_list_autoridad = table_element_estado.find_all('a', href=True)\n",
    "                for href_autoridad in href_list_autoridad:\n",
    "                    # print(nombre_estado, \" - \", url_autoridad[\"href\"])\n",
    "                    # 2 - URL Cada Autoridad ----------------------------------\n",
    "                    url_autoridad = \"https://appweb2.cndh.org.mx/sna/\" + href_autoridad[\"href\"]\n",
    "                    driver.get(url_autoridad)\n",
    "                    html_autoridad_info = driver.page_source\n",
    "                    # Obtener las autoridades por estado\n",
    "                    soup_autoridad = BeautifulSoup(html_autoridad_info, \"html.parser\")\n",
    "                    parent_div3 = soup_autoridad.find(id=\"contenidoHechosViolatorios\")\n",
    "                    # nombre_autoridad = soup_autoridad.find(class_=\"TituloTercerNivelA\").get_text(strip=True)\n",
    "                    nombre_autoridad = href_autoridad.get_text()\n",
    "\n",
    "                    if parent_div3:\n",
    "                        table_element_municipio = parent_div3.find(\"table\")\n",
    "                        href_list_municipio = table_element_municipio.find_all('a', href=True)\n",
    "                        for href_municipio in href_list_municipio:\n",
    "                            # print(nombre_estado, \" - \", nombre_autoridad, \" - \",  href_municipio[\"href\"])\n",
    "                            # 3 - URL Cada Municipio  ----------------------------------\n",
    "                            url_municipio = \"https://appweb2.cndh.org.mx/sna/\" + href_municipio[\"href\"]\n",
    "                            driver.get(url_municipio)\n",
    "                            html_municipio_info = driver.page_source\n",
    "                            # 4 - Obtener datos y guardarlos\n",
    "                            soup_municipio = BeautifulSoup(html_municipio_info, \"html.parser\")\n",
    "                            parent_div4 = soup_municipio.find(id=\"contenidoHVEF\")\n",
    "                            # nombre_municipio = soup_municipio.find(class_=\"TituloTercerNivelA\").get_text(strip=True)\n",
    "                            if parent_div4:\n",
    "                                table_element_hv = parent_div4.find(\"table\")\n",
    "                                # href_list_municipio = table_element_municipio.find_all(href=True)\n",
    "                                for row in table_element_hv.find_all(\"tr\"):\n",
    "                                    cells = row.find_all(\"td\")\n",
    "                                    row_data = [cell.get_text(strip=True) for cell in cells]\n",
    "                                    df_hechos_violatorios_Miunicipios.loc[len(df_hechos_violatorios_Miunicipios.index)] = [row_data[0], nombre_autoridad, anio, nombre_estado, href_municipio.get_text(), row_data[1]]\n",
    "                                    # df_hechos_violatorios_Miunicipios = pd.DataFrame(columns=['Hecho_Violatorio', 'Autoridad', 'Ano', 'Entidad', 'Municipio', 'Cantidad_Quejas'])\n",
    "                                    \n",
    "\n",
    "\n",
    "\n",
    "    # list_pages_hv_get_autoridad.append(page_source)\n",
    "            \n",
    "# Close the browser\n",
    "driver.quit()   \n"
   ]
  },
  {
   "cell_type": "code",
   "execution_count": 20,
   "metadata": {},
   "outputs": [
    {
     "data": {
      "text/html": [
       "<div>\n",
       "<style scoped>\n",
       "    .dataframe tbody tr th:only-of-type {\n",
       "        vertical-align: middle;\n",
       "    }\n",
       "\n",
       "    .dataframe tbody tr th {\n",
       "        vertical-align: top;\n",
       "    }\n",
       "\n",
       "    .dataframe thead th {\n",
       "        text-align: right;\n",
       "    }\n",
       "</style>\n",
       "<table border=\"1\" class=\"dataframe\">\n",
       "  <thead>\n",
       "    <tr style=\"text-align: right;\">\n",
       "      <th></th>\n",
       "      <th>Hecho_Violatorio</th>\n",
       "      <th>Autoridad</th>\n",
       "      <th>Ano</th>\n",
       "      <th>Entidad</th>\n",
       "      <th>Municipio</th>\n",
       "      <th>Cantidad_Quejas</th>\n",
       "    </tr>\n",
       "  </thead>\n",
       "  <tbody>\n",
       "    <tr>\n",
       "      <th>0</th>\n",
       "      <td>PRESTAR INDEBIDAMENTE EL SERVICIO DE EDUCACION</td>\n",
       "      <td>SECRETARIA DE EDUCACION PUBLICA   416</td>\n",
       "      <td>2014</td>\n",
       "      <td>DISTRITO FEDERAL1821</td>\n",
       "      <td>\\n                                            ...</td>\n",
       "      <td>42</td>\n",
       "    </tr>\n",
       "    <tr>\n",
       "      <th>1</th>\n",
       "      <td>IMPEDIR EL ACCESO A SERVICIOS DE EDUCACION</td>\n",
       "      <td>SECRETARIA DE EDUCACION PUBLICA   416</td>\n",
       "      <td>2014</td>\n",
       "      <td>DISTRITO FEDERAL1821</td>\n",
       "      <td>\\n                                            ...</td>\n",
       "      <td>3</td>\n",
       "    </tr>\n",
       "    <tr>\n",
       "      <th>2</th>\n",
       "      <td>OMITIR RESPETAR LOS DERECHOS DE LAS PERSONAS C...</td>\n",
       "      <td>SECRETARIA DE EDUCACION PUBLICA   416</td>\n",
       "      <td>2014</td>\n",
       "      <td>DISTRITO FEDERAL1821</td>\n",
       "      <td>\\n                                            ...</td>\n",
       "      <td>3</td>\n",
       "    </tr>\n",
       "    <tr>\n",
       "      <th>3</th>\n",
       "      <td>OMITIR FUNDAR EL ACTO DE AUTORIDAD</td>\n",
       "      <td>SECRETARIA DE EDUCACION PUBLICA   416</td>\n",
       "      <td>2014</td>\n",
       "      <td>DISTRITO FEDERAL1821</td>\n",
       "      <td>\\n                                            ...</td>\n",
       "      <td>2</td>\n",
       "    </tr>\n",
       "    <tr>\n",
       "      <th>4</th>\n",
       "      <td>OMITIR MOTIVAR EL ACTO DE AUTORIDAD</td>\n",
       "      <td>SECRETARIA DE EDUCACION PUBLICA   416</td>\n",
       "      <td>2014</td>\n",
       "      <td>DISTRITO FEDERAL1821</td>\n",
       "      <td>\\n                                            ...</td>\n",
       "      <td>2</td>\n",
       "    </tr>\n",
       "    <tr>\n",
       "      <th>...</th>\n",
       "      <td>...</td>\n",
       "      <td>...</td>\n",
       "      <td>...</td>\n",
       "      <td>...</td>\n",
       "      <td>...</td>\n",
       "      <td>...</td>\n",
       "    </tr>\n",
       "    <tr>\n",
       "      <th>5704</th>\n",
       "      <td>IMPEDIR EL EJERCICIO DEL DERECHO AL TRABAJO DI...</td>\n",
       "      <td>PROCURADURIA FEDERAL DEL CONSUMIDOR   1</td>\n",
       "      <td>2014</td>\n",
       "      <td>NAYARIT283</td>\n",
       "      <td>\\n                                            ...</td>\n",
       "      <td>1</td>\n",
       "    </tr>\n",
       "    <tr>\n",
       "      <th>5705</th>\n",
       "      <td>FALTAR A LA LEGALIDAD, HONRADEZ, LEALTAD, IMPA...</td>\n",
       "      <td>SECRETARIA DE DESARROLLO AGRARIO, TERRITORIAL ...</td>\n",
       "      <td>2014</td>\n",
       "      <td>NAYARIT283</td>\n",
       "      <td>\\n                                            ...</td>\n",
       "      <td>1</td>\n",
       "    </tr>\n",
       "    <tr>\n",
       "      <th>5706</th>\n",
       "      <td>PRESTAR INDEBIDAMENTE EL SERVICIO DE EDUCACION</td>\n",
       "      <td>SECRETARIA DE EDUCACION PUBLICA   1</td>\n",
       "      <td>2014</td>\n",
       "      <td>NAYARIT283</td>\n",
       "      <td>\\n                                            ...</td>\n",
       "      <td>1</td>\n",
       "    </tr>\n",
       "    <tr>\n",
       "      <th>5707</th>\n",
       "      <td>PRESTAR INDEBIDAMENTE EL SERVICIO PUBLICO</td>\n",
       "      <td>SECRETARIA DE RELACIONES EXTERIORES   1</td>\n",
       "      <td>2014</td>\n",
       "      <td>NAYARIT283</td>\n",
       "      <td>\\n                                            ...</td>\n",
       "      <td>1</td>\n",
       "    </tr>\n",
       "    <tr>\n",
       "      <th>5708</th>\n",
       "      <td>PRESTAR INDEBIDAMENTE EL SERVICIO PUBLICO</td>\n",
       "      <td>SERVICIO POSTAL MEXICANO   1</td>\n",
       "      <td>2014</td>\n",
       "      <td>NAYARIT283</td>\n",
       "      <td>\\n                                            ...</td>\n",
       "      <td>1</td>\n",
       "    </tr>\n",
       "  </tbody>\n",
       "</table>\n",
       "<p>5709 rows × 6 columns</p>\n",
       "</div>"
      ],
      "text/plain": [
       "                                       Hecho_Violatorio  \\\n",
       "0        PRESTAR INDEBIDAMENTE EL SERVICIO DE EDUCACION   \n",
       "1            IMPEDIR EL ACCESO A SERVICIOS DE EDUCACION   \n",
       "2     OMITIR RESPETAR LOS DERECHOS DE LAS PERSONAS C...   \n",
       "3                    OMITIR FUNDAR EL ACTO DE AUTORIDAD   \n",
       "4                   OMITIR MOTIVAR EL ACTO DE AUTORIDAD   \n",
       "...                                                 ...   \n",
       "5704  IMPEDIR EL EJERCICIO DEL DERECHO AL TRABAJO DI...   \n",
       "5705  FALTAR A LA LEGALIDAD, HONRADEZ, LEALTAD, IMPA...   \n",
       "5706     PRESTAR INDEBIDAMENTE EL SERVICIO DE EDUCACION   \n",
       "5707          PRESTAR INDEBIDAMENTE EL SERVICIO PUBLICO   \n",
       "5708          PRESTAR INDEBIDAMENTE EL SERVICIO PUBLICO   \n",
       "\n",
       "                                              Autoridad   Ano  \\\n",
       "0                 SECRETARIA DE EDUCACION PUBLICA   416  2014   \n",
       "1                 SECRETARIA DE EDUCACION PUBLICA   416  2014   \n",
       "2                 SECRETARIA DE EDUCACION PUBLICA   416  2014   \n",
       "3                 SECRETARIA DE EDUCACION PUBLICA   416  2014   \n",
       "4                 SECRETARIA DE EDUCACION PUBLICA   416  2014   \n",
       "...                                                 ...   ...   \n",
       "5704            PROCURADURIA FEDERAL DEL CONSUMIDOR   1  2014   \n",
       "5705  SECRETARIA DE DESARROLLO AGRARIO, TERRITORIAL ...  2014   \n",
       "5706                SECRETARIA DE EDUCACION PUBLICA   1  2014   \n",
       "5707            SECRETARIA DE RELACIONES EXTERIORES   1  2014   \n",
       "5708                       SERVICIO POSTAL MEXICANO   1  2014   \n",
       "\n",
       "                   Entidad                                          Municipio  \\\n",
       "0     DISTRITO FEDERAL1821  \\n                                            ...   \n",
       "1     DISTRITO FEDERAL1821  \\n                                            ...   \n",
       "2     DISTRITO FEDERAL1821  \\n                                            ...   \n",
       "3     DISTRITO FEDERAL1821  \\n                                            ...   \n",
       "4     DISTRITO FEDERAL1821  \\n                                            ...   \n",
       "...                    ...                                                ...   \n",
       "5704            NAYARIT283  \\n                                            ...   \n",
       "5705            NAYARIT283  \\n                                            ...   \n",
       "5706            NAYARIT283  \\n                                            ...   \n",
       "5707            NAYARIT283  \\n                                            ...   \n",
       "5708            NAYARIT283  \\n                                            ...   \n",
       "\n",
       "     Cantidad_Quejas  \n",
       "0                 42  \n",
       "1                  3  \n",
       "2                  3  \n",
       "3                  2  \n",
       "4                  2  \n",
       "...              ...  \n",
       "5704               1  \n",
       "5705               1  \n",
       "5706               1  \n",
       "5707               1  \n",
       "5708               1  \n",
       "\n",
       "[5709 rows x 6 columns]"
      ]
     },
     "execution_count": 20,
     "metadata": {},
     "output_type": "execute_result"
    }
   ],
   "source": [
    "# df_hechos_violatorios_Miunicipios = pd.DataFrame(columns=['Hecho_Violatorio', 'Autoridad', 'Ano', 'Entidad', 'Municipio', 'Cantidad_Quejas'])\n",
    "# df_hechos_violatorios_Miunicipios"
   ]
  },
  {
   "cell_type": "code",
   "execution_count": 10,
   "metadata": {},
   "outputs": [],
   "source": [
    "df_ind_Autoridad = pd.read_csv(\"DF_DH_Por_Sector.csv\", index_col=None)\n",
    "df_ind_Autoridad = df_ind_Autoridad.drop('Unnamed: 0', axis=1)"
   ]
  },
  {
   "cell_type": "code",
   "execution_count": 16,
   "metadata": {},
   "outputs": [
    {
     "data": {
      "text/html": [
       "<div>\n",
       "<style scoped>\n",
       "    .dataframe tbody tr th:only-of-type {\n",
       "        vertical-align: middle;\n",
       "    }\n",
       "\n",
       "    .dataframe tbody tr th {\n",
       "        vertical-align: top;\n",
       "    }\n",
       "\n",
       "    .dataframe thead th {\n",
       "        text-align: right;\n",
       "    }\n",
       "</style>\n",
       "<table border=\"1\" class=\"dataframe\">\n",
       "  <thead>\n",
       "    <tr style=\"text-align: right;\">\n",
       "      <th></th>\n",
       "      <th>Autoridad</th>\n",
       "      <th>Entidad</th>\n",
       "      <th>Ano</th>\n",
       "      <th>Tipo</th>\n",
       "      <th>Descripcion</th>\n",
       "      <th>Cantidad</th>\n",
       "    </tr>\n",
       "  </thead>\n",
       "  <tbody>\n",
       "    <tr>\n",
       "      <th>0</th>\n",
       "      <td>INSTITUTO NACIONAL DE MIGRACION DE LA SECRETAR...</td>\n",
       "      <td>AGUASCALIENTES</td>\n",
       "      <td>2014</td>\n",
       "      <td>Hecho_Violatorio</td>\n",
       "      <td>ACCIONES Y OMISIONES QUE TRANSGREDEN LOS DEREC...</td>\n",
       "      <td>1</td>\n",
       "    </tr>\n",
       "    <tr>\n",
       "      <th>1</th>\n",
       "      <td>INSTITUTO NACIONAL DE MIGRACION DE LA SECRETAR...</td>\n",
       "      <td>AGUASCALIENTES</td>\n",
       "      <td>2014</td>\n",
       "      <td>Hecho_Violatorio</td>\n",
       "      <td>OMITIR FUNDAR EL ACTO DE AUTORIDAD</td>\n",
       "      <td>1</td>\n",
       "    </tr>\n",
       "    <tr>\n",
       "      <th>2</th>\n",
       "      <td>INSTITUTO NACIONAL DE MIGRACION DE LA SECRETAR...</td>\n",
       "      <td>AGUASCALIENTES</td>\n",
       "      <td>2014</td>\n",
       "      <td>Hecho_Violatorio</td>\n",
       "      <td>PRESTAR INDEBIDAMENTE EL SERVICIO PUBLICO</td>\n",
       "      <td>1</td>\n",
       "    </tr>\n",
       "    <tr>\n",
       "      <th>3</th>\n",
       "      <td>INSTITUTO NACIONAL DE MIGRACION DE LA SECRETAR...</td>\n",
       "      <td>BAJA CALIFORNIA</td>\n",
       "      <td>2014</td>\n",
       "      <td>Hecho_Violatorio</td>\n",
       "      <td>ACCIONES Y OMISIONES QUE TRANSGREDEN LOS DEREC...</td>\n",
       "      <td>10</td>\n",
       "    </tr>\n",
       "    <tr>\n",
       "      <th>4</th>\n",
       "      <td>INSTITUTO NACIONAL DE MIGRACION DE LA SECRETAR...</td>\n",
       "      <td>BAJA CALIFORNIA</td>\n",
       "      <td>2014</td>\n",
       "      <td>Hecho_Violatorio</td>\n",
       "      <td>PRESTAR INDEBIDAMENTE EL SERVICIO PUBLICO</td>\n",
       "      <td>10</td>\n",
       "    </tr>\n",
       "    <tr>\n",
       "      <th>...</th>\n",
       "      <td>...</td>\n",
       "      <td>...</td>\n",
       "      <td>...</td>\n",
       "      <td>...</td>\n",
       "      <td>...</td>\n",
       "      <td>...</td>\n",
       "    </tr>\n",
       "    <tr>\n",
       "      <th>19361</th>\n",
       "      <td>SECRETARIA DE LA DEFENSA NACIONAL</td>\n",
       "      <td>ZACATECAS</td>\n",
       "      <td>2022</td>\n",
       "      <td>Hecho_Violatorio</td>\n",
       "      <td>FALTAR A LA LEGALIDAD, HONRADEZ, LEALTAD, IMPA...</td>\n",
       "      <td>1</td>\n",
       "    </tr>\n",
       "    <tr>\n",
       "      <th>19362</th>\n",
       "      <td>SECRETARIA DE LA DEFENSA NACIONAL</td>\n",
       "      <td>ZACATECAS</td>\n",
       "      <td>2022</td>\n",
       "      <td>Hecho_Violatorio</td>\n",
       "      <td>PRESTAR INDEBIDAMENTE EL SERVICIO PUBLICO</td>\n",
       "      <td>1</td>\n",
       "    </tr>\n",
       "    <tr>\n",
       "      <th>19363</th>\n",
       "      <td>SECRETARIA DE LA DEFENSA NACIONAL</td>\n",
       "      <td>ZACATECAS</td>\n",
       "      <td>2022</td>\n",
       "      <td>Motivo_Conclusion</td>\n",
       "      <td>ORIENTACION</td>\n",
       "      <td>10</td>\n",
       "    </tr>\n",
       "    <tr>\n",
       "      <th>19364</th>\n",
       "      <td>SECRETARIA DE LA DEFENSA NACIONAL</td>\n",
       "      <td>ZACATECAS</td>\n",
       "      <td>2022</td>\n",
       "      <td>Motivo_Conclusion</td>\n",
       "      <td>DURANTE EL TRAMITE RESPECTIVO</td>\n",
       "      <td>1</td>\n",
       "    </tr>\n",
       "    <tr>\n",
       "      <th>19365</th>\n",
       "      <td>SECRETARIA DE LA DEFENSA NACIONAL</td>\n",
       "      <td>ZACATECAS</td>\n",
       "      <td>2022</td>\n",
       "      <td>Motivo_Conclusion</td>\n",
       "      <td>POR NO EXISTIR MATERIA</td>\n",
       "      <td>1</td>\n",
       "    </tr>\n",
       "  </tbody>\n",
       "</table>\n",
       "<p>19366 rows × 6 columns</p>\n",
       "</div>"
      ],
      "text/plain": [
       "                                               Autoridad          Entidad  \\\n",
       "0      INSTITUTO NACIONAL DE MIGRACION DE LA SECRETAR...   AGUASCALIENTES   \n",
       "1      INSTITUTO NACIONAL DE MIGRACION DE LA SECRETAR...   AGUASCALIENTES   \n",
       "2      INSTITUTO NACIONAL DE MIGRACION DE LA SECRETAR...   AGUASCALIENTES   \n",
       "3      INSTITUTO NACIONAL DE MIGRACION DE LA SECRETAR...  BAJA CALIFORNIA   \n",
       "4      INSTITUTO NACIONAL DE MIGRACION DE LA SECRETAR...  BAJA CALIFORNIA   \n",
       "...                                                  ...              ...   \n",
       "19361                  SECRETARIA DE LA DEFENSA NACIONAL        ZACATECAS   \n",
       "19362                  SECRETARIA DE LA DEFENSA NACIONAL        ZACATECAS   \n",
       "19363                  SECRETARIA DE LA DEFENSA NACIONAL        ZACATECAS   \n",
       "19364                  SECRETARIA DE LA DEFENSA NACIONAL        ZACATECAS   \n",
       "19365                  SECRETARIA DE LA DEFENSA NACIONAL        ZACATECAS   \n",
       "\n",
       "        Ano               Tipo  \\\n",
       "0      2014   Hecho_Violatorio   \n",
       "1      2014   Hecho_Violatorio   \n",
       "2      2014   Hecho_Violatorio   \n",
       "3      2014   Hecho_Violatorio   \n",
       "4      2014   Hecho_Violatorio   \n",
       "...     ...                ...   \n",
       "19361  2022   Hecho_Violatorio   \n",
       "19362  2022   Hecho_Violatorio   \n",
       "19363  2022  Motivo_Conclusion   \n",
       "19364  2022  Motivo_Conclusion   \n",
       "19365  2022  Motivo_Conclusion   \n",
       "\n",
       "                                             Descripcion  Cantidad  \n",
       "0      ACCIONES Y OMISIONES QUE TRANSGREDEN LOS DEREC...         1  \n",
       "1                     OMITIR FUNDAR EL ACTO DE AUTORIDAD         1  \n",
       "2              PRESTAR INDEBIDAMENTE EL SERVICIO PUBLICO         1  \n",
       "3      ACCIONES Y OMISIONES QUE TRANSGREDEN LOS DEREC...        10  \n",
       "4              PRESTAR INDEBIDAMENTE EL SERVICIO PUBLICO        10  \n",
       "...                                                  ...       ...  \n",
       "19361  FALTAR A LA LEGALIDAD, HONRADEZ, LEALTAD, IMPA...         1  \n",
       "19362          PRESTAR INDEBIDAMENTE EL SERVICIO PUBLICO         1  \n",
       "19363                                        ORIENTACION        10  \n",
       "19364                      DURANTE EL TRAMITE RESPECTIVO         1  \n",
       "19365                             POR NO EXISTIR MATERIA         1  \n",
       "\n",
       "[19366 rows x 6 columns]"
      ]
     },
     "execution_count": 16,
     "metadata": {},
     "output_type": "execute_result"
    }
   ],
   "source": [
    "df_ind_Autoridad"
   ]
  },
  {
   "cell_type": "markdown",
   "metadata": {},
   "source": [
    "## Histograma"
   ]
  },
  {
   "cell_type": "code",
   "execution_count": 23,
   "metadata": {},
   "outputs": [
    {
     "data": {
      "application/vnd.plotly.v1+json": {
       "config": {
        "plotlyServerURL": "https://plot.ly"
       },
       "data": [
        {
         "alignmentgroup": "True",
         "bingroup": "x",
         "hovertemplate": "Descripcion=%{x}<br>count=%{y}<extra></extra>",
         "legendgroup": "",
         "marker": {
          "color": "#636efa",
          "pattern": {
           "shape": ""
          }
         },
         "name": "",
         "offsetgroup": "",
         "orientation": "v",
         "showlegend": false,
         "type": "histogram",
         "x": [
          "EMPLEAR ARBITRARIAMENTE LA FUERZA PUBLICA",
          "FALTAR A LA LEGALIDAD, HONRADEZ, LEALTAD, IMPARCIALIDAD Y EFICACIA EN EL DESEMPEÑO DE LAS FUNCIONES, EMPLEOS, CARGOS O COMISIONES",
          "PRESTAR INDEBIDAMENTE EL SERVICIO PUBLICO",
          "ACCIONES Y OMISIONES QUE TRANSGREDEN LOS DERECHO A LOS MIGRANTES Y DE SUS FAMILIARES",
          "DETENCION ARBITRARIA",
          "TRATO CRUEL, INHUMANO O DEGRADANTE",
          "PRESTAR INDEBIDAMENTE EL SERVICIO PUBLICO",
          "ACCIONES Y OMISIONES QUE TRANSGREDEN LOS DERECHO A LOS MIGRANTES Y DE SUS FAMILIARES",
          "FALTAR A LA LEGALIDAD, HONRADEZ, LEALTAD, IMPARCIALIDAD Y EFICACIA EN EL DESEMPEÑO DE LAS FUNCIONES, EMPLEOS, CARGOS O COMISIONES",
          "ACCIONES Y OMISIONES QUE TRANSGREDEN LOS DERECHOS DE LAS PERSONAS PRIVADAS DE SU LIBERTAD",
          "ACCIONES U OMISIONES CONTRARIAS A LOS DERECHOS A LAS PERSONAS PRIVADAS DE SU LIBERTAD",
          "APODERARSE DE UN BIEN MUEBLE SIN EL CONSENTIMIENTO DEL PROPIETARIO, SIN QUE EXISTA CAUSA JUSTIFICADA",
          "DETENCION ARBITRARIA",
          "DILACION EN EL PROCEDIMIENTO ADMINISTRATIVO",
          "IMPUTAR INDEBIDAMENTE HECHOS",
          "OMITIR BRINDAR PROTECCION Y AUXILIO",
          "OMITIR DAR RESPUESTA A LA PETICION FORMULADA POR CUALQUIER PERSONA EN EJERCICIO DE SU DERECHO",
          "OMITIR RESPONDER EN BREVE TERMINO A AQUEL QUE HIZO LA PETICION",
          "TRATO CRUEL, INHUMANO O DEGRADANTE",
          "ACCIONES U OMISIONES CONTRARIAS A LOS DERECHOS A LAS PERSONAS PRIVADAS DE SU LIBERTAD",
          "ACCIONES Y OMISIONES QUE TRANSGREDEN LOS DERECHO A LOS MIGRANTES Y DE SUS FAMILIARES",
          "APODERARSE DE UN BIEN MUEBLE SIN EL CONSENTIMIENTO DEL PROPIETARIO, SIN QUE EXISTA CAUSA JUSTIFICADA",
          "FALTAR A LA LEGALIDAD, HONRADEZ, LEALTAD, IMPARCIALIDAD Y EFICACIA EN EL DESEMPEÑO DE LAS FUNCIONES, EMPLEOS, CARGOS O COMISIONES",
          "NO SE PUEDE DETERMINAR",
          "PRESTAR INDEBIDAMENTE EL SERVICIO PUBLICO",
          "ACCIONES Y OMISIONES QUE TRANSGREDEN LOS DERECHO A LOS MIGRANTES Y DE SUS FAMILIARES",
          "FALTAR A LA LEGALIDAD, HONRADEZ, LEALTAD, IMPARCIALIDAD Y EFICACIA EN EL DESEMPEÑO DE LAS FUNCIONES, EMPLEOS, CARGOS O COMISIONES",
          "PRESTAR INDEBIDAMENTE EL SERVICIO PUBLICO",
          "DETENCION ARBITRARIA",
          "EFECTUAR UNA DETENCION SIN CONTAR CON LA ORDEN CORRESPONDIENTE, FUERA DE LOS CASOS DE FLAGRANCIA",
          "OBSTACULIZAR LA SALIDA DEL PAIS",
          "ACCIONES Y OMISIONES QUE TRANSGREDEN LOS DERECHO A LOS MIGRANTES Y DE SUS FAMILIARES",
          "FALTAR A LA LEGALIDAD, HONRADEZ, LEALTAD, IMPARCIALIDAD Y EFICACIA EN EL DESEMPEÑO DE LAS FUNCIONES, EMPLEOS, CARGOS O COMISIONES",
          "DETENCION ARBITRARIA",
          "EFECTUAR UNA DETENCION SIN CONTAR CON LA ORDEN CORRESPONDIENTE, FUERA DE LOS CASOS DE FLAGRANCIA",
          "PRESTAR INDEBIDAMENTE EL SERVICIO PUBLICO",
          "TRATO CRUEL, INHUMANO O DEGRADANTE",
          "INTIMIDACION",
          "APODERARSE DE UN BIEN MUEBLE SIN EL CONSENTIMIENTO DEL PROPIETARIO, SIN QUE EXISTA CAUSA JUSTIFICADA",
          "OMITIR HABILITAR CON LA INFRAESTRUCTURA Y EQUIPAMIENTO ADECUADOS LA PRESTACION DE SERVICIOS PUBLICOS",
          "ACCIONES Y OMISIONES QUE TRANSGREDEN LOS DERECHOS A LOS MIGRANTES Y DE SUS FAMILIARES",
          "FALTAR A LA LEGALIDAD, HONRADEZ, LEALTAD, IMPARCIALIDAD Y EFICACIA EN EL DESEMPEÑO DE LAS FUNCIONES, EMPLEOS, CARGOS O COMISIONES",
          "PRESTAR INDEBIDAMENTE EL SERVICIO PUBLICO",
          "APODERARSE DE UN BIEN MUEBLE SIN EL CONSENTIMIENTO DEL PROPIETARIO, SIN QUE EXISTA CAUSA JUSTIFICADA",
          "OMITIR BRINDAR ASESORIA JURIDICA E INFORMACION SOBRE EL DESARROLLO DEL PROCEDIMIENTO",
          "ACCIONES U OMISIONES CONTRARIAS A LOS DERECHOS A LAS PERSONAS PRIVADAS DE SU LIBERTAD",
          "ARRAIGAR A UNA PERSONA EN LUGAR DISTINTO AL PREVISTO POR LA LEY O EN CONDICIONES QUE ATENTAN CONTRA SU DIGNIDAD",
          "NEGAR LA RECEPCION DE UNA DENUNCIA",
          "OMITIR DAR INFORMACION",
          "OMITIR DAR RESPUESTA A LA PETICION FORMULADA POR CUALQUIER PERSONA EN EJERCICIO DE SU DERECHO",
          "OMITIR PRESTAR ATENCION MEDICA",
          "OMITIR RESPONDER EN BREVE TERMINO A AQUEL QUE HIZO LA PETICION",
          "PRACTICAR DE MANERA NEGLIGENTE LAS DILIGENCIAS",
          "TRATO CRUEL, INHUMANO O DEGRADANTE",
          "ACCIONES Y OMISIONES QUE TRANSGREDEN LOS DERECHOS A LOS MIGRANTES Y DE SUS FAMILIARES",
          "PRESTAR INDEBIDAMENTE EL SERVICIO PUBLICO",
          "FALTAR A LA LEGALIDAD, HONRADEZ, LEALTAD, IMPARCIALIDAD Y EFICACIA EN EL DESEMPEÑO DE LAS FUNCIONES, EMPLEOS, CARGOS O COMISIONES",
          "APODERARSE DE UN BIEN MUEBLE SIN EL CONSENTIMIENTO DEL PROPIETARIO, SIN QUE EXISTA CAUSA JUSTIFICADA",
          "DETENCION ARBITRARIA",
          "INTIMIDACION",
          "LIMITAR O IMPEDIR VIAJAR O DESPLAZARSE DENTRO DEL PAIS",
          "OMITIR FUNDAR EL ACTO DE AUTORIDAD",
          "OMITIR MOTIVAR EL ACTO DE AUTORIDAD",
          "PRACTICAR DE MANERA NEGLIGENTE LAS DILIGENCIAS",
          "ACCIONES Y OMISIONES QUE TRANSGREDEN LOS DERECHOS A LOS MIGRANTES Y DE SUS FAMILIARES",
          "FALTAR A LA LEGALIDAD, HONRADEZ, LEALTAD, IMPARCIALIDAD Y EFICACIA EN EL DESEMPEÑO DE LAS FUNCIONES, EMPLEOS, CARGOS O COMISIONES",
          "PRESTAR INDEBIDAMENTE EL SERVICIO PUBLICO",
          "APODERARSE DE UN BIEN MUEBLE SIN EL CONSENTIMIENTO DEL PROPIETARIO, SIN QUE EXISTA CAUSA JUSTIFICADA",
          "INCOMUNICACION",
          "OMITIR BRINDAR ATENCION MEDICA Y/O PSICOLOGICA DE URGENCIA",
          "OMITIR BRINDAR PROTECCION Y AUXILIO",
          "OMITIR CUSTODIAR, VIGILAR, PROTEGER, ESTABLECER MEDIDAS CAUTELARES Y/O DAR SEGURIDAD A PERSONAS",
          "OMITIR LA EXPEDICION DE LICENCIAS O PERMISOS",
          "OMITIR PROPORCIONAR ATENCION MEDICA",
          "OMITIR REGULARIZAR LA CALIDAD MIGRATORIA",
          "OMITIR RESOLVER RESPECTO DE LA SITUACION JURIDICA MIGRATORIA",
          "TRATO CRUEL, INHUMANO O DEGRADANTE",
          "ACCIONES Y OMISIONES QUE TRANSGREDEN LOS DERECHOS A LOS MIGRANTES Y DE SUS FAMILIARES",
          "LIMITAR O IMPEDIR VIAJAR O DESPLAZARSE DENTRO DEL PAIS",
          "FALTAR A LA LEGALIDAD, HONRADEZ, LEALTAD, IMPARCIALIDAD Y EFICACIA EN EL DESEMPEÑO DE LAS FUNCIONES, EMPLEOS, CARGOS O COMISIONES",
          "PRESTAR INDEBIDAMENTE EL SERVICIO PUBLICO",
          "OMITIR RESOLVER RESPECTO DE LA SITUACION JURIDICA MIGRATORIA",
          "ACCIONES  Y OMISIONES CONTRARIOS A LA LEGALIDAD",
          "OMITIR BRINDAR ASESORIA JURIDICA E INFORMACION SOBRE EL DESARROLLO DEL PROCEDIMIENTO",
          "OMITIR FUNDAR EL ACTO DE AUTORIDAD",
          "OMITIR MOTIVAR EL ACTO DE AUTORIDAD",
          "DEPORTAR EN FORMA ILEGAL",
          "DETENCION ARBITRARIA",
          "INTIMIDACION",
          "NO SE ACREDITO HECHO VIOLATORIO"
         ],
         "xaxis": "x",
         "yaxis": "y"
        }
       ],
       "layout": {
        "barmode": "relative",
        "legend": {
         "tracegroupgap": 0
        },
        "margin": {
         "t": 60
        },
        "template": {
         "data": {
          "bar": [
           {
            "error_x": {
             "color": "#2a3f5f"
            },
            "error_y": {
             "color": "#2a3f5f"
            },
            "marker": {
             "line": {
              "color": "#E5ECF6",
              "width": 0.5
             },
             "pattern": {
              "fillmode": "overlay",
              "size": 10,
              "solidity": 0.2
             }
            },
            "type": "bar"
           }
          ],
          "barpolar": [
           {
            "marker": {
             "line": {
              "color": "#E5ECF6",
              "width": 0.5
             },
             "pattern": {
              "fillmode": "overlay",
              "size": 10,
              "solidity": 0.2
             }
            },
            "type": "barpolar"
           }
          ],
          "carpet": [
           {
            "aaxis": {
             "endlinecolor": "#2a3f5f",
             "gridcolor": "white",
             "linecolor": "white",
             "minorgridcolor": "white",
             "startlinecolor": "#2a3f5f"
            },
            "baxis": {
             "endlinecolor": "#2a3f5f",
             "gridcolor": "white",
             "linecolor": "white",
             "minorgridcolor": "white",
             "startlinecolor": "#2a3f5f"
            },
            "type": "carpet"
           }
          ],
          "choropleth": [
           {
            "colorbar": {
             "outlinewidth": 0,
             "ticks": ""
            },
            "type": "choropleth"
           }
          ],
          "contour": [
           {
            "colorbar": {
             "outlinewidth": 0,
             "ticks": ""
            },
            "colorscale": [
             [
              0,
              "#0d0887"
             ],
             [
              0.1111111111111111,
              "#46039f"
             ],
             [
              0.2222222222222222,
              "#7201a8"
             ],
             [
              0.3333333333333333,
              "#9c179e"
             ],
             [
              0.4444444444444444,
              "#bd3786"
             ],
             [
              0.5555555555555556,
              "#d8576b"
             ],
             [
              0.6666666666666666,
              "#ed7953"
             ],
             [
              0.7777777777777778,
              "#fb9f3a"
             ],
             [
              0.8888888888888888,
              "#fdca26"
             ],
             [
              1,
              "#f0f921"
             ]
            ],
            "type": "contour"
           }
          ],
          "contourcarpet": [
           {
            "colorbar": {
             "outlinewidth": 0,
             "ticks": ""
            },
            "type": "contourcarpet"
           }
          ],
          "heatmap": [
           {
            "colorbar": {
             "outlinewidth": 0,
             "ticks": ""
            },
            "colorscale": [
             [
              0,
              "#0d0887"
             ],
             [
              0.1111111111111111,
              "#46039f"
             ],
             [
              0.2222222222222222,
              "#7201a8"
             ],
             [
              0.3333333333333333,
              "#9c179e"
             ],
             [
              0.4444444444444444,
              "#bd3786"
             ],
             [
              0.5555555555555556,
              "#d8576b"
             ],
             [
              0.6666666666666666,
              "#ed7953"
             ],
             [
              0.7777777777777778,
              "#fb9f3a"
             ],
             [
              0.8888888888888888,
              "#fdca26"
             ],
             [
              1,
              "#f0f921"
             ]
            ],
            "type": "heatmap"
           }
          ],
          "heatmapgl": [
           {
            "colorbar": {
             "outlinewidth": 0,
             "ticks": ""
            },
            "colorscale": [
             [
              0,
              "#0d0887"
             ],
             [
              0.1111111111111111,
              "#46039f"
             ],
             [
              0.2222222222222222,
              "#7201a8"
             ],
             [
              0.3333333333333333,
              "#9c179e"
             ],
             [
              0.4444444444444444,
              "#bd3786"
             ],
             [
              0.5555555555555556,
              "#d8576b"
             ],
             [
              0.6666666666666666,
              "#ed7953"
             ],
             [
              0.7777777777777778,
              "#fb9f3a"
             ],
             [
              0.8888888888888888,
              "#fdca26"
             ],
             [
              1,
              "#f0f921"
             ]
            ],
            "type": "heatmapgl"
           }
          ],
          "histogram": [
           {
            "marker": {
             "pattern": {
              "fillmode": "overlay",
              "size": 10,
              "solidity": 0.2
             }
            },
            "type": "histogram"
           }
          ],
          "histogram2d": [
           {
            "colorbar": {
             "outlinewidth": 0,
             "ticks": ""
            },
            "colorscale": [
             [
              0,
              "#0d0887"
             ],
             [
              0.1111111111111111,
              "#46039f"
             ],
             [
              0.2222222222222222,
              "#7201a8"
             ],
             [
              0.3333333333333333,
              "#9c179e"
             ],
             [
              0.4444444444444444,
              "#bd3786"
             ],
             [
              0.5555555555555556,
              "#d8576b"
             ],
             [
              0.6666666666666666,
              "#ed7953"
             ],
             [
              0.7777777777777778,
              "#fb9f3a"
             ],
             [
              0.8888888888888888,
              "#fdca26"
             ],
             [
              1,
              "#f0f921"
             ]
            ],
            "type": "histogram2d"
           }
          ],
          "histogram2dcontour": [
           {
            "colorbar": {
             "outlinewidth": 0,
             "ticks": ""
            },
            "colorscale": [
             [
              0,
              "#0d0887"
             ],
             [
              0.1111111111111111,
              "#46039f"
             ],
             [
              0.2222222222222222,
              "#7201a8"
             ],
             [
              0.3333333333333333,
              "#9c179e"
             ],
             [
              0.4444444444444444,
              "#bd3786"
             ],
             [
              0.5555555555555556,
              "#d8576b"
             ],
             [
              0.6666666666666666,
              "#ed7953"
             ],
             [
              0.7777777777777778,
              "#fb9f3a"
             ],
             [
              0.8888888888888888,
              "#fdca26"
             ],
             [
              1,
              "#f0f921"
             ]
            ],
            "type": "histogram2dcontour"
           }
          ],
          "mesh3d": [
           {
            "colorbar": {
             "outlinewidth": 0,
             "ticks": ""
            },
            "type": "mesh3d"
           }
          ],
          "parcoords": [
           {
            "line": {
             "colorbar": {
              "outlinewidth": 0,
              "ticks": ""
             }
            },
            "type": "parcoords"
           }
          ],
          "pie": [
           {
            "automargin": true,
            "type": "pie"
           }
          ],
          "scatter": [
           {
            "fillpattern": {
             "fillmode": "overlay",
             "size": 10,
             "solidity": 0.2
            },
            "type": "scatter"
           }
          ],
          "scatter3d": [
           {
            "line": {
             "colorbar": {
              "outlinewidth": 0,
              "ticks": ""
             }
            },
            "marker": {
             "colorbar": {
              "outlinewidth": 0,
              "ticks": ""
             }
            },
            "type": "scatter3d"
           }
          ],
          "scattercarpet": [
           {
            "marker": {
             "colorbar": {
              "outlinewidth": 0,
              "ticks": ""
             }
            },
            "type": "scattercarpet"
           }
          ],
          "scattergeo": [
           {
            "marker": {
             "colorbar": {
              "outlinewidth": 0,
              "ticks": ""
             }
            },
            "type": "scattergeo"
           }
          ],
          "scattergl": [
           {
            "marker": {
             "colorbar": {
              "outlinewidth": 0,
              "ticks": ""
             }
            },
            "type": "scattergl"
           }
          ],
          "scattermapbox": [
           {
            "marker": {
             "colorbar": {
              "outlinewidth": 0,
              "ticks": ""
             }
            },
            "type": "scattermapbox"
           }
          ],
          "scatterpolar": [
           {
            "marker": {
             "colorbar": {
              "outlinewidth": 0,
              "ticks": ""
             }
            },
            "type": "scatterpolar"
           }
          ],
          "scatterpolargl": [
           {
            "marker": {
             "colorbar": {
              "outlinewidth": 0,
              "ticks": ""
             }
            },
            "type": "scatterpolargl"
           }
          ],
          "scatterternary": [
           {
            "marker": {
             "colorbar": {
              "outlinewidth": 0,
              "ticks": ""
             }
            },
            "type": "scatterternary"
           }
          ],
          "surface": [
           {
            "colorbar": {
             "outlinewidth": 0,
             "ticks": ""
            },
            "colorscale": [
             [
              0,
              "#0d0887"
             ],
             [
              0.1111111111111111,
              "#46039f"
             ],
             [
              0.2222222222222222,
              "#7201a8"
             ],
             [
              0.3333333333333333,
              "#9c179e"
             ],
             [
              0.4444444444444444,
              "#bd3786"
             ],
             [
              0.5555555555555556,
              "#d8576b"
             ],
             [
              0.6666666666666666,
              "#ed7953"
             ],
             [
              0.7777777777777778,
              "#fb9f3a"
             ],
             [
              0.8888888888888888,
              "#fdca26"
             ],
             [
              1,
              "#f0f921"
             ]
            ],
            "type": "surface"
           }
          ],
          "table": [
           {
            "cells": {
             "fill": {
              "color": "#EBF0F8"
             },
             "line": {
              "color": "white"
             }
            },
            "header": {
             "fill": {
              "color": "#C8D4E3"
             },
             "line": {
              "color": "white"
             }
            },
            "type": "table"
           }
          ]
         },
         "layout": {
          "annotationdefaults": {
           "arrowcolor": "#2a3f5f",
           "arrowhead": 0,
           "arrowwidth": 1
          },
          "autotypenumbers": "strict",
          "coloraxis": {
           "colorbar": {
            "outlinewidth": 0,
            "ticks": ""
           }
          },
          "colorscale": {
           "diverging": [
            [
             0,
             "#8e0152"
            ],
            [
             0.1,
             "#c51b7d"
            ],
            [
             0.2,
             "#de77ae"
            ],
            [
             0.3,
             "#f1b6da"
            ],
            [
             0.4,
             "#fde0ef"
            ],
            [
             0.5,
             "#f7f7f7"
            ],
            [
             0.6,
             "#e6f5d0"
            ],
            [
             0.7,
             "#b8e186"
            ],
            [
             0.8,
             "#7fbc41"
            ],
            [
             0.9,
             "#4d9221"
            ],
            [
             1,
             "#276419"
            ]
           ],
           "sequential": [
            [
             0,
             "#0d0887"
            ],
            [
             0.1111111111111111,
             "#46039f"
            ],
            [
             0.2222222222222222,
             "#7201a8"
            ],
            [
             0.3333333333333333,
             "#9c179e"
            ],
            [
             0.4444444444444444,
             "#bd3786"
            ],
            [
             0.5555555555555556,
             "#d8576b"
            ],
            [
             0.6666666666666666,
             "#ed7953"
            ],
            [
             0.7777777777777778,
             "#fb9f3a"
            ],
            [
             0.8888888888888888,
             "#fdca26"
            ],
            [
             1,
             "#f0f921"
            ]
           ],
           "sequentialminus": [
            [
             0,
             "#0d0887"
            ],
            [
             0.1111111111111111,
             "#46039f"
            ],
            [
             0.2222222222222222,
             "#7201a8"
            ],
            [
             0.3333333333333333,
             "#9c179e"
            ],
            [
             0.4444444444444444,
             "#bd3786"
            ],
            [
             0.5555555555555556,
             "#d8576b"
            ],
            [
             0.6666666666666666,
             "#ed7953"
            ],
            [
             0.7777777777777778,
             "#fb9f3a"
            ],
            [
             0.8888888888888888,
             "#fdca26"
            ],
            [
             1,
             "#f0f921"
            ]
           ]
          },
          "colorway": [
           "#636efa",
           "#EF553B",
           "#00cc96",
           "#ab63fa",
           "#FFA15A",
           "#19d3f3",
           "#FF6692",
           "#B6E880",
           "#FF97FF",
           "#FECB52"
          ],
          "font": {
           "color": "#2a3f5f"
          },
          "geo": {
           "bgcolor": "white",
           "lakecolor": "white",
           "landcolor": "#E5ECF6",
           "showlakes": true,
           "showland": true,
           "subunitcolor": "white"
          },
          "hoverlabel": {
           "align": "left"
          },
          "hovermode": "closest",
          "mapbox": {
           "style": "light"
          },
          "paper_bgcolor": "white",
          "plot_bgcolor": "#E5ECF6",
          "polar": {
           "angularaxis": {
            "gridcolor": "white",
            "linecolor": "white",
            "ticks": ""
           },
           "bgcolor": "#E5ECF6",
           "radialaxis": {
            "gridcolor": "white",
            "linecolor": "white",
            "ticks": ""
           }
          },
          "scene": {
           "xaxis": {
            "backgroundcolor": "#E5ECF6",
            "gridcolor": "white",
            "gridwidth": 2,
            "linecolor": "white",
            "showbackground": true,
            "ticks": "",
            "zerolinecolor": "white"
           },
           "yaxis": {
            "backgroundcolor": "#E5ECF6",
            "gridcolor": "white",
            "gridwidth": 2,
            "linecolor": "white",
            "showbackground": true,
            "ticks": "",
            "zerolinecolor": "white"
           },
           "zaxis": {
            "backgroundcolor": "#E5ECF6",
            "gridcolor": "white",
            "gridwidth": 2,
            "linecolor": "white",
            "showbackground": true,
            "ticks": "",
            "zerolinecolor": "white"
           }
          },
          "shapedefaults": {
           "line": {
            "color": "#2a3f5f"
           }
          },
          "ternary": {
           "aaxis": {
            "gridcolor": "white",
            "linecolor": "white",
            "ticks": ""
           },
           "baxis": {
            "gridcolor": "white",
            "linecolor": "white",
            "ticks": ""
           },
           "bgcolor": "#E5ECF6",
           "caxis": {
            "gridcolor": "white",
            "linecolor": "white",
            "ticks": ""
           }
          },
          "title": {
           "x": 0.05
          },
          "xaxis": {
           "automargin": true,
           "gridcolor": "white",
           "linecolor": "white",
           "ticks": "",
           "title": {
            "standoff": 15
           },
           "zerolinecolor": "white",
           "zerolinewidth": 2
          },
          "yaxis": {
           "automargin": true,
           "gridcolor": "white",
           "linecolor": "white",
           "ticks": "",
           "title": {
            "standoff": 15
           },
           "zerolinecolor": "white",
           "zerolinewidth": 2
          }
         }
        },
        "xaxis": {
         "anchor": "y",
         "domain": [
          0,
          1
         ],
         "title": {
          "text": "Descripcion"
         }
        },
        "yaxis": {
         "anchor": "x",
         "domain": [
          0,
          1
         ],
         "title": {
          "text": "count"
         }
        }
       }
      }
     },
     "metadata": {},
     "output_type": "display_data"
    }
   ],
   "source": [
    "import plotly.express as px\n",
    "df_filtred = df_ind_Autoridad[(df_ind_Autoridad[\"Tipo\"] == 'Hecho_Violatorio') & (df_ind_Autoridad[\"Entidad\"] == 'SONORA') & (df_ind_Autoridad[\"Autoridad\"] == 'INSTITUTO NACIONAL DE MIGRACION DE LA SECRETARIA DE GOBERNACION')]\n",
    "fig = px.histogram(df_filtred, x=\"Descripcion\")\n",
    "fig.show()"
   ]
  },
  {
   "cell_type": "code",
   "execution_count": 25,
   "metadata": {},
   "outputs": [
    {
     "data": {
      "application/vnd.plotly.v1+json": {
       "config": {
        "plotlyServerURL": "https://plot.ly"
       },
       "data": [
        {
         "hovertemplate": "Descripcion=EMPLEAR ARBITRARIAMENTE LA FUERZA PUBLICA<br>Ano=%{x}<br>Cantidad=%{y}<extra></extra>",
         "legendgroup": "EMPLEAR ARBITRARIAMENTE LA FUERZA PUBLICA",
         "line": {
          "color": "#636efa",
          "dash": "solid"
         },
         "marker": {
          "symbol": "circle"
         },
         "mode": "markers+lines",
         "name": "EMPLEAR ARBITRARIAMENTE LA FUERZA PUBLICA",
         "orientation": "v",
         "showlegend": true,
         "type": "scatter",
         "x": [
          2014
         ],
         "xaxis": "x",
         "y": [
          2
         ],
         "yaxis": "y"
        },
        {
         "hovertemplate": "Descripcion=FALTAR A LA LEGALIDAD, HONRADEZ, LEALTAD, IMPARCIALIDAD Y EFICACIA EN EL DESEMPEÑO DE LAS FUNCIONES, EMPLEOS, CARGOS O COMISIONES<br>Ano=%{x}<br>Cantidad=%{y}<extra></extra>",
         "legendgroup": "FALTAR A LA LEGALIDAD, HONRADEZ, LEALTAD, IMPARCIALIDAD Y EFICACIA EN EL DESEMPEÑO DE LAS FUNCIONES, EMPLEOS, CARGOS O COMISIONES",
         "line": {
          "color": "#EF553B",
          "dash": "solid"
         },
         "marker": {
          "symbol": "circle"
         },
         "mode": "markers+lines",
         "name": "FALTAR A LA LEGALIDAD, HONRADEZ, LEALTAD, IMPARCIALIDAD Y EFICACIA EN EL DESEMPEÑO DE LAS FUNCIONES, EMPLEOS, CARGOS O COMISIONES",
         "orientation": "v",
         "showlegend": true,
         "type": "scatter",
         "x": [
          2014,
          2015,
          2016,
          2017,
          2018,
          2019,
          2020,
          2021,
          2022
         ],
         "xaxis": "x",
         "y": [
          2,
          3,
          1,
          5,
          11,
          8,
          5,
          8,
          106
         ],
         "yaxis": "y"
        },
        {
         "hovertemplate": "Descripcion=PRESTAR INDEBIDAMENTE EL SERVICIO PUBLICO<br>Ano=%{x}<br>Cantidad=%{y}<extra></extra>",
         "legendgroup": "PRESTAR INDEBIDAMENTE EL SERVICIO PUBLICO",
         "line": {
          "color": "#00cc96",
          "dash": "solid"
         },
         "marker": {
          "symbol": "circle"
         },
         "mode": "markers+lines",
         "name": "PRESTAR INDEBIDAMENTE EL SERVICIO PUBLICO",
         "orientation": "v",
         "showlegend": true,
         "type": "scatter",
         "x": [
          2014,
          2015,
          2016,
          2017,
          2018,
          2019,
          2020,
          2021,
          2022
         ],
         "xaxis": "x",
         "y": [
          2,
          6,
          1,
          2,
          3,
          7,
          6,
          5,
          28
         ],
         "yaxis": "y"
        },
        {
         "hovertemplate": "Descripcion=ACCIONES Y OMISIONES QUE TRANSGREDEN LOS DERECHO A LOS MIGRANTES Y DE SUS FAMILIARES<br>Ano=%{x}<br>Cantidad=%{y}<extra></extra>",
         "legendgroup": "ACCIONES Y OMISIONES QUE TRANSGREDEN LOS DERECHO A LOS MIGRANTES Y DE SUS FAMILIARES",
         "line": {
          "color": "#ab63fa",
          "dash": "solid"
         },
         "marker": {
          "symbol": "circle"
         },
         "mode": "markers+lines",
         "name": "ACCIONES Y OMISIONES QUE TRANSGREDEN LOS DERECHO A LOS MIGRANTES Y DE SUS FAMILIARES",
         "orientation": "v",
         "showlegend": true,
         "type": "scatter",
         "x": [
          2014,
          2015,
          2016,
          2017,
          2018
         ],
         "xaxis": "x",
         "y": [
          1,
          4,
          1,
          5,
          12
         ],
         "yaxis": "y"
        },
        {
         "hovertemplate": "Descripcion=DETENCION ARBITRARIA<br>Ano=%{x}<br>Cantidad=%{y}<extra></extra>",
         "legendgroup": "DETENCION ARBITRARIA",
         "line": {
          "color": "#FFA15A",
          "dash": "solid"
         },
         "marker": {
          "symbol": "circle"
         },
         "mode": "markers+lines",
         "name": "DETENCION ARBITRARIA",
         "orientation": "v",
         "showlegend": true,
         "type": "scatter",
         "x": [
          2014,
          2015,
          2017,
          2018,
          2020,
          2022
         ],
         "xaxis": "x",
         "y": [
          1,
          1,
          1,
          4,
          1,
          1
         ],
         "yaxis": "y"
        },
        {
         "hovertemplate": "Descripcion=TRATO CRUEL, INHUMANO O DEGRADANTE<br>Ano=%{x}<br>Cantidad=%{y}<extra></extra>",
         "legendgroup": "TRATO CRUEL, INHUMANO O DEGRADANTE",
         "line": {
          "color": "#19d3f3",
          "dash": "solid"
         },
         "marker": {
          "symbol": "circle"
         },
         "mode": "markers+lines",
         "name": "TRATO CRUEL, INHUMANO O DEGRADANTE",
         "orientation": "v",
         "showlegend": true,
         "type": "scatter",
         "x": [
          2014,
          2015,
          2018,
          2019,
          2021
         ],
         "xaxis": "x",
         "y": [
          1,
          1,
          3,
          1,
          1
         ],
         "yaxis": "y"
        },
        {
         "hovertemplate": "Descripcion=ACCIONES Y OMISIONES QUE TRANSGREDEN LOS DERECHOS DE LAS PERSONAS PRIVADAS DE SU LIBERTAD<br>Ano=%{x}<br>Cantidad=%{y}<extra></extra>",
         "legendgroup": "ACCIONES Y OMISIONES QUE TRANSGREDEN LOS DERECHOS DE LAS PERSONAS PRIVADAS DE SU LIBERTAD",
         "line": {
          "color": "#FF6692",
          "dash": "solid"
         },
         "marker": {
          "symbol": "circle"
         },
         "mode": "markers+lines",
         "name": "ACCIONES Y OMISIONES QUE TRANSGREDEN LOS DERECHOS DE LAS PERSONAS PRIVADAS DE SU LIBERTAD",
         "orientation": "v",
         "showlegend": true,
         "type": "scatter",
         "x": [
          2015
         ],
         "xaxis": "x",
         "y": [
          2
         ],
         "yaxis": "y"
        },
        {
         "hovertemplate": "Descripcion=ACCIONES U OMISIONES CONTRARIAS A LOS DERECHOS A LAS PERSONAS PRIVADAS DE SU LIBERTAD<br>Ano=%{x}<br>Cantidad=%{y}<extra></extra>",
         "legendgroup": "ACCIONES U OMISIONES CONTRARIAS A LOS DERECHOS A LAS PERSONAS PRIVADAS DE SU LIBERTAD",
         "line": {
          "color": "#B6E880",
          "dash": "solid"
         },
         "marker": {
          "symbol": "circle"
         },
         "mode": "markers+lines",
         "name": "ACCIONES U OMISIONES CONTRARIAS A LOS DERECHOS A LAS PERSONAS PRIVADAS DE SU LIBERTAD",
         "orientation": "v",
         "showlegend": true,
         "type": "scatter",
         "x": [
          2015,
          2016,
          2019
         ],
         "xaxis": "x",
         "y": [
          1,
          1,
          1
         ],
         "yaxis": "y"
        },
        {
         "hovertemplate": "Descripcion=APODERARSE DE UN BIEN MUEBLE SIN EL CONSENTIMIENTO DEL PROPIETARIO, SIN QUE EXISTA CAUSA JUSTIFICADA<br>Ano=%{x}<br>Cantidad=%{y}<extra></extra>",
         "legendgroup": "APODERARSE DE UN BIEN MUEBLE SIN EL CONSENTIMIENTO DEL PROPIETARIO, SIN QUE EXISTA CAUSA JUSTIFICADA",
         "line": {
          "color": "#FF97FF",
          "dash": "solid"
         },
         "marker": {
          "symbol": "circle"
         },
         "mode": "markers+lines",
         "name": "APODERARSE DE UN BIEN MUEBLE SIN EL CONSENTIMIENTO DEL PROPIETARIO, SIN QUE EXISTA CAUSA JUSTIFICADA",
         "orientation": "v",
         "showlegend": true,
         "type": "scatter",
         "x": [
          2015,
          2016,
          2018,
          2019,
          2020,
          2021
         ],
         "xaxis": "x",
         "y": [
          1,
          1,
          1,
          2,
          1,
          1
         ],
         "yaxis": "y"
        },
        {
         "hovertemplate": "Descripcion=DILACION EN EL PROCEDIMIENTO ADMINISTRATIVO<br>Ano=%{x}<br>Cantidad=%{y}<extra></extra>",
         "legendgroup": "DILACION EN EL PROCEDIMIENTO ADMINISTRATIVO",
         "line": {
          "color": "#FECB52",
          "dash": "solid"
         },
         "marker": {
          "symbol": "circle"
         },
         "mode": "markers+lines",
         "name": "DILACION EN EL PROCEDIMIENTO ADMINISTRATIVO",
         "orientation": "v",
         "showlegend": true,
         "type": "scatter",
         "x": [
          2015
         ],
         "xaxis": "x",
         "y": [
          1
         ],
         "yaxis": "y"
        },
        {
         "hovertemplate": "Descripcion=IMPUTAR INDEBIDAMENTE HECHOS<br>Ano=%{x}<br>Cantidad=%{y}<extra></extra>",
         "legendgroup": "IMPUTAR INDEBIDAMENTE HECHOS",
         "line": {
          "color": "#636efa",
          "dash": "solid"
         },
         "marker": {
          "symbol": "circle"
         },
         "mode": "markers+lines",
         "name": "IMPUTAR INDEBIDAMENTE HECHOS",
         "orientation": "v",
         "showlegend": true,
         "type": "scatter",
         "x": [
          2015
         ],
         "xaxis": "x",
         "y": [
          1
         ],
         "yaxis": "y"
        },
        {
         "hovertemplate": "Descripcion=OMITIR BRINDAR PROTECCION Y AUXILIO<br>Ano=%{x}<br>Cantidad=%{y}<extra></extra>",
         "legendgroup": "OMITIR BRINDAR PROTECCION Y AUXILIO",
         "line": {
          "color": "#EF553B",
          "dash": "solid"
         },
         "marker": {
          "symbol": "circle"
         },
         "mode": "markers+lines",
         "name": "OMITIR BRINDAR PROTECCION Y AUXILIO",
         "orientation": "v",
         "showlegend": true,
         "type": "scatter",
         "x": [
          2015,
          2021
         ],
         "xaxis": "x",
         "y": [
          1,
          1
         ],
         "yaxis": "y"
        },
        {
         "hovertemplate": "Descripcion=OMITIR DAR RESPUESTA A LA PETICION FORMULADA POR CUALQUIER PERSONA EN EJERCICIO DE SU DERECHO<br>Ano=%{x}<br>Cantidad=%{y}<extra></extra>",
         "legendgroup": "OMITIR DAR RESPUESTA A LA PETICION FORMULADA POR CUALQUIER PERSONA EN EJERCICIO DE SU DERECHO",
         "line": {
          "color": "#00cc96",
          "dash": "solid"
         },
         "marker": {
          "symbol": "circle"
         },
         "mode": "markers+lines",
         "name": "OMITIR DAR RESPUESTA A LA PETICION FORMULADA POR CUALQUIER PERSONA EN EJERCICIO DE SU DERECHO",
         "orientation": "v",
         "showlegend": true,
         "type": "scatter",
         "x": [
          2015,
          2019
         ],
         "xaxis": "x",
         "y": [
          1,
          1
         ],
         "yaxis": "y"
        },
        {
         "hovertemplate": "Descripcion=OMITIR RESPONDER EN BREVE TERMINO A AQUEL QUE HIZO LA PETICION<br>Ano=%{x}<br>Cantidad=%{y}<extra></extra>",
         "legendgroup": "OMITIR RESPONDER EN BREVE TERMINO A AQUEL QUE HIZO LA PETICION",
         "line": {
          "color": "#ab63fa",
          "dash": "solid"
         },
         "marker": {
          "symbol": "circle"
         },
         "mode": "markers+lines",
         "name": "OMITIR RESPONDER EN BREVE TERMINO A AQUEL QUE HIZO LA PETICION",
         "orientation": "v",
         "showlegend": true,
         "type": "scatter",
         "x": [
          2015,
          2019
         ],
         "xaxis": "x",
         "y": [
          1,
          1
         ],
         "yaxis": "y"
        },
        {
         "hovertemplate": "Descripcion=NO SE PUEDE DETERMINAR<br>Ano=%{x}<br>Cantidad=%{y}<extra></extra>",
         "legendgroup": "NO SE PUEDE DETERMINAR",
         "line": {
          "color": "#FFA15A",
          "dash": "solid"
         },
         "marker": {
          "symbol": "circle"
         },
         "mode": "markers+lines",
         "name": "NO SE PUEDE DETERMINAR",
         "orientation": "v",
         "showlegend": true,
         "type": "scatter",
         "x": [
          2016
         ],
         "xaxis": "x",
         "y": [
          1
         ],
         "yaxis": "y"
        },
        {
         "hovertemplate": "Descripcion=EFECTUAR UNA DETENCION SIN CONTAR CON LA ORDEN CORRESPONDIENTE, FUERA DE LOS CASOS DE FLAGRANCIA<br>Ano=%{x}<br>Cantidad=%{y}<extra></extra>",
         "legendgroup": "EFECTUAR UNA DETENCION SIN CONTAR CON LA ORDEN CORRESPONDIENTE, FUERA DE LOS CASOS DE FLAGRANCIA",
         "line": {
          "color": "#19d3f3",
          "dash": "solid"
         },
         "marker": {
          "symbol": "circle"
         },
         "mode": "markers+lines",
         "name": "EFECTUAR UNA DETENCION SIN CONTAR CON LA ORDEN CORRESPONDIENTE, FUERA DE LOS CASOS DE FLAGRANCIA",
         "orientation": "v",
         "showlegend": true,
         "type": "scatter",
         "x": [
          2017,
          2018
         ],
         "xaxis": "x",
         "y": [
          1,
          3
         ],
         "yaxis": "y"
        },
        {
         "hovertemplate": "Descripcion=OBSTACULIZAR LA SALIDA DEL PAIS<br>Ano=%{x}<br>Cantidad=%{y}<extra></extra>",
         "legendgroup": "OBSTACULIZAR LA SALIDA DEL PAIS",
         "line": {
          "color": "#FF6692",
          "dash": "solid"
         },
         "marker": {
          "symbol": "circle"
         },
         "mode": "markers+lines",
         "name": "OBSTACULIZAR LA SALIDA DEL PAIS",
         "orientation": "v",
         "showlegend": true,
         "type": "scatter",
         "x": [
          2017
         ],
         "xaxis": "x",
         "y": [
          1
         ],
         "yaxis": "y"
        },
        {
         "hovertemplate": "Descripcion=INTIMIDACION<br>Ano=%{x}<br>Cantidad=%{y}<extra></extra>",
         "legendgroup": "INTIMIDACION",
         "line": {
          "color": "#B6E880",
          "dash": "solid"
         },
         "marker": {
          "symbol": "circle"
         },
         "mode": "markers+lines",
         "name": "INTIMIDACION",
         "orientation": "v",
         "showlegend": true,
         "type": "scatter",
         "x": [
          2018,
          2020,
          2022
         ],
         "xaxis": "x",
         "y": [
          2,
          1,
          1
         ],
         "yaxis": "y"
        },
        {
         "hovertemplate": "Descripcion=OMITIR HABILITAR CON LA INFRAESTRUCTURA Y EQUIPAMIENTO ADECUADOS LA PRESTACION DE SERVICIOS PUBLICOS<br>Ano=%{x}<br>Cantidad=%{y}<extra></extra>",
         "legendgroup": "OMITIR HABILITAR CON LA INFRAESTRUCTURA Y EQUIPAMIENTO ADECUADOS LA PRESTACION DE SERVICIOS PUBLICOS",
         "line": {
          "color": "#FF97FF",
          "dash": "solid"
         },
         "marker": {
          "symbol": "circle"
         },
         "mode": "markers+lines",
         "name": "OMITIR HABILITAR CON LA INFRAESTRUCTURA Y EQUIPAMIENTO ADECUADOS LA PRESTACION DE SERVICIOS PUBLICOS",
         "orientation": "v",
         "showlegend": true,
         "type": "scatter",
         "x": [
          2018
         ],
         "xaxis": "x",
         "y": [
          1
         ],
         "yaxis": "y"
        },
        {
         "hovertemplate": "Descripcion=ACCIONES Y OMISIONES QUE TRANSGREDEN LOS DERECHOS A LOS MIGRANTES Y DE SUS FAMILIARES<br>Ano=%{x}<br>Cantidad=%{y}<extra></extra>",
         "legendgroup": "ACCIONES Y OMISIONES QUE TRANSGREDEN LOS DERECHOS A LOS MIGRANTES Y DE SUS FAMILIARES",
         "line": {
          "color": "#FECB52",
          "dash": "solid"
         },
         "marker": {
          "symbol": "circle"
         },
         "mode": "markers+lines",
         "name": "ACCIONES Y OMISIONES QUE TRANSGREDEN LOS DERECHOS A LOS MIGRANTES Y DE SUS FAMILIARES",
         "orientation": "v",
         "showlegend": true,
         "type": "scatter",
         "x": [
          2019,
          2020,
          2021,
          2022
         ],
         "xaxis": "x",
         "y": [
          10,
          6,
          9,
          171
         ],
         "yaxis": "y"
        },
        {
         "hovertemplate": "Descripcion=OMITIR BRINDAR ASESORIA JURIDICA E INFORMACION SOBRE EL DESARROLLO DEL PROCEDIMIENTO<br>Ano=%{x}<br>Cantidad=%{y}<extra></extra>",
         "legendgroup": "OMITIR BRINDAR ASESORIA JURIDICA E INFORMACION SOBRE EL DESARROLLO DEL PROCEDIMIENTO",
         "line": {
          "color": "#636efa",
          "dash": "solid"
         },
         "marker": {
          "symbol": "circle"
         },
         "mode": "markers+lines",
         "name": "OMITIR BRINDAR ASESORIA JURIDICA E INFORMACION SOBRE EL DESARROLLO DEL PROCEDIMIENTO",
         "orientation": "v",
         "showlegend": true,
         "type": "scatter",
         "x": [
          2019,
          2022
         ],
         "xaxis": "x",
         "y": [
          2,
          2
         ],
         "yaxis": "y"
        },
        {
         "hovertemplate": "Descripcion=ARRAIGAR A UNA PERSONA EN LUGAR DISTINTO AL PREVISTO POR LA LEY O EN CONDICIONES QUE ATENTAN CONTRA SU DIGNIDAD<br>Ano=%{x}<br>Cantidad=%{y}<extra></extra>",
         "legendgroup": "ARRAIGAR A UNA PERSONA EN LUGAR DISTINTO AL PREVISTO POR LA LEY O EN CONDICIONES QUE ATENTAN CONTRA SU DIGNIDAD",
         "line": {
          "color": "#EF553B",
          "dash": "solid"
         },
         "marker": {
          "symbol": "circle"
         },
         "mode": "markers+lines",
         "name": "ARRAIGAR A UNA PERSONA EN LUGAR DISTINTO AL PREVISTO POR LA LEY O EN CONDICIONES QUE ATENTAN CONTRA SU DIGNIDAD",
         "orientation": "v",
         "showlegend": true,
         "type": "scatter",
         "x": [
          2019
         ],
         "xaxis": "x",
         "y": [
          1
         ],
         "yaxis": "y"
        },
        {
         "hovertemplate": "Descripcion=NEGAR LA RECEPCION DE UNA DENUNCIA<br>Ano=%{x}<br>Cantidad=%{y}<extra></extra>",
         "legendgroup": "NEGAR LA RECEPCION DE UNA DENUNCIA",
         "line": {
          "color": "#00cc96",
          "dash": "solid"
         },
         "marker": {
          "symbol": "circle"
         },
         "mode": "markers+lines",
         "name": "NEGAR LA RECEPCION DE UNA DENUNCIA",
         "orientation": "v",
         "showlegend": true,
         "type": "scatter",
         "x": [
          2019
         ],
         "xaxis": "x",
         "y": [
          1
         ],
         "yaxis": "y"
        },
        {
         "hovertemplate": "Descripcion=OMITIR DAR INFORMACION<br>Ano=%{x}<br>Cantidad=%{y}<extra></extra>",
         "legendgroup": "OMITIR DAR INFORMACION",
         "line": {
          "color": "#ab63fa",
          "dash": "solid"
         },
         "marker": {
          "symbol": "circle"
         },
         "mode": "markers+lines",
         "name": "OMITIR DAR INFORMACION",
         "orientation": "v",
         "showlegend": true,
         "type": "scatter",
         "x": [
          2019
         ],
         "xaxis": "x",
         "y": [
          1
         ],
         "yaxis": "y"
        },
        {
         "hovertemplate": "Descripcion=OMITIR PRESTAR ATENCION MEDICA<br>Ano=%{x}<br>Cantidad=%{y}<extra></extra>",
         "legendgroup": "OMITIR PRESTAR ATENCION MEDICA",
         "line": {
          "color": "#FFA15A",
          "dash": "solid"
         },
         "marker": {
          "symbol": "circle"
         },
         "mode": "markers+lines",
         "name": "OMITIR PRESTAR ATENCION MEDICA",
         "orientation": "v",
         "showlegend": true,
         "type": "scatter",
         "x": [
          2019
         ],
         "xaxis": "x",
         "y": [
          1
         ],
         "yaxis": "y"
        },
        {
         "hovertemplate": "Descripcion=PRACTICAR DE MANERA NEGLIGENTE LAS DILIGENCIAS<br>Ano=%{x}<br>Cantidad=%{y}<extra></extra>",
         "legendgroup": "PRACTICAR DE MANERA NEGLIGENTE LAS DILIGENCIAS",
         "line": {
          "color": "#19d3f3",
          "dash": "solid"
         },
         "marker": {
          "symbol": "circle"
         },
         "mode": "markers+lines",
         "name": "PRACTICAR DE MANERA NEGLIGENTE LAS DILIGENCIAS",
         "orientation": "v",
         "showlegend": true,
         "type": "scatter",
         "x": [
          2019,
          2020
         ],
         "xaxis": "x",
         "y": [
          1,
          1
         ],
         "yaxis": "y"
        },
        {
         "hovertemplate": "Descripcion=LIMITAR O IMPEDIR VIAJAR O DESPLAZARSE DENTRO DEL PAIS<br>Ano=%{x}<br>Cantidad=%{y}<extra></extra>",
         "legendgroup": "LIMITAR O IMPEDIR VIAJAR O DESPLAZARSE DENTRO DEL PAIS",
         "line": {
          "color": "#FF6692",
          "dash": "solid"
         },
         "marker": {
          "symbol": "circle"
         },
         "mode": "markers+lines",
         "name": "LIMITAR O IMPEDIR VIAJAR O DESPLAZARSE DENTRO DEL PAIS",
         "orientation": "v",
         "showlegend": true,
         "type": "scatter",
         "x": [
          2020,
          2022
         ],
         "xaxis": "x",
         "y": [
          1,
          116
         ],
         "yaxis": "y"
        },
        {
         "hovertemplate": "Descripcion=OMITIR FUNDAR EL ACTO DE AUTORIDAD<br>Ano=%{x}<br>Cantidad=%{y}<extra></extra>",
         "legendgroup": "OMITIR FUNDAR EL ACTO DE AUTORIDAD",
         "line": {
          "color": "#B6E880",
          "dash": "solid"
         },
         "marker": {
          "symbol": "circle"
         },
         "mode": "markers+lines",
         "name": "OMITIR FUNDAR EL ACTO DE AUTORIDAD",
         "orientation": "v",
         "showlegend": true,
         "type": "scatter",
         "x": [
          2020,
          2022
         ],
         "xaxis": "x",
         "y": [
          1,
          2
         ],
         "yaxis": "y"
        },
        {
         "hovertemplate": "Descripcion=OMITIR MOTIVAR EL ACTO DE AUTORIDAD<br>Ano=%{x}<br>Cantidad=%{y}<extra></extra>",
         "legendgroup": "OMITIR MOTIVAR EL ACTO DE AUTORIDAD",
         "line": {
          "color": "#FF97FF",
          "dash": "solid"
         },
         "marker": {
          "symbol": "circle"
         },
         "mode": "markers+lines",
         "name": "OMITIR MOTIVAR EL ACTO DE AUTORIDAD",
         "orientation": "v",
         "showlegend": true,
         "type": "scatter",
         "x": [
          2020,
          2022
         ],
         "xaxis": "x",
         "y": [
          1,
          2
         ],
         "yaxis": "y"
        },
        {
         "hovertemplate": "Descripcion=INCOMUNICACION<br>Ano=%{x}<br>Cantidad=%{y}<extra></extra>",
         "legendgroup": "INCOMUNICACION",
         "line": {
          "color": "#FECB52",
          "dash": "solid"
         },
         "marker": {
          "symbol": "circle"
         },
         "mode": "markers+lines",
         "name": "INCOMUNICACION",
         "orientation": "v",
         "showlegend": true,
         "type": "scatter",
         "x": [
          2021
         ],
         "xaxis": "x",
         "y": [
          1
         ],
         "yaxis": "y"
        },
        {
         "hovertemplate": "Descripcion=OMITIR BRINDAR ATENCION MEDICA Y/O PSICOLOGICA DE URGENCIA<br>Ano=%{x}<br>Cantidad=%{y}<extra></extra>",
         "legendgroup": "OMITIR BRINDAR ATENCION MEDICA Y/O PSICOLOGICA DE URGENCIA",
         "line": {
          "color": "#636efa",
          "dash": "solid"
         },
         "marker": {
          "symbol": "circle"
         },
         "mode": "markers+lines",
         "name": "OMITIR BRINDAR ATENCION MEDICA Y/O PSICOLOGICA DE URGENCIA",
         "orientation": "v",
         "showlegend": true,
         "type": "scatter",
         "x": [
          2021
         ],
         "xaxis": "x",
         "y": [
          1
         ],
         "yaxis": "y"
        },
        {
         "hovertemplate": "Descripcion=OMITIR CUSTODIAR, VIGILAR, PROTEGER, ESTABLECER MEDIDAS CAUTELARES Y/O DAR SEGURIDAD A PERSONAS<br>Ano=%{x}<br>Cantidad=%{y}<extra></extra>",
         "legendgroup": "OMITIR CUSTODIAR, VIGILAR, PROTEGER, ESTABLECER MEDIDAS CAUTELARES Y/O DAR SEGURIDAD A PERSONAS",
         "line": {
          "color": "#EF553B",
          "dash": "solid"
         },
         "marker": {
          "symbol": "circle"
         },
         "mode": "markers+lines",
         "name": "OMITIR CUSTODIAR, VIGILAR, PROTEGER, ESTABLECER MEDIDAS CAUTELARES Y/O DAR SEGURIDAD A PERSONAS",
         "orientation": "v",
         "showlegend": true,
         "type": "scatter",
         "x": [
          2021
         ],
         "xaxis": "x",
         "y": [
          1
         ],
         "yaxis": "y"
        },
        {
         "hovertemplate": "Descripcion=OMITIR LA EXPEDICION DE LICENCIAS O PERMISOS<br>Ano=%{x}<br>Cantidad=%{y}<extra></extra>",
         "legendgroup": "OMITIR LA EXPEDICION DE LICENCIAS O PERMISOS",
         "line": {
          "color": "#00cc96",
          "dash": "solid"
         },
         "marker": {
          "symbol": "circle"
         },
         "mode": "markers+lines",
         "name": "OMITIR LA EXPEDICION DE LICENCIAS O PERMISOS",
         "orientation": "v",
         "showlegend": true,
         "type": "scatter",
         "x": [
          2021
         ],
         "xaxis": "x",
         "y": [
          1
         ],
         "yaxis": "y"
        },
        {
         "hovertemplate": "Descripcion=OMITIR PROPORCIONAR ATENCION MEDICA<br>Ano=%{x}<br>Cantidad=%{y}<extra></extra>",
         "legendgroup": "OMITIR PROPORCIONAR ATENCION MEDICA",
         "line": {
          "color": "#ab63fa",
          "dash": "solid"
         },
         "marker": {
          "symbol": "circle"
         },
         "mode": "markers+lines",
         "name": "OMITIR PROPORCIONAR ATENCION MEDICA",
         "orientation": "v",
         "showlegend": true,
         "type": "scatter",
         "x": [
          2021
         ],
         "xaxis": "x",
         "y": [
          1
         ],
         "yaxis": "y"
        },
        {
         "hovertemplate": "Descripcion=OMITIR REGULARIZAR LA CALIDAD MIGRATORIA<br>Ano=%{x}<br>Cantidad=%{y}<extra></extra>",
         "legendgroup": "OMITIR REGULARIZAR LA CALIDAD MIGRATORIA",
         "line": {
          "color": "#FFA15A",
          "dash": "solid"
         },
         "marker": {
          "symbol": "circle"
         },
         "mode": "markers+lines",
         "name": "OMITIR REGULARIZAR LA CALIDAD MIGRATORIA",
         "orientation": "v",
         "showlegend": true,
         "type": "scatter",
         "x": [
          2021
         ],
         "xaxis": "x",
         "y": [
          1
         ],
         "yaxis": "y"
        },
        {
         "hovertemplate": "Descripcion=OMITIR RESOLVER RESPECTO DE LA SITUACION JURIDICA MIGRATORIA<br>Ano=%{x}<br>Cantidad=%{y}<extra></extra>",
         "legendgroup": "OMITIR RESOLVER RESPECTO DE LA SITUACION JURIDICA MIGRATORIA",
         "line": {
          "color": "#19d3f3",
          "dash": "solid"
         },
         "marker": {
          "symbol": "circle"
         },
         "mode": "markers+lines",
         "name": "OMITIR RESOLVER RESPECTO DE LA SITUACION JURIDICA MIGRATORIA",
         "orientation": "v",
         "showlegend": true,
         "type": "scatter",
         "x": [
          2021,
          2022
         ],
         "xaxis": "x",
         "y": [
          1,
          4
         ],
         "yaxis": "y"
        },
        {
         "hovertemplate": "Descripcion=ACCIONES  Y OMISIONES CONTRARIOS A LA LEGALIDAD<br>Ano=%{x}<br>Cantidad=%{y}<extra></extra>",
         "legendgroup": "ACCIONES  Y OMISIONES CONTRARIOS A LA LEGALIDAD",
         "line": {
          "color": "#FF6692",
          "dash": "solid"
         },
         "marker": {
          "symbol": "circle"
         },
         "mode": "markers+lines",
         "name": "ACCIONES  Y OMISIONES CONTRARIOS A LA LEGALIDAD",
         "orientation": "v",
         "showlegend": true,
         "type": "scatter",
         "x": [
          2022
         ],
         "xaxis": "x",
         "y": [
          3
         ],
         "yaxis": "y"
        },
        {
         "hovertemplate": "Descripcion=DEPORTAR EN FORMA ILEGAL<br>Ano=%{x}<br>Cantidad=%{y}<extra></extra>",
         "legendgroup": "DEPORTAR EN FORMA ILEGAL",
         "line": {
          "color": "#B6E880",
          "dash": "solid"
         },
         "marker": {
          "symbol": "circle"
         },
         "mode": "markers+lines",
         "name": "DEPORTAR EN FORMA ILEGAL",
         "orientation": "v",
         "showlegend": true,
         "type": "scatter",
         "x": [
          2022
         ],
         "xaxis": "x",
         "y": [
          1
         ],
         "yaxis": "y"
        },
        {
         "hovertemplate": "Descripcion=NO SE ACREDITO HECHO VIOLATORIO<br>Ano=%{x}<br>Cantidad=%{y}<extra></extra>",
         "legendgroup": "NO SE ACREDITO HECHO VIOLATORIO",
         "line": {
          "color": "#FF97FF",
          "dash": "solid"
         },
         "marker": {
          "symbol": "circle"
         },
         "mode": "markers+lines",
         "name": "NO SE ACREDITO HECHO VIOLATORIO",
         "orientation": "v",
         "showlegend": true,
         "type": "scatter",
         "x": [
          2022
         ],
         "xaxis": "x",
         "y": [
          1
         ],
         "yaxis": "y"
        }
       ],
       "layout": {
        "legend": {
         "title": {
          "text": "Descripcion"
         },
         "tracegroupgap": 0
        },
        "margin": {
         "t": 60
        },
        "template": {
         "data": {
          "bar": [
           {
            "error_x": {
             "color": "#2a3f5f"
            },
            "error_y": {
             "color": "#2a3f5f"
            },
            "marker": {
             "line": {
              "color": "#E5ECF6",
              "width": 0.5
             },
             "pattern": {
              "fillmode": "overlay",
              "size": 10,
              "solidity": 0.2
             }
            },
            "type": "bar"
           }
          ],
          "barpolar": [
           {
            "marker": {
             "line": {
              "color": "#E5ECF6",
              "width": 0.5
             },
             "pattern": {
              "fillmode": "overlay",
              "size": 10,
              "solidity": 0.2
             }
            },
            "type": "barpolar"
           }
          ],
          "carpet": [
           {
            "aaxis": {
             "endlinecolor": "#2a3f5f",
             "gridcolor": "white",
             "linecolor": "white",
             "minorgridcolor": "white",
             "startlinecolor": "#2a3f5f"
            },
            "baxis": {
             "endlinecolor": "#2a3f5f",
             "gridcolor": "white",
             "linecolor": "white",
             "minorgridcolor": "white",
             "startlinecolor": "#2a3f5f"
            },
            "type": "carpet"
           }
          ],
          "choropleth": [
           {
            "colorbar": {
             "outlinewidth": 0,
             "ticks": ""
            },
            "type": "choropleth"
           }
          ],
          "contour": [
           {
            "colorbar": {
             "outlinewidth": 0,
             "ticks": ""
            },
            "colorscale": [
             [
              0,
              "#0d0887"
             ],
             [
              0.1111111111111111,
              "#46039f"
             ],
             [
              0.2222222222222222,
              "#7201a8"
             ],
             [
              0.3333333333333333,
              "#9c179e"
             ],
             [
              0.4444444444444444,
              "#bd3786"
             ],
             [
              0.5555555555555556,
              "#d8576b"
             ],
             [
              0.6666666666666666,
              "#ed7953"
             ],
             [
              0.7777777777777778,
              "#fb9f3a"
             ],
             [
              0.8888888888888888,
              "#fdca26"
             ],
             [
              1,
              "#f0f921"
             ]
            ],
            "type": "contour"
           }
          ],
          "contourcarpet": [
           {
            "colorbar": {
             "outlinewidth": 0,
             "ticks": ""
            },
            "type": "contourcarpet"
           }
          ],
          "heatmap": [
           {
            "colorbar": {
             "outlinewidth": 0,
             "ticks": ""
            },
            "colorscale": [
             [
              0,
              "#0d0887"
             ],
             [
              0.1111111111111111,
              "#46039f"
             ],
             [
              0.2222222222222222,
              "#7201a8"
             ],
             [
              0.3333333333333333,
              "#9c179e"
             ],
             [
              0.4444444444444444,
              "#bd3786"
             ],
             [
              0.5555555555555556,
              "#d8576b"
             ],
             [
              0.6666666666666666,
              "#ed7953"
             ],
             [
              0.7777777777777778,
              "#fb9f3a"
             ],
             [
              0.8888888888888888,
              "#fdca26"
             ],
             [
              1,
              "#f0f921"
             ]
            ],
            "type": "heatmap"
           }
          ],
          "heatmapgl": [
           {
            "colorbar": {
             "outlinewidth": 0,
             "ticks": ""
            },
            "colorscale": [
             [
              0,
              "#0d0887"
             ],
             [
              0.1111111111111111,
              "#46039f"
             ],
             [
              0.2222222222222222,
              "#7201a8"
             ],
             [
              0.3333333333333333,
              "#9c179e"
             ],
             [
              0.4444444444444444,
              "#bd3786"
             ],
             [
              0.5555555555555556,
              "#d8576b"
             ],
             [
              0.6666666666666666,
              "#ed7953"
             ],
             [
              0.7777777777777778,
              "#fb9f3a"
             ],
             [
              0.8888888888888888,
              "#fdca26"
             ],
             [
              1,
              "#f0f921"
             ]
            ],
            "type": "heatmapgl"
           }
          ],
          "histogram": [
           {
            "marker": {
             "pattern": {
              "fillmode": "overlay",
              "size": 10,
              "solidity": 0.2
             }
            },
            "type": "histogram"
           }
          ],
          "histogram2d": [
           {
            "colorbar": {
             "outlinewidth": 0,
             "ticks": ""
            },
            "colorscale": [
             [
              0,
              "#0d0887"
             ],
             [
              0.1111111111111111,
              "#46039f"
             ],
             [
              0.2222222222222222,
              "#7201a8"
             ],
             [
              0.3333333333333333,
              "#9c179e"
             ],
             [
              0.4444444444444444,
              "#bd3786"
             ],
             [
              0.5555555555555556,
              "#d8576b"
             ],
             [
              0.6666666666666666,
              "#ed7953"
             ],
             [
              0.7777777777777778,
              "#fb9f3a"
             ],
             [
              0.8888888888888888,
              "#fdca26"
             ],
             [
              1,
              "#f0f921"
             ]
            ],
            "type": "histogram2d"
           }
          ],
          "histogram2dcontour": [
           {
            "colorbar": {
             "outlinewidth": 0,
             "ticks": ""
            },
            "colorscale": [
             [
              0,
              "#0d0887"
             ],
             [
              0.1111111111111111,
              "#46039f"
             ],
             [
              0.2222222222222222,
              "#7201a8"
             ],
             [
              0.3333333333333333,
              "#9c179e"
             ],
             [
              0.4444444444444444,
              "#bd3786"
             ],
             [
              0.5555555555555556,
              "#d8576b"
             ],
             [
              0.6666666666666666,
              "#ed7953"
             ],
             [
              0.7777777777777778,
              "#fb9f3a"
             ],
             [
              0.8888888888888888,
              "#fdca26"
             ],
             [
              1,
              "#f0f921"
             ]
            ],
            "type": "histogram2dcontour"
           }
          ],
          "mesh3d": [
           {
            "colorbar": {
             "outlinewidth": 0,
             "ticks": ""
            },
            "type": "mesh3d"
           }
          ],
          "parcoords": [
           {
            "line": {
             "colorbar": {
              "outlinewidth": 0,
              "ticks": ""
             }
            },
            "type": "parcoords"
           }
          ],
          "pie": [
           {
            "automargin": true,
            "type": "pie"
           }
          ],
          "scatter": [
           {
            "fillpattern": {
             "fillmode": "overlay",
             "size": 10,
             "solidity": 0.2
            },
            "type": "scatter"
           }
          ],
          "scatter3d": [
           {
            "line": {
             "colorbar": {
              "outlinewidth": 0,
              "ticks": ""
             }
            },
            "marker": {
             "colorbar": {
              "outlinewidth": 0,
              "ticks": ""
             }
            },
            "type": "scatter3d"
           }
          ],
          "scattercarpet": [
           {
            "marker": {
             "colorbar": {
              "outlinewidth": 0,
              "ticks": ""
             }
            },
            "type": "scattercarpet"
           }
          ],
          "scattergeo": [
           {
            "marker": {
             "colorbar": {
              "outlinewidth": 0,
              "ticks": ""
             }
            },
            "type": "scattergeo"
           }
          ],
          "scattergl": [
           {
            "marker": {
             "colorbar": {
              "outlinewidth": 0,
              "ticks": ""
             }
            },
            "type": "scattergl"
           }
          ],
          "scattermapbox": [
           {
            "marker": {
             "colorbar": {
              "outlinewidth": 0,
              "ticks": ""
             }
            },
            "type": "scattermapbox"
           }
          ],
          "scatterpolar": [
           {
            "marker": {
             "colorbar": {
              "outlinewidth": 0,
              "ticks": ""
             }
            },
            "type": "scatterpolar"
           }
          ],
          "scatterpolargl": [
           {
            "marker": {
             "colorbar": {
              "outlinewidth": 0,
              "ticks": ""
             }
            },
            "type": "scatterpolargl"
           }
          ],
          "scatterternary": [
           {
            "marker": {
             "colorbar": {
              "outlinewidth": 0,
              "ticks": ""
             }
            },
            "type": "scatterternary"
           }
          ],
          "surface": [
           {
            "colorbar": {
             "outlinewidth": 0,
             "ticks": ""
            },
            "colorscale": [
             [
              0,
              "#0d0887"
             ],
             [
              0.1111111111111111,
              "#46039f"
             ],
             [
              0.2222222222222222,
              "#7201a8"
             ],
             [
              0.3333333333333333,
              "#9c179e"
             ],
             [
              0.4444444444444444,
              "#bd3786"
             ],
             [
              0.5555555555555556,
              "#d8576b"
             ],
             [
              0.6666666666666666,
              "#ed7953"
             ],
             [
              0.7777777777777778,
              "#fb9f3a"
             ],
             [
              0.8888888888888888,
              "#fdca26"
             ],
             [
              1,
              "#f0f921"
             ]
            ],
            "type": "surface"
           }
          ],
          "table": [
           {
            "cells": {
             "fill": {
              "color": "#EBF0F8"
             },
             "line": {
              "color": "white"
             }
            },
            "header": {
             "fill": {
              "color": "#C8D4E3"
             },
             "line": {
              "color": "white"
             }
            },
            "type": "table"
           }
          ]
         },
         "layout": {
          "annotationdefaults": {
           "arrowcolor": "#2a3f5f",
           "arrowhead": 0,
           "arrowwidth": 1
          },
          "autotypenumbers": "strict",
          "coloraxis": {
           "colorbar": {
            "outlinewidth": 0,
            "ticks": ""
           }
          },
          "colorscale": {
           "diverging": [
            [
             0,
             "#8e0152"
            ],
            [
             0.1,
             "#c51b7d"
            ],
            [
             0.2,
             "#de77ae"
            ],
            [
             0.3,
             "#f1b6da"
            ],
            [
             0.4,
             "#fde0ef"
            ],
            [
             0.5,
             "#f7f7f7"
            ],
            [
             0.6,
             "#e6f5d0"
            ],
            [
             0.7,
             "#b8e186"
            ],
            [
             0.8,
             "#7fbc41"
            ],
            [
             0.9,
             "#4d9221"
            ],
            [
             1,
             "#276419"
            ]
           ],
           "sequential": [
            [
             0,
             "#0d0887"
            ],
            [
             0.1111111111111111,
             "#46039f"
            ],
            [
             0.2222222222222222,
             "#7201a8"
            ],
            [
             0.3333333333333333,
             "#9c179e"
            ],
            [
             0.4444444444444444,
             "#bd3786"
            ],
            [
             0.5555555555555556,
             "#d8576b"
            ],
            [
             0.6666666666666666,
             "#ed7953"
            ],
            [
             0.7777777777777778,
             "#fb9f3a"
            ],
            [
             0.8888888888888888,
             "#fdca26"
            ],
            [
             1,
             "#f0f921"
            ]
           ],
           "sequentialminus": [
            [
             0,
             "#0d0887"
            ],
            [
             0.1111111111111111,
             "#46039f"
            ],
            [
             0.2222222222222222,
             "#7201a8"
            ],
            [
             0.3333333333333333,
             "#9c179e"
            ],
            [
             0.4444444444444444,
             "#bd3786"
            ],
            [
             0.5555555555555556,
             "#d8576b"
            ],
            [
             0.6666666666666666,
             "#ed7953"
            ],
            [
             0.7777777777777778,
             "#fb9f3a"
            ],
            [
             0.8888888888888888,
             "#fdca26"
            ],
            [
             1,
             "#f0f921"
            ]
           ]
          },
          "colorway": [
           "#636efa",
           "#EF553B",
           "#00cc96",
           "#ab63fa",
           "#FFA15A",
           "#19d3f3",
           "#FF6692",
           "#B6E880",
           "#FF97FF",
           "#FECB52"
          ],
          "font": {
           "color": "#2a3f5f"
          },
          "geo": {
           "bgcolor": "white",
           "lakecolor": "white",
           "landcolor": "#E5ECF6",
           "showlakes": true,
           "showland": true,
           "subunitcolor": "white"
          },
          "hoverlabel": {
           "align": "left"
          },
          "hovermode": "closest",
          "mapbox": {
           "style": "light"
          },
          "paper_bgcolor": "white",
          "plot_bgcolor": "#E5ECF6",
          "polar": {
           "angularaxis": {
            "gridcolor": "white",
            "linecolor": "white",
            "ticks": ""
           },
           "bgcolor": "#E5ECF6",
           "radialaxis": {
            "gridcolor": "white",
            "linecolor": "white",
            "ticks": ""
           }
          },
          "scene": {
           "xaxis": {
            "backgroundcolor": "#E5ECF6",
            "gridcolor": "white",
            "gridwidth": 2,
            "linecolor": "white",
            "showbackground": true,
            "ticks": "",
            "zerolinecolor": "white"
           },
           "yaxis": {
            "backgroundcolor": "#E5ECF6",
            "gridcolor": "white",
            "gridwidth": 2,
            "linecolor": "white",
            "showbackground": true,
            "ticks": "",
            "zerolinecolor": "white"
           },
           "zaxis": {
            "backgroundcolor": "#E5ECF6",
            "gridcolor": "white",
            "gridwidth": 2,
            "linecolor": "white",
            "showbackground": true,
            "ticks": "",
            "zerolinecolor": "white"
           }
          },
          "shapedefaults": {
           "line": {
            "color": "#2a3f5f"
           }
          },
          "ternary": {
           "aaxis": {
            "gridcolor": "white",
            "linecolor": "white",
            "ticks": ""
           },
           "baxis": {
            "gridcolor": "white",
            "linecolor": "white",
            "ticks": ""
           },
           "bgcolor": "#E5ECF6",
           "caxis": {
            "gridcolor": "white",
            "linecolor": "white",
            "ticks": ""
           }
          },
          "title": {
           "x": 0.05
          },
          "xaxis": {
           "automargin": true,
           "gridcolor": "white",
           "linecolor": "white",
           "ticks": "",
           "title": {
            "standoff": 15
           },
           "zerolinecolor": "white",
           "zerolinewidth": 2
          },
          "yaxis": {
           "automargin": true,
           "gridcolor": "white",
           "linecolor": "white",
           "ticks": "",
           "title": {
            "standoff": 15
           },
           "zerolinecolor": "white",
           "zerolinewidth": 2
          }
         }
        },
        "xaxis": {
         "anchor": "y",
         "domain": [
          0,
          1
         ],
         "title": {
          "text": "Ano"
         }
        },
        "yaxis": {
         "anchor": "x",
         "domain": [
          0,
          1
         ],
         "title": {
          "text": "Cantidad"
         }
        }
       }
      }
     },
     "metadata": {},
     "output_type": "display_data"
    }
   ],
   "source": [
    "\n",
    "fig = px.line(df_filtred, x='Ano', y='Cantidad', color='Descripcion', markers=True)\n",
    "fig.show()"
   ]
  },
  {
   "cell_type": "code",
   "execution_count": 46,
   "metadata": {},
   "outputs": [
    {
     "data": {
      "application/vnd.plotly.v1+json": {
       "config": {
        "plotlyServerURL": "https://plot.ly"
       },
       "data": [
        {
         "alignmentgroup": "True",
         "bingroup": "x",
         "hovertemplate": "Descripcion=%{x}<br>count=%{y}<extra></extra>",
         "legendgroup": "",
         "marker": {
          "color": "#636efa",
          "pattern": {
           "shape": ""
          }
         },
         "name": "",
         "offsetgroup": "",
         "orientation": "v",
         "showlegend": false,
         "type": "histogram",
         "x": [
          "EMPLEAR ARBITRARIAMENTE LA FUERZA PUBLICA",
          "FALTAR A LA LEGALIDAD, HONRADEZ, LEALTAD, IMPARCIALIDAD Y EFICACIA EN EL DESEMPEÑO DE LAS FUNCIONES, EMPLEOS, CARGOS O COMISIONES",
          "PRESTAR INDEBIDAMENTE EL SERVICIO PUBLICO",
          "ACCIONES Y OMISIONES QUE TRANSGREDEN LOS DERECHO A LOS MIGRANTES Y DE SUS FAMILIARES",
          "DETENCION ARBITRARIA",
          "TRATO CRUEL, INHUMANO O DEGRADANTE",
          "PRESTAR INDEBIDAMENTE EL SERVICIO PUBLICO",
          "ACCIONES Y OMISIONES QUE TRANSGREDEN LOS DERECHO A LOS MIGRANTES Y DE SUS FAMILIARES",
          "FALTAR A LA LEGALIDAD, HONRADEZ, LEALTAD, IMPARCIALIDAD Y EFICACIA EN EL DESEMPEÑO DE LAS FUNCIONES, EMPLEOS, CARGOS O COMISIONES",
          "ACCIONES Y OMISIONES QUE TRANSGREDEN LOS DERECHOS DE LAS PERSONAS PRIVADAS DE SU LIBERTAD",
          "ACCIONES U OMISIONES CONTRARIAS A LOS DERECHOS A LAS PERSONAS PRIVADAS DE SU LIBERTAD",
          "APODERARSE DE UN BIEN MUEBLE SIN EL CONSENTIMIENTO DEL PROPIETARIO, SIN QUE EXISTA CAUSA JUSTIFICADA",
          "DETENCION ARBITRARIA",
          "DILACION EN EL PROCEDIMIENTO ADMINISTRATIVO",
          "IMPUTAR INDEBIDAMENTE HECHOS",
          "OMITIR BRINDAR PROTECCION Y AUXILIO",
          "OMITIR DAR RESPUESTA A LA PETICION FORMULADA POR CUALQUIER PERSONA EN EJERCICIO DE SU DERECHO",
          "OMITIR RESPONDER EN BREVE TERMINO A AQUEL QUE HIZO LA PETICION",
          "TRATO CRUEL, INHUMANO O DEGRADANTE",
          "ACCIONES U OMISIONES CONTRARIAS A LOS DERECHOS A LAS PERSONAS PRIVADAS DE SU LIBERTAD",
          "ACCIONES Y OMISIONES QUE TRANSGREDEN LOS DERECHO A LOS MIGRANTES Y DE SUS FAMILIARES",
          "APODERARSE DE UN BIEN MUEBLE SIN EL CONSENTIMIENTO DEL PROPIETARIO, SIN QUE EXISTA CAUSA JUSTIFICADA",
          "FALTAR A LA LEGALIDAD, HONRADEZ, LEALTAD, IMPARCIALIDAD Y EFICACIA EN EL DESEMPEÑO DE LAS FUNCIONES, EMPLEOS, CARGOS O COMISIONES",
          "NO SE PUEDE DETERMINAR",
          "PRESTAR INDEBIDAMENTE EL SERVICIO PUBLICO",
          "ACCIONES Y OMISIONES QUE TRANSGREDEN LOS DERECHO A LOS MIGRANTES Y DE SUS FAMILIARES",
          "FALTAR A LA LEGALIDAD, HONRADEZ, LEALTAD, IMPARCIALIDAD Y EFICACIA EN EL DESEMPEÑO DE LAS FUNCIONES, EMPLEOS, CARGOS O COMISIONES",
          "PRESTAR INDEBIDAMENTE EL SERVICIO PUBLICO",
          "DETENCION ARBITRARIA",
          "EFECTUAR UNA DETENCION SIN CONTAR CON LA ORDEN CORRESPONDIENTE, FUERA DE LOS CASOS DE FLAGRANCIA",
          "OBSTACULIZAR LA SALIDA DEL PAIS",
          "ACCIONES Y OMISIONES QUE TRANSGREDEN LOS DERECHO A LOS MIGRANTES Y DE SUS FAMILIARES",
          "FALTAR A LA LEGALIDAD, HONRADEZ, LEALTAD, IMPARCIALIDAD Y EFICACIA EN EL DESEMPEÑO DE LAS FUNCIONES, EMPLEOS, CARGOS O COMISIONES",
          "DETENCION ARBITRARIA",
          "EFECTUAR UNA DETENCION SIN CONTAR CON LA ORDEN CORRESPONDIENTE, FUERA DE LOS CASOS DE FLAGRANCIA",
          "PRESTAR INDEBIDAMENTE EL SERVICIO PUBLICO",
          "TRATO CRUEL, INHUMANO O DEGRADANTE",
          "INTIMIDACION",
          "APODERARSE DE UN BIEN MUEBLE SIN EL CONSENTIMIENTO DEL PROPIETARIO, SIN QUE EXISTA CAUSA JUSTIFICADA",
          "OMITIR HABILITAR CON LA INFRAESTRUCTURA Y EQUIPAMIENTO ADECUADOS LA PRESTACION DE SERVICIOS PUBLICOS",
          "ACCIONES Y OMISIONES QUE TRANSGREDEN LOS DERECHOS A LOS MIGRANTES Y DE SUS FAMILIARES",
          "FALTAR A LA LEGALIDAD, HONRADEZ, LEALTAD, IMPARCIALIDAD Y EFICACIA EN EL DESEMPEÑO DE LAS FUNCIONES, EMPLEOS, CARGOS O COMISIONES",
          "PRESTAR INDEBIDAMENTE EL SERVICIO PUBLICO",
          "APODERARSE DE UN BIEN MUEBLE SIN EL CONSENTIMIENTO DEL PROPIETARIO, SIN QUE EXISTA CAUSA JUSTIFICADA",
          "OMITIR BRINDAR ASESORIA JURIDICA E INFORMACION SOBRE EL DESARROLLO DEL PROCEDIMIENTO",
          "ACCIONES U OMISIONES CONTRARIAS A LOS DERECHOS A LAS PERSONAS PRIVADAS DE SU LIBERTAD",
          "ARRAIGAR A UNA PERSONA EN LUGAR DISTINTO AL PREVISTO POR LA LEY O EN CONDICIONES QUE ATENTAN CONTRA SU DIGNIDAD",
          "NEGAR LA RECEPCION DE UNA DENUNCIA",
          "OMITIR DAR INFORMACION",
          "OMITIR DAR RESPUESTA A LA PETICION FORMULADA POR CUALQUIER PERSONA EN EJERCICIO DE SU DERECHO",
          "OMITIR PRESTAR ATENCION MEDICA",
          "OMITIR RESPONDER EN BREVE TERMINO A AQUEL QUE HIZO LA PETICION",
          "PRACTICAR DE MANERA NEGLIGENTE LAS DILIGENCIAS",
          "TRATO CRUEL, INHUMANO O DEGRADANTE",
          "ACCIONES Y OMISIONES QUE TRANSGREDEN LOS DERECHOS A LOS MIGRANTES Y DE SUS FAMILIARES",
          "PRESTAR INDEBIDAMENTE EL SERVICIO PUBLICO",
          "FALTAR A LA LEGALIDAD, HONRADEZ, LEALTAD, IMPARCIALIDAD Y EFICACIA EN EL DESEMPEÑO DE LAS FUNCIONES, EMPLEOS, CARGOS O COMISIONES",
          "APODERARSE DE UN BIEN MUEBLE SIN EL CONSENTIMIENTO DEL PROPIETARIO, SIN QUE EXISTA CAUSA JUSTIFICADA",
          "DETENCION ARBITRARIA",
          "INTIMIDACION",
          "LIMITAR O IMPEDIR VIAJAR O DESPLAZARSE DENTRO DEL PAIS",
          "OMITIR FUNDAR EL ACTO DE AUTORIDAD",
          "OMITIR MOTIVAR EL ACTO DE AUTORIDAD",
          "PRACTICAR DE MANERA NEGLIGENTE LAS DILIGENCIAS",
          "ACCIONES Y OMISIONES QUE TRANSGREDEN LOS DERECHOS A LOS MIGRANTES Y DE SUS FAMILIARES",
          "FALTAR A LA LEGALIDAD, HONRADEZ, LEALTAD, IMPARCIALIDAD Y EFICACIA EN EL DESEMPEÑO DE LAS FUNCIONES, EMPLEOS, CARGOS O COMISIONES",
          "PRESTAR INDEBIDAMENTE EL SERVICIO PUBLICO",
          "APODERARSE DE UN BIEN MUEBLE SIN EL CONSENTIMIENTO DEL PROPIETARIO, SIN QUE EXISTA CAUSA JUSTIFICADA",
          "INCOMUNICACION",
          "OMITIR BRINDAR ATENCION MEDICA Y/O PSICOLOGICA DE URGENCIA",
          "OMITIR BRINDAR PROTECCION Y AUXILIO",
          "OMITIR CUSTODIAR, VIGILAR, PROTEGER, ESTABLECER MEDIDAS CAUTELARES Y/O DAR SEGURIDAD A PERSONAS",
          "OMITIR LA EXPEDICION DE LICENCIAS O PERMISOS",
          "OMITIR PROPORCIONAR ATENCION MEDICA",
          "OMITIR REGULARIZAR LA CALIDAD MIGRATORIA",
          "OMITIR RESOLVER RESPECTO DE LA SITUACION JURIDICA MIGRATORIA",
          "TRATO CRUEL, INHUMANO O DEGRADANTE",
          "ACCIONES Y OMISIONES QUE TRANSGREDEN LOS DERECHOS A LOS MIGRANTES Y DE SUS FAMILIARES",
          "LIMITAR O IMPEDIR VIAJAR O DESPLAZARSE DENTRO DEL PAIS",
          "FALTAR A LA LEGALIDAD, HONRADEZ, LEALTAD, IMPARCIALIDAD Y EFICACIA EN EL DESEMPEÑO DE LAS FUNCIONES, EMPLEOS, CARGOS O COMISIONES",
          "PRESTAR INDEBIDAMENTE EL SERVICIO PUBLICO",
          "OMITIR RESOLVER RESPECTO DE LA SITUACION JURIDICA MIGRATORIA",
          "ACCIONES  Y OMISIONES CONTRARIOS A LA LEGALIDAD",
          "OMITIR BRINDAR ASESORIA JURIDICA E INFORMACION SOBRE EL DESARROLLO DEL PROCEDIMIENTO",
          "OMITIR FUNDAR EL ACTO DE AUTORIDAD",
          "OMITIR MOTIVAR EL ACTO DE AUTORIDAD",
          "DEPORTAR EN FORMA ILEGAL",
          "DETENCION ARBITRARIA",
          "INTIMIDACION",
          "NO SE ACREDITO HECHO VIOLATORIO"
         ],
         "xaxis": "x",
         "yaxis": "y"
        }
       ],
       "layout": {
        "barmode": "relative",
        "legend": {
         "tracegroupgap": 0
        },
        "margin": {
         "t": 60
        },
        "template": {
         "data": {
          "bar": [
           {
            "error_x": {
             "color": "#2a3f5f"
            },
            "error_y": {
             "color": "#2a3f5f"
            },
            "marker": {
             "line": {
              "color": "#E5ECF6",
              "width": 0.5
             },
             "pattern": {
              "fillmode": "overlay",
              "size": 10,
              "solidity": 0.2
             }
            },
            "type": "bar"
           }
          ],
          "barpolar": [
           {
            "marker": {
             "line": {
              "color": "#E5ECF6",
              "width": 0.5
             },
             "pattern": {
              "fillmode": "overlay",
              "size": 10,
              "solidity": 0.2
             }
            },
            "type": "barpolar"
           }
          ],
          "carpet": [
           {
            "aaxis": {
             "endlinecolor": "#2a3f5f",
             "gridcolor": "white",
             "linecolor": "white",
             "minorgridcolor": "white",
             "startlinecolor": "#2a3f5f"
            },
            "baxis": {
             "endlinecolor": "#2a3f5f",
             "gridcolor": "white",
             "linecolor": "white",
             "minorgridcolor": "white",
             "startlinecolor": "#2a3f5f"
            },
            "type": "carpet"
           }
          ],
          "choropleth": [
           {
            "colorbar": {
             "outlinewidth": 0,
             "ticks": ""
            },
            "type": "choropleth"
           }
          ],
          "contour": [
           {
            "colorbar": {
             "outlinewidth": 0,
             "ticks": ""
            },
            "colorscale": [
             [
              0,
              "#0d0887"
             ],
             [
              0.1111111111111111,
              "#46039f"
             ],
             [
              0.2222222222222222,
              "#7201a8"
             ],
             [
              0.3333333333333333,
              "#9c179e"
             ],
             [
              0.4444444444444444,
              "#bd3786"
             ],
             [
              0.5555555555555556,
              "#d8576b"
             ],
             [
              0.6666666666666666,
              "#ed7953"
             ],
             [
              0.7777777777777778,
              "#fb9f3a"
             ],
             [
              0.8888888888888888,
              "#fdca26"
             ],
             [
              1,
              "#f0f921"
             ]
            ],
            "type": "contour"
           }
          ],
          "contourcarpet": [
           {
            "colorbar": {
             "outlinewidth": 0,
             "ticks": ""
            },
            "type": "contourcarpet"
           }
          ],
          "heatmap": [
           {
            "colorbar": {
             "outlinewidth": 0,
             "ticks": ""
            },
            "colorscale": [
             [
              0,
              "#0d0887"
             ],
             [
              0.1111111111111111,
              "#46039f"
             ],
             [
              0.2222222222222222,
              "#7201a8"
             ],
             [
              0.3333333333333333,
              "#9c179e"
             ],
             [
              0.4444444444444444,
              "#bd3786"
             ],
             [
              0.5555555555555556,
              "#d8576b"
             ],
             [
              0.6666666666666666,
              "#ed7953"
             ],
             [
              0.7777777777777778,
              "#fb9f3a"
             ],
             [
              0.8888888888888888,
              "#fdca26"
             ],
             [
              1,
              "#f0f921"
             ]
            ],
            "type": "heatmap"
           }
          ],
          "heatmapgl": [
           {
            "colorbar": {
             "outlinewidth": 0,
             "ticks": ""
            },
            "colorscale": [
             [
              0,
              "#0d0887"
             ],
             [
              0.1111111111111111,
              "#46039f"
             ],
             [
              0.2222222222222222,
              "#7201a8"
             ],
             [
              0.3333333333333333,
              "#9c179e"
             ],
             [
              0.4444444444444444,
              "#bd3786"
             ],
             [
              0.5555555555555556,
              "#d8576b"
             ],
             [
              0.6666666666666666,
              "#ed7953"
             ],
             [
              0.7777777777777778,
              "#fb9f3a"
             ],
             [
              0.8888888888888888,
              "#fdca26"
             ],
             [
              1,
              "#f0f921"
             ]
            ],
            "type": "heatmapgl"
           }
          ],
          "histogram": [
           {
            "marker": {
             "pattern": {
              "fillmode": "overlay",
              "size": 10,
              "solidity": 0.2
             }
            },
            "type": "histogram"
           }
          ],
          "histogram2d": [
           {
            "colorbar": {
             "outlinewidth": 0,
             "ticks": ""
            },
            "colorscale": [
             [
              0,
              "#0d0887"
             ],
             [
              0.1111111111111111,
              "#46039f"
             ],
             [
              0.2222222222222222,
              "#7201a8"
             ],
             [
              0.3333333333333333,
              "#9c179e"
             ],
             [
              0.4444444444444444,
              "#bd3786"
             ],
             [
              0.5555555555555556,
              "#d8576b"
             ],
             [
              0.6666666666666666,
              "#ed7953"
             ],
             [
              0.7777777777777778,
              "#fb9f3a"
             ],
             [
              0.8888888888888888,
              "#fdca26"
             ],
             [
              1,
              "#f0f921"
             ]
            ],
            "type": "histogram2d"
           }
          ],
          "histogram2dcontour": [
           {
            "colorbar": {
             "outlinewidth": 0,
             "ticks": ""
            },
            "colorscale": [
             [
              0,
              "#0d0887"
             ],
             [
              0.1111111111111111,
              "#46039f"
             ],
             [
              0.2222222222222222,
              "#7201a8"
             ],
             [
              0.3333333333333333,
              "#9c179e"
             ],
             [
              0.4444444444444444,
              "#bd3786"
             ],
             [
              0.5555555555555556,
              "#d8576b"
             ],
             [
              0.6666666666666666,
              "#ed7953"
             ],
             [
              0.7777777777777778,
              "#fb9f3a"
             ],
             [
              0.8888888888888888,
              "#fdca26"
             ],
             [
              1,
              "#f0f921"
             ]
            ],
            "type": "histogram2dcontour"
           }
          ],
          "mesh3d": [
           {
            "colorbar": {
             "outlinewidth": 0,
             "ticks": ""
            },
            "type": "mesh3d"
           }
          ],
          "parcoords": [
           {
            "line": {
             "colorbar": {
              "outlinewidth": 0,
              "ticks": ""
             }
            },
            "type": "parcoords"
           }
          ],
          "pie": [
           {
            "automargin": true,
            "type": "pie"
           }
          ],
          "scatter": [
           {
            "fillpattern": {
             "fillmode": "overlay",
             "size": 10,
             "solidity": 0.2
            },
            "type": "scatter"
           }
          ],
          "scatter3d": [
           {
            "line": {
             "colorbar": {
              "outlinewidth": 0,
              "ticks": ""
             }
            },
            "marker": {
             "colorbar": {
              "outlinewidth": 0,
              "ticks": ""
             }
            },
            "type": "scatter3d"
           }
          ],
          "scattercarpet": [
           {
            "marker": {
             "colorbar": {
              "outlinewidth": 0,
              "ticks": ""
             }
            },
            "type": "scattercarpet"
           }
          ],
          "scattergeo": [
           {
            "marker": {
             "colorbar": {
              "outlinewidth": 0,
              "ticks": ""
             }
            },
            "type": "scattergeo"
           }
          ],
          "scattergl": [
           {
            "marker": {
             "colorbar": {
              "outlinewidth": 0,
              "ticks": ""
             }
            },
            "type": "scattergl"
           }
          ],
          "scattermapbox": [
           {
            "marker": {
             "colorbar": {
              "outlinewidth": 0,
              "ticks": ""
             }
            },
            "type": "scattermapbox"
           }
          ],
          "scatterpolar": [
           {
            "marker": {
             "colorbar": {
              "outlinewidth": 0,
              "ticks": ""
             }
            },
            "type": "scatterpolar"
           }
          ],
          "scatterpolargl": [
           {
            "marker": {
             "colorbar": {
              "outlinewidth": 0,
              "ticks": ""
             }
            },
            "type": "scatterpolargl"
           }
          ],
          "scatterternary": [
           {
            "marker": {
             "colorbar": {
              "outlinewidth": 0,
              "ticks": ""
             }
            },
            "type": "scatterternary"
           }
          ],
          "surface": [
           {
            "colorbar": {
             "outlinewidth": 0,
             "ticks": ""
            },
            "colorscale": [
             [
              0,
              "#0d0887"
             ],
             [
              0.1111111111111111,
              "#46039f"
             ],
             [
              0.2222222222222222,
              "#7201a8"
             ],
             [
              0.3333333333333333,
              "#9c179e"
             ],
             [
              0.4444444444444444,
              "#bd3786"
             ],
             [
              0.5555555555555556,
              "#d8576b"
             ],
             [
              0.6666666666666666,
              "#ed7953"
             ],
             [
              0.7777777777777778,
              "#fb9f3a"
             ],
             [
              0.8888888888888888,
              "#fdca26"
             ],
             [
              1,
              "#f0f921"
             ]
            ],
            "type": "surface"
           }
          ],
          "table": [
           {
            "cells": {
             "fill": {
              "color": "#EBF0F8"
             },
             "line": {
              "color": "white"
             }
            },
            "header": {
             "fill": {
              "color": "#C8D4E3"
             },
             "line": {
              "color": "white"
             }
            },
            "type": "table"
           }
          ]
         },
         "layout": {
          "annotationdefaults": {
           "arrowcolor": "#2a3f5f",
           "arrowhead": 0,
           "arrowwidth": 1
          },
          "autotypenumbers": "strict",
          "coloraxis": {
           "colorbar": {
            "outlinewidth": 0,
            "ticks": ""
           }
          },
          "colorscale": {
           "diverging": [
            [
             0,
             "#8e0152"
            ],
            [
             0.1,
             "#c51b7d"
            ],
            [
             0.2,
             "#de77ae"
            ],
            [
             0.3,
             "#f1b6da"
            ],
            [
             0.4,
             "#fde0ef"
            ],
            [
             0.5,
             "#f7f7f7"
            ],
            [
             0.6,
             "#e6f5d0"
            ],
            [
             0.7,
             "#b8e186"
            ],
            [
             0.8,
             "#7fbc41"
            ],
            [
             0.9,
             "#4d9221"
            ],
            [
             1,
             "#276419"
            ]
           ],
           "sequential": [
            [
             0,
             "#0d0887"
            ],
            [
             0.1111111111111111,
             "#46039f"
            ],
            [
             0.2222222222222222,
             "#7201a8"
            ],
            [
             0.3333333333333333,
             "#9c179e"
            ],
            [
             0.4444444444444444,
             "#bd3786"
            ],
            [
             0.5555555555555556,
             "#d8576b"
            ],
            [
             0.6666666666666666,
             "#ed7953"
            ],
            [
             0.7777777777777778,
             "#fb9f3a"
            ],
            [
             0.8888888888888888,
             "#fdca26"
            ],
            [
             1,
             "#f0f921"
            ]
           ],
           "sequentialminus": [
            [
             0,
             "#0d0887"
            ],
            [
             0.1111111111111111,
             "#46039f"
            ],
            [
             0.2222222222222222,
             "#7201a8"
            ],
            [
             0.3333333333333333,
             "#9c179e"
            ],
            [
             0.4444444444444444,
             "#bd3786"
            ],
            [
             0.5555555555555556,
             "#d8576b"
            ],
            [
             0.6666666666666666,
             "#ed7953"
            ],
            [
             0.7777777777777778,
             "#fb9f3a"
            ],
            [
             0.8888888888888888,
             "#fdca26"
            ],
            [
             1,
             "#f0f921"
            ]
           ]
          },
          "colorway": [
           "#636efa",
           "#EF553B",
           "#00cc96",
           "#ab63fa",
           "#FFA15A",
           "#19d3f3",
           "#FF6692",
           "#B6E880",
           "#FF97FF",
           "#FECB52"
          ],
          "font": {
           "color": "#2a3f5f"
          },
          "geo": {
           "bgcolor": "white",
           "lakecolor": "white",
           "landcolor": "#E5ECF6",
           "showlakes": true,
           "showland": true,
           "subunitcolor": "white"
          },
          "hoverlabel": {
           "align": "left"
          },
          "hovermode": "closest",
          "mapbox": {
           "style": "light"
          },
          "paper_bgcolor": "white",
          "plot_bgcolor": "#E5ECF6",
          "polar": {
           "angularaxis": {
            "gridcolor": "white",
            "linecolor": "white",
            "ticks": ""
           },
           "bgcolor": "#E5ECF6",
           "radialaxis": {
            "gridcolor": "white",
            "linecolor": "white",
            "ticks": ""
           }
          },
          "scene": {
           "xaxis": {
            "backgroundcolor": "#E5ECF6",
            "gridcolor": "white",
            "gridwidth": 2,
            "linecolor": "white",
            "showbackground": true,
            "ticks": "",
            "zerolinecolor": "white"
           },
           "yaxis": {
            "backgroundcolor": "#E5ECF6",
            "gridcolor": "white",
            "gridwidth": 2,
            "linecolor": "white",
            "showbackground": true,
            "ticks": "",
            "zerolinecolor": "white"
           },
           "zaxis": {
            "backgroundcolor": "#E5ECF6",
            "gridcolor": "white",
            "gridwidth": 2,
            "linecolor": "white",
            "showbackground": true,
            "ticks": "",
            "zerolinecolor": "white"
           }
          },
          "shapedefaults": {
           "line": {
            "color": "#2a3f5f"
           }
          },
          "ternary": {
           "aaxis": {
            "gridcolor": "white",
            "linecolor": "white",
            "ticks": ""
           },
           "baxis": {
            "gridcolor": "white",
            "linecolor": "white",
            "ticks": ""
           },
           "bgcolor": "#E5ECF6",
           "caxis": {
            "gridcolor": "white",
            "linecolor": "white",
            "ticks": ""
           }
          },
          "title": {
           "x": 0.05
          },
          "xaxis": {
           "automargin": true,
           "gridcolor": "white",
           "linecolor": "white",
           "ticks": "",
           "title": {
            "standoff": 15
           },
           "zerolinecolor": "white",
           "zerolinewidth": 2
          },
          "yaxis": {
           "automargin": true,
           "gridcolor": "white",
           "linecolor": "white",
           "ticks": "",
           "title": {
            "standoff": 15
           },
           "zerolinecolor": "white",
           "zerolinewidth": 2
          }
         }
        },
        "xaxis": {
         "anchor": "y",
         "domain": [
          0,
          1
         ],
         "title": {
          "text": "Descripcion"
         }
        },
        "yaxis": {
         "anchor": "x",
         "domain": [
          0,
          1
         ],
         "title": {
          "text": "count"
         }
        }
       }
      }
     },
     "metadata": {},
     "output_type": "display_data"
    }
   ],
   "source": [
    "df_filtred2 = df_ind_Autoridad[(df_ind_Autoridad[\"Tipo\"] == 'Hecho_Violatorio') & (df_ind_Autoridad[\"Autoridad\"] == 'INSTITUTO NACIONAL DE MIGRACION DE LA SECRETARIA DE GOBERNACION')\n",
    "# & (df_ind_Autoridad[\"Cantidad\"] > 1) \n",
    "& (df_ind_Autoridad[\"Entidad\"] == 'SONORA')]\n",
    "# df_filtred2\n",
    "# fig = px.bar(df_filtred2, x='Ano', y='Cantidad', color='Descripcion')\n",
    "fig = px.histogram(df_filtred2, x=\"Descripcion\")\n",
    "fig.show()"
   ]
  },
  {
   "cell_type": "code",
   "execution_count": 20,
   "metadata": {},
   "outputs": [
    {
     "data": {
      "text/plain": [
       "array(['INSTITUTO NACIONAL DE MIGRACION DE LA SECRETARIA DE GOBERNACION',\n",
       "       'INSTITUTO DE SEGURIDAD Y SERVICIOS SOCIALES DE LOS TRABAJADORES DEL ESTADO',\n",
       "       'ORGANO ADMINISTRATIVO DESCONCENTRADO PREVENCION Y READAPTACION SOCIAL DE LA SECRETARIA DE GOBERNACIÓN',\n",
       "       'SECRETARIA DE LA DEFENSA NACIONAL',\n",
       "       'POLICIA FEDERAL DE LA SECRETARIA DE GOBERNACION',\n",
       "       'SECRETARIA DE EDUCACION PUBLICA',\n",
       "       'PROCURADURIA GENERAL DE LA REPUBLICA', 'SECRETARIA DE MARINA',\n",
       "       'INSTITUTO DEL FONDO NACIONAL DE LA VIVIENDA PARA LOS TRABAJADORES',\n",
       "       'ORGANO ADMINISTRATIVO DESCONCENTRADO PREVENCION Y READAPTACION SOCIAL DE LA SSPC'],\n",
       "      dtype=object)"
      ]
     },
     "execution_count": 20,
     "metadata": {},
     "output_type": "execute_result"
    }
   ],
   "source": [
    "df_ind_Autoridad[\"Autoridad\"].unique()"
   ]
  },
  {
   "cell_type": "code",
   "execution_count": 21,
   "metadata": {},
   "outputs": [
    {
     "data": {
      "text/html": [
       "<div>\n",
       "<style scoped>\n",
       "    .dataframe tbody tr th:only-of-type {\n",
       "        vertical-align: middle;\n",
       "    }\n",
       "\n",
       "    .dataframe tbody tr th {\n",
       "        vertical-align: top;\n",
       "    }\n",
       "\n",
       "    .dataframe thead th {\n",
       "        text-align: right;\n",
       "    }\n",
       "</style>\n",
       "<table border=\"1\" class=\"dataframe\">\n",
       "  <thead>\n",
       "    <tr style=\"text-align: right;\">\n",
       "      <th></th>\n",
       "      <th>Autoridad</th>\n",
       "      <th>Entidad</th>\n",
       "      <th>Ano</th>\n",
       "      <th>Tipo</th>\n",
       "      <th>Descripcion</th>\n",
       "      <th>Cantidad</th>\n",
       "    </tr>\n",
       "  </thead>\n",
       "  <tbody>\n",
       "    <tr>\n",
       "      <th>235</th>\n",
       "      <td>INSTITUTO NACIONAL DE MIGRACION DE LA SECRETAR...</td>\n",
       "      <td>SONORA</td>\n",
       "      <td>2014</td>\n",
       "      <td>Hecho_Violatorio</td>\n",
       "      <td>EMPLEAR ARBITRARIAMENTE LA FUERZA PUBLICA</td>\n",
       "      <td>2</td>\n",
       "    </tr>\n",
       "    <tr>\n",
       "      <th>236</th>\n",
       "      <td>INSTITUTO NACIONAL DE MIGRACION DE LA SECRETAR...</td>\n",
       "      <td>SONORA</td>\n",
       "      <td>2014</td>\n",
       "      <td>Hecho_Violatorio</td>\n",
       "      <td>FALTAR A LA LEGALIDAD, HONRADEZ, LEALTAD, IMPA...</td>\n",
       "      <td>2</td>\n",
       "    </tr>\n",
       "    <tr>\n",
       "      <th>237</th>\n",
       "      <td>INSTITUTO NACIONAL DE MIGRACION DE LA SECRETAR...</td>\n",
       "      <td>SONORA</td>\n",
       "      <td>2014</td>\n",
       "      <td>Hecho_Violatorio</td>\n",
       "      <td>PRESTAR INDEBIDAMENTE EL SERVICIO PUBLICO</td>\n",
       "      <td>2</td>\n",
       "    </tr>\n",
       "    <tr>\n",
       "      <th>238</th>\n",
       "      <td>INSTITUTO NACIONAL DE MIGRACION DE LA SECRETAR...</td>\n",
       "      <td>SONORA</td>\n",
       "      <td>2014</td>\n",
       "      <td>Hecho_Violatorio</td>\n",
       "      <td>ACCIONES Y OMISIONES QUE TRANSGREDEN LOS DEREC...</td>\n",
       "      <td>1</td>\n",
       "    </tr>\n",
       "    <tr>\n",
       "      <th>239</th>\n",
       "      <td>INSTITUTO NACIONAL DE MIGRACION DE LA SECRETAR...</td>\n",
       "      <td>SONORA</td>\n",
       "      <td>2014</td>\n",
       "      <td>Hecho_Violatorio</td>\n",
       "      <td>DETENCION ARBITRARIA</td>\n",
       "      <td>1</td>\n",
       "    </tr>\n",
       "    <tr>\n",
       "      <th>...</th>\n",
       "      <td>...</td>\n",
       "      <td>...</td>\n",
       "      <td>...</td>\n",
       "      <td>...</td>\n",
       "      <td>...</td>\n",
       "      <td>...</td>\n",
       "    </tr>\n",
       "    <tr>\n",
       "      <th>18481</th>\n",
       "      <td>INSTITUTO NACIONAL DE MIGRACION DE LA SECRETAR...</td>\n",
       "      <td>SONORA</td>\n",
       "      <td>2022</td>\n",
       "      <td>Hecho_Violatorio</td>\n",
       "      <td>OMITIR MOTIVAR EL ACTO DE AUTORIDAD</td>\n",
       "      <td>2</td>\n",
       "    </tr>\n",
       "    <tr>\n",
       "      <th>18482</th>\n",
       "      <td>INSTITUTO NACIONAL DE MIGRACION DE LA SECRETAR...</td>\n",
       "      <td>SONORA</td>\n",
       "      <td>2022</td>\n",
       "      <td>Hecho_Violatorio</td>\n",
       "      <td>DEPORTAR EN FORMA ILEGAL</td>\n",
       "      <td>1</td>\n",
       "    </tr>\n",
       "    <tr>\n",
       "      <th>18483</th>\n",
       "      <td>INSTITUTO NACIONAL DE MIGRACION DE LA SECRETAR...</td>\n",
       "      <td>SONORA</td>\n",
       "      <td>2022</td>\n",
       "      <td>Hecho_Violatorio</td>\n",
       "      <td>DETENCION ARBITRARIA</td>\n",
       "      <td>1</td>\n",
       "    </tr>\n",
       "    <tr>\n",
       "      <th>18484</th>\n",
       "      <td>INSTITUTO NACIONAL DE MIGRACION DE LA SECRETAR...</td>\n",
       "      <td>SONORA</td>\n",
       "      <td>2022</td>\n",
       "      <td>Hecho_Violatorio</td>\n",
       "      <td>INTIMIDACION</td>\n",
       "      <td>1</td>\n",
       "    </tr>\n",
       "    <tr>\n",
       "      <th>18485</th>\n",
       "      <td>INSTITUTO NACIONAL DE MIGRACION DE LA SECRETAR...</td>\n",
       "      <td>SONORA</td>\n",
       "      <td>2022</td>\n",
       "      <td>Hecho_Violatorio</td>\n",
       "      <td>NO SE ACREDITO HECHO VIOLATORIO</td>\n",
       "      <td>1</td>\n",
       "    </tr>\n",
       "  </tbody>\n",
       "</table>\n",
       "<p>90 rows × 6 columns</p>\n",
       "</div>"
      ],
      "text/plain": [
       "                                               Autoridad Entidad   Ano  \\\n",
       "235    INSTITUTO NACIONAL DE MIGRACION DE LA SECRETAR...  SONORA  2014   \n",
       "236    INSTITUTO NACIONAL DE MIGRACION DE LA SECRETAR...  SONORA  2014   \n",
       "237    INSTITUTO NACIONAL DE MIGRACION DE LA SECRETAR...  SONORA  2014   \n",
       "238    INSTITUTO NACIONAL DE MIGRACION DE LA SECRETAR...  SONORA  2014   \n",
       "239    INSTITUTO NACIONAL DE MIGRACION DE LA SECRETAR...  SONORA  2014   \n",
       "...                                                  ...     ...   ...   \n",
       "18481  INSTITUTO NACIONAL DE MIGRACION DE LA SECRETAR...  SONORA  2022   \n",
       "18482  INSTITUTO NACIONAL DE MIGRACION DE LA SECRETAR...  SONORA  2022   \n",
       "18483  INSTITUTO NACIONAL DE MIGRACION DE LA SECRETAR...  SONORA  2022   \n",
       "18484  INSTITUTO NACIONAL DE MIGRACION DE LA SECRETAR...  SONORA  2022   \n",
       "18485  INSTITUTO NACIONAL DE MIGRACION DE LA SECRETAR...  SONORA  2022   \n",
       "\n",
       "                   Tipo                                        Descripcion  \\\n",
       "235    Hecho_Violatorio          EMPLEAR ARBITRARIAMENTE LA FUERZA PUBLICA   \n",
       "236    Hecho_Violatorio  FALTAR A LA LEGALIDAD, HONRADEZ, LEALTAD, IMPA...   \n",
       "237    Hecho_Violatorio          PRESTAR INDEBIDAMENTE EL SERVICIO PUBLICO   \n",
       "238    Hecho_Violatorio  ACCIONES Y OMISIONES QUE TRANSGREDEN LOS DEREC...   \n",
       "239    Hecho_Violatorio                               DETENCION ARBITRARIA   \n",
       "...                 ...                                                ...   \n",
       "18481  Hecho_Violatorio                OMITIR MOTIVAR EL ACTO DE AUTORIDAD   \n",
       "18482  Hecho_Violatorio                           DEPORTAR EN FORMA ILEGAL   \n",
       "18483  Hecho_Violatorio                               DETENCION ARBITRARIA   \n",
       "18484  Hecho_Violatorio                                       INTIMIDACION   \n",
       "18485  Hecho_Violatorio                    NO SE ACREDITO HECHO VIOLATORIO   \n",
       "\n",
       "       Cantidad  \n",
       "235           2  \n",
       "236           2  \n",
       "237           2  \n",
       "238           1  \n",
       "239           1  \n",
       "...         ...  \n",
       "18481         2  \n",
       "18482         1  \n",
       "18483         1  \n",
       "18484         1  \n",
       "18485         1  \n",
       "\n",
       "[90 rows x 6 columns]"
      ]
     },
     "execution_count": 21,
     "metadata": {},
     "output_type": "execute_result"
    }
   ],
   "source": [
    "df_ind_Autoridad[(df_ind_Autoridad[\"Tipo\"] == 'Hecho_Violatorio') & (df_ind_Autoridad[\"Entidad\"] == 'SONORA') & (df_ind_Autoridad[\"Autoridad\"] == 'INSTITUTO NACIONAL DE MIGRACION DE LA SECRETARIA DE GOBERNACION')]"
   ]
  },
  {
   "attachments": {
    "image.png": {
     "image/png": "[encoded data removed]"
    }
   },
   "cell_type": "markdown",
   "metadata": {},
   "source": [
    "# Charts with Python and R\n",
    "\n",
    "In this article we will explain the use of code for some charts and how to implement on Python or R. Take note that this are examples, you can do it a different way, use other libreries, add or remove content inside, so it is important to always look at the official documentation if you want to learn more.\n",
    "\n",
    "Here we will cover the next charts:\n",
    "- Line\n",
    "- Histogram\n",
    "- Georeferencial\n",
    "- ...\n",
    "\n",
    "Authors:\n",
    "- Melissa Reyes\n",
    "- Santiago\n",
    "- Ariel López\n",
    "\n",
    "(Optional)\n",
    "In order to test preciscly what we have done, we will let you some data that you can dowload to test test our examples and get the same chart as we display below.\n",
    "\n",
    "## Line Chart\n",
    "\n",
    "(Optional)\n",
    "Best use of this:\n",
    "According to [Page](www) the best use of this kind of chart...\n",
    "\n",
    "**Python**\n",
    "``` \n",
    "# Libreries needed...\n",
    "import pandas as pd\n",
    "print(\"Hello World\")\n",
    "```\n",
    "![image.png](attachment:image.png)\n",
    "\n",
    "**R**\n",
    "```\n",
    "print(\"Hello World\")\n",
    "```\n",
    "![image.png](attachment:image.png)\n",
    "\n",
    "## Histogram\n",
    "\n",
    "(Optional)\n",
    "Best use of this:\n",
    "\n",
    "**Python**\n",
    "```\n",
    "print(\"Hello World\")\n",
    "```\n",
    "\n",
    "**R**\n",
    "```\n",
    "print(\"Hello World!\")\n",
    "```\n",
    "\n",
    "## Histogram\n",
    "\n",
    "**Python**\n",
    "```\n",
    "print(\"Hello World\")\n",
    "```\n",
    "\n",
    "**R**\n",
    "```\n",
    "print(\"Hello World!\")\n",
    "\n",
    "```\n",
    "\n",
    "# About the Authors\n",
    "\n",
    "- Melissa\n",
    "I am super women and economist coursing my master degree on Data Science, looking...\n",
    "\n",
    "- Santiago\n",
    "I am Economist... with the goal of ...\n",
    "\n",
    "- Ariel\n",
    "I am a lazy man with no goals in life...\n",
    "\n",
    "# Thanks (Optional)\n",
    "\n",
    "Maestria en Ciencia de Datos de la Universidad de Sonora ([MCD](https://mcd.unison.mx/))\n"
   ]
  }
 ],
 "metadata": {
  "kernelspec": {
   "display_name": "base",
   "language": "python",
   "name": "python3"
  },
  "language_info": {
   "codemirror_mode": {
    "name": "ipython",
    "version": 3
   },
   "file_extension": ".py",
   "mimetype": "text/x-python",
   "name": "python",
   "nbconvert_exporter": "python",
   "pygments_lexer": "ipython3",
   "version": "3.9.13"
  },
  "orig_nbformat": 4
 },
 "nbformat": 4,
 "nbformat_minor": 2
}
