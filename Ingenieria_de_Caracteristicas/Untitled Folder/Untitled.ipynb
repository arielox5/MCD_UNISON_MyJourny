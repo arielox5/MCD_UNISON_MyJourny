{
 "cells": [
  {
   "cell_type": "code",
   "execution_count": 2,
   "id": "d8a5630d",
   "metadata": {},
   "outputs": [
    {
     "name": "stdout",
     "output_type": "stream",
     "text": [
      "Note: you may need to restart the kernel to use updated packages.Collecting jupyter-flex\n",
      "  Using cached jupyter_flex-0.8.0-py3-none-any.whl\n",
      "Collecting jinja2<4,>=3.0.1\n",
      "  Using cached Jinja2-3.1.2-py3-none-any.whl (133 kB)\n",
      "Requirement already satisfied: nbconvert<7,>=6.2.0 in c:\\users\\dell\\anaconda3\\lib\\site-packages (from jupyter-flex) (6.4.4)\n",
      "Requirement already satisfied: ipykernel<7,>=6.4.1 in c:\\users\\dell\\anaconda3\\lib\\site-packages (from jupyter-flex) (6.9.1)\n",
      "Collecting voila<0.3,>=0.2.0\n",
      "  Using cached voila-0.2.16-py3-none-any.whl (1.6 MB)\n",
      "Collecting illusionist<0.4.0,>=0.3.0\n",
      "  Using cached illusionist-0.3.0-py3-none-any.whl\n",
      "Collecting structlog<22.0.0,>=21.1.0\n",
      "  Using cached structlog-21.5.0-py3-none-any.whl (53 kB)\n",
      "Requirement already satisfied: ipywidgets<8.0.0,>=7.6.5 in c:\\users\\dell\\anaconda3\\lib\\site-packages (from illusionist<0.4.0,>=0.3.0->jupyter-flex) (7.6.5)\n",
      "Requirement already satisfied: nbclient>=0.5.0 in c:\\users\\dell\\anaconda3\\lib\\site-packages (from illusionist<0.4.0,>=0.3.0->jupyter-flex) (0.5.13)\n",
      "Requirement already satisfied: nbformat>=5.0.7 in c:\\users\\dell\\anaconda3\\lib\\site-packages (from illusionist<0.4.0,>=0.3.0->jupyter-flex) (5.3.0)\n",
      "Requirement already satisfied: traitlets<6.0,>=5.1.0 in c:\\users\\dell\\anaconda3\\lib\\site-packages (from ipykernel<7,>=6.4.1->jupyter-flex) (5.1.1)\n",
      "\n",
      "Requirement already satisfied: nest-asyncio in c:\\users\\dell\\anaconda3\\lib\\site-packages (from ipykernel<7,>=6.4.1->jupyter-flex) (1.5.5)\n",
      "Requirement already satisfied: matplotlib-inline<0.2.0,>=0.1.0 in c:\\users\\dell\\anaconda3\\lib\\site-packages (from ipykernel<7,>=6.4.1->jupyter-flex) (0.1.2)\n",
      "Requirement already satisfied: tornado<7.0,>=4.2 in c:\\users\\dell\\anaconda3\\lib\\site-packages (from ipykernel<7,>=6.4.1->jupyter-flex) (6.1)\n",
      "Requirement already satisfied: jupyter-client<8.0 in c:\\users\\dell\\anaconda3\\lib\\site-packages (from ipykernel<7,>=6.4.1->jupyter-flex) (6.1.12)\n",
      "Requirement already satisfied: ipython>=7.23.1 in c:\\users\\dell\\anaconda3\\lib\\site-packages (from ipykernel<7,>=6.4.1->jupyter-flex) (8.2.0)\n",
      "Requirement already satisfied: debugpy<2.0,>=1.0.0 in c:\\users\\dell\\anaconda3\\lib\\site-packages (from ipykernel<7,>=6.4.1->jupyter-flex) (1.5.1)\n",
      "Requirement already satisfied: stack-data in c:\\users\\dell\\anaconda3\\lib\\site-packages (from ipython>=7.23.1->ipykernel<7,>=6.4.1->jupyter-flex) (0.2.0)\n",
      "Requirement already satisfied: pickleshare in c:\\users\\dell\\anaconda3\\lib\\site-packages (from ipython>=7.23.1->ipykernel<7,>=6.4.1->jupyter-flex) (0.7.5)\n",
      "Requirement already satisfied: pygments>=2.4.0 in c:\\users\\dell\\anaconda3\\lib\\site-packages (from ipython>=7.23.1->ipykernel<7,>=6.4.1->jupyter-flex) (2.11.2)\n",
      "Requirement already satisfied: decorator in c:\\users\\dell\\anaconda3\\lib\\site-packages (from ipython>=7.23.1->ipykernel<7,>=6.4.1->jupyter-flex) (5.1.1)\n",
      "Requirement already satisfied: prompt-toolkit!=3.0.0,!=3.0.1,<3.1.0,>=2.0.0 in c:\\users\\dell\\anaconda3\\lib\\site-packages (from ipython>=7.23.1->ipykernel<7,>=6.4.1->jupyter-flex) (3.0.20)\n",
      "Requirement already satisfied: setuptools>=18.5 in c:\\users\\dell\\anaconda3\\lib\\site-packages (from ipython>=7.23.1->ipykernel<7,>=6.4.1->jupyter-flex) (61.2.0)\n",
      "Requirement already satisfied: colorama in c:\\users\\dell\\anaconda3\\lib\\site-packages (from ipython>=7.23.1->ipykernel<7,>=6.4.1->jupyter-flex) (0.4.4)\n",
      "Requirement already satisfied: backcall in c:\\users\\dell\\anaconda3\\lib\\site-packages (from ipython>=7.23.1->ipykernel<7,>=6.4.1->jupyter-flex) (0.2.0)\n",
      "Requirement already satisfied: jedi>=0.16 in c:\\users\\dell\\anaconda3\\lib\\site-packages (from ipython>=7.23.1->ipykernel<7,>=6.4.1->jupyter-flex) (0.18.1)\n",
      "Requirement already satisfied: ipython-genutils~=0.2.0 in c:\\users\\dell\\anaconda3\\lib\\site-packages (from ipywidgets<8.0.0,>=7.6.5->illusionist<0.4.0,>=0.3.0->jupyter-flex) (0.2.0)\n",
      "Requirement already satisfied: widgetsnbextension~=3.5.0 in c:\\users\\dell\\anaconda3\\lib\\site-packages (from ipywidgets<8.0.0,>=7.6.5->illusionist<0.4.0,>=0.3.0->jupyter-flex) (3.5.2)\n",
      "Requirement already satisfied: jupyterlab-widgets>=1.0.0 in c:\\users\\dell\\anaconda3\\lib\\site-packages (from ipywidgets<8.0.0,>=7.6.5->illusionist<0.4.0,>=0.3.0->jupyter-flex) (1.0.0)\n",
      "Requirement already satisfied: parso<0.9.0,>=0.8.0 in c:\\users\\dell\\anaconda3\\lib\\site-packages (from jedi>=0.16->ipython>=7.23.1->ipykernel<7,>=6.4.1->jupyter-flex) (0.8.3)\n",
      "Requirement already satisfied: MarkupSafe>=2.0 in c:\\users\\dell\\anaconda3\\lib\\site-packages (from jinja2<4,>=3.0.1->jupyter-flex) (2.0.1)\n",
      "Requirement already satisfied: jupyter-core>=4.6.0 in c:\\users\\dell\\anaconda3\\lib\\site-packages (from jupyter-client<8.0->ipykernel<7,>=6.4.1->jupyter-flex) (4.9.2)\n",
      "Requirement already satisfied: python-dateutil>=2.1 in c:\\users\\dell\\anaconda3\\lib\\site-packages (from jupyter-client<8.0->ipykernel<7,>=6.4.1->jupyter-flex) (2.8.2)\n",
      "Requirement already satisfied: pyzmq>=13 in c:\\users\\dell\\anaconda3\\lib\\site-packages (from jupyter-client<8.0->ipykernel<7,>=6.4.1->jupyter-flex) (22.3.0)\n",
      "Requirement already satisfied: pywin32>=1.0 in c:\\users\\dell\\anaconda3\\lib\\site-packages (from jupyter-core>=4.6.0->jupyter-client<8.0->ipykernel<7,>=6.4.1->jupyter-flex) (302)\n",
      "Requirement already satisfied: beautifulsoup4 in c:\\users\\dell\\anaconda3\\lib\\site-packages (from nbconvert<7,>=6.2.0->jupyter-flex) (4.11.1)\n",
      "Requirement already satisfied: jupyterlab-pygments in c:\\users\\dell\\anaconda3\\lib\\site-packages (from nbconvert<7,>=6.2.0->jupyter-flex) (0.1.2)\n",
      "Requirement already satisfied: mistune<2,>=0.8.1 in c:\\users\\dell\\anaconda3\\lib\\site-packages (from nbconvert<7,>=6.2.0->jupyter-flex) (0.8.4)"
     ]
    },
    {
     "name": "stderr",
     "output_type": "stream",
     "text": [
      "ERROR: pip's dependency resolver does not currently take into account all the packages that are installed. This behaviour is the source of the following dependency conflicts.\n",
      "anaconda-project 0.10.2 requires ruamel-yaml, which is not installed.\n"
     ]
    },
    {
     "name": "stdout",
     "output_type": "stream",
     "text": [
      "\n",
      "Requirement already satisfied: entrypoints>=0.2.2 in c:\\users\\dell\\anaconda3\\lib\\site-packages (from nbconvert<7,>=6.2.0->jupyter-flex) (0.4)\n",
      "Requirement already satisfied: bleach in c:\\users\\dell\\anaconda3\\lib\\site-packages (from nbconvert<7,>=6.2.0->jupyter-flex) (4.1.0)\n",
      "Requirement already satisfied: testpath in c:\\users\\dell\\anaconda3\\lib\\site-packages (from nbconvert<7,>=6.2.0->jupyter-flex) (0.5.0)\n",
      "Requirement already satisfied: defusedxml in c:\\users\\dell\\anaconda3\\lib\\site-packages (from nbconvert<7,>=6.2.0->jupyter-flex) (0.7.1)\n",
      "Requirement already satisfied: pandocfilters>=1.4.1 in c:\\users\\dell\\anaconda3\\lib\\site-packages (from nbconvert<7,>=6.2.0->jupyter-flex) (1.5.0)\n",
      "Requirement already satisfied: jsonschema>=2.6 in c:\\users\\dell\\anaconda3\\lib\\site-packages (from nbformat>=5.0.7->illusionist<0.4.0,>=0.3.0->jupyter-flex) (4.4.0)\n",
      "Requirement already satisfied: fastjsonschema in c:\\users\\dell\\anaconda3\\lib\\site-packages (from nbformat>=5.0.7->illusionist<0.4.0,>=0.3.0->jupyter-flex) (2.15.1)\n",
      "Requirement already satisfied: attrs>=17.4.0 in c:\\users\\dell\\anaconda3\\lib\\site-packages (from jsonschema>=2.6->nbformat>=5.0.7->illusionist<0.4.0,>=0.3.0->jupyter-flex) (21.4.0)\n",
      "Requirement already satisfied: pyrsistent!=0.17.0,!=0.17.1,!=0.17.2,>=0.14.0 in c:\\users\\dell\\anaconda3\\lib\\site-packages (from jsonschema>=2.6->nbformat>=5.0.7->illusionist<0.4.0,>=0.3.0->jupyter-flex) (0.18.0)\n",
      "Requirement already satisfied: wcwidth in c:\\users\\dell\\anaconda3\\lib\\site-packages (from prompt-toolkit!=3.0.0,!=3.0.1,<3.1.0,>=2.0.0->ipython>=7.23.1->ipykernel<7,>=6.4.1->jupyter-flex) (0.2.5)\n",
      "Requirement already satisfied: six>=1.5 in c:\\users\\dell\\anaconda3\\lib\\site-packages (from python-dateutil>=2.1->jupyter-client<8.0->ipykernel<7,>=6.4.1->jupyter-flex) (1.16.0)\n",
      "Requirement already satisfied: jupyter-server<2.0.0,>=0.3.0 in c:\\users\\dell\\anaconda3\\lib\\site-packages (from voila<0.3,>=0.2.0->jupyter-flex) (1.13.5)\n",
      "Requirement already satisfied: Send2Trash in c:\\users\\dell\\anaconda3\\lib\\site-packages (from jupyter-server<2.0.0,>=0.3.0->voila<0.3,>=0.2.0->jupyter-flex) (1.8.0)\n",
      "Requirement already satisfied: packaging in c:\\users\\dell\\anaconda3\\lib\\site-packages (from jupyter-server<2.0.0,>=0.3.0->voila<0.3,>=0.2.0->jupyter-flex) (21.3)\n",
      "Requirement already satisfied: websocket-client in c:\\users\\dell\\anaconda3\\lib\\site-packages (from jupyter-server<2.0.0,>=0.3.0->voila<0.3,>=0.2.0->jupyter-flex) (0.58.0)\n",
      "Requirement already satisfied: pywinpty<2 in c:\\users\\dell\\anaconda3\\lib\\site-packages (from jupyter-server<2.0.0,>=0.3.0->voila<0.3,>=0.2.0->jupyter-flex) (1.1.6)\n",
      "Requirement already satisfied: terminado>=0.8.3 in c:\\users\\dell\\anaconda3\\lib\\site-packages (from jupyter-server<2.0.0,>=0.3.0->voila<0.3,>=0.2.0->jupyter-flex) (0.13.1)\n",
      "Requirement already satisfied: prometheus-client in c:\\users\\dell\\anaconda3\\lib\\site-packages (from jupyter-server<2.0.0,>=0.3.0->voila<0.3,>=0.2.0->jupyter-flex) (0.13.1)\n",
      "Requirement already satisfied: anyio<4,>=3.1.0 in c:\\users\\dell\\anaconda3\\lib\\site-packages (from jupyter-server<2.0.0,>=0.3.0->voila<0.3,>=0.2.0->jupyter-flex) (3.5.0)\n",
      "Requirement already satisfied: argon2-cffi in c:\\users\\dell\\anaconda3\\lib\\site-packages (from jupyter-server<2.0.0,>=0.3.0->voila<0.3,>=0.2.0->jupyter-flex) (21.3.0)\n",
      "Requirement already satisfied: sniffio>=1.1 in c:\\users\\dell\\anaconda3\\lib\\site-packages (from anyio<4,>=3.1.0->jupyter-server<2.0.0,>=0.3.0->voila<0.3,>=0.2.0->jupyter-flex) (1.2.0)\n",
      "Requirement already satisfied: idna>=2.8 in c:\\users\\dell\\anaconda3\\lib\\site-packages (from anyio<4,>=3.1.0->jupyter-server<2.0.0,>=0.3.0->voila<0.3,>=0.2.0->jupyter-flex) (3.3)\n",
      "Requirement already satisfied: notebook>=4.4.1 in c:\\users\\dell\\anaconda3\\lib\\site-packages (from widgetsnbextension~=3.5.0->ipywidgets<8.0.0,>=7.6.5->illusionist<0.4.0,>=0.3.0->jupyter-flex) (6.4.8)\n",
      "Requirement already satisfied: argon2-cffi-bindings in c:\\users\\dell\\anaconda3\\lib\\site-packages (from argon2-cffi->jupyter-server<2.0.0,>=0.3.0->voila<0.3,>=0.2.0->jupyter-flex) (21.2.0)\n",
      "Requirement already satisfied: cffi>=1.0.1 in c:\\users\\dell\\anaconda3\\lib\\site-packages (from argon2-cffi-bindings->argon2-cffi->jupyter-server<2.0.0,>=0.3.0->voila<0.3,>=0.2.0->jupyter-flex) (1.15.0)\n",
      "Requirement already satisfied: pycparser in c:\\users\\dell\\anaconda3\\lib\\site-packages (from cffi>=1.0.1->argon2-cffi-bindings->argon2-cffi->jupyter-server<2.0.0,>=0.3.0->voila<0.3,>=0.2.0->jupyter-flex) (2.21)\n",
      "Requirement already satisfied: soupsieve>1.2 in c:\\users\\dell\\anaconda3\\lib\\site-packages (from beautifulsoup4->nbconvert<7,>=6.2.0->jupyter-flex) (2.3.1)\n",
      "Requirement already satisfied: webencodings in c:\\users\\dell\\anaconda3\\lib\\site-packages (from bleach->nbconvert<7,>=6.2.0->jupyter-flex) (0.5.1)\n",
      "Requirement already satisfied: pyparsing!=3.0.5,>=2.0.2 in c:\\users\\dell\\anaconda3\\lib\\site-packages (from packaging->jupyter-server<2.0.0,>=0.3.0->voila<0.3,>=0.2.0->jupyter-flex) (3.0.4)\n",
      "Requirement already satisfied: asttokens in c:\\users\\dell\\anaconda3\\lib\\site-packages (from stack-data->ipython>=7.23.1->ipykernel<7,>=6.4.1->jupyter-flex) (2.0.5)\n",
      "Requirement already satisfied: executing in c:\\users\\dell\\anaconda3\\lib\\site-packages (from stack-data->ipython>=7.23.1->ipykernel<7,>=6.4.1->jupyter-flex) (0.8.3)\n",
      "Requirement already satisfied: pure-eval in c:\\users\\dell\\anaconda3\\lib\\site-packages (from stack-data->ipython>=7.23.1->ipykernel<7,>=6.4.1->jupyter-flex) (0.2.2)\n",
      "Installing collected packages: jinja2, structlog, voila, illusionist, jupyter-flex\n",
      "  Attempting uninstall: jinja2\n",
      "    Found existing installation: Jinja2 2.11.3\n",
      "    Uninstalling Jinja2-2.11.3:\n",
      "      Successfully uninstalled Jinja2-2.11.3\n",
      "Successfully installed illusionist-0.3.0 jinja2-3.1.2 jupyter-flex-0.8.0 structlog-21.5.0 voila-0.2.16\n"
     ]
    }
   ],
   "source": [
    "pip install jupyter-flex"
   ]
  },
  {
   "cell_type": "code",
   "execution_count": null,
   "id": "46bbc75b",
   "metadata": {},
   "outputs": [],
   "source": [
    "flex_title = \"Tablero con plotly\"\n"
   ]
  }
 ],
 "metadata": {
  "kernelspec": {
   "display_name": "Python 3 (ipykernel)",
   "language": "python",
   "name": "python3"
  },
  "language_info": {
   "codemirror_mode": {
    "name": "ipython",
    "version": 3
   },
   "file_extension": ".py",
   "mimetype": "text/x-python",
   "name": "python",
   "nbconvert_exporter": "python",
   "pygments_lexer": "ipython3",
   "version": "3.9.12"
  }
 },
 "nbformat": 4,
 "nbformat_minor": 5
}
