{
 "cells": [
  {
   "cell_type": "markdown",
   "metadata": {
    "id": "th-XMAdEKOZL"
   },
   "source": [
    "**¿Que historia queremos contar?**\n",
    "\n",
    "\n",
    "\n",
    "1.   ¿Cuantos accidentes fatales son atribuidos al consumo del alcohol?\n",
    "2.   ¿Cuantos accidentes mortales hay en Sonora? (A traves del tiempo)\n",
    "3.  ¿La gente en Sonora usa el cinturon de seguridad?\n",
    "4.  En comparacion con otros estados, ¿cuantos accidentes en sonora hay?\n",
    "5. Que tan \"resposnsables\" (No Alcholizado, menos accidentes, menos muertes) es Sonora en cuestion de transito (a traves del tiempo, ¿Estamos mejor, peor o igual?\n",
    "\n",
    "Opcional - Ciclistas ...\n",
    "\n",
    "\n",
    "\n"
   ]
  },
  {
   "cell_type": "code",
   "execution_count": 26,
   "metadata": {
    "id": "upfn4mmtNaPT"
   },
   "outputs": [],
   "source": [
    "# 1 - Imports - Libreries necessary\n",
    "import requests\n",
    "import os\n",
    "import platform\n",
    "import pandas as pd\n",
    "import plotly.express as px\n",
    "from sklearn.preprocessing import  LabelEncoder\n",
    "from sklearn.preprocessing import OneHotEncoder\n",
    "import seaborn as sn\n",
    "import matplotlib.pyplot as plt\n",
    "import plotly.graph_objects as go\n",
    "from plotly.subplots import make_subplots\n",
    "import zipfile\n",
    "import seaborn as sns"
   ]
  },
  {
   "cell_type": "code",
   "execution_count": 27,
   "metadata": {
    "id": "WIq-MoKSE0KM"
   },
   "outputs": [
    {
     "name": "stderr",
     "output_type": "stream",
     "text": [
      "A subdirectory or file Data_Lab\\Accidentes_INEGI already exists.\n",
      "A subdirectory or file Data_Lab\\Censos already exists.\n"
     ]
    }
   ],
   "source": [
    "# 2 - DWONLOAD FILES - Creation of folders and download file necessary\n",
    "\n",
    "# Creation of a folder to contain all the files downloaded.\n",
    "# Note WINDOWS USERS: For Windows users you must change the \"/\" to \"\\\" for path directories\n",
    "if(platform.system() == \"Windows\"):\n",
    "    #!mkdir Data_Lab\n",
    "    !mkdir Data_Lab\\Accidentes_INEGI\n",
    "    # !mkdir Data_Lab\\Reg_Vehiculos_INEGI\n",
    "    !mkdir Data_Lab\\Censos\n",
    "else:\n",
    "    !mkdir Data_Lab\n",
    "    !mkdir -p Data_Lab/Accidentes_INEGI\n",
    "    !mkdir -p Data_Lab/Reg_Vehiculos_INEGI\n",
    "\n",
    "# URL of the files, it is a zip file from INEGI (https://www.inegi.org.mx/programas/accidentes/#Datos_abiertos)\n",
    "# It is a zip file conating multiple file (Catalog of Data, Diccionario y csv data of the accidents by year from 1997 -> 2021)\n",
    "urlString_Accidentes = \"https://www.inegi.org.mx/contenidos/programas/accidentes/datosabiertos/atus_anual_csv.zip\"\n",
    "urlString_Censo2000 = \"https://www.inegi.org.mx/contenidos/programas/ccpv/2000/datosabiertos/cgpv2000_iter_26_csv.zip\"\n",
    "urlString_Censo2010 = \"https://www.inegi.org.mx/contenidos/programas/ccpv/2010/datosabiertos/iter_26_2010_csv.zip\"\n",
    "urlString_Censo2020 = \"https://www.inegi.org.mx/contenidos/programas/ccpv/2020/datosabiertos/iter/iter_26_cpv2020_csv.zip\"\n",
    "# urlString_Vehiculos = \"https://www.inegi.org.mx/contenidos/programas/vehiculosmotor/datosabiertos/vmrc_anual_csv.zip\"\n",
    "\n",
    "\n",
    "# Folders and Zip files\n",
    "folder_main = os.getcwd()\n",
    "folder_DataLab = os.path.join(folder_main, \"Data_Lab\")\n",
    "file_Accidentes = os.path.join(folder_DataLab, \"Accidentes_INEGI.zip\")\n",
    "file_Censo2000 = os.path.join(folder_DataLab, \"Censo2000.zip\")\n",
    "file_Censo2010 = os.path.join(folder_DataLab, \"Censo2010.zip\")\n",
    "file_Censo2020 = os.path.join(folder_DataLab, \"Censo2020.zip\")\n",
    "# file_Registro = os.path.join(folder_DataLab, \"Accidentes_INEGI.zip\")\n",
    "\n",
    "folder_Accidentes = os.path.join(folder_DataLab, \"Accidentes_INEGI\")\n",
    "folder_Censos= os.path.join(folder_DataLab, \"Censos\")\n",
    "# folder_Registri = os.path.join(folder_DataLab, \"Reg_Vehiculos_INEGI\")\n",
    "\n",
    "# 2.1 - Dowload 2 zip files (Accidents and Vehicles Register)\n",
    "if(os.path.exists(file_Accidentes) == False):\n",
    "    r = requests.get(urlString_Accidentes, stream = True)\n",
    "    pathZipFile = os.path.join(folder_DataLab, \"Accidentes_INEGI.zip\")\n",
    "    # Dowload file and store it on \"Data_Lab\" (Folder created)\n",
    "    with open(pathZipFile, \"wb\") as file: \n",
    "        for block in r.iter_content(chunk_size = 1024):\n",
    "            if block: \n",
    "             file.write(block) \n",
    "    # Extract the file \n",
    "    with zipfile.ZipFile(file_Accidentes, 'r') as zip_ref:\n",
    "        zip_ref.extractall(folder_Accidentes)\n",
    "\n",
    "# Censo 2000\n",
    "if(os.path.exists(file_Censo2000) == False):\n",
    "    r = requests.get(urlString_Censo2000, stream = True)\n",
    "    pathZipFile = os.path.join(folder_DataLab, \"Censo2000.zip\")\n",
    "    # Dowload file and store it on \"Data_Lab\" (Folder created)\n",
    "    with open(pathZipFile, \"wb\") as file: \n",
    "        for block in r.iter_content(chunk_size = 1024):\n",
    "            if block: \n",
    "             file.write(block) \n",
    "    # Extract the file \n",
    "    with zipfile.ZipFile(file_Censo2000, 'r') as zip_ref:\n",
    "        zip_ref.extractall(folder_Censos)\n",
    "\n",
    "# Censo 2010\n",
    "if(os.path.exists(file_Censo2010) == False):\n",
    "    r = requests.get(urlString_Censo2010, stream = True)\n",
    "    pathZipFile = os.path.join(folder_DataLab, \"Censo2010.zip\")\n",
    "    # Dowload file and store it on \"Data_Lab\" (Folder created)\n",
    "    with open(pathZipFile, \"wb\") as file: \n",
    "        for block in r.iter_content(chunk_size = 1024):\n",
    "            if block: \n",
    "             file.write(block) \n",
    "    # Extract the file \n",
    "    with zipfile.ZipFile(file_Censo2010, 'r') as zip_ref:\n",
    "        zip_ref.extractall(folder_Censos)\n",
    "\n",
    "# Censo 2020    \n",
    "if(os.path.exists(file_Censo2020) == False):\n",
    "    r = requests.get(urlString_Censo2020, stream = True)\n",
    "    pathZipFile = os.path.join(folder_DataLab, \"Censo2020.zip\")\n",
    "    # Dowload file and store it on \"Data_Lab\" (Folder created)\n",
    "    with open(pathZipFile, \"wb\") as file: \n",
    "        for block in r.iter_content(chunk_size = 1024):\n",
    "            if block: \n",
    "             file.write(block) \n",
    "    # Extract the file \n",
    "    with zipfile.ZipFile(file_Censo2020, 'r') as zip_ref:\n",
    "        zip_ref.extractall(folder_Censos)\n"
   ]
  },
  {
   "cell_type": "code",
   "execution_count": null,
   "metadata": {
    "colab": {
     "base_uri": "https://localhost:8080/",
     "height": 423
    },
    "id": "T_IKkB_i0meV",
    "outputId": "60582419-f215-458f-e5f5-5adf98d65d4e"
   },
   "outputs": [],
   "source": [
    "#3 - 1 SINGLE FILE - Creates a single DataFrame for all the files\n",
    "\n",
    "folder_DataLab = os.path.join(folder_main, \"Data_Lab\")\n",
    "path_Files_Accidentes = os.path.join(folder_DataLab,\"Accidentes_INEGI\", \"conjunto_de_datos\")\n",
    "# path_Files_Registros = os.path.join(folder_DataLab,\"Reg_Vehiculos_INEGI\", \"conjunto_de_datos\")\n",
    "\n",
    "# 3.1 Get all files names on the folder\n",
    "list_files = os.listdir(path_Files_Accidentes)\n",
    "df_complete = pd.DataFrame\n",
    "\n",
    "# Just a variable to know if is the first file to read\n",
    "isFirst_CSV = True\n",
    "# 3.2 - loop from all files and add each csv to a single dataframe1\n",
    "for xFile in list_files:\n",
    "  pathCSV = os.path.join(path_Files_Accidentes, xFile)\n",
    "  # Index_col = false due it has a delimiter at the end of each line ex: vlaue1,valueLast,\n",
    "  df_temp =  pd.read_csv(pathCSV, index_col = False)\n",
    "  if (isFirst_CSV):\n",
    "    df_complete = df_temp\n",
    "    isFirst_CSV = False\n",
    "  else:\n",
    "    df_complete = pd.concat([df_complete, df_temp], ignore_index=True)\n",
    "    # df_complete = df_complete.concat(df_temp, ignore_index=True)\n",
    "\n",
    "df_complete"
   ]
  },
  {
   "cell_type": "code",
   "execution_count": 48,
   "metadata": {},
   "outputs": [
    {
     "data": {
      "text/html": [
       "<div>\n",
       "<style scoped>\n",
       "    .dataframe tbody tr th:only-of-type {\n",
       "        vertical-align: middle;\n",
       "    }\n",
       "\n",
       "    .dataframe tbody tr th {\n",
       "        vertical-align: top;\n",
       "    }\n",
       "\n",
       "    .dataframe thead th {\n",
       "        text-align: right;\n",
       "    }\n",
       "</style>\n",
       "<table border=\"1\" class=\"dataframe\">\n",
       "  <thead>\n",
       "    <tr style=\"text-align: right;\">\n",
       "      <th></th>\n",
       "      <th>ID_ENTIDAD</th>\n",
       "      <th>ID_MUNICIPIO</th>\n",
       "      <th>ANIO</th>\n",
       "      <th>MES</th>\n",
       "      <th>ID_HORA</th>\n",
       "      <th>ID_MINUTO</th>\n",
       "      <th>ID_DIA</th>\n",
       "      <th>DIASEMANA</th>\n",
       "      <th>URBANA</th>\n",
       "      <th>SUBURBANA</th>\n",
       "      <th>...</th>\n",
       "      <th>CICLMUERTO</th>\n",
       "      <th>CICLHERIDO</th>\n",
       "      <th>OTROMUERTO</th>\n",
       "      <th>OTROHERIDO</th>\n",
       "      <th>NEMUERTO</th>\n",
       "      <th>NEHERIDO</th>\n",
       "      <th>Total_Muertos</th>\n",
       "      <th>Total_Heridos</th>\n",
       "      <th>Fecha</th>\n",
       "      <th>Municipio_Nombre</th>\n",
       "    </tr>\n",
       "  </thead>\n",
       "  <tbody>\n",
       "    <tr>\n",
       "      <th>207539</th>\n",
       "      <td>26</td>\n",
       "      <td>3</td>\n",
       "      <td>1997</td>\n",
       "      <td>1</td>\n",
       "      <td>18</td>\n",
       "      <td>0</td>\n",
       "      <td>17</td>\n",
       "      <td>Viernes</td>\n",
       "      <td>Sin accidente en esta zona</td>\n",
       "      <td>Accidente en carretera estatal</td>\n",
       "      <td>...</td>\n",
       "      <td>0</td>\n",
       "      <td>0</td>\n",
       "      <td>0</td>\n",
       "      <td>0</td>\n",
       "      <td>0</td>\n",
       "      <td>0</td>\n",
       "      <td>0</td>\n",
       "      <td>0</td>\n",
       "      <td>1997-01-17 18:0:00</td>\n",
       "      <td>Alamos</td>\n",
       "    </tr>\n",
       "    <tr>\n",
       "      <th>207540</th>\n",
       "      <td>26</td>\n",
       "      <td>4</td>\n",
       "      <td>1997</td>\n",
       "      <td>1</td>\n",
       "      <td>17</td>\n",
       "      <td>0</td>\n",
       "      <td>15</td>\n",
       "      <td>Miércoles</td>\n",
       "      <td>Sin accidente en esta zona</td>\n",
       "      <td>Accidente en camino rural</td>\n",
       "      <td>...</td>\n",
       "      <td>0</td>\n",
       "      <td>0</td>\n",
       "      <td>0</td>\n",
       "      <td>0</td>\n",
       "      <td>0</td>\n",
       "      <td>0</td>\n",
       "      <td>0</td>\n",
       "      <td>0</td>\n",
       "      <td>1997-01-15 17:0:00</td>\n",
       "      <td>Altar</td>\n",
       "    </tr>\n",
       "    <tr>\n",
       "      <th>207541</th>\n",
       "      <td>26</td>\n",
       "      <td>4</td>\n",
       "      <td>1997</td>\n",
       "      <td>1</td>\n",
       "      <td>19</td>\n",
       "      <td>0</td>\n",
       "      <td>30</td>\n",
       "      <td>Jueves</td>\n",
       "      <td>Sin accidente en esta zona</td>\n",
       "      <td>Accidente en camino rural</td>\n",
       "      <td>...</td>\n",
       "      <td>0</td>\n",
       "      <td>0</td>\n",
       "      <td>0</td>\n",
       "      <td>0</td>\n",
       "      <td>0</td>\n",
       "      <td>0</td>\n",
       "      <td>0</td>\n",
       "      <td>0</td>\n",
       "      <td>1997-01-30 19:0:00</td>\n",
       "      <td>Altar</td>\n",
       "    </tr>\n",
       "    <tr>\n",
       "      <th>207542</th>\n",
       "      <td>26</td>\n",
       "      <td>4</td>\n",
       "      <td>1997</td>\n",
       "      <td>1</td>\n",
       "      <td>3</td>\n",
       "      <td>0</td>\n",
       "      <td>14</td>\n",
       "      <td>Martes</td>\n",
       "      <td>Accidente en no intersección</td>\n",
       "      <td>Sin accidente en esta zona</td>\n",
       "      <td>...</td>\n",
       "      <td>0</td>\n",
       "      <td>0</td>\n",
       "      <td>0</td>\n",
       "      <td>0</td>\n",
       "      <td>0</td>\n",
       "      <td>0</td>\n",
       "      <td>0</td>\n",
       "      <td>0</td>\n",
       "      <td>1997-01-14 3:0:00</td>\n",
       "      <td>Altar</td>\n",
       "    </tr>\n",
       "    <tr>\n",
       "      <th>207543</th>\n",
       "      <td>26</td>\n",
       "      <td>14</td>\n",
       "      <td>1997</td>\n",
       "      <td>1</td>\n",
       "      <td>9</td>\n",
       "      <td>0</td>\n",
       "      <td>6</td>\n",
       "      <td>Lunes</td>\n",
       "      <td>Accidente en intersección</td>\n",
       "      <td>Sin accidente en esta zona</td>\n",
       "      <td>...</td>\n",
       "      <td>0</td>\n",
       "      <td>0</td>\n",
       "      <td>0</td>\n",
       "      <td>0</td>\n",
       "      <td>0</td>\n",
       "      <td>0</td>\n",
       "      <td>0</td>\n",
       "      <td>0</td>\n",
       "      <td>1997-01-6 9:0:00</td>\n",
       "      <td>Baviácora</td>\n",
       "    </tr>\n",
       "    <tr>\n",
       "      <th>...</th>\n",
       "      <td>...</td>\n",
       "      <td>...</td>\n",
       "      <td>...</td>\n",
       "      <td>...</td>\n",
       "      <td>...</td>\n",
       "      <td>...</td>\n",
       "      <td>...</td>\n",
       "      <td>...</td>\n",
       "      <td>...</td>\n",
       "      <td>...</td>\n",
       "      <td>...</td>\n",
       "      <td>...</td>\n",
       "      <td>...</td>\n",
       "      <td>...</td>\n",
       "      <td>...</td>\n",
       "      <td>...</td>\n",
       "      <td>...</td>\n",
       "      <td>...</td>\n",
       "      <td>...</td>\n",
       "      <td>...</td>\n",
       "      <td>...</td>\n",
       "    </tr>\n",
       "    <tr>\n",
       "      <th>9511221</th>\n",
       "      <td>26</td>\n",
       "      <td>72</td>\n",
       "      <td>2021</td>\n",
       "      <td>12</td>\n",
       "      <td>2</td>\n",
       "      <td>35</td>\n",
       "      <td>5</td>\n",
       "      <td>Domingo</td>\n",
       "      <td>Accidente en intersección</td>\n",
       "      <td>Sin accidente en esta zona</td>\n",
       "      <td>...</td>\n",
       "      <td>0</td>\n",
       "      <td>0</td>\n",
       "      <td>0</td>\n",
       "      <td>0</td>\n",
       "      <td>0</td>\n",
       "      <td>0</td>\n",
       "      <td>0</td>\n",
       "      <td>2</td>\n",
       "      <td>2021-12-5 2:35:00</td>\n",
       "      <td>San Ignacio Río Muerto</td>\n",
       "    </tr>\n",
       "    <tr>\n",
       "      <th>9511222</th>\n",
       "      <td>26</td>\n",
       "      <td>72</td>\n",
       "      <td>2021</td>\n",
       "      <td>12</td>\n",
       "      <td>21</td>\n",
       "      <td>39</td>\n",
       "      <td>12</td>\n",
       "      <td>Domingo</td>\n",
       "      <td>Accidente en intersección</td>\n",
       "      <td>Sin accidente en esta zona</td>\n",
       "      <td>...</td>\n",
       "      <td>0</td>\n",
       "      <td>0</td>\n",
       "      <td>0</td>\n",
       "      <td>0</td>\n",
       "      <td>0</td>\n",
       "      <td>0</td>\n",
       "      <td>0</td>\n",
       "      <td>1</td>\n",
       "      <td>2021-12-12 21:39:00</td>\n",
       "      <td>San Ignacio Río Muerto</td>\n",
       "    </tr>\n",
       "    <tr>\n",
       "      <th>9511223</th>\n",
       "      <td>26</td>\n",
       "      <td>72</td>\n",
       "      <td>2021</td>\n",
       "      <td>12</td>\n",
       "      <td>15</td>\n",
       "      <td>55</td>\n",
       "      <td>25</td>\n",
       "      <td>Sabado</td>\n",
       "      <td>Sin accidente en esta zona</td>\n",
       "      <td>Accidente en camino rural</td>\n",
       "      <td>...</td>\n",
       "      <td>0</td>\n",
       "      <td>0</td>\n",
       "      <td>0</td>\n",
       "      <td>0</td>\n",
       "      <td>0</td>\n",
       "      <td>0</td>\n",
       "      <td>0</td>\n",
       "      <td>1</td>\n",
       "      <td>2021-12-25 15:55:00</td>\n",
       "      <td>San Ignacio Río Muerto</td>\n",
       "    </tr>\n",
       "    <tr>\n",
       "      <th>9511224</th>\n",
       "      <td>26</td>\n",
       "      <td>72</td>\n",
       "      <td>2021</td>\n",
       "      <td>12</td>\n",
       "      <td>8</td>\n",
       "      <td>59</td>\n",
       "      <td>26</td>\n",
       "      <td>Domingo</td>\n",
       "      <td>Sin accidente en esta zona</td>\n",
       "      <td>Accidente en camino rural</td>\n",
       "      <td>...</td>\n",
       "      <td>0</td>\n",
       "      <td>0</td>\n",
       "      <td>0</td>\n",
       "      <td>0</td>\n",
       "      <td>0</td>\n",
       "      <td>0</td>\n",
       "      <td>0</td>\n",
       "      <td>1</td>\n",
       "      <td>2021-12-26 8:59:00</td>\n",
       "      <td>San Ignacio Río Muerto</td>\n",
       "    </tr>\n",
       "    <tr>\n",
       "      <th>9511225</th>\n",
       "      <td>26</td>\n",
       "      <td>72</td>\n",
       "      <td>2021</td>\n",
       "      <td>12</td>\n",
       "      <td>17</td>\n",
       "      <td>21</td>\n",
       "      <td>26</td>\n",
       "      <td>Domingo</td>\n",
       "      <td>Sin accidente en esta zona</td>\n",
       "      <td>Accidente en camino rural</td>\n",
       "      <td>...</td>\n",
       "      <td>0</td>\n",
       "      <td>0</td>\n",
       "      <td>0</td>\n",
       "      <td>0</td>\n",
       "      <td>0</td>\n",
       "      <td>0</td>\n",
       "      <td>0</td>\n",
       "      <td>2</td>\n",
       "      <td>2021-12-26 17:21:00</td>\n",
       "      <td>San Ignacio Río Muerto</td>\n",
       "    </tr>\n",
       "  </tbody>\n",
       "</table>\n",
       "<p>387840 rows × 46 columns</p>\n",
       "</div>"
      ],
      "text/plain": [
       "         ID_ENTIDAD  ID_MUNICIPIO  ANIO  MES  ID_HORA  ID_MINUTO  ID_DIA  \\\n",
       "207539           26             3  1997    1       18          0      17   \n",
       "207540           26             4  1997    1       17          0      15   \n",
       "207541           26             4  1997    1       19          0      30   \n",
       "207542           26             4  1997    1        3          0      14   \n",
       "207543           26            14  1997    1        9          0       6   \n",
       "...             ...           ...   ...  ...      ...        ...     ...   \n",
       "9511221          26            72  2021   12        2         35       5   \n",
       "9511222          26            72  2021   12       21         39      12   \n",
       "9511223          26            72  2021   12       15         55      25   \n",
       "9511224          26            72  2021   12        8         59      26   \n",
       "9511225          26            72  2021   12       17         21      26   \n",
       "\n",
       "         DIASEMANA                        URBANA  \\\n",
       "207539     Viernes    Sin accidente en esta zona   \n",
       "207540   Miércoles    Sin accidente en esta zona   \n",
       "207541      Jueves    Sin accidente en esta zona   \n",
       "207542      Martes  Accidente en no intersección   \n",
       "207543       Lunes     Accidente en intersección   \n",
       "...            ...                           ...   \n",
       "9511221    Domingo     Accidente en intersección   \n",
       "9511222    Domingo     Accidente en intersección   \n",
       "9511223     Sabado    Sin accidente en esta zona   \n",
       "9511224    Domingo    Sin accidente en esta zona   \n",
       "9511225    Domingo    Sin accidente en esta zona   \n",
       "\n",
       "                              SUBURBANA  ... CICLMUERTO  CICLHERIDO  \\\n",
       "207539   Accidente en carretera estatal  ...          0           0   \n",
       "207540        Accidente en camino rural  ...          0           0   \n",
       "207541        Accidente en camino rural  ...          0           0   \n",
       "207542       Sin accidente en esta zona  ...          0           0   \n",
       "207543       Sin accidente en esta zona  ...          0           0   \n",
       "...                                 ...  ...        ...         ...   \n",
       "9511221      Sin accidente en esta zona  ...          0           0   \n",
       "9511222      Sin accidente en esta zona  ...          0           0   \n",
       "9511223       Accidente en camino rural  ...          0           0   \n",
       "9511224       Accidente en camino rural  ...          0           0   \n",
       "9511225       Accidente en camino rural  ...          0           0   \n",
       "\n",
       "         OTROMUERTO  OTROHERIDO  NEMUERTO  NEHERIDO  Total_Muertos  \\\n",
       "207539            0           0         0         0              0   \n",
       "207540            0           0         0         0              0   \n",
       "207541            0           0         0         0              0   \n",
       "207542            0           0         0         0              0   \n",
       "207543            0           0         0         0              0   \n",
       "...             ...         ...       ...       ...            ...   \n",
       "9511221           0           0         0         0              0   \n",
       "9511222           0           0         0         0              0   \n",
       "9511223           0           0         0         0              0   \n",
       "9511224           0           0         0         0              0   \n",
       "9511225           0           0         0         0              0   \n",
       "\n",
       "         Total_Heridos                Fecha        Municipio_Nombre  \n",
       "207539               0   1997-01-17 18:0:00                  Alamos  \n",
       "207540               0   1997-01-15 17:0:00                   Altar  \n",
       "207541               0   1997-01-30 19:0:00                   Altar  \n",
       "207542               0    1997-01-14 3:0:00                   Altar  \n",
       "207543               0     1997-01-6 9:0:00               Baviácora  \n",
       "...                ...                  ...                     ...  \n",
       "9511221              2    2021-12-5 2:35:00  San Ignacio Río Muerto  \n",
       "9511222              1  2021-12-12 21:39:00  San Ignacio Río Muerto  \n",
       "9511223              1  2021-12-25 15:55:00  San Ignacio Río Muerto  \n",
       "9511224              1   2021-12-26 8:59:00  San Ignacio Río Muerto  \n",
       "9511225              2  2021-12-26 17:21:00  San Ignacio Río Muerto  \n",
       "\n",
       "[387840 rows x 46 columns]"
      ]
     },
     "execution_count": 48,
     "metadata": {},
     "output_type": "execute_result"
    }
   ],
   "source": [
    "df_test"
   ]
  },
  {
   "cell_type": "code",
   "execution_count": 5,
   "metadata": {},
   "outputs": [],
   "source": [
    "# Keep original Data Frame\n",
    "df_Complete_Original = df_complete.copy()\n",
    "# Drop columns which I considere not useful (On value for all rows, not interest)\n",
    "df_complete.drop([\"COBERTURA\", \"CLASACC\", \"ESTATUS\"], axis=1, inplace = True)"
   ]
  },
  {
   "cell_type": "code",
   "execution_count": 6,
   "metadata": {
    "colab": {
     "base_uri": "https://localhost:8080/",
     "height": 393
    },
    "id": "pbe7lxQWDChe",
    "outputId": "73d7eacb-2280-4dd4-d66c-06e804bc6fd9"
   },
   "outputs": [
    {
     "data": {
      "text/html": [
       "<div>\n",
       "<style scoped>\n",
       "    .dataframe tbody tr th:only-of-type {\n",
       "        vertical-align: middle;\n",
       "    }\n",
       "\n",
       "    .dataframe tbody tr th {\n",
       "        vertical-align: top;\n",
       "    }\n",
       "\n",
       "    .dataframe thead th {\n",
       "        text-align: right;\n",
       "    }\n",
       "</style>\n",
       "<table border=\"1\" class=\"dataframe\">\n",
       "  <thead>\n",
       "    <tr style=\"text-align: right;\">\n",
       "      <th></th>\n",
       "      <th>ID_ENTIDAD</th>\n",
       "      <th>ID_MUNICIPIO</th>\n",
       "      <th>ANIO</th>\n",
       "      <th>MES</th>\n",
       "      <th>ID_HORA</th>\n",
       "      <th>ID_MINUTO</th>\n",
       "      <th>ID_DIA</th>\n",
       "      <th>AUTOMOVIL</th>\n",
       "      <th>CAMPASAJ</th>\n",
       "      <th>MICROBUS</th>\n",
       "      <th>...</th>\n",
       "      <th>PASAMUERTO</th>\n",
       "      <th>PASAHERIDO</th>\n",
       "      <th>PEATMUERTO</th>\n",
       "      <th>PEATHERIDO</th>\n",
       "      <th>CICLMUERTO</th>\n",
       "      <th>CICLHERIDO</th>\n",
       "      <th>OTROMUERTO</th>\n",
       "      <th>OTROHERIDO</th>\n",
       "      <th>NEMUERTO</th>\n",
       "      <th>NEHERIDO</th>\n",
       "    </tr>\n",
       "  </thead>\n",
       "  <tbody>\n",
       "    <tr>\n",
       "      <th>count</th>\n",
       "      <td>9.550884e+06</td>\n",
       "      <td>9.550884e+06</td>\n",
       "      <td>9.550884e+06</td>\n",
       "      <td>9.550884e+06</td>\n",
       "      <td>9.550884e+06</td>\n",
       "      <td>9.550884e+06</td>\n",
       "      <td>9.550884e+06</td>\n",
       "      <td>9.550884e+06</td>\n",
       "      <td>9.550884e+06</td>\n",
       "      <td>9.550884e+06</td>\n",
       "      <td>...</td>\n",
       "      <td>9.550884e+06</td>\n",
       "      <td>9.550884e+06</td>\n",
       "      <td>9.550884e+06</td>\n",
       "      <td>9.550884e+06</td>\n",
       "      <td>9.550884e+06</td>\n",
       "      <td>9.550884e+06</td>\n",
       "      <td>9.550884e+06</td>\n",
       "      <td>9.550884e+06</td>\n",
       "      <td>9.550884e+06</td>\n",
       "      <td>9.550884e+06</td>\n",
       "    </tr>\n",
       "    <tr>\n",
       "      <th>mean</th>\n",
       "      <td>1.586587e+01</td>\n",
       "      <td>3.712511e+01</td>\n",
       "      <td>2.009201e+03</td>\n",
       "      <td>6.585452e+00</td>\n",
       "      <td>1.334771e+01</td>\n",
       "      <td>2.412327e+01</td>\n",
       "      <td>1.567151e+01</td>\n",
       "      <td>1.222127e+00</td>\n",
       "      <td>1.897961e-01</td>\n",
       "      <td>2.382366e-02</td>\n",
       "      <td>...</td>\n",
       "      <td>4.172703e-03</td>\n",
       "      <td>1.248452e-01</td>\n",
       "      <td>3.384608e-03</td>\n",
       "      <td>5.475420e-02</td>\n",
       "      <td>6.615094e-04</td>\n",
       "      <td>1.093469e-02</td>\n",
       "      <td>2.603947e-04</td>\n",
       "      <td>3.540405e-03</td>\n",
       "      <td>7.517629e-05</td>\n",
       "      <td>3.898068e-04</td>\n",
       "    </tr>\n",
       "    <tr>\n",
       "      <th>std</th>\n",
       "      <td>7.872250e+00</td>\n",
       "      <td>4.511557e+01</td>\n",
       "      <td>6.777925e+00</td>\n",
       "      <td>3.464759e+00</td>\n",
       "      <td>8.119444e+00</td>\n",
       "      <td>1.838461e+01</td>\n",
       "      <td>8.815885e+00</td>\n",
       "      <td>7.670169e-01</td>\n",
       "      <td>4.490261e-01</td>\n",
       "      <td>1.589211e-01</td>\n",
       "      <td>...</td>\n",
       "      <td>9.573229e-02</td>\n",
       "      <td>6.040314e-01</td>\n",
       "      <td>6.048959e-02</td>\n",
       "      <td>2.458182e-01</td>\n",
       "      <td>2.651721e-02</td>\n",
       "      <td>1.063384e-01</td>\n",
       "      <td>2.367285e-02</td>\n",
       "      <td>7.153937e-02</td>\n",
       "      <td>8.670101e-03</td>\n",
       "      <td>2.218229e-02</td>\n",
       "    </tr>\n",
       "    <tr>\n",
       "      <th>min</th>\n",
       "      <td>1.000000e+00</td>\n",
       "      <td>1.000000e+00</td>\n",
       "      <td>1.997000e+03</td>\n",
       "      <td>1.000000e+00</td>\n",
       "      <td>0.000000e+00</td>\n",
       "      <td>0.000000e+00</td>\n",
       "      <td>0.000000e+00</td>\n",
       "      <td>0.000000e+00</td>\n",
       "      <td>0.000000e+00</td>\n",
       "      <td>0.000000e+00</td>\n",
       "      <td>...</td>\n",
       "      <td>0.000000e+00</td>\n",
       "      <td>0.000000e+00</td>\n",
       "      <td>0.000000e+00</td>\n",
       "      <td>-6.000000e+00</td>\n",
       "      <td>0.000000e+00</td>\n",
       "      <td>-1.000000e+00</td>\n",
       "      <td>0.000000e+00</td>\n",
       "      <td>0.000000e+00</td>\n",
       "      <td>0.000000e+00</td>\n",
       "      <td>0.000000e+00</td>\n",
       "    </tr>\n",
       "    <tr>\n",
       "      <th>25%</th>\n",
       "      <td>9.000000e+00</td>\n",
       "      <td>1.200000e+01</td>\n",
       "      <td>2.004000e+03</td>\n",
       "      <td>4.000000e+00</td>\n",
       "      <td>9.000000e+00</td>\n",
       "      <td>7.000000e+00</td>\n",
       "      <td>8.000000e+00</td>\n",
       "      <td>1.000000e+00</td>\n",
       "      <td>0.000000e+00</td>\n",
       "      <td>0.000000e+00</td>\n",
       "      <td>...</td>\n",
       "      <td>0.000000e+00</td>\n",
       "      <td>0.000000e+00</td>\n",
       "      <td>0.000000e+00</td>\n",
       "      <td>0.000000e+00</td>\n",
       "      <td>0.000000e+00</td>\n",
       "      <td>0.000000e+00</td>\n",
       "      <td>0.000000e+00</td>\n",
       "      <td>0.000000e+00</td>\n",
       "      <td>0.000000e+00</td>\n",
       "      <td>0.000000e+00</td>\n",
       "    </tr>\n",
       "    <tr>\n",
       "      <th>50%</th>\n",
       "      <td>1.600000e+01</td>\n",
       "      <td>2.700000e+01</td>\n",
       "      <td>2.009000e+03</td>\n",
       "      <td>7.000000e+00</td>\n",
       "      <td>1.400000e+01</td>\n",
       "      <td>2.500000e+01</td>\n",
       "      <td>1.500000e+01</td>\n",
       "      <td>1.000000e+00</td>\n",
       "      <td>0.000000e+00</td>\n",
       "      <td>0.000000e+00</td>\n",
       "      <td>...</td>\n",
       "      <td>0.000000e+00</td>\n",
       "      <td>0.000000e+00</td>\n",
       "      <td>0.000000e+00</td>\n",
       "      <td>0.000000e+00</td>\n",
       "      <td>0.000000e+00</td>\n",
       "      <td>0.000000e+00</td>\n",
       "      <td>0.000000e+00</td>\n",
       "      <td>0.000000e+00</td>\n",
       "      <td>0.000000e+00</td>\n",
       "      <td>0.000000e+00</td>\n",
       "    </tr>\n",
       "    <tr>\n",
       "      <th>75%</th>\n",
       "      <td>2.100000e+01</td>\n",
       "      <td>4.100000e+01</td>\n",
       "      <td>2.015000e+03</td>\n",
       "      <td>1.000000e+01</td>\n",
       "      <td>1.800000e+01</td>\n",
       "      <td>4.000000e+01</td>\n",
       "      <td>2.300000e+01</td>\n",
       "      <td>2.000000e+00</td>\n",
       "      <td>0.000000e+00</td>\n",
       "      <td>0.000000e+00</td>\n",
       "      <td>...</td>\n",
       "      <td>0.000000e+00</td>\n",
       "      <td>0.000000e+00</td>\n",
       "      <td>0.000000e+00</td>\n",
       "      <td>0.000000e+00</td>\n",
       "      <td>0.000000e+00</td>\n",
       "      <td>0.000000e+00</td>\n",
       "      <td>0.000000e+00</td>\n",
       "      <td>0.000000e+00</td>\n",
       "      <td>0.000000e+00</td>\n",
       "      <td>0.000000e+00</td>\n",
       "    </tr>\n",
       "    <tr>\n",
       "      <th>max</th>\n",
       "      <td>3.200000e+01</td>\n",
       "      <td>9.980000e+02</td>\n",
       "      <td>2.021000e+03</td>\n",
       "      <td>1.200000e+01</td>\n",
       "      <td>9.900000e+01</td>\n",
       "      <td>9.900000e+01</td>\n",
       "      <td>3.200000e+01</td>\n",
       "      <td>9.000000e+00</td>\n",
       "      <td>9.000000e+00</td>\n",
       "      <td>9.000000e+00</td>\n",
       "      <td>...</td>\n",
       "      <td>3.600000e+01</td>\n",
       "      <td>9.100000e+01</td>\n",
       "      <td>1.000000e+01</td>\n",
       "      <td>1.400000e+01</td>\n",
       "      <td>1.000000e+01</td>\n",
       "      <td>6.000000e+00</td>\n",
       "      <td>5.000000e+01</td>\n",
       "      <td>3.000000e+01</td>\n",
       "      <td>1.000000e+00</td>\n",
       "      <td>2.000000e+00</td>\n",
       "    </tr>\n",
       "  </tbody>\n",
       "</table>\n",
       "<p>8 rows × 33 columns</p>\n",
       "</div>"
      ],
      "text/plain": [
       "         ID_ENTIDAD  ID_MUNICIPIO          ANIO           MES       ID_HORA  \\\n",
       "count  9.550884e+06  9.550884e+06  9.550884e+06  9.550884e+06  9.550884e+06   \n",
       "mean   1.586587e+01  3.712511e+01  2.009201e+03  6.585452e+00  1.334771e+01   \n",
       "std    7.872250e+00  4.511557e+01  6.777925e+00  3.464759e+00  8.119444e+00   \n",
       "min    1.000000e+00  1.000000e+00  1.997000e+03  1.000000e+00  0.000000e+00   \n",
       "25%    9.000000e+00  1.200000e+01  2.004000e+03  4.000000e+00  9.000000e+00   \n",
       "50%    1.600000e+01  2.700000e+01  2.009000e+03  7.000000e+00  1.400000e+01   \n",
       "75%    2.100000e+01  4.100000e+01  2.015000e+03  1.000000e+01  1.800000e+01   \n",
       "max    3.200000e+01  9.980000e+02  2.021000e+03  1.200000e+01  9.900000e+01   \n",
       "\n",
       "          ID_MINUTO        ID_DIA     AUTOMOVIL      CAMPASAJ      MICROBUS  \\\n",
       "count  9.550884e+06  9.550884e+06  9.550884e+06  9.550884e+06  9.550884e+06   \n",
       "mean   2.412327e+01  1.567151e+01  1.222127e+00  1.897961e-01  2.382366e-02   \n",
       "std    1.838461e+01  8.815885e+00  7.670169e-01  4.490261e-01  1.589211e-01   \n",
       "min    0.000000e+00  0.000000e+00  0.000000e+00  0.000000e+00  0.000000e+00   \n",
       "25%    7.000000e+00  8.000000e+00  1.000000e+00  0.000000e+00  0.000000e+00   \n",
       "50%    2.500000e+01  1.500000e+01  1.000000e+00  0.000000e+00  0.000000e+00   \n",
       "75%    4.000000e+01  2.300000e+01  2.000000e+00  0.000000e+00  0.000000e+00   \n",
       "max    9.900000e+01  3.200000e+01  9.000000e+00  9.000000e+00  9.000000e+00   \n",
       "\n",
       "       ...    PASAMUERTO    PASAHERIDO    PEATMUERTO    PEATHERIDO  \\\n",
       "count  ...  9.550884e+06  9.550884e+06  9.550884e+06  9.550884e+06   \n",
       "mean   ...  4.172703e-03  1.248452e-01  3.384608e-03  5.475420e-02   \n",
       "std    ...  9.573229e-02  6.040314e-01  6.048959e-02  2.458182e-01   \n",
       "min    ...  0.000000e+00  0.000000e+00  0.000000e+00 -6.000000e+00   \n",
       "25%    ...  0.000000e+00  0.000000e+00  0.000000e+00  0.000000e+00   \n",
       "50%    ...  0.000000e+00  0.000000e+00  0.000000e+00  0.000000e+00   \n",
       "75%    ...  0.000000e+00  0.000000e+00  0.000000e+00  0.000000e+00   \n",
       "max    ...  3.600000e+01  9.100000e+01  1.000000e+01  1.400000e+01   \n",
       "\n",
       "         CICLMUERTO    CICLHERIDO    OTROMUERTO    OTROHERIDO      NEMUERTO  \\\n",
       "count  9.550884e+06  9.550884e+06  9.550884e+06  9.550884e+06  9.550884e+06   \n",
       "mean   6.615094e-04  1.093469e-02  2.603947e-04  3.540405e-03  7.517629e-05   \n",
       "std    2.651721e-02  1.063384e-01  2.367285e-02  7.153937e-02  8.670101e-03   \n",
       "min    0.000000e+00 -1.000000e+00  0.000000e+00  0.000000e+00  0.000000e+00   \n",
       "25%    0.000000e+00  0.000000e+00  0.000000e+00  0.000000e+00  0.000000e+00   \n",
       "50%    0.000000e+00  0.000000e+00  0.000000e+00  0.000000e+00  0.000000e+00   \n",
       "75%    0.000000e+00  0.000000e+00  0.000000e+00  0.000000e+00  0.000000e+00   \n",
       "max    1.000000e+01  6.000000e+00  5.000000e+01  3.000000e+01  1.000000e+00   \n",
       "\n",
       "           NEHERIDO  \n",
       "count  9.550884e+06  \n",
       "mean   3.898068e-04  \n",
       "std    2.218229e-02  \n",
       "min    0.000000e+00  \n",
       "25%    0.000000e+00  \n",
       "50%    0.000000e+00  \n",
       "75%    0.000000e+00  \n",
       "max    2.000000e+00  \n",
       "\n",
       "[8 rows x 33 columns]"
      ]
     },
     "execution_count": 6,
     "metadata": {},
     "output_type": "execute_result"
    }
   ],
   "source": [
    "df_complete.describe()"
   ]
  },
  {
   "cell_type": "code",
   "execution_count": 28,
   "metadata": {
    "id": "hBKJBtHVurFw"
   },
   "outputs": [],
   "source": [
    "# 4 - GET CITIES NAMES \n",
    "# Catalog paths : There CSV files that has the names of the cities by ID\n",
    "\n",
    "pathCSV_Catalogo_Municipios = os.path.join(folder_Accidentes, \"catalogos\", \"tc_municipio.csv\")\n",
    "pathCSV_Catalogo_Entidades = os.path.join(folder_Accidentes, \"catalogos\", \"tc_entidad.csv\")\n",
    "\n",
    "df_Catalogo_Municipio = pd.read_csv(pathCSV_Catalogo_Municipios, index_col = False)\n",
    "df_Catalogo_Entidad = pd.read_csv(pathCSV_Catalogo_Entidades, index_col = False)\n",
    "\n",
    "# Get only \"MUNICIPIOS\" from Sonora\n",
    "df_Catalogo_Municipio = df_Catalogo_Municipio[df_Catalogo_Municipio[\"ID_ENTIDAD\"] == 26]"
   ]
  },
  {
   "cell_type": "code",
   "execution_count": null,
   "metadata": {
    "colab": {
     "base_uri": "https://localhost:8080/"
    },
    "id": "PW8NNbmXWY-j",
    "outputId": "ead9111a-8c40-4dd4-ead1-b58ba9fde2ef"
   },
   "outputs": [],
   "source": [
    "# 5 - DATAFRAME SONORA\n",
    "\n",
    "# 5.1 - Funtion to create column All_Deaths = Sum (All_Deaths by accident)\n",
    "def Total_Muertos(fila):\n",
    "  result = fila[\"CONDMUERTO\"] + fila[\"PASAMUERTO\"] + fila[\"PEATMUERTO\"] + fila[\"CICLMUERTO\"] + fila[\"OTROMUERTO\"]\n",
    "  return result\n",
    "\n",
    "# 5.2 - Function to create column All_Injuries by accident\n",
    "def Total_Heridos(fila):\n",
    "  result = fila[\"CONDHERIDO\"] + fila[\"PASAHERIDO\"] + fila[\"PEATHERIDO\"] + fila[\"CICLHERIDO\"] + fila[\"OTROHERIDO\"]\n",
    "  return result\n",
    "\n",
    "# 5.3 Function to Add Munucipio Name \n",
    "def Name_Municipio(fila):\n",
    "  result = df_Catalogo_Municipio[df_Catalogo_Municipio[\"ID_MUNICIPIO\"] == fila.ID_MUNICIPIO ]\n",
    "  result = result.iloc[0]['NOM_MUNICIPIO']\n",
    "  return result\n",
    "\n",
    "def Name_Municipio2(fila):\n",
    "  result = df_Catalogo_Municipio[df_Catalogo_Municipio[\"ID_MUNICIPIO\"] == fila.name ]\n",
    "  result = result.iloc[0]['NOM_MUNICIPIO']\n",
    "  return result\n",
    "\n",
    "def Name_Entidad(fila):\n",
    "  result = df_Catalogo_Entidad[df_Catalogo_Entidad[\"ID_ENTIDAD\"] == fila.name ]\n",
    "  result = result.iloc[0]['NOM_ENTIDAD']\n",
    "  return result\n",
    "\n",
    "# Create a DateTime column\n",
    "def Create_DateTime(fila):\n",
    "  if len(str(fila[\"MES\"])) == 1:\n",
    "    result = str(fila[\"ANIO\"]) + \"-\" + \"0\" + str(fila[\"MES\"]) + \"-\" + str(fila[\"ID_DIA\"]) + \" \" + str(fila[\"ID_HORA\"]) + \":\" + str(fila[\"ID_MINUTO\"]) + \":00\"\n",
    "  else:\n",
    "    result = str(fila[\"ANIO\"]) + \"-\" + str(fila[\"MES\"]) + \"-\" + str(fila[\"ID_DIA\"]) + \" \" + str(fila[\"ID_HORA\"]) + \":\" + str(fila[\"ID_MINUTO\"]) + \":00\"\n",
    "  return result\n",
    "\n",
    "\n",
    "# 5.1 Create data frame only for Sonora\n",
    "df_Sonora = df_complete[df_complete[\"ID_ENTIDAD\"] == 26]\n",
    "\n",
    "# 5.2 & 5.3 - Get total DEATHS and INJURIES\n",
    "df_Sonora[\"Total_Muertos\"] = df_Sonora.apply(Total_Muertos, axis=1)\n",
    "df_Sonora[\"Total_Heridos\"] = df_Sonora.apply(Total_Heridos, axis=1)\n",
    "df_Sonora[\"Fecha\"] = df_Sonora.apply(Create_DateTime, axis=1)\n",
    "df_Sonora[\"Municipio_Nombre\"] = df_Sonora.apply(Name_Municipio, axis=1)\n",
    "\n",
    "# Make date column\n",
    "#df_Sonora['Fecha_Tiempo'] =  pd.to_datetime(df_Sonora['Fecha'], format='%Y-%m-%d %H:%M:%S')\n",
    "\n",
    "# 5.4 - Add \"MUNICIPIOS\" name (city name)\n",
    "df_Sonora_Complete = df_Sonora.copy()\n",
    "#df_Sonora_Complete[\"Municipio_Nombre\"] = df_Sonora_Complete.apply(Name_Municipio, axis=1)\n",
    "\n",
    "# 5.5 Deaths and people injured by \"Municipio\"\n",
    "df_Sonora_Deaths = df_Sonora_Complete.groupby(\"ID_MUNICIPIO\").agg({\n",
    "    \"Total_Muertos\" : 'sum',\n",
    "    \"Total_Heridos\" : 'sum',\n",
    "})\n",
    "df_complete_Death = df_complete.groupby(\"ID_ENTIDAD\").agg({\n",
    "    \"CONDMUERTO\" : \"sum\",\n",
    "    \"PASAMUERTO\" : \"sum\",\n",
    "    \"PEATMUERTO\" : \"sum\",\n",
    "    \"CICLMUERTO\" : \"sum\",\n",
    "    \"OTROMUERTO\" : \"sum\",\n",
    "})\n",
    "\n",
    "df_complete_Death[\"Entidad\"] = df_complete_Death.apply(Name_Entidad, axis=1)\n",
    "df_Sonora_Deaths[\"Municipio_Nombre\"] = df_Sonora_Deaths.apply(Name_Municipio2, axis=1)\n"
   ]
  },
  {
   "cell_type": "code",
   "execution_count": 29,
   "metadata": {},
   "outputs": [],
   "source": [
    "file_Sonora_csv = os.path.join(folder_DataLab, \"Accidentes_Sonora_1997_2021.csv\")\n",
    "# df_Sonora_Complete.to_csv(file_Sonora_csv)\n",
    "df_Sonora_Complete = pd.read_csv(file_Sonora_csv, index_col=0)"
   ]
  },
  {
   "cell_type": "code",
   "execution_count": 7,
   "metadata": {
    "id": "trtfE1JPtyk5"
   },
   "outputs": [],
   "source": [
    "# Censos de poblacion\n",
    "file_poblacion_2000_csv = os.path.join(folder_DataLab, \"Censos\", \"cgpv2000_iter_26\", \"Conjunto_de_datos\", \"cgpv2000_iter_26.csv\")\n",
    "file_poblacion_2010_csv = os.path.join(folder_DataLab, \"Censos\", \"iter_26_cpv2010\", \"Conjunto_de_datos\", \"iter_26_cpv2010.csv\")\n",
    "file_poblacion_2020_csv = os.path.join(folder_DataLab, \"Censos\", \"iter_26_cpv2020\", \"Conjunto_de_datos\", \"conjunto_de_datos_iter_26CSV20.csv\")\n",
    "\n",
    "df_Poblacion_2000_completed = pd.read_csv(file_poblacion_2000_csv, index_col=False)\n",
    "df_Poblacion_2010_completed = pd.read_csv(file_poblacion_2010_csv, index_col=False)\n",
    "df_Poblacion_2020_completed = pd.read_csv(file_poblacion_2020_csv, index_col=False)\n",
    "df_Poblacion_2000 = df_Poblacion_2000_completed[df_Poblacion_2000_completed[\"nom_loc\"] == \"TOTAL MUNICIPAL\"]\n",
    "df_Poblacion_2010 = df_Poblacion_2010_completed[df_Poblacion_2010_completed[\"nom_loc\"] == \"Total del Municipio\"]\n",
    "df_Poblacion_2020 = df_Poblacion_2020_completed[df_Poblacion_2020_completed[\"NOM_LOC\"] == \"Total del Municipio\"]\n"
   ]
  },
  {
   "cell_type": "code",
   "execution_count": 12,
   "metadata": {},
   "outputs": [
    {
     "data": {
      "text/html": [
       "<div>\n",
       "<style scoped>\n",
       "    .dataframe tbody tr th:only-of-type {\n",
       "        vertical-align: middle;\n",
       "    }\n",
       "\n",
       "    .dataframe tbody tr th {\n",
       "        vertical-align: top;\n",
       "    }\n",
       "\n",
       "    .dataframe thead th {\n",
       "        text-align: right;\n",
       "    }\n",
       "</style>\n",
       "<table border=\"1\" class=\"dataframe\">\n",
       "  <thead>\n",
       "    <tr style=\"text-align: right;\">\n",
       "      <th></th>\n",
       "      <th>Years</th>\n",
       "      <th>Id_Municipio</th>\n",
       "      <th>Total_Deaths</th>\n",
       "      <th>Total_Deaths_Drunk</th>\n",
       "      <th>Total_Injury</th>\n",
       "      <th>Total_Injury_Drunk</th>\n",
       "      <th>Nombre_Municipio</th>\n",
       "      <th>Poblacion</th>\n",
       "      <th>Tasa_Muertos</th>\n",
       "      <th>Tasa_Heridos</th>\n",
       "      <th>Tasa_Muertos_Alcohol</th>\n",
       "      <th>Tasa_Heridos_Alcohol</th>\n",
       "    </tr>\n",
       "  </thead>\n",
       "  <tbody>\n",
       "    <tr>\n",
       "      <th>0</th>\n",
       "      <td>1997</td>\n",
       "      <td>1</td>\n",
       "      <td>0</td>\n",
       "      <td>0</td>\n",
       "      <td>0</td>\n",
       "      <td>0</td>\n",
       "      <td>Aconchi</td>\n",
       "      <td>2420</td>\n",
       "      <td>0.000000</td>\n",
       "      <td>0.000000</td>\n",
       "      <td>0.000000</td>\n",
       "      <td>0.00000</td>\n",
       "    </tr>\n",
       "    <tr>\n",
       "      <th>1</th>\n",
       "      <td>1997</td>\n",
       "      <td>2</td>\n",
       "      <td>0</td>\n",
       "      <td>0</td>\n",
       "      <td>0</td>\n",
       "      <td>0</td>\n",
       "      <td>Agua Prieta</td>\n",
       "      <td>61944</td>\n",
       "      <td>0.000000</td>\n",
       "      <td>0.000000</td>\n",
       "      <td>0.000000</td>\n",
       "      <td>0.00000</td>\n",
       "    </tr>\n",
       "    <tr>\n",
       "      <th>2</th>\n",
       "      <td>1997</td>\n",
       "      <td>3</td>\n",
       "      <td>4</td>\n",
       "      <td>1</td>\n",
       "      <td>21</td>\n",
       "      <td>6</td>\n",
       "      <td>Alamos</td>\n",
       "      <td>25152</td>\n",
       "      <td>0.159033</td>\n",
       "      <td>0.834924</td>\n",
       "      <td>0.039758</td>\n",
       "      <td>0.23855</td>\n",
       "    </tr>\n",
       "    <tr>\n",
       "      <th>3</th>\n",
       "      <td>1997</td>\n",
       "      <td>4</td>\n",
       "      <td>0</td>\n",
       "      <td>0</td>\n",
       "      <td>1</td>\n",
       "      <td>0</td>\n",
       "      <td>Altar</td>\n",
       "      <td>7253</td>\n",
       "      <td>0.000000</td>\n",
       "      <td>0.137874</td>\n",
       "      <td>0.000000</td>\n",
       "      <td>0.00000</td>\n",
       "    </tr>\n",
       "    <tr>\n",
       "      <th>4</th>\n",
       "      <td>1997</td>\n",
       "      <td>5</td>\n",
       "      <td>1</td>\n",
       "      <td>0</td>\n",
       "      <td>0</td>\n",
       "      <td>0</td>\n",
       "      <td>Arivechi</td>\n",
       "      <td>1484</td>\n",
       "      <td>0.673854</td>\n",
       "      <td>0.000000</td>\n",
       "      <td>0.000000</td>\n",
       "      <td>0.00000</td>\n",
       "    </tr>\n",
       "  </tbody>\n",
       "</table>\n",
       "</div>"
      ],
      "text/plain": [
       "   Years  Id_Municipio  Total_Deaths  Total_Deaths_Drunk  Total_Injury  \\\n",
       "0   1997             1             0                   0             0   \n",
       "1   1997             2             0                   0             0   \n",
       "2   1997             3             4                   1            21   \n",
       "3   1997             4             0                   0             1   \n",
       "4   1997             5             1                   0             0   \n",
       "\n",
       "   Total_Injury_Drunk Nombre_Municipio  Poblacion  Tasa_Muertos  Tasa_Heridos  \\\n",
       "0                   0          Aconchi       2420      0.000000      0.000000   \n",
       "1                   0      Agua Prieta      61944      0.000000      0.000000   \n",
       "2                   6           Alamos      25152      0.159033      0.834924   \n",
       "3                   0            Altar       7253      0.000000      0.137874   \n",
       "4                   0         Arivechi       1484      0.673854      0.000000   \n",
       "\n",
       "   Tasa_Muertos_Alcohol  Tasa_Heridos_Alcohol  \n",
       "0              0.000000               0.00000  \n",
       "1              0.000000               0.00000  \n",
       "2              0.039758               0.23855  \n",
       "3              0.000000               0.00000  \n",
       "4              0.000000               0.00000  "
      ]
     },
     "execution_count": 12,
     "metadata": {},
     "output_type": "execute_result"
    }
   ],
   "source": [
    "# df_Sonora_Complete\n",
    "\n",
    "listYears = df_Sonora_Complete.ANIO.unique()\n",
    "listMunicipio = df_Sonora_Complete[\"ID_MUNICIPIO\"].unique()\n",
    "listYears.sort()\n",
    "listMunicipio.sort()\n",
    "\n",
    "list_DeathTotal = []\n",
    "list_DeathDrunk = []\n",
    "list_InjuryTotal = []\n",
    "list_InjuryDrunk = []\n",
    "list_poblacion = []\n",
    "list_nombre = []\n",
    "\n",
    "list_Year = []\n",
    "list_Municipio = []\n",
    "# Adding names and poblation\n",
    "list_nombres = []\n",
    "list_poblacion = []\n",
    "\n",
    "# Get Tasa\n",
    "list_Tasa_Deaths = []\n",
    "list_Tasa_Injury = []\n",
    "list_Tasa_Deaths_Alcohol = []\n",
    "list_Tasa_Injury_Alcohol = []\n",
    "\n",
    "for year in listYears:\n",
    "    for mun in listMunicipio:\n",
    "        totalDeath_year = sum(df_Sonora_Complete[(df_Sonora_Complete[\"ID_MUNICIPIO\"] == mun) & (df_Sonora_Complete[\"ANIO\"] == year)].Total_Muertos)\n",
    "        totalDeath_Drunk_year = sum(df_Sonora_Complete[(df_Sonora_Complete[\"ID_MUNICIPIO\"] == mun) & (df_Sonora_Complete[\"ANIO\"] == year) & (df_Sonora_Complete[\"ALIENTO\"] == \"Sí\")].Total_Muertos)\n",
    "        totalInjury = sum(df_Sonora_Complete[(df_Sonora_Complete[\"ID_MUNICIPIO\"] == mun) & (df_Sonora_Complete[\"ANIO\"] == year)].Total_Heridos)\n",
    "        totalInjury_Drunk_year = sum(df_Sonora_Complete[(df_Sonora_Complete[\"ID_MUNICIPIO\"] == mun) & (df_Sonora_Complete[\"ANIO\"] == year) & (df_Sonora_Complete[\"ALIENTO\"] == \"Sí\")].Total_Heridos)\n",
    "\n",
    "        list_DeathTotal.append(totalDeath_year)\n",
    "        list_DeathDrunk.append(totalDeath_Drunk_year)\n",
    "        list_InjuryTotal.append(totalInjury)\n",
    "        list_InjuryDrunk.append(totalInjury_Drunk_year)\n",
    "\n",
    "        list_Year.append(year)\n",
    "        list_Municipio.append(mun)\n",
    "        list_nombres.append(df_Catalogo_Municipio[df_Catalogo_Municipio[\"ID_MUNICIPIO\"] == mun].iloc[0][\"NOM_MUNICIPIO\"])\n",
    "        pobTotal = 0\n",
    "        if year < 2010:\n",
    "            pobTotal = df_Poblacion_2000[df_Poblacion_2000[\"mun\"] == mun].iloc[0][\"pobtot\"]\n",
    "            # list_poblacion.append()        \n",
    "        elif year < 2020:\n",
    "            pobTotal = df_Poblacion_2010[df_Poblacion_2010[\"mun\"] == mun].iloc[0][\"pobtot\"]\n",
    "            # list_poblacion.append(df_Poblacion_2010[df_Poblacion_2010[\"mun\"] == mun].iloc[0][\"pobtot\"])\n",
    "        else:\n",
    "            pobTotal = df_Poblacion_2020[df_Poblacion_2020[\"MUN\"] == mun].iloc[0][\"POBTOT\"]\n",
    "            # list_poblacion.append(df_Poblacion_2020[df_Poblacion_2020[\"MUN\"] == mun].iloc[0][\"POBTOT\"]) \n",
    "\n",
    "        list_poblacion.append(pobTotal)\n",
    "        list_Tasa_Deaths.append((totalDeath_year / pobTotal) * 1000 )\n",
    "        list_Tasa_Injury.append((totalInjury / pobTotal) * 1000 )\n",
    "        list_Tasa_Deaths_Alcohol.append((totalDeath_Drunk_year / pobTotal) * 1000 )\n",
    "        list_Tasa_Injury_Alcohol.append((totalInjury_Drunk_year / pobTotal) * 1000 )\n",
    "\n",
    "df_Municipio_Deaths = pd.DataFrame()\n",
    "df_Municipio_Deaths[\"Years\"] = list_Year\n",
    "df_Municipio_Deaths[\"Id_Municipio\"] = list_Municipio\n",
    "df_Municipio_Deaths[\"Total_Deaths\"] = list_DeathTotal\n",
    "df_Municipio_Deaths[\"Total_Deaths_Drunk\"] = list_DeathDrunk\n",
    "df_Municipio_Deaths[\"Total_Injury\"] = list_InjuryTotal\n",
    "df_Municipio_Deaths[\"Total_Injury_Drunk\"] = list_InjuryDrunk\n",
    "\n",
    "df_Municipio_Deaths[\"Nombre_Municipio\"] = list_nombres\n",
    "df_Municipio_Deaths[\"Poblacion\"] = list_poblacion\n",
    "\n",
    "df_Municipio_Deaths[\"Tasa_Muertos\"] = list_Tasa_Deaths\n",
    "df_Municipio_Deaths[\"Tasa_Heridos\"] = list_Tasa_Injury\n",
    "df_Municipio_Deaths[\"Tasa_Muertos_Alcohol\"] = list_Tasa_Deaths_Alcohol\n",
    "df_Municipio_Deaths[\"Tasa_Heridos_Alcohol\"] = list_Tasa_Injury_Alcohol\n",
    "\n",
    "df_Municipio_Deaths.head()"
   ]
  },
  {
   "cell_type": "code",
   "execution_count": null,
   "metadata": {},
   "outputs": [],
   "source": [
    "# Get Tasa\n",
    "list_Tasa_Deaths = []\n",
    "list_Tasa_Injury = []\n",
    "list_Tasa_Deaths_Alcohol = []\n",
    "list_Tasa_Injury_Alcohol = []\n",
    "\n",
    "for index, row in df_Municipio_Deaths.iterrows():\n",
    "    year = row[\"Years\"]\n",
    "    num_municipio = row[\"Id_Municipio\"]\n",
    "    list_nombres.append(df_Catalogo_Municipio[df_Catalogo_Municipio[\"ID_MUNICIPIO\"] == num_municipio].iloc[0][\"NOM_MUNICIPIO\"])\n",
    "    if year < 2010:\n",
    "        list_poblacion.append(df_Poblacion_2000[df_Poblacion_2000[\"mun\"] == num_municipio].iloc[0][\"pobtot\"])        \n",
    "    elif year < 2020:\n",
    "        list_poblacion.append(df_Poblacion_2010[df_Poblacion_2010[\"mun\"] == num_municipio].iloc[0][\"pobtot\"])\n",
    "    else:\n",
    "        list_poblacion.append(df_Poblacion_2020[df_Poblacion_2020[\"MUN\"] == num_municipio].iloc[0][\"POBTOT\"])"
   ]
  },
  {
   "cell_type": "code",
   "execution_count": null,
   "metadata": {},
   "outputs": [],
   "source": [
    "# df_Municipio_Deaths[df_Municipio_Deaths[\"Years\"] == 2018].sort_values(by=\"p_Muertos\", ascending=False).head(10)\n",
    "# df_Municipio_Deaths[df_Municipio_Deaths[\"p_Heridos_Drunk\"] >= 20]\n",
    "# df_Municipio_Deaths[df_Municipio_Deaths[\"p_Heridos_Drunk\"] >= 20].p_Heridos_Drunk.unique()\n",
    "df_Sonora_Tasa_Muertes = df_Municipio_Deaths.copy()\n",
    "df_Sonora_Tasa_Heridos = df_Municipio_Deaths.copy()\n",
    "df_Sonora_Tasa_Muertes_Al = df_Municipio_Deaths.copy()\n",
    "df_Sonora_Tasa_Heridos_Al = df_Municipio_Deaths.copy()\n",
    "\n",
    "df_Sonora_Tasa_Muertes = df_Sonora_Tasa_Muertes[0:0]\n",
    "df_Sonora_Tasa_Heridos = df_Sonora_Tasa_Heridos[0:0]\n",
    "df_Sonora_Tasa_Muertes_Al = df_Sonora_Tasa_Muertes_Al[0:0]\n",
    "df_Sonora_Tasa_Heridos_Al = df_Sonora_Tasa_Heridos_Al[0:0]\n",
    "\n",
    "for year in df_Municipio_Deaths[\"Years\"].unique():\n",
    "    df_Sonora_Tasa_Muertes = df_Sonora_Tasa_Muertes.append(df_Municipio_Deaths[(df_Municipio_Deaths[\"Years\"] == year) & (df_Municipio_Deaths[\"Tasa_Muertos\"] > 1 )].sort_values(by=\"Tasa_Muertos\", ascending=False).head(5), ignore_index=\"True\" )\n",
    "    df_Sonora_Tasa_Heridos = df_Sonora_Tasa_Heridos.append(df_Municipio_Deaths[(df_Municipio_Deaths[\"Years\"] == year) & (df_Municipio_Deaths[\"Tasa_Heridos\"] > 1 )].sort_values(by=\"Tasa_Heridos\", ascending=False).head(5), ignore_index=\"True\" )\n",
    "    df_Sonora_Tasa_Muertes_Al = df_Sonora_Tasa_Muertes_Al.append(df_Municipio_Deaths[(df_Municipio_Deaths[\"Years\"] == year) & (df_Municipio_Deaths[\"Tasa_Muertos_Alcohol\"] > 1 )].sort_values(by=\"Tasa_Muertos_Alcohol\", ascending=False).head(5), ignore_index=\"True\" )\n",
    "    df_Sonora_Tasa_Heridos_Al = df_Sonora_Tasa_Heridos_Al.append(df_Municipio_Deaths[(df_Municipio_Deaths[\"Years\"] == year) & (df_Municipio_Deaths[\"Tasa_Heridos_Alcohol\"] > 1 )].sort_values(by=\"Tasa_Heridos_Alcohol\", ascending=False).head(5), ignore_index=\"True\" )\n"
   ]
  },
  {
   "cell_type": "code",
   "execution_count": 31,
   "metadata": {},
   "outputs": [
    {
     "data": {
      "text/html": [
       "<div>\n",
       "<style scoped>\n",
       "    .dataframe tbody tr th:only-of-type {\n",
       "        vertical-align: middle;\n",
       "    }\n",
       "\n",
       "    .dataframe tbody tr th {\n",
       "        vertical-align: top;\n",
       "    }\n",
       "\n",
       "    .dataframe thead th {\n",
       "        text-align: right;\n",
       "    }\n",
       "</style>\n",
       "<table border=\"1\" class=\"dataframe\">\n",
       "  <thead>\n",
       "    <tr style=\"text-align: right;\">\n",
       "      <th></th>\n",
       "      <th>Years</th>\n",
       "      <th>Id_Municipio</th>\n",
       "      <th>Total_Deaths</th>\n",
       "      <th>Total_Deaths_Drunk</th>\n",
       "      <th>Total_Injury</th>\n",
       "      <th>Total_Injury_Drunk</th>\n",
       "      <th>Nombre_Municipio</th>\n",
       "      <th>Poblacion</th>\n",
       "      <th>Tasa_Muertos</th>\n",
       "      <th>Tasa_Heridos</th>\n",
       "      <th>Tasa_Muertos_Alcohol</th>\n",
       "      <th>Tasa_Heridos_Alcohol</th>\n",
       "    </tr>\n",
       "  </thead>\n",
       "  <tbody>\n",
       "    <tr>\n",
       "      <th>0</th>\n",
       "      <td>1997</td>\n",
       "      <td>1</td>\n",
       "      <td>0</td>\n",
       "      <td>0</td>\n",
       "      <td>0</td>\n",
       "      <td>0</td>\n",
       "      <td>Aconchi</td>\n",
       "      <td>2420</td>\n",
       "      <td>0.000000</td>\n",
       "      <td>0.000000</td>\n",
       "      <td>0.000000</td>\n",
       "      <td>0.000000</td>\n",
       "    </tr>\n",
       "    <tr>\n",
       "      <th>1</th>\n",
       "      <td>1997</td>\n",
       "      <td>2</td>\n",
       "      <td>0</td>\n",
       "      <td>0</td>\n",
       "      <td>0</td>\n",
       "      <td>0</td>\n",
       "      <td>Agua Prieta</td>\n",
       "      <td>61944</td>\n",
       "      <td>0.000000</td>\n",
       "      <td>0.000000</td>\n",
       "      <td>0.000000</td>\n",
       "      <td>0.000000</td>\n",
       "    </tr>\n",
       "    <tr>\n",
       "      <th>2</th>\n",
       "      <td>1997</td>\n",
       "      <td>3</td>\n",
       "      <td>4</td>\n",
       "      <td>1</td>\n",
       "      <td>21</td>\n",
       "      <td>6</td>\n",
       "      <td>Alamos</td>\n",
       "      <td>25152</td>\n",
       "      <td>0.159033</td>\n",
       "      <td>0.834924</td>\n",
       "      <td>0.039758</td>\n",
       "      <td>0.238550</td>\n",
       "    </tr>\n",
       "    <tr>\n",
       "      <th>3</th>\n",
       "      <td>1997</td>\n",
       "      <td>4</td>\n",
       "      <td>0</td>\n",
       "      <td>0</td>\n",
       "      <td>1</td>\n",
       "      <td>0</td>\n",
       "      <td>Altar</td>\n",
       "      <td>7253</td>\n",
       "      <td>0.000000</td>\n",
       "      <td>0.137874</td>\n",
       "      <td>0.000000</td>\n",
       "      <td>0.000000</td>\n",
       "    </tr>\n",
       "    <tr>\n",
       "      <th>4</th>\n",
       "      <td>1997</td>\n",
       "      <td>5</td>\n",
       "      <td>1</td>\n",
       "      <td>0</td>\n",
       "      <td>0</td>\n",
       "      <td>0</td>\n",
       "      <td>Arivechi</td>\n",
       "      <td>1484</td>\n",
       "      <td>0.673854</td>\n",
       "      <td>0.000000</td>\n",
       "      <td>0.000000</td>\n",
       "      <td>0.000000</td>\n",
       "    </tr>\n",
       "    <tr>\n",
       "      <th>...</th>\n",
       "      <td>...</td>\n",
       "      <td>...</td>\n",
       "      <td>...</td>\n",
       "      <td>...</td>\n",
       "      <td>...</td>\n",
       "      <td>...</td>\n",
       "      <td>...</td>\n",
       "      <td>...</td>\n",
       "      <td>...</td>\n",
       "      <td>...</td>\n",
       "      <td>...</td>\n",
       "      <td>...</td>\n",
       "    </tr>\n",
       "    <tr>\n",
       "      <th>1795</th>\n",
       "      <td>2021</td>\n",
       "      <td>68</td>\n",
       "      <td>0</td>\n",
       "      <td>0</td>\n",
       "      <td>0</td>\n",
       "      <td>0</td>\n",
       "      <td>Villa Pesqueira</td>\n",
       "      <td>1043</td>\n",
       "      <td>0.000000</td>\n",
       "      <td>0.000000</td>\n",
       "      <td>0.000000</td>\n",
       "      <td>0.000000</td>\n",
       "    </tr>\n",
       "    <tr>\n",
       "      <th>1796</th>\n",
       "      <td>2021</td>\n",
       "      <td>69</td>\n",
       "      <td>0</td>\n",
       "      <td>0</td>\n",
       "      <td>0</td>\n",
       "      <td>0</td>\n",
       "      <td>Yécora</td>\n",
       "      <td>4793</td>\n",
       "      <td>0.000000</td>\n",
       "      <td>0.000000</td>\n",
       "      <td>0.000000</td>\n",
       "      <td>0.000000</td>\n",
       "    </tr>\n",
       "    <tr>\n",
       "      <th>1797</th>\n",
       "      <td>2021</td>\n",
       "      <td>70</td>\n",
       "      <td>1</td>\n",
       "      <td>0</td>\n",
       "      <td>1</td>\n",
       "      <td>0</td>\n",
       "      <td>General Plutarco Elías Calles</td>\n",
       "      <td>13627</td>\n",
       "      <td>0.073384</td>\n",
       "      <td>0.073384</td>\n",
       "      <td>0.000000</td>\n",
       "      <td>0.000000</td>\n",
       "    </tr>\n",
       "    <tr>\n",
       "      <th>1798</th>\n",
       "      <td>2021</td>\n",
       "      <td>71</td>\n",
       "      <td>0</td>\n",
       "      <td>0</td>\n",
       "      <td>43</td>\n",
       "      <td>0</td>\n",
       "      <td>Benito Juárez</td>\n",
       "      <td>21692</td>\n",
       "      <td>0.000000</td>\n",
       "      <td>1.982298</td>\n",
       "      <td>0.000000</td>\n",
       "      <td>0.000000</td>\n",
       "    </tr>\n",
       "    <tr>\n",
       "      <th>1799</th>\n",
       "      <td>2021</td>\n",
       "      <td>72</td>\n",
       "      <td>4</td>\n",
       "      <td>4</td>\n",
       "      <td>42</td>\n",
       "      <td>3</td>\n",
       "      <td>San Ignacio Río Muerto</td>\n",
       "      <td>14279</td>\n",
       "      <td>0.280132</td>\n",
       "      <td>2.941382</td>\n",
       "      <td>0.280132</td>\n",
       "      <td>0.210099</td>\n",
       "    </tr>\n",
       "  </tbody>\n",
       "</table>\n",
       "<p>1800 rows × 12 columns</p>\n",
       "</div>"
      ],
      "text/plain": [
       "      Years  Id_Municipio  Total_Deaths  Total_Deaths_Drunk  Total_Injury  \\\n",
       "0      1997             1             0                   0             0   \n",
       "1      1997             2             0                   0             0   \n",
       "2      1997             3             4                   1            21   \n",
       "3      1997             4             0                   0             1   \n",
       "4      1997             5             1                   0             0   \n",
       "...     ...           ...           ...                 ...           ...   \n",
       "1795   2021            68             0                   0             0   \n",
       "1796   2021            69             0                   0             0   \n",
       "1797   2021            70             1                   0             1   \n",
       "1798   2021            71             0                   0            43   \n",
       "1799   2021            72             4                   4            42   \n",
       "\n",
       "      Total_Injury_Drunk               Nombre_Municipio  Poblacion  \\\n",
       "0                      0                        Aconchi       2420   \n",
       "1                      0                    Agua Prieta      61944   \n",
       "2                      6                         Alamos      25152   \n",
       "3                      0                          Altar       7253   \n",
       "4                      0                       Arivechi       1484   \n",
       "...                  ...                            ...        ...   \n",
       "1795                   0                Villa Pesqueira       1043   \n",
       "1796                   0                         Yécora       4793   \n",
       "1797                   0  General Plutarco Elías Calles      13627   \n",
       "1798                   0                  Benito Juárez      21692   \n",
       "1799                   3         San Ignacio Río Muerto      14279   \n",
       "\n",
       "      Tasa_Muertos  Tasa_Heridos  Tasa_Muertos_Alcohol  Tasa_Heridos_Alcohol  \n",
       "0         0.000000      0.000000              0.000000              0.000000  \n",
       "1         0.000000      0.000000              0.000000              0.000000  \n",
       "2         0.159033      0.834924              0.039758              0.238550  \n",
       "3         0.000000      0.137874              0.000000              0.000000  \n",
       "4         0.673854      0.000000              0.000000              0.000000  \n",
       "...            ...           ...                   ...                   ...  \n",
       "1795      0.000000      0.000000              0.000000              0.000000  \n",
       "1796      0.000000      0.000000              0.000000              0.000000  \n",
       "1797      0.073384      0.073384              0.000000              0.000000  \n",
       "1798      0.000000      1.982298              0.000000              0.000000  \n",
       "1799      0.280132      2.941382              0.280132              0.210099  \n",
       "\n",
       "[1800 rows x 12 columns]"
      ]
     },
     "execution_count": 31,
     "metadata": {},
     "output_type": "execute_result"
    }
   ],
   "source": [
    "df_Municipio_Deaths[(df_Municipio_Deaths[\"Years\"] == 2012) & (df_Municipio_Deaths[\"p_Muertos\"] > 1 )].sort_values(by=\"p_Muertos\", ascending=False).head(10)"
   ]
  },
  {
   "cell_type": "code",
   "execution_count": 25,
   "metadata": {},
   "outputs": [
    {
     "data": {
      "application/vnd.plotly.v1+json": {
       "config": {
        "plotlyServerURL": "https://plot.ly"
       },
       "data": [
        {
         "hovertemplate": "Nombre_Municipio=Atil<br>Years=%{x}<br>Tasa_Muertos_Alcohol=%{y}<extra></extra>",
         "legendgroup": "Atil",
         "line": {
          "color": "#636efa",
          "dash": "solid"
         },
         "marker": {
          "symbol": "circle"
         },
         "mode": "lines+markers",
         "name": "Atil",
         "orientation": "v",
         "showlegend": true,
         "type": "scatter",
         "x": [
          2001,
          2008,
          2020
         ],
         "xaxis": "x",
         "y": [
          1.392757660167131,
          1.392757660167131,
          1.5974440894568689
         ],
         "yaxis": "y"
        },
        {
         "hovertemplate": "Nombre_Municipio=Divisaderos<br>Years=%{x}<br>Tasa_Muertos_Alcohol=%{y}<extra></extra>",
         "legendgroup": "Divisaderos",
         "line": {
          "color": "#EF553B",
          "dash": "solid"
         },
         "marker": {
          "symbol": "circle"
         },
         "mode": "lines+markers",
         "name": "Divisaderos",
         "orientation": "v",
         "showlegend": true,
         "type": "scatter",
         "x": [
          2002,
          2003,
          2017
         ],
         "xaxis": "x",
         "y": [
          2.4242424242424243,
          1.2121212121212122,
          1.2300123001230012
         ],
         "yaxis": "y"
        },
        {
         "hovertemplate": "Nombre_Municipio=Mazatán<br>Years=%{x}<br>Tasa_Muertos_Alcohol=%{y}<extra></extra>",
         "legendgroup": "Mazatán",
         "line": {
          "color": "#00cc96",
          "dash": "solid"
         },
         "marker": {
          "symbol": "circle"
         },
         "mode": "lines+markers",
         "name": "Mazatán",
         "orientation": "v",
         "showlegend": true,
         "type": "scatter",
         "x": [
          2004,
          2014
         ],
         "xaxis": "x",
         "y": [
          1.2626262626262628,
          1.4814814814814814
         ],
         "yaxis": "y"
        },
        {
         "hovertemplate": "Nombre_Municipio=Tubutama<br>Years=%{x}<br>Tasa_Muertos_Alcohol=%{y}<extra></extra>",
         "legendgroup": "Tubutama",
         "line": {
          "color": "#ab63fa",
          "dash": "solid"
         },
         "marker": {
          "symbol": "circle"
         },
         "mode": "lines+markers",
         "name": "Tubutama",
         "orientation": "v",
         "showlegend": true,
         "type": "scatter",
         "x": [
          2005
         ],
         "xaxis": "x",
         "y": [
          1.1123470522803114
         ],
         "yaxis": "y"
        },
        {
         "hovertemplate": "Nombre_Municipio=Oquitoa<br>Years=%{x}<br>Tasa_Muertos_Alcohol=%{y}<extra></extra>",
         "legendgroup": "Oquitoa",
         "line": {
          "color": "#FFA15A",
          "dash": "solid"
         },
         "marker": {
          "symbol": "circle"
         },
         "mode": "lines+markers",
         "name": "Oquitoa",
         "orientation": "v",
         "showlegend": true,
         "type": "scatter",
         "x": [
          2006,
          2009,
          2010,
          2012,
          2016
         ],
         "xaxis": "x",
         "y": [
          4.975124378109452,
          2.487562189054726,
          2.257336343115124,
          2.257336343115124,
          6.772009029345372
         ],
         "yaxis": "y"
        },
        {
         "hovertemplate": "Nombre_Municipio=Huásabas<br>Years=%{x}<br>Tasa_Muertos_Alcohol=%{y}<extra></extra>",
         "legendgroup": "Huásabas",
         "line": {
          "color": "#19d3f3",
          "dash": "solid"
         },
         "marker": {
          "symbol": "circle"
         },
         "mode": "lines+markers",
         "name": "Huásabas",
         "orientation": "v",
         "showlegend": true,
         "type": "scatter",
         "x": [
          2006,
          2013,
          2015
         ],
         "xaxis": "x",
         "y": [
          2.070393374741201,
          1.0395010395010396,
          2.079002079002079
         ],
         "yaxis": "y"
        },
        {
         "hovertemplate": "Nombre_Municipio=Bavispe<br>Years=%{x}<br>Tasa_Muertos_Alcohol=%{y}<extra></extra>",
         "legendgroup": "Bavispe",
         "line": {
          "color": "#FF6692",
          "dash": "solid"
         },
         "marker": {
          "symbol": "circle"
         },
         "mode": "lines+markers",
         "name": "Bavispe",
         "orientation": "v",
         "showlegend": true,
         "type": "scatter",
         "x": [
          2007
         ],
         "xaxis": "x",
         "y": [
          1.4524328249818446
         ],
         "yaxis": "y"
        },
        {
         "hovertemplate": "Nombre_Municipio=Arizpe<br>Years=%{x}<br>Tasa_Muertos_Alcohol=%{y}<extra></extra>",
         "legendgroup": "Arizpe",
         "line": {
          "color": "#B6E880",
          "dash": "solid"
         },
         "marker": {
          "symbol": "circle"
         },
         "mode": "lines+markers",
         "name": "Arizpe",
         "orientation": "v",
         "showlegend": true,
         "type": "scatter",
         "x": [
          2008,
          2010
         ],
         "xaxis": "x",
         "y": [
          1.7667844522968197,
          1.3170892327955217
         ],
         "yaxis": "y"
        },
        {
         "hovertemplate": "Nombre_Municipio=Arivechi<br>Years=%{x}<br>Tasa_Muertos_Alcohol=%{y}<extra></extra>",
         "legendgroup": "Arivechi",
         "line": {
          "color": "#FF97FF",
          "dash": "solid"
         },
         "marker": {
          "symbol": "circle"
         },
         "mode": "lines+markers",
         "name": "Arivechi",
         "orientation": "v",
         "showlegend": true,
         "type": "scatter",
         "x": [
          2010
         ],
         "xaxis": "x",
         "y": [
          1.5961691939345573
         ],
         "yaxis": "y"
        },
        {
         "hovertemplate": "Nombre_Municipio=Moctezuma<br>Years=%{x}<br>Tasa_Muertos_Alcohol=%{y}<extra></extra>",
         "legendgroup": "Moctezuma",
         "line": {
          "color": "#FECB52",
          "dash": "solid"
         },
         "marker": {
          "symbol": "circle"
         },
         "mode": "lines+markers",
         "name": "Moctezuma",
         "orientation": "v",
         "showlegend": true,
         "type": "scatter",
         "x": [
          2010
         ],
         "xaxis": "x",
         "y": [
          1.0683760683760686
         ],
         "yaxis": "y"
        },
        {
         "hovertemplate": "Nombre_Municipio=Cucurpe<br>Years=%{x}<br>Tasa_Muertos_Alcohol=%{y}<extra></extra>",
         "legendgroup": "Cucurpe",
         "line": {
          "color": "#636efa",
          "dash": "solid"
         },
         "marker": {
          "symbol": "circle"
         },
         "mode": "lines+markers",
         "name": "Cucurpe",
         "orientation": "v",
         "showlegend": true,
         "type": "scatter",
         "x": [
          2011,
          2014
         ],
         "xaxis": "x",
         "y": [
          2.08768267223382,
          1.04384133611691
         ],
         "yaxis": "y"
        },
        {
         "hovertemplate": "Nombre_Municipio=Villa Pesqueira<br>Years=%{x}<br>Tasa_Muertos_Alcohol=%{y}<extra></extra>",
         "legendgroup": "Villa Pesqueira",
         "line": {
          "color": "#EF553B",
          "dash": "solid"
         },
         "marker": {
          "symbol": "circle"
         },
         "mode": "lines+markers",
         "name": "Villa Pesqueira",
         "orientation": "v",
         "showlegend": true,
         "type": "scatter",
         "x": [
          2012
         ],
         "xaxis": "x",
         "y": [
          1.594896331738437
         ],
         "yaxis": "y"
        },
        {
         "hovertemplate": "Nombre_Municipio=Baviácora<br>Years=%{x}<br>Tasa_Muertos_Alcohol=%{y}<extra></extra>",
         "legendgroup": "Baviácora",
         "line": {
          "color": "#00cc96",
          "dash": "solid"
         },
         "marker": {
          "symbol": "circle"
         },
         "mode": "lines+markers",
         "name": "Baviácora",
         "orientation": "v",
         "showlegend": true,
         "type": "scatter",
         "x": [
          2018
         ],
         "xaxis": "x",
         "y": [
          1.4044943820224718
         ],
         "yaxis": "y"
        },
        {
         "hovertemplate": "Nombre_Municipio=Bacoachi<br>Years=%{x}<br>Tasa_Muertos_Alcohol=%{y}<extra></extra>",
         "legendgroup": "Bacoachi",
         "line": {
          "color": "#ab63fa",
          "dash": "solid"
         },
         "marker": {
          "symbol": "circle"
         },
         "mode": "lines+markers",
         "name": "Bacoachi",
         "orientation": "v",
         "showlegend": true,
         "type": "scatter",
         "x": [
          2018
         ],
         "xaxis": "x",
         "y": [
          1.215066828675577
         ],
         "yaxis": "y"
        },
        {
         "hovertemplate": "Nombre_Municipio=Banámichi<br>Years=%{x}<br>Tasa_Muertos_Alcohol=%{y}<extra></extra>",
         "legendgroup": "Banámichi",
         "line": {
          "color": "#FFA15A",
          "dash": "solid"
         },
         "marker": {
          "symbol": "circle"
         },
         "mode": "lines+markers",
         "name": "Banámichi",
         "orientation": "v",
         "showlegend": true,
         "type": "scatter",
         "x": [
          2021
         ],
         "xaxis": "x",
         "y": [
          1.095890410958904
         ],
         "yaxis": "y"
        }
       ],
       "layout": {
        "legend": {
         "title": {
          "text": "Nombre_Municipio"
         },
         "tracegroupgap": 0
        },
        "template": {
         "data": {
          "bar": [
           {
            "error_x": {
             "color": "#2a3f5f"
            },
            "error_y": {
             "color": "#2a3f5f"
            },
            "marker": {
             "line": {
              "color": "#E5ECF6",
              "width": 0.5
             },
             "pattern": {
              "fillmode": "overlay",
              "size": 10,
              "solidity": 0.2
             }
            },
            "type": "bar"
           }
          ],
          "barpolar": [
           {
            "marker": {
             "line": {
              "color": "#E5ECF6",
              "width": 0.5
             },
             "pattern": {
              "fillmode": "overlay",
              "size": 10,
              "solidity": 0.2
             }
            },
            "type": "barpolar"
           }
          ],
          "carpet": [
           {
            "aaxis": {
             "endlinecolor": "#2a3f5f",
             "gridcolor": "white",
             "linecolor": "white",
             "minorgridcolor": "white",
             "startlinecolor": "#2a3f5f"
            },
            "baxis": {
             "endlinecolor": "#2a3f5f",
             "gridcolor": "white",
             "linecolor": "white",
             "minorgridcolor": "white",
             "startlinecolor": "#2a3f5f"
            },
            "type": "carpet"
           }
          ],
          "choropleth": [
           {
            "colorbar": {
             "outlinewidth": 0,
             "ticks": ""
            },
            "type": "choropleth"
           }
          ],
          "contour": [
           {
            "colorbar": {
             "outlinewidth": 0,
             "ticks": ""
            },
            "colorscale": [
             [
              0,
              "#0d0887"
             ],
             [
              0.1111111111111111,
              "#46039f"
             ],
             [
              0.2222222222222222,
              "#7201a8"
             ],
             [
              0.3333333333333333,
              "#9c179e"
             ],
             [
              0.4444444444444444,
              "#bd3786"
             ],
             [
              0.5555555555555556,
              "#d8576b"
             ],
             [
              0.6666666666666666,
              "#ed7953"
             ],
             [
              0.7777777777777778,
              "#fb9f3a"
             ],
             [
              0.8888888888888888,
              "#fdca26"
             ],
             [
              1,
              "#f0f921"
             ]
            ],
            "type": "contour"
           }
          ],
          "contourcarpet": [
           {
            "colorbar": {
             "outlinewidth": 0,
             "ticks": ""
            },
            "type": "contourcarpet"
           }
          ],
          "heatmap": [
           {
            "colorbar": {
             "outlinewidth": 0,
             "ticks": ""
            },
            "colorscale": [
             [
              0,
              "#0d0887"
             ],
             [
              0.1111111111111111,
              "#46039f"
             ],
             [
              0.2222222222222222,
              "#7201a8"
             ],
             [
              0.3333333333333333,
              "#9c179e"
             ],
             [
              0.4444444444444444,
              "#bd3786"
             ],
             [
              0.5555555555555556,
              "#d8576b"
             ],
             [
              0.6666666666666666,
              "#ed7953"
             ],
             [
              0.7777777777777778,
              "#fb9f3a"
             ],
             [
              0.8888888888888888,
              "#fdca26"
             ],
             [
              1,
              "#f0f921"
             ]
            ],
            "type": "heatmap"
           }
          ],
          "heatmapgl": [
           {
            "colorbar": {
             "outlinewidth": 0,
             "ticks": ""
            },
            "colorscale": [
             [
              0,
              "#0d0887"
             ],
             [
              0.1111111111111111,
              "#46039f"
             ],
             [
              0.2222222222222222,
              "#7201a8"
             ],
             [
              0.3333333333333333,
              "#9c179e"
             ],
             [
              0.4444444444444444,
              "#bd3786"
             ],
             [
              0.5555555555555556,
              "#d8576b"
             ],
             [
              0.6666666666666666,
              "#ed7953"
             ],
             [
              0.7777777777777778,
              "#fb9f3a"
             ],
             [
              0.8888888888888888,
              "#fdca26"
             ],
             [
              1,
              "#f0f921"
             ]
            ],
            "type": "heatmapgl"
           }
          ],
          "histogram": [
           {
            "marker": {
             "pattern": {
              "fillmode": "overlay",
              "size": 10,
              "solidity": 0.2
             }
            },
            "type": "histogram"
           }
          ],
          "histogram2d": [
           {
            "colorbar": {
             "outlinewidth": 0,
             "ticks": ""
            },
            "colorscale": [
             [
              0,
              "#0d0887"
             ],
             [
              0.1111111111111111,
              "#46039f"
             ],
             [
              0.2222222222222222,
              "#7201a8"
             ],
             [
              0.3333333333333333,
              "#9c179e"
             ],
             [
              0.4444444444444444,
              "#bd3786"
             ],
             [
              0.5555555555555556,
              "#d8576b"
             ],
             [
              0.6666666666666666,
              "#ed7953"
             ],
             [
              0.7777777777777778,
              "#fb9f3a"
             ],
             [
              0.8888888888888888,
              "#fdca26"
             ],
             [
              1,
              "#f0f921"
             ]
            ],
            "type": "histogram2d"
           }
          ],
          "histogram2dcontour": [
           {
            "colorbar": {
             "outlinewidth": 0,
             "ticks": ""
            },
            "colorscale": [
             [
              0,
              "#0d0887"
             ],
             [
              0.1111111111111111,
              "#46039f"
             ],
             [
              0.2222222222222222,
              "#7201a8"
             ],
             [
              0.3333333333333333,
              "#9c179e"
             ],
             [
              0.4444444444444444,
              "#bd3786"
             ],
             [
              0.5555555555555556,
              "#d8576b"
             ],
             [
              0.6666666666666666,
              "#ed7953"
             ],
             [
              0.7777777777777778,
              "#fb9f3a"
             ],
             [
              0.8888888888888888,
              "#fdca26"
             ],
             [
              1,
              "#f0f921"
             ]
            ],
            "type": "histogram2dcontour"
           }
          ],
          "mesh3d": [
           {
            "colorbar": {
             "outlinewidth": 0,
             "ticks": ""
            },
            "type": "mesh3d"
           }
          ],
          "parcoords": [
           {
            "line": {
             "colorbar": {
              "outlinewidth": 0,
              "ticks": ""
             }
            },
            "type": "parcoords"
           }
          ],
          "pie": [
           {
            "automargin": true,
            "type": "pie"
           }
          ],
          "scatter": [
           {
            "marker": {
             "colorbar": {
              "outlinewidth": 0,
              "ticks": ""
             }
            },
            "type": "scatter"
           }
          ],
          "scatter3d": [
           {
            "line": {
             "colorbar": {
              "outlinewidth": 0,
              "ticks": ""
             }
            },
            "marker": {
             "colorbar": {
              "outlinewidth": 0,
              "ticks": ""
             }
            },
            "type": "scatter3d"
           }
          ],
          "scattercarpet": [
           {
            "marker": {
             "colorbar": {
              "outlinewidth": 0,
              "ticks": ""
             }
            },
            "type": "scattercarpet"
           }
          ],
          "scattergeo": [
           {
            "marker": {
             "colorbar": {
              "outlinewidth": 0,
              "ticks": ""
             }
            },
            "type": "scattergeo"
           }
          ],
          "scattergl": [
           {
            "marker": {
             "colorbar": {
              "outlinewidth": 0,
              "ticks": ""
             }
            },
            "type": "scattergl"
           }
          ],
          "scattermapbox": [
           {
            "marker": {
             "colorbar": {
              "outlinewidth": 0,
              "ticks": ""
             }
            },
            "type": "scattermapbox"
           }
          ],
          "scatterpolar": [
           {
            "marker": {
             "colorbar": {
              "outlinewidth": 0,
              "ticks": ""
             }
            },
            "type": "scatterpolar"
           }
          ],
          "scatterpolargl": [
           {
            "marker": {
             "colorbar": {
              "outlinewidth": 0,
              "ticks": ""
             }
            },
            "type": "scatterpolargl"
           }
          ],
          "scatterternary": [
           {
            "marker": {
             "colorbar": {
              "outlinewidth": 0,
              "ticks": ""
             }
            },
            "type": "scatterternary"
           }
          ],
          "surface": [
           {
            "colorbar": {
             "outlinewidth": 0,
             "ticks": ""
            },
            "colorscale": [
             [
              0,
              "#0d0887"
             ],
             [
              0.1111111111111111,
              "#46039f"
             ],
             [
              0.2222222222222222,
              "#7201a8"
             ],
             [
              0.3333333333333333,
              "#9c179e"
             ],
             [
              0.4444444444444444,
              "#bd3786"
             ],
             [
              0.5555555555555556,
              "#d8576b"
             ],
             [
              0.6666666666666666,
              "#ed7953"
             ],
             [
              0.7777777777777778,
              "#fb9f3a"
             ],
             [
              0.8888888888888888,
              "#fdca26"
             ],
             [
              1,
              "#f0f921"
             ]
            ],
            "type": "surface"
           }
          ],
          "table": [
           {
            "cells": {
             "fill": {
              "color": "#EBF0F8"
             },
             "line": {
              "color": "white"
             }
            },
            "header": {
             "fill": {
              "color": "#C8D4E3"
             },
             "line": {
              "color": "white"
             }
            },
            "type": "table"
           }
          ]
         },
         "layout": {
          "annotationdefaults": {
           "arrowcolor": "#2a3f5f",
           "arrowhead": 0,
           "arrowwidth": 1
          },
          "autotypenumbers": "strict",
          "coloraxis": {
           "colorbar": {
            "outlinewidth": 0,
            "ticks": ""
           }
          },
          "colorscale": {
           "diverging": [
            [
             0,
             "#8e0152"
            ],
            [
             0.1,
             "#c51b7d"
            ],
            [
             0.2,
             "#de77ae"
            ],
            [
             0.3,
             "#f1b6da"
            ],
            [
             0.4,
             "#fde0ef"
            ],
            [
             0.5,
             "#f7f7f7"
            ],
            [
             0.6,
             "#e6f5d0"
            ],
            [
             0.7,
             "#b8e186"
            ],
            [
             0.8,
             "#7fbc41"
            ],
            [
             0.9,
             "#4d9221"
            ],
            [
             1,
             "#276419"
            ]
           ],
           "sequential": [
            [
             0,
             "#0d0887"
            ],
            [
             0.1111111111111111,
             "#46039f"
            ],
            [
             0.2222222222222222,
             "#7201a8"
            ],
            [
             0.3333333333333333,
             "#9c179e"
            ],
            [
             0.4444444444444444,
             "#bd3786"
            ],
            [
             0.5555555555555556,
             "#d8576b"
            ],
            [
             0.6666666666666666,
             "#ed7953"
            ],
            [
             0.7777777777777778,
             "#fb9f3a"
            ],
            [
             0.8888888888888888,
             "#fdca26"
            ],
            [
             1,
             "#f0f921"
            ]
           ],
           "sequentialminus": [
            [
             0,
             "#0d0887"
            ],
            [
             0.1111111111111111,
             "#46039f"
            ],
            [
             0.2222222222222222,
             "#7201a8"
            ],
            [
             0.3333333333333333,
             "#9c179e"
            ],
            [
             0.4444444444444444,
             "#bd3786"
            ],
            [
             0.5555555555555556,
             "#d8576b"
            ],
            [
             0.6666666666666666,
             "#ed7953"
            ],
            [
             0.7777777777777778,
             "#fb9f3a"
            ],
            [
             0.8888888888888888,
             "#fdca26"
            ],
            [
             1,
             "#f0f921"
            ]
           ]
          },
          "colorway": [
           "#636efa",
           "#EF553B",
           "#00cc96",
           "#ab63fa",
           "#FFA15A",
           "#19d3f3",
           "#FF6692",
           "#B6E880",
           "#FF97FF",
           "#FECB52"
          ],
          "font": {
           "color": "#2a3f5f"
          },
          "geo": {
           "bgcolor": "white",
           "lakecolor": "white",
           "landcolor": "#E5ECF6",
           "showlakes": true,
           "showland": true,
           "subunitcolor": "white"
          },
          "hoverlabel": {
           "align": "left"
          },
          "hovermode": "closest",
          "mapbox": {
           "style": "light"
          },
          "paper_bgcolor": "white",
          "plot_bgcolor": "#E5ECF6",
          "polar": {
           "angularaxis": {
            "gridcolor": "white",
            "linecolor": "white",
            "ticks": ""
           },
           "bgcolor": "#E5ECF6",
           "radialaxis": {
            "gridcolor": "white",
            "linecolor": "white",
            "ticks": ""
           }
          },
          "scene": {
           "xaxis": {
            "backgroundcolor": "#E5ECF6",
            "gridcolor": "white",
            "gridwidth": 2,
            "linecolor": "white",
            "showbackground": true,
            "ticks": "",
            "zerolinecolor": "white"
           },
           "yaxis": {
            "backgroundcolor": "#E5ECF6",
            "gridcolor": "white",
            "gridwidth": 2,
            "linecolor": "white",
            "showbackground": true,
            "ticks": "",
            "zerolinecolor": "white"
           },
           "zaxis": {
            "backgroundcolor": "#E5ECF6",
            "gridcolor": "white",
            "gridwidth": 2,
            "linecolor": "white",
            "showbackground": true,
            "ticks": "",
            "zerolinecolor": "white"
           }
          },
          "shapedefaults": {
           "line": {
            "color": "#2a3f5f"
           }
          },
          "ternary": {
           "aaxis": {
            "gridcolor": "white",
            "linecolor": "white",
            "ticks": ""
           },
           "baxis": {
            "gridcolor": "white",
            "linecolor": "white",
            "ticks": ""
           },
           "bgcolor": "#E5ECF6",
           "caxis": {
            "gridcolor": "white",
            "linecolor": "white",
            "ticks": ""
           }
          },
          "title": {
           "x": 0.05
          },
          "xaxis": {
           "automargin": true,
           "gridcolor": "white",
           "linecolor": "white",
           "ticks": "",
           "title": {
            "standoff": 15
           },
           "zerolinecolor": "white",
           "zerolinewidth": 2
          },
          "yaxis": {
           "automargin": true,
           "gridcolor": "white",
           "linecolor": "white",
           "ticks": "",
           "title": {
            "standoff": 15
           },
           "zerolinecolor": "white",
           "zerolinewidth": 2
          }
         }
        },
        "title": {
         "text": "Tasa de Muertos en accidentes con conductor alcoholizado (por cada 1000 Habitantes) "
        },
        "xaxis": {
         "anchor": "y",
         "domain": [
          0,
          1
         ],
         "title": {
          "text": "Years"
         }
        },
        "yaxis": {
         "anchor": "x",
         "domain": [
          0,
          1
         ],
         "title": {
          "text": "Tasa_Muertos_Alcohol"
         }
        }
       }
      }
     },
     "metadata": {},
     "output_type": "display_data"
    }
   ],
   "source": [
    "# fig = px.scatter(df_Sonora_Tasa_Heridos_Al, x=\"Years\", y=\"Tasa_Muertos_Alcohol\", color=\"Nombre_Municipio\",\n",
    "# title=\"Tasa de Heridos en accidentes con conductor alcoholizado (por cada 1000 Habitantes)\")\n",
    "# fig.show()\n",
    "\n",
    "fig = px.line(df_Sonora_Tasa_Muertes_Al, x=\"Years\", y=\"Tasa_Muertos_Alcohol\", color=\"Nombre_Municipio\", markers=\"True\",\n",
    "title=\"Tasa de Muertos en accidentes con conductor alcoholizado (por cada 1000 Habitantes) \")\n",
    "fig.show()\n",
    "# df_Sonora_Tasa_Muertes\n"
   ]
  },
  {
   "cell_type": "code",
   "execution_count": 13,
   "metadata": {},
   "outputs": [
    {
     "data": {
      "application/vnd.plotly.v1+json": {
       "config": {
        "plotlyServerURL": "https://plot.ly"
       },
       "data": [
        {
         "hovertemplate": "Nombre_Municipio=Aconchi<br>Years=%{x}<br>Total_Deaths_Drunk=%{y}<extra></extra>",
         "legendgroup": "Aconchi",
         "marker": {
          "color": "#636efa",
          "symbol": "circle"
         },
         "mode": "markers",
         "name": "Aconchi",
         "showlegend": true,
         "type": "scattergl",
         "x": [
          1997,
          1998,
          1999,
          2000,
          2001,
          2002,
          2003,
          2004,
          2005,
          2006,
          2007,
          2008,
          2009,
          2010,
          2011,
          2012,
          2013,
          2014,
          2015,
          2016,
          2017,
          2018,
          2019,
          2020,
          2021
         ],
         "xaxis": "x",
         "y": [
          0,
          0,
          0,
          0,
          0,
          0,
          1,
          0,
          0,
          0,
          2,
          0,
          0,
          0,
          0,
          0,
          0,
          0,
          0,
          0,
          0,
          0,
          0,
          0,
          0
         ],
         "yaxis": "y"
        },
        {
         "hovertemplate": "Nombre_Municipio=Agua Prieta<br>Years=%{x}<br>Total_Deaths_Drunk=%{y}<extra></extra>",
         "legendgroup": "Agua Prieta",
         "marker": {
          "color": "#EF553B",
          "symbol": "circle"
         },
         "mode": "markers",
         "name": "Agua Prieta",
         "showlegend": true,
         "type": "scattergl",
         "x": [
          1997,
          1998,
          1999,
          2000,
          2001,
          2002,
          2003,
          2004,
          2005,
          2006,
          2007,
          2008,
          2009,
          2010,
          2011,
          2012,
          2013,
          2014,
          2015,
          2016,
          2017,
          2018,
          2019,
          2020,
          2021
         ],
         "xaxis": "x",
         "y": [
          0,
          3,
          0,
          0,
          0,
          0,
          0,
          2,
          1,
          1,
          2,
          1,
          2,
          0,
          1,
          0,
          0,
          0,
          1,
          1,
          1,
          1,
          0,
          0,
          1
         ],
         "yaxis": "y"
        },
        {
         "hovertemplate": "Nombre_Municipio=Alamos<br>Years=%{x}<br>Total_Deaths_Drunk=%{y}<extra></extra>",
         "legendgroup": "Alamos",
         "marker": {
          "color": "#00cc96",
          "symbol": "circle"
         },
         "mode": "markers",
         "name": "Alamos",
         "showlegend": true,
         "type": "scattergl",
         "x": [
          1997,
          1998,
          1999,
          2000,
          2001,
          2002,
          2003,
          2004,
          2005,
          2006,
          2007,
          2008,
          2009,
          2010,
          2011,
          2012,
          2013,
          2014,
          2015,
          2016,
          2017,
          2018,
          2019,
          2020,
          2021
         ],
         "xaxis": "x",
         "y": [
          1,
          0,
          0,
          0,
          0,
          0,
          0,
          2,
          0,
          0,
          0,
          0,
          0,
          0,
          0,
          0,
          0,
          0,
          0,
          0,
          0,
          0,
          0,
          0,
          0
         ],
         "yaxis": "y"
        },
        {
         "hovertemplate": "Nombre_Municipio=Altar<br>Years=%{x}<br>Total_Deaths_Drunk=%{y}<extra></extra>",
         "legendgroup": "Altar",
         "marker": {
          "color": "#ab63fa",
          "symbol": "circle"
         },
         "mode": "markers",
         "name": "Altar",
         "showlegend": true,
         "type": "scattergl",
         "x": [
          1997,
          1998,
          1999,
          2000,
          2001,
          2002,
          2003,
          2004,
          2005,
          2006,
          2007,
          2008,
          2009,
          2010,
          2011,
          2012,
          2013,
          2014,
          2015,
          2016,
          2017,
          2018,
          2019,
          2020,
          2021
         ],
         "xaxis": "x",
         "y": [
          0,
          0,
          0,
          0,
          0,
          0,
          1,
          0,
          0,
          0,
          0,
          0,
          0,
          2,
          0,
          0,
          0,
          2,
          1,
          1,
          1,
          1,
          0,
          1,
          0
         ],
         "yaxis": "y"
        },
        {
         "hovertemplate": "Nombre_Municipio=Arivechi<br>Years=%{x}<br>Total_Deaths_Drunk=%{y}<extra></extra>",
         "legendgroup": "Arivechi",
         "marker": {
          "color": "#FFA15A",
          "symbol": "circle"
         },
         "mode": "markers",
         "name": "Arivechi",
         "showlegend": true,
         "type": "scattergl",
         "x": [
          1997,
          1998,
          1999,
          2000,
          2001,
          2002,
          2003,
          2004,
          2005,
          2006,
          2007,
          2008,
          2009,
          2010,
          2011,
          2012,
          2013,
          2014,
          2015,
          2016,
          2017,
          2018,
          2019,
          2020,
          2021
         ],
         "xaxis": "x",
         "y": [
          0,
          0,
          0,
          0,
          0,
          0,
          0,
          0,
          1,
          0,
          0,
          0,
          0,
          2,
          0,
          0,
          0,
          0,
          0,
          0,
          0,
          0,
          0,
          0,
          0
         ],
         "yaxis": "y"
        },
        {
         "hovertemplate": "Nombre_Municipio=Arizpe<br>Years=%{x}<br>Total_Deaths_Drunk=%{y}<extra></extra>",
         "legendgroup": "Arizpe",
         "marker": {
          "color": "#19d3f3",
          "symbol": "circle"
         },
         "mode": "markers",
         "name": "Arizpe",
         "showlegend": true,
         "type": "scattergl",
         "x": [
          1997,
          1998,
          1999,
          2000,
          2001,
          2002,
          2003,
          2004,
          2005,
          2006,
          2007,
          2008,
          2009,
          2010,
          2011,
          2012,
          2013,
          2014,
          2015,
          2016,
          2017,
          2018,
          2019,
          2020,
          2021
         ],
         "xaxis": "x",
         "y": [
          0,
          0,
          0,
          0,
          1,
          0,
          1,
          0,
          0,
          2,
          0,
          6,
          1,
          4,
          2,
          0,
          0,
          1,
          0,
          1,
          0,
          1,
          0,
          0,
          0
         ],
         "yaxis": "y"
        },
        {
         "hovertemplate": "Nombre_Municipio=Atil<br>Years=%{x}<br>Total_Deaths_Drunk=%{y}<extra></extra>",
         "legendgroup": "Atil",
         "marker": {
          "color": "#FF6692",
          "symbol": "circle"
         },
         "mode": "markers",
         "name": "Atil",
         "showlegend": true,
         "type": "scattergl",
         "x": [
          1997,
          1998,
          1999,
          2000,
          2001,
          2002,
          2003,
          2004,
          2005,
          2006,
          2007,
          2008,
          2009,
          2010,
          2011,
          2012,
          2013,
          2014,
          2015,
          2016,
          2017,
          2018,
          2019,
          2020,
          2021
         ],
         "xaxis": "x",
         "y": [
          0,
          0,
          0,
          0,
          1,
          0,
          0,
          0,
          0,
          0,
          0,
          1,
          0,
          0,
          0,
          0,
          0,
          0,
          0,
          0,
          0,
          0,
          0,
          1,
          0
         ],
         "yaxis": "y"
        },
        {
         "hovertemplate": "Nombre_Municipio=Bacadéhuachi<br>Years=%{x}<br>Total_Deaths_Drunk=%{y}<extra></extra>",
         "legendgroup": "Bacadéhuachi",
         "marker": {
          "color": "#B6E880",
          "symbol": "circle"
         },
         "mode": "markers",
         "name": "Bacadéhuachi",
         "showlegend": true,
         "type": "scattergl",
         "x": [
          1997,
          1998,
          1999,
          2000,
          2001,
          2002,
          2003,
          2004,
          2005,
          2006,
          2007,
          2008,
          2009,
          2010,
          2011,
          2012,
          2013,
          2014,
          2015,
          2016,
          2017,
          2018,
          2019,
          2020,
          2021
         ],
         "xaxis": "x",
         "y": [
          0,
          0,
          0,
          0,
          0,
          0,
          0,
          0,
          0,
          0,
          0,
          0,
          1,
          0,
          0,
          0,
          0,
          0,
          0,
          0,
          0,
          0,
          0,
          0,
          0
         ],
         "yaxis": "y"
        },
        {
         "hovertemplate": "Nombre_Municipio=Bacanora<br>Years=%{x}<br>Total_Deaths_Drunk=%{y}<extra></extra>",
         "legendgroup": "Bacanora",
         "marker": {
          "color": "#FF97FF",
          "symbol": "circle"
         },
         "mode": "markers",
         "name": "Bacanora",
         "showlegend": true,
         "type": "scattergl",
         "x": [
          1997,
          1998,
          1999,
          2000,
          2001,
          2002,
          2003,
          2004,
          2005,
          2006,
          2007,
          2008,
          2009,
          2010,
          2011,
          2012,
          2013,
          2014,
          2015,
          2016,
          2017,
          2018,
          2019,
          2020,
          2021
         ],
         "xaxis": "x",
         "y": [
          0,
          0,
          0,
          0,
          0,
          0,
          0,
          0,
          0,
          0,
          0,
          0,
          0,
          0,
          0,
          0,
          0,
          0,
          0,
          0,
          0,
          0,
          0,
          0,
          0
         ],
         "yaxis": "y"
        },
        {
         "hovertemplate": "Nombre_Municipio=Bacerac<br>Years=%{x}<br>Total_Deaths_Drunk=%{y}<extra></extra>",
         "legendgroup": "Bacerac",
         "marker": {
          "color": "#FECB52",
          "symbol": "circle"
         },
         "mode": "markers",
         "name": "Bacerac",
         "showlegend": true,
         "type": "scattergl",
         "x": [
          1997,
          1998,
          1999,
          2000,
          2001,
          2002,
          2003,
          2004,
          2005,
          2006,
          2007,
          2008,
          2009,
          2010,
          2011,
          2012,
          2013,
          2014,
          2015,
          2016,
          2017,
          2018,
          2019,
          2020,
          2021
         ],
         "xaxis": "x",
         "y": [
          0,
          0,
          0,
          0,
          0,
          0,
          0,
          0,
          0,
          0,
          0,
          0,
          1,
          0,
          0,
          0,
          0,
          0,
          0,
          0,
          0,
          0,
          0,
          0,
          0
         ],
         "yaxis": "y"
        },
        {
         "hovertemplate": "Nombre_Municipio=Bacoachi<br>Years=%{x}<br>Total_Deaths_Drunk=%{y}<extra></extra>",
         "legendgroup": "Bacoachi",
         "marker": {
          "color": "#636efa",
          "symbol": "circle"
         },
         "mode": "markers",
         "name": "Bacoachi",
         "showlegend": true,
         "type": "scattergl",
         "x": [
          1997,
          1998,
          1999,
          2000,
          2001,
          2002,
          2003,
          2004,
          2005,
          2006,
          2007,
          2008,
          2009,
          2010,
          2011,
          2012,
          2013,
          2014,
          2015,
          2016,
          2017,
          2018,
          2019,
          2020,
          2021
         ],
         "xaxis": "x",
         "y": [
          0,
          0,
          0,
          0,
          0,
          0,
          0,
          0,
          0,
          0,
          0,
          0,
          0,
          1,
          0,
          0,
          0,
          0,
          1,
          1,
          1,
          2,
          0,
          0,
          0
         ],
         "yaxis": "y"
        },
        {
         "hovertemplate": "Nombre_Municipio=Bácum<br>Years=%{x}<br>Total_Deaths_Drunk=%{y}<extra></extra>",
         "legendgroup": "Bácum",
         "marker": {
          "color": "#EF553B",
          "symbol": "circle"
         },
         "mode": "markers",
         "name": "Bácum",
         "showlegend": true,
         "type": "scattergl",
         "x": [
          1997,
          1998,
          1999,
          2000,
          2001,
          2002,
          2003,
          2004,
          2005,
          2006,
          2007,
          2008,
          2009,
          2010,
          2011,
          2012,
          2013,
          2014,
          2015,
          2016,
          2017,
          2018,
          2019,
          2020,
          2021
         ],
         "xaxis": "x",
         "y": [
          0,
          2,
          0,
          0,
          1,
          0,
          1,
          0,
          1,
          0,
          0,
          2,
          6,
          3,
          1,
          0,
          3,
          4,
          1,
          3,
          0,
          0,
          0,
          1,
          0
         ],
         "yaxis": "y"
        },
        {
         "hovertemplate": "Nombre_Municipio=Banámichi<br>Years=%{x}<br>Total_Deaths_Drunk=%{y}<extra></extra>",
         "legendgroup": "Banámichi",
         "marker": {
          "color": "#00cc96",
          "symbol": "circle"
         },
         "mode": "markers",
         "name": "Banámichi",
         "showlegend": true,
         "type": "scattergl",
         "x": [
          1997,
          1998,
          1999,
          2000,
          2001,
          2002,
          2003,
          2004,
          2005,
          2006,
          2007,
          2008,
          2009,
          2010,
          2011,
          2012,
          2013,
          2014,
          2015,
          2016,
          2017,
          2018,
          2019,
          2020,
          2021
         ],
         "xaxis": "x",
         "y": [
          0,
          0,
          0,
          0,
          0,
          0,
          0,
          0,
          0,
          0,
          0,
          0,
          0,
          0,
          1,
          1,
          0,
          0,
          0,
          0,
          0,
          1,
          1,
          0,
          2
         ],
         "yaxis": "y"
        },
        {
         "hovertemplate": "Nombre_Municipio=Baviácora<br>Years=%{x}<br>Total_Deaths_Drunk=%{y}<extra></extra>",
         "legendgroup": "Baviácora",
         "marker": {
          "color": "#ab63fa",
          "symbol": "circle"
         },
         "mode": "markers",
         "name": "Baviácora",
         "showlegend": true,
         "type": "scattergl",
         "x": [
          1997,
          1998,
          1999,
          2000,
          2001,
          2002,
          2003,
          2004,
          2005,
          2006,
          2007,
          2008,
          2009,
          2010,
          2011,
          2012,
          2013,
          2014,
          2015,
          2016,
          2017,
          2018,
          2019,
          2020,
          2021
         ],
         "xaxis": "x",
         "y": [
          0,
          0,
          2,
          0,
          1,
          1,
          0,
          2,
          0,
          0,
          1,
          1,
          0,
          0,
          1,
          1,
          0,
          0,
          0,
          0,
          1,
          5,
          0,
          0,
          0
         ],
         "yaxis": "y"
        },
        {
         "hovertemplate": "Nombre_Municipio=Bavispe<br>Years=%{x}<br>Total_Deaths_Drunk=%{y}<extra></extra>",
         "legendgroup": "Bavispe",
         "marker": {
          "color": "#FFA15A",
          "symbol": "circle"
         },
         "mode": "markers",
         "name": "Bavispe",
         "showlegend": true,
         "type": "scattergl",
         "x": [
          1997,
          1998,
          1999,
          2000,
          2001,
          2002,
          2003,
          2004,
          2005,
          2006,
          2007,
          2008,
          2009,
          2010,
          2011,
          2012,
          2013,
          2014,
          2015,
          2016,
          2017,
          2018,
          2019,
          2020,
          2021
         ],
         "xaxis": "x",
         "y": [
          0,
          0,
          0,
          0,
          0,
          0,
          1,
          0,
          0,
          0,
          2,
          0,
          0,
          0,
          0,
          1,
          0,
          0,
          1,
          0,
          0,
          0,
          0,
          0,
          0
         ],
         "yaxis": "y"
        },
        {
         "hovertemplate": "Nombre_Municipio=Benjamín Hill<br>Years=%{x}<br>Total_Deaths_Drunk=%{y}<extra></extra>",
         "legendgroup": "Benjamín Hill",
         "marker": {
          "color": "#19d3f3",
          "symbol": "circle"
         },
         "mode": "markers",
         "name": "Benjamín Hill",
         "showlegend": true,
         "type": "scattergl",
         "x": [
          1997,
          1998,
          1999,
          2000,
          2001,
          2002,
          2003,
          2004,
          2005,
          2006,
          2007,
          2008,
          2009,
          2010,
          2011,
          2012,
          2013,
          2014,
          2015,
          2016,
          2017,
          2018,
          2019,
          2020,
          2021
         ],
         "xaxis": "x",
         "y": [
          0,
          0,
          0,
          0,
          0,
          1,
          0,
          0,
          0,
          3,
          0,
          0,
          0,
          0,
          0,
          0,
          0,
          0,
          0,
          0,
          0,
          0,
          0,
          0,
          0
         ],
         "yaxis": "y"
        },
        {
         "hovertemplate": "Nombre_Municipio=Caborca<br>Years=%{x}<br>Total_Deaths_Drunk=%{y}<extra></extra>",
         "legendgroup": "Caborca",
         "marker": {
          "color": "#FF6692",
          "symbol": "circle"
         },
         "mode": "markers",
         "name": "Caborca",
         "showlegend": true,
         "type": "scattergl",
         "x": [
          1997,
          1998,
          1999,
          2000,
          2001,
          2002,
          2003,
          2004,
          2005,
          2006,
          2007,
          2008,
          2009,
          2010,
          2011,
          2012,
          2013,
          2014,
          2015,
          2016,
          2017,
          2018,
          2019,
          2020,
          2021
         ],
         "xaxis": "x",
         "y": [
          0,
          3,
          1,
          2,
          1,
          2,
          2,
          0,
          1,
          1,
          1,
          5,
          2,
          1,
          2,
          4,
          4,
          0,
          6,
          4,
          3,
          0,
          1,
          0,
          0
         ],
         "yaxis": "y"
        },
        {
         "hovertemplate": "Nombre_Municipio=Cajeme<br>Years=%{x}<br>Total_Deaths_Drunk=%{y}<extra></extra>",
         "legendgroup": "Cajeme",
         "marker": {
          "color": "#B6E880",
          "symbol": "circle"
         },
         "mode": "markers",
         "name": "Cajeme",
         "showlegend": true,
         "type": "scattergl",
         "x": [
          1997,
          1998,
          1999,
          2000,
          2001,
          2002,
          2003,
          2004,
          2005,
          2006,
          2007,
          2008,
          2009,
          2010,
          2011,
          2012,
          2013,
          2014,
          2015,
          2016,
          2017,
          2018,
          2019,
          2020,
          2021
         ],
         "xaxis": "x",
         "y": [
          1,
          5,
          0,
          1,
          2,
          3,
          0,
          7,
          1,
          5,
          18,
          4,
          3,
          13,
          5,
          7,
          3,
          0,
          7,
          2,
          1,
          0,
          0,
          0,
          0
         ],
         "yaxis": "y"
        },
        {
         "hovertemplate": "Nombre_Municipio=Cananea<br>Years=%{x}<br>Total_Deaths_Drunk=%{y}<extra></extra>",
         "legendgroup": "Cananea",
         "marker": {
          "color": "#FF97FF",
          "symbol": "circle"
         },
         "mode": "markers",
         "name": "Cananea",
         "showlegend": true,
         "type": "scattergl",
         "x": [
          1997,
          1998,
          1999,
          2000,
          2001,
          2002,
          2003,
          2004,
          2005,
          2006,
          2007,
          2008,
          2009,
          2010,
          2011,
          2012,
          2013,
          2014,
          2015,
          2016,
          2017,
          2018,
          2019,
          2020,
          2021
         ],
         "xaxis": "x",
         "y": [
          0,
          1,
          0,
          0,
          1,
          0,
          1,
          0,
          0,
          0,
          2,
          1,
          1,
          0,
          2,
          0,
          0,
          0,
          1,
          0,
          0,
          0,
          0,
          1,
          2
         ],
         "yaxis": "y"
        },
        {
         "hovertemplate": "Nombre_Municipio=Carbó<br>Years=%{x}<br>Total_Deaths_Drunk=%{y}<extra></extra>",
         "legendgroup": "Carbó",
         "marker": {
          "color": "#FECB52",
          "symbol": "circle"
         },
         "mode": "markers",
         "name": "Carbó",
         "showlegend": true,
         "type": "scattergl",
         "x": [
          1997,
          1998,
          1999,
          2000,
          2001,
          2002,
          2003,
          2004,
          2005,
          2006,
          2007,
          2008,
          2009,
          2010,
          2011,
          2012,
          2013,
          2014,
          2015,
          2016,
          2017,
          2018,
          2019,
          2020,
          2021
         ],
         "xaxis": "x",
         "y": [
          0,
          0,
          0,
          0,
          0,
          1,
          0,
          0,
          0,
          3,
          0,
          0,
          0,
          0,
          0,
          0,
          0,
          1,
          0,
          0,
          0,
          3,
          0,
          0,
          0
         ],
         "yaxis": "y"
        },
        {
         "hovertemplate": "Nombre_Municipio=La Colorada<br>Years=%{x}<br>Total_Deaths_Drunk=%{y}<extra></extra>",
         "legendgroup": "La Colorada",
         "marker": {
          "color": "#636efa",
          "symbol": "circle"
         },
         "mode": "markers",
         "name": "La Colorada",
         "showlegend": true,
         "type": "scattergl",
         "x": [
          1997,
          1998,
          1999,
          2000,
          2001,
          2002,
          2003,
          2004,
          2005,
          2006,
          2007,
          2008,
          2009,
          2010,
          2011,
          2012,
          2013,
          2014,
          2015,
          2016,
          2017,
          2018,
          2019,
          2020,
          2021
         ],
         "xaxis": "x",
         "y": [
          0,
          0,
          0,
          0,
          0,
          1,
          0,
          0,
          0,
          0,
          0,
          0,
          0,
          0,
          0,
          0,
          0,
          0,
          0,
          0,
          0,
          0,
          0,
          0,
          0
         ],
         "yaxis": "y"
        },
        {
         "hovertemplate": "Nombre_Municipio=Cucurpe<br>Years=%{x}<br>Total_Deaths_Drunk=%{y}<extra></extra>",
         "legendgroup": "Cucurpe",
         "marker": {
          "color": "#EF553B",
          "symbol": "circle"
         },
         "mode": "markers",
         "name": "Cucurpe",
         "showlegend": true,
         "type": "scattergl",
         "x": [
          1997,
          1998,
          1999,
          2000,
          2001,
          2002,
          2003,
          2004,
          2005,
          2006,
          2007,
          2008,
          2009,
          2010,
          2011,
          2012,
          2013,
          2014,
          2015,
          2016,
          2017,
          2018,
          2019,
          2020,
          2021
         ],
         "xaxis": "x",
         "y": [
          0,
          0,
          0,
          0,
          0,
          0,
          0,
          0,
          0,
          0,
          0,
          0,
          0,
          0,
          2,
          0,
          0,
          1,
          0,
          0,
          0,
          0,
          0,
          0,
          0
         ],
         "yaxis": "y"
        },
        {
         "hovertemplate": "Nombre_Municipio=Cumpas<br>Years=%{x}<br>Total_Deaths_Drunk=%{y}<extra></extra>",
         "legendgroup": "Cumpas",
         "marker": {
          "color": "#00cc96",
          "symbol": "circle"
         },
         "mode": "markers",
         "name": "Cumpas",
         "showlegend": true,
         "type": "scattergl",
         "x": [
          1997,
          1998,
          1999,
          2000,
          2001,
          2002,
          2003,
          2004,
          2005,
          2006,
          2007,
          2008,
          2009,
          2010,
          2011,
          2012,
          2013,
          2014,
          2015,
          2016,
          2017,
          2018,
          2019,
          2020,
          2021
         ],
         "xaxis": "x",
         "y": [
          0,
          0,
          0,
          1,
          4,
          2,
          0,
          2,
          0,
          1,
          1,
          0,
          0,
          0,
          3,
          1,
          0,
          0,
          0,
          0,
          2,
          1,
          0,
          3,
          1
         ],
         "yaxis": "y"
        },
        {
         "hovertemplate": "Nombre_Municipio=Divisaderos<br>Years=%{x}<br>Total_Deaths_Drunk=%{y}<extra></extra>",
         "legendgroup": "Divisaderos",
         "marker": {
          "color": "#ab63fa",
          "symbol": "circle"
         },
         "mode": "markers",
         "name": "Divisaderos",
         "showlegend": true,
         "type": "scattergl",
         "x": [
          1997,
          1998,
          1999,
          2000,
          2001,
          2002,
          2003,
          2004,
          2005,
          2006,
          2007,
          2008,
          2009,
          2010,
          2011,
          2012,
          2013,
          2014,
          2015,
          2016,
          2017,
          2018,
          2019,
          2020,
          2021
         ],
         "xaxis": "x",
         "y": [
          0,
          0,
          0,
          0,
          0,
          2,
          1,
          0,
          0,
          0,
          0,
          0,
          0,
          0,
          0,
          0,
          0,
          0,
          0,
          0,
          1,
          0,
          0,
          0,
          0
         ],
         "yaxis": "y"
        },
        {
         "hovertemplate": "Nombre_Municipio=Empalme<br>Years=%{x}<br>Total_Deaths_Drunk=%{y}<extra></extra>",
         "legendgroup": "Empalme",
         "marker": {
          "color": "#FFA15A",
          "symbol": "circle"
         },
         "mode": "markers",
         "name": "Empalme",
         "showlegend": true,
         "type": "scattergl",
         "x": [
          1997,
          1998,
          1999,
          2000,
          2001,
          2002,
          2003,
          2004,
          2005,
          2006,
          2007,
          2008,
          2009,
          2010,
          2011,
          2012,
          2013,
          2014,
          2015,
          2016,
          2017,
          2018,
          2019,
          2020,
          2021
         ],
         "xaxis": "x",
         "y": [
          0,
          1,
          0,
          2,
          1,
          0,
          0,
          1,
          0,
          0,
          0,
          2,
          0,
          0,
          3,
          1,
          2,
          0,
          2,
          0,
          0,
          0,
          0,
          0,
          2
         ],
         "yaxis": "y"
        },
        {
         "hovertemplate": "Nombre_Municipio=Etchojoa<br>Years=%{x}<br>Total_Deaths_Drunk=%{y}<extra></extra>",
         "legendgroup": "Etchojoa",
         "marker": {
          "color": "#19d3f3",
          "symbol": "circle"
         },
         "mode": "markers",
         "name": "Etchojoa",
         "showlegend": true,
         "type": "scattergl",
         "x": [
          1997,
          1998,
          1999,
          2000,
          2001,
          2002,
          2003,
          2004,
          2005,
          2006,
          2007,
          2008,
          2009,
          2010,
          2011,
          2012,
          2013,
          2014,
          2015,
          2016,
          2017,
          2018,
          2019,
          2020,
          2021
         ],
         "xaxis": "x",
         "y": [
          1,
          0,
          2,
          2,
          0,
          2,
          0,
          3,
          0,
          0,
          2,
          6,
          4,
          5,
          8,
          8,
          10,
          9,
          0,
          1,
          0,
          1,
          2,
          5,
          0
         ],
         "yaxis": "y"
        },
        {
         "hovertemplate": "Nombre_Municipio=Fronteras<br>Years=%{x}<br>Total_Deaths_Drunk=%{y}<extra></extra>",
         "legendgroup": "Fronteras",
         "marker": {
          "color": "#FF6692",
          "symbol": "circle"
         },
         "mode": "markers",
         "name": "Fronteras",
         "showlegend": true,
         "type": "scattergl",
         "x": [
          1997,
          1998,
          1999,
          2000,
          2001,
          2002,
          2003,
          2004,
          2005,
          2006,
          2007,
          2008,
          2009,
          2010,
          2011,
          2012,
          2013,
          2014,
          2015,
          2016,
          2017,
          2018,
          2019,
          2020,
          2021
         ],
         "xaxis": "x",
         "y": [
          0,
          0,
          0,
          0,
          0,
          0,
          0,
          0,
          0,
          2,
          1,
          2,
          0,
          1,
          2,
          1,
          0,
          1,
          0,
          2,
          1,
          0,
          0,
          0,
          1
         ],
         "yaxis": "y"
        },
        {
         "hovertemplate": "Nombre_Municipio=Granados<br>Years=%{x}<br>Total_Deaths_Drunk=%{y}<extra></extra>",
         "legendgroup": "Granados",
         "marker": {
          "color": "#B6E880",
          "symbol": "circle"
         },
         "mode": "markers",
         "name": "Granados",
         "showlegend": true,
         "type": "scattergl",
         "x": [
          1997,
          1998,
          1999,
          2000,
          2001,
          2002,
          2003,
          2004,
          2005,
          2006,
          2007,
          2008,
          2009,
          2010,
          2011,
          2012,
          2013,
          2014,
          2015,
          2016,
          2017,
          2018,
          2019,
          2020,
          2021
         ],
         "xaxis": "x",
         "y": [
          0,
          0,
          0,
          0,
          0,
          0,
          0,
          0,
          0,
          0,
          0,
          0,
          0,
          0,
          0,
          0,
          0,
          0,
          0,
          0,
          0,
          0,
          0,
          0,
          0
         ],
         "yaxis": "y"
        },
        {
         "hovertemplate": "Nombre_Municipio=Guaymas<br>Years=%{x}<br>Total_Deaths_Drunk=%{y}<extra></extra>",
         "legendgroup": "Guaymas",
         "marker": {
          "color": "#FF97FF",
          "symbol": "circle"
         },
         "mode": "markers",
         "name": "Guaymas",
         "showlegend": true,
         "type": "scattergl",
         "x": [
          1997,
          1998,
          1999,
          2000,
          2001,
          2002,
          2003,
          2004,
          2005,
          2006,
          2007,
          2008,
          2009,
          2010,
          2011,
          2012,
          2013,
          2014,
          2015,
          2016,
          2017,
          2018,
          2019,
          2020,
          2021
         ],
         "xaxis": "x",
         "y": [
          0,
          0,
          0,
          0,
          0,
          2,
          4,
          2,
          2,
          4,
          10,
          0,
          7,
          2,
          5,
          2,
          3,
          1,
          0,
          0,
          0,
          0,
          0,
          0,
          1
         ],
         "yaxis": "y"
        },
        {
         "hovertemplate": "Nombre_Municipio=Hermosillo<br>Years=%{x}<br>Total_Deaths_Drunk=%{y}<extra></extra>",
         "legendgroup": "Hermosillo",
         "marker": {
          "color": "#FECB52",
          "symbol": "circle"
         },
         "mode": "markers",
         "name": "Hermosillo",
         "showlegend": true,
         "type": "scattergl",
         "x": [
          1997,
          1998,
          1999,
          2000,
          2001,
          2002,
          2003,
          2004,
          2005,
          2006,
          2007,
          2008,
          2009,
          2010,
          2011,
          2012,
          2013,
          2014,
          2015,
          2016,
          2017,
          2018,
          2019,
          2020,
          2021
         ],
         "xaxis": "x",
         "y": [
          2,
          4,
          6,
          4,
          4,
          13,
          3,
          3,
          6,
          6,
          9,
          2,
          4,
          6,
          5,
          10,
          1,
          0,
          4,
          2,
          4,
          0,
          3,
          2,
          8
         ],
         "yaxis": "y"
        },
        {
         "hovertemplate": "Nombre_Municipio=Huachinera<br>Years=%{x}<br>Total_Deaths_Drunk=%{y}<extra></extra>",
         "legendgroup": "Huachinera",
         "marker": {
          "color": "#636efa",
          "symbol": "circle"
         },
         "mode": "markers",
         "name": "Huachinera",
         "showlegend": true,
         "type": "scattergl",
         "x": [
          1997,
          1998,
          1999,
          2000,
          2001,
          2002,
          2003,
          2004,
          2005,
          2006,
          2007,
          2008,
          2009,
          2010,
          2011,
          2012,
          2013,
          2014,
          2015,
          2016,
          2017,
          2018,
          2019,
          2020,
          2021
         ],
         "xaxis": "x",
         "y": [
          0,
          0,
          0,
          0,
          0,
          0,
          0,
          0,
          0,
          0,
          0,
          0,
          0,
          0,
          0,
          0,
          0,
          0,
          0,
          0,
          1,
          0,
          0,
          0,
          0
         ],
         "yaxis": "y"
        },
        {
         "hovertemplate": "Nombre_Municipio=Huásabas<br>Years=%{x}<br>Total_Deaths_Drunk=%{y}<extra></extra>",
         "legendgroup": "Huásabas",
         "marker": {
          "color": "#EF553B",
          "symbol": "circle"
         },
         "mode": "markers",
         "name": "Huásabas",
         "showlegend": true,
         "type": "scattergl",
         "x": [
          1997,
          1998,
          1999,
          2000,
          2001,
          2002,
          2003,
          2004,
          2005,
          2006,
          2007,
          2008,
          2009,
          2010,
          2011,
          2012,
          2013,
          2014,
          2015,
          2016,
          2017,
          2018,
          2019,
          2020,
          2021
         ],
         "xaxis": "x",
         "y": [
          0,
          0,
          0,
          0,
          0,
          0,
          0,
          0,
          0,
          2,
          0,
          0,
          0,
          0,
          0,
          0,
          1,
          0,
          2,
          0,
          0,
          0,
          0,
          0,
          0
         ],
         "yaxis": "y"
        },
        {
         "hovertemplate": "Nombre_Municipio=Huatabampo<br>Years=%{x}<br>Total_Deaths_Drunk=%{y}<extra></extra>",
         "legendgroup": "Huatabampo",
         "marker": {
          "color": "#00cc96",
          "symbol": "circle"
         },
         "mode": "markers",
         "name": "Huatabampo",
         "showlegend": true,
         "type": "scattergl",
         "x": [
          1997,
          1998,
          1999,
          2000,
          2001,
          2002,
          2003,
          2004,
          2005,
          2006,
          2007,
          2008,
          2009,
          2010,
          2011,
          2012,
          2013,
          2014,
          2015,
          2016,
          2017,
          2018,
          2019,
          2020,
          2021
         ],
         "xaxis": "x",
         "y": [
          1,
          0,
          1,
          1,
          1,
          1,
          1,
          1,
          2,
          1,
          1,
          0,
          1,
          0,
          0,
          1,
          0,
          0,
          0,
          2,
          0,
          0,
          0,
          0,
          0
         ],
         "yaxis": "y"
        },
        {
         "hovertemplate": "Nombre_Municipio=Huépac<br>Years=%{x}<br>Total_Deaths_Drunk=%{y}<extra></extra>",
         "legendgroup": "Huépac",
         "marker": {
          "color": "#ab63fa",
          "symbol": "circle"
         },
         "mode": "markers",
         "name": "Huépac",
         "showlegend": true,
         "type": "scattergl",
         "x": [
          1997,
          1998,
          1999,
          2000,
          2001,
          2002,
          2003,
          2004,
          2005,
          2006,
          2007,
          2008,
          2009,
          2010,
          2011,
          2012,
          2013,
          2014,
          2015,
          2016,
          2017,
          2018,
          2019,
          2020,
          2021
         ],
         "xaxis": "x",
         "y": [
          0,
          0,
          0,
          0,
          0,
          0,
          0,
          0,
          0,
          0,
          0,
          0,
          0,
          0,
          0,
          0,
          0,
          0,
          0,
          1,
          0,
          0,
          0,
          0,
          0
         ],
         "yaxis": "y"
        },
        {
         "hovertemplate": "Nombre_Municipio=Imuris<br>Years=%{x}<br>Total_Deaths_Drunk=%{y}<extra></extra>",
         "legendgroup": "Imuris",
         "marker": {
          "color": "#FFA15A",
          "symbol": "circle"
         },
         "mode": "markers",
         "name": "Imuris",
         "showlegend": true,
         "type": "scattergl",
         "x": [
          1997,
          1998,
          1999,
          2000,
          2001,
          2002,
          2003,
          2004,
          2005,
          2006,
          2007,
          2008,
          2009,
          2010,
          2011,
          2012,
          2013,
          2014,
          2015,
          2016,
          2017,
          2018,
          2019,
          2020,
          2021
         ],
         "xaxis": "x",
         "y": [
          0,
          1,
          0,
          0,
          0,
          0,
          0,
          0,
          2,
          0,
          0,
          0,
          0,
          0,
          0,
          0,
          0,
          1,
          0,
          0,
          0,
          0,
          1,
          0,
          1
         ],
         "yaxis": "y"
        },
        {
         "hovertemplate": "Nombre_Municipio=Magdalena<br>Years=%{x}<br>Total_Deaths_Drunk=%{y}<extra></extra>",
         "legendgroup": "Magdalena",
         "marker": {
          "color": "#19d3f3",
          "symbol": "circle"
         },
         "mode": "markers",
         "name": "Magdalena",
         "showlegend": true,
         "type": "scattergl",
         "x": [
          1997,
          1998,
          1999,
          2000,
          2001,
          2002,
          2003,
          2004,
          2005,
          2006,
          2007,
          2008,
          2009,
          2010,
          2011,
          2012,
          2013,
          2014,
          2015,
          2016,
          2017,
          2018,
          2019,
          2020,
          2021
         ],
         "xaxis": "x",
         "y": [
          0,
          0,
          0,
          2,
          0,
          1,
          0,
          0,
          0,
          1,
          0,
          0,
          1,
          2,
          1,
          1,
          0,
          0,
          0,
          0,
          0,
          0,
          3,
          1,
          0
         ],
         "yaxis": "y"
        },
        {
         "hovertemplate": "Nombre_Municipio=Mazatán<br>Years=%{x}<br>Total_Deaths_Drunk=%{y}<extra></extra>",
         "legendgroup": "Mazatán",
         "marker": {
          "color": "#FF6692",
          "symbol": "circle"
         },
         "mode": "markers",
         "name": "Mazatán",
         "showlegend": true,
         "type": "scattergl",
         "x": [
          1997,
          1998,
          1999,
          2000,
          2001,
          2002,
          2003,
          2004,
          2005,
          2006,
          2007,
          2008,
          2009,
          2010,
          2011,
          2012,
          2013,
          2014,
          2015,
          2016,
          2017,
          2018,
          2019,
          2020,
          2021
         ],
         "xaxis": "x",
         "y": [
          0,
          0,
          0,
          1,
          1,
          0,
          1,
          2,
          1,
          0,
          0,
          0,
          0,
          0,
          0,
          0,
          0,
          2,
          0,
          1,
          0,
          1,
          0,
          0,
          0
         ],
         "yaxis": "y"
        },
        {
         "hovertemplate": "Nombre_Municipio=Moctezuma<br>Years=%{x}<br>Total_Deaths_Drunk=%{y}<extra></extra>",
         "legendgroup": "Moctezuma",
         "marker": {
          "color": "#B6E880",
          "symbol": "circle"
         },
         "mode": "markers",
         "name": "Moctezuma",
         "showlegend": true,
         "type": "scattergl",
         "x": [
          1997,
          1998,
          1999,
          2000,
          2001,
          2002,
          2003,
          2004,
          2005,
          2006,
          2007,
          2008,
          2009,
          2010,
          2011,
          2012,
          2013,
          2014,
          2015,
          2016,
          2017,
          2018,
          2019,
          2020,
          2021
         ],
         "xaxis": "x",
         "y": [
          0,
          0,
          0,
          0,
          0,
          0,
          0,
          0,
          0,
          2,
          0,
          0,
          0,
          5,
          0,
          2,
          0,
          0,
          0,
          0,
          0,
          0,
          0,
          3,
          0
         ],
         "yaxis": "y"
        },
        {
         "hovertemplate": "Nombre_Municipio=Naco<br>Years=%{x}<br>Total_Deaths_Drunk=%{y}<extra></extra>",
         "legendgroup": "Naco",
         "marker": {
          "color": "#FF97FF",
          "symbol": "circle"
         },
         "mode": "markers",
         "name": "Naco",
         "showlegend": true,
         "type": "scattergl",
         "x": [
          1997,
          1998,
          1999,
          2000,
          2001,
          2002,
          2003,
          2004,
          2005,
          2006,
          2007,
          2008,
          2009,
          2010,
          2011,
          2012,
          2013,
          2014,
          2015,
          2016,
          2017,
          2018,
          2019,
          2020,
          2021
         ],
         "xaxis": "x",
         "y": [
          0,
          0,
          0,
          0,
          0,
          0,
          1,
          0,
          1,
          0,
          1,
          1,
          0,
          2,
          0,
          0,
          0,
          0,
          0,
          0,
          0,
          0,
          0,
          0,
          0
         ],
         "yaxis": "y"
        },
        {
         "hovertemplate": "Nombre_Municipio=Nácori Chico<br>Years=%{x}<br>Total_Deaths_Drunk=%{y}<extra></extra>",
         "legendgroup": "Nácori Chico",
         "marker": {
          "color": "#FECB52",
          "symbol": "circle"
         },
         "mode": "markers",
         "name": "Nácori Chico",
         "showlegend": true,
         "type": "scattergl",
         "x": [
          1997,
          1998,
          1999,
          2000,
          2001,
          2002,
          2003,
          2004,
          2005,
          2006,
          2007,
          2008,
          2009,
          2010,
          2011,
          2012,
          2013,
          2014,
          2015,
          2016,
          2017,
          2018,
          2019,
          2020,
          2021
         ],
         "xaxis": "x",
         "y": [
          0,
          0,
          0,
          0,
          2,
          0,
          0,
          0,
          0,
          0,
          0,
          0,
          2,
          0,
          0,
          0,
          0,
          0,
          0,
          0,
          0,
          0,
          0,
          0,
          0
         ],
         "yaxis": "y"
        },
        {
         "hovertemplate": "Nombre_Municipio=Nacozari de García<br>Years=%{x}<br>Total_Deaths_Drunk=%{y}<extra></extra>",
         "legendgroup": "Nacozari de García",
         "marker": {
          "color": "#636efa",
          "symbol": "circle"
         },
         "mode": "markers",
         "name": "Nacozari de García",
         "showlegend": true,
         "type": "scattergl",
         "x": [
          1997,
          1998,
          1999,
          2000,
          2001,
          2002,
          2003,
          2004,
          2005,
          2006,
          2007,
          2008,
          2009,
          2010,
          2011,
          2012,
          2013,
          2014,
          2015,
          2016,
          2017,
          2018,
          2019,
          2020,
          2021
         ],
         "xaxis": "x",
         "y": [
          0,
          0,
          1,
          0,
          0,
          0,
          0,
          0,
          1,
          0,
          0,
          1,
          0,
          0,
          1,
          0,
          2,
          0,
          0,
          0,
          0,
          0,
          0,
          0,
          0
         ],
         "yaxis": "y"
        },
        {
         "hovertemplate": "Nombre_Municipio=Navojoa<br>Years=%{x}<br>Total_Deaths_Drunk=%{y}<extra></extra>",
         "legendgroup": "Navojoa",
         "marker": {
          "color": "#EF553B",
          "symbol": "circle"
         },
         "mode": "markers",
         "name": "Navojoa",
         "showlegend": true,
         "type": "scattergl",
         "x": [
          1997,
          1998,
          1999,
          2000,
          2001,
          2002,
          2003,
          2004,
          2005,
          2006,
          2007,
          2008,
          2009,
          2010,
          2011,
          2012,
          2013,
          2014,
          2015,
          2016,
          2017,
          2018,
          2019,
          2020,
          2021
         ],
         "xaxis": "x",
         "y": [
          0,
          2,
          0,
          4,
          4,
          3,
          1,
          3,
          1,
          2,
          4,
          1,
          0,
          0,
          4,
          4,
          3,
          2,
          1,
          0,
          0,
          0,
          0,
          0,
          0
         ],
         "yaxis": "y"
        },
        {
         "hovertemplate": "Nombre_Municipio=Nogales<br>Years=%{x}<br>Total_Deaths_Drunk=%{y}<extra></extra>",
         "legendgroup": "Nogales",
         "marker": {
          "color": "#00cc96",
          "symbol": "circle"
         },
         "mode": "markers",
         "name": "Nogales",
         "showlegend": true,
         "type": "scattergl",
         "x": [
          1997,
          1998,
          1999,
          2000,
          2001,
          2002,
          2003,
          2004,
          2005,
          2006,
          2007,
          2008,
          2009,
          2010,
          2011,
          2012,
          2013,
          2014,
          2015,
          2016,
          2017,
          2018,
          2019,
          2020,
          2021
         ],
         "xaxis": "x",
         "y": [
          2,
          2,
          9,
          4,
          2,
          0,
          1,
          0,
          0,
          0,
          0,
          2,
          6,
          2,
          1,
          0,
          0,
          1,
          0,
          0,
          1,
          0,
          0,
          0,
          0
         ],
         "yaxis": "y"
        },
        {
         "hovertemplate": "Nombre_Municipio=Onavas<br>Years=%{x}<br>Total_Deaths_Drunk=%{y}<extra></extra>",
         "legendgroup": "Onavas",
         "marker": {
          "color": "#ab63fa",
          "symbol": "circle"
         },
         "mode": "markers",
         "name": "Onavas",
         "showlegend": true,
         "type": "scattergl",
         "x": [
          1997,
          1998,
          1999,
          2000,
          2001,
          2002,
          2003,
          2004,
          2005,
          2006,
          2007,
          2008,
          2009,
          2010,
          2011,
          2012,
          2013,
          2014,
          2015,
          2016,
          2017,
          2018,
          2019,
          2020,
          2021
         ],
         "xaxis": "x",
         "y": [
          0,
          0,
          0,
          0,
          0,
          0,
          0,
          0,
          0,
          0,
          0,
          0,
          0,
          0,
          0,
          0,
          0,
          0,
          0,
          0,
          0,
          0,
          0,
          0,
          0
         ],
         "yaxis": "y"
        },
        {
         "hovertemplate": "Nombre_Municipio=Opodepe<br>Years=%{x}<br>Total_Deaths_Drunk=%{y}<extra></extra>",
         "legendgroup": "Opodepe",
         "marker": {
          "color": "#FFA15A",
          "symbol": "circle"
         },
         "mode": "markers",
         "name": "Opodepe",
         "showlegend": true,
         "type": "scattergl",
         "x": [
          1997,
          1998,
          1999,
          2000,
          2001,
          2002,
          2003,
          2004,
          2005,
          2006,
          2007,
          2008,
          2009,
          2010,
          2011,
          2012,
          2013,
          2014,
          2015,
          2016,
          2017,
          2018,
          2019,
          2020,
          2021
         ],
         "xaxis": "x",
         "y": [
          0,
          0,
          0,
          0,
          0,
          1,
          0,
          1,
          0,
          0,
          0,
          0,
          0,
          1,
          0,
          0,
          0,
          0,
          0,
          0,
          0,
          0,
          0,
          0,
          0
         ],
         "yaxis": "y"
        },
        {
         "hovertemplate": "Nombre_Municipio=Oquitoa<br>Years=%{x}<br>Total_Deaths_Drunk=%{y}<extra></extra>",
         "legendgroup": "Oquitoa",
         "marker": {
          "color": "#19d3f3",
          "symbol": "circle"
         },
         "mode": "markers",
         "name": "Oquitoa",
         "showlegend": true,
         "type": "scattergl",
         "x": [
          1997,
          1998,
          1999,
          2000,
          2001,
          2002,
          2003,
          2004,
          2005,
          2006,
          2007,
          2008,
          2009,
          2010,
          2011,
          2012,
          2013,
          2014,
          2015,
          2016,
          2017,
          2018,
          2019,
          2020,
          2021
         ],
         "xaxis": "x",
         "y": [
          0,
          0,
          0,
          0,
          0,
          0,
          0,
          0,
          0,
          2,
          0,
          0,
          1,
          1,
          0,
          1,
          0,
          0,
          0,
          3,
          0,
          0,
          0,
          0,
          0
         ],
         "yaxis": "y"
        },
        {
         "hovertemplate": "Nombre_Municipio=Pitiquito<br>Years=%{x}<br>Total_Deaths_Drunk=%{y}<extra></extra>",
         "legendgroup": "Pitiquito",
         "marker": {
          "color": "#FF6692",
          "symbol": "circle"
         },
         "mode": "markers",
         "name": "Pitiquito",
         "showlegend": true,
         "type": "scattergl",
         "x": [
          1997,
          1998,
          1999,
          2000,
          2001,
          2002,
          2003,
          2004,
          2005,
          2006,
          2007,
          2008,
          2009,
          2010,
          2011,
          2012,
          2013,
          2014,
          2015,
          2016,
          2017,
          2018,
          2019,
          2020,
          2021
         ],
         "xaxis": "x",
         "y": [
          0,
          0,
          0,
          0,
          0,
          0,
          0,
          0,
          0,
          1,
          0,
          0,
          0,
          1,
          0,
          0,
          0,
          0,
          0,
          0,
          0,
          0,
          0,
          0,
          0
         ],
         "yaxis": "y"
        },
        {
         "hovertemplate": "Nombre_Municipio=Puerto Peñasco<br>Years=%{x}<br>Total_Deaths_Drunk=%{y}<extra></extra>",
         "legendgroup": "Puerto Peñasco",
         "marker": {
          "color": "#B6E880",
          "symbol": "circle"
         },
         "mode": "markers",
         "name": "Puerto Peñasco",
         "showlegend": true,
         "type": "scattergl",
         "x": [
          1997,
          1998,
          1999,
          2000,
          2001,
          2002,
          2003,
          2004,
          2005,
          2006,
          2007,
          2008,
          2009,
          2010,
          2011,
          2012,
          2013,
          2014,
          2015,
          2016,
          2017,
          2018,
          2019,
          2020,
          2021
         ],
         "xaxis": "x",
         "y": [
          0,
          2,
          2,
          2,
          0,
          0,
          2,
          1,
          2,
          4,
          6,
          2,
          1,
          2,
          2,
          4,
          1,
          1,
          1,
          0,
          0,
          0,
          0,
          0,
          1
         ],
         "yaxis": "y"
        },
        {
         "hovertemplate": "Nombre_Municipio=Quiriego<br>Years=%{x}<br>Total_Deaths_Drunk=%{y}<extra></extra>",
         "legendgroup": "Quiriego",
         "marker": {
          "color": "#FF97FF",
          "symbol": "circle"
         },
         "mode": "markers",
         "name": "Quiriego",
         "showlegend": true,
         "type": "scattergl",
         "x": [
          1997,
          1998,
          1999,
          2000,
          2001,
          2002,
          2003,
          2004,
          2005,
          2006,
          2007,
          2008,
          2009,
          2010,
          2011,
          2012,
          2013,
          2014,
          2015,
          2016,
          2017,
          2018,
          2019,
          2020,
          2021
         ],
         "xaxis": "x",
         "y": [
          0,
          0,
          0,
          0,
          0,
          0,
          0,
          0,
          0,
          0,
          0,
          2,
          0,
          0,
          0,
          0,
          0,
          1,
          0,
          0,
          1,
          1,
          0,
          0,
          1
         ],
         "yaxis": "y"
        },
        {
         "hovertemplate": "Nombre_Municipio=Rayón<br>Years=%{x}<br>Total_Deaths_Drunk=%{y}<extra></extra>",
         "legendgroup": "Rayón",
         "marker": {
          "color": "#FECB52",
          "symbol": "circle"
         },
         "mode": "markers",
         "name": "Rayón",
         "showlegend": true,
         "type": "scattergl",
         "x": [
          1997,
          1998,
          1999,
          2000,
          2001,
          2002,
          2003,
          2004,
          2005,
          2006,
          2007,
          2008,
          2009,
          2010,
          2011,
          2012,
          2013,
          2014,
          2015,
          2016,
          2017,
          2018,
          2019,
          2020,
          2021
         ],
         "xaxis": "x",
         "y": [
          0,
          0,
          0,
          0,
          0,
          0,
          0,
          0,
          0,
          0,
          0,
          0,
          0,
          0,
          0,
          0,
          0,
          0,
          0,
          0,
          0,
          0,
          0,
          0,
          0
         ],
         "yaxis": "y"
        },
        {
         "hovertemplate": "Nombre_Municipio=Rosario<br>Years=%{x}<br>Total_Deaths_Drunk=%{y}<extra></extra>",
         "legendgroup": "Rosario",
         "marker": {
          "color": "#636efa",
          "symbol": "circle"
         },
         "mode": "markers",
         "name": "Rosario",
         "showlegend": true,
         "type": "scattergl",
         "x": [
          1997,
          1998,
          1999,
          2000,
          2001,
          2002,
          2003,
          2004,
          2005,
          2006,
          2007,
          2008,
          2009,
          2010,
          2011,
          2012,
          2013,
          2014,
          2015,
          2016,
          2017,
          2018,
          2019,
          2020,
          2021
         ],
         "xaxis": "x",
         "y": [
          0,
          0,
          1,
          0,
          0,
          2,
          0,
          0,
          1,
          0,
          0,
          0,
          1,
          1,
          0,
          3,
          0,
          1,
          1,
          0,
          0,
          0,
          0,
          0,
          0
         ],
         "yaxis": "y"
        },
        {
         "hovertemplate": "Nombre_Municipio=Sahuaripa<br>Years=%{x}<br>Total_Deaths_Drunk=%{y}<extra></extra>",
         "legendgroup": "Sahuaripa",
         "marker": {
          "color": "#EF553B",
          "symbol": "circle"
         },
         "mode": "markers",
         "name": "Sahuaripa",
         "showlegend": true,
         "type": "scattergl",
         "x": [
          1997,
          1998,
          1999,
          2000,
          2001,
          2002,
          2003,
          2004,
          2005,
          2006,
          2007,
          2008,
          2009,
          2010,
          2011,
          2012,
          2013,
          2014,
          2015,
          2016,
          2017,
          2018,
          2019,
          2020,
          2021
         ],
         "xaxis": "x",
         "y": [
          0,
          1,
          1,
          0,
          1,
          0,
          0,
          0,
          0,
          0,
          1,
          0,
          1,
          4,
          2,
          0,
          0,
          0,
          0,
          0,
          0,
          0,
          0,
          0,
          0
         ],
         "yaxis": "y"
        },
        {
         "hovertemplate": "Nombre_Municipio=San Felipe de Jesús<br>Years=%{x}<br>Total_Deaths_Drunk=%{y}<extra></extra>",
         "legendgroup": "San Felipe de Jesús",
         "marker": {
          "color": "#00cc96",
          "symbol": "circle"
         },
         "mode": "markers",
         "name": "San Felipe de Jesús",
         "showlegend": true,
         "type": "scattergl",
         "x": [
          1997,
          1998,
          1999,
          2000,
          2001,
          2002,
          2003,
          2004,
          2005,
          2006,
          2007,
          2008,
          2009,
          2010,
          2011,
          2012,
          2013,
          2014,
          2015,
          2016,
          2017,
          2018,
          2019,
          2020,
          2021
         ],
         "xaxis": "x",
         "y": [
          0,
          0,
          0,
          0,
          0,
          0,
          0,
          0,
          0,
          0,
          0,
          0,
          0,
          0,
          0,
          0,
          0,
          0,
          0,
          0,
          0,
          0,
          0,
          0,
          0
         ],
         "yaxis": "y"
        },
        {
         "hovertemplate": "Nombre_Municipio=San Javier<br>Years=%{x}<br>Total_Deaths_Drunk=%{y}<extra></extra>",
         "legendgroup": "San Javier",
         "marker": {
          "color": "#ab63fa",
          "symbol": "circle"
         },
         "mode": "markers",
         "name": "San Javier",
         "showlegend": true,
         "type": "scattergl",
         "x": [
          1997,
          1998,
          1999,
          2000,
          2001,
          2002,
          2003,
          2004,
          2005,
          2006,
          2007,
          2008,
          2009,
          2010,
          2011,
          2012,
          2013,
          2014,
          2015,
          2016,
          2017,
          2018,
          2019,
          2020,
          2021
         ],
         "xaxis": "x",
         "y": [
          0,
          0,
          0,
          0,
          0,
          0,
          0,
          0,
          0,
          0,
          0,
          0,
          0,
          0,
          0,
          0,
          0,
          0,
          0,
          0,
          0,
          0,
          0,
          0,
          0
         ],
         "yaxis": "y"
        },
        {
         "hovertemplate": "Nombre_Municipio=San Luis Río Colorado<br>Years=%{x}<br>Total_Deaths_Drunk=%{y}<extra></extra>",
         "legendgroup": "San Luis Río Colorado",
         "marker": {
          "color": "#FFA15A",
          "symbol": "circle"
         },
         "mode": "markers",
         "name": "San Luis Río Colorado",
         "showlegend": true,
         "type": "scattergl",
         "x": [
          1997,
          1998,
          1999,
          2000,
          2001,
          2002,
          2003,
          2004,
          2005,
          2006,
          2007,
          2008,
          2009,
          2010,
          2011,
          2012,
          2013,
          2014,
          2015,
          2016,
          2017,
          2018,
          2019,
          2020,
          2021
         ],
         "xaxis": "x",
         "y": [
          2,
          3,
          4,
          3,
          1,
          5,
          4,
          2,
          2,
          3,
          1,
          2,
          4,
          3,
          2,
          2,
          3,
          1,
          3,
          0,
          0,
          2,
          1,
          0,
          1
         ],
         "yaxis": "y"
        },
        {
         "hovertemplate": "Nombre_Municipio=San Miguel de Horcasitas<br>Years=%{x}<br>Total_Deaths_Drunk=%{y}<extra></extra>",
         "legendgroup": "San Miguel de Horcasitas",
         "marker": {
          "color": "#19d3f3",
          "symbol": "circle"
         },
         "mode": "markers",
         "name": "San Miguel de Horcasitas",
         "showlegend": true,
         "type": "scattergl",
         "x": [
          1997,
          1998,
          1999,
          2000,
          2001,
          2002,
          2003,
          2004,
          2005,
          2006,
          2007,
          2008,
          2009,
          2010,
          2011,
          2012,
          2013,
          2014,
          2015,
          2016,
          2017,
          2018,
          2019,
          2020,
          2021
         ],
         "xaxis": "x",
         "y": [
          0,
          0,
          0,
          0,
          0,
          1,
          1,
          0,
          0,
          1,
          0,
          0,
          0,
          0,
          1,
          0,
          0,
          1,
          0,
          0,
          0,
          0,
          0,
          0,
          2
         ],
         "yaxis": "y"
        },
        {
         "hovertemplate": "Nombre_Municipio=San Pedro de la Cueva<br>Years=%{x}<br>Total_Deaths_Drunk=%{y}<extra></extra>",
         "legendgroup": "San Pedro de la Cueva",
         "marker": {
          "color": "#FF6692",
          "symbol": "circle"
         },
         "mode": "markers",
         "name": "San Pedro de la Cueva",
         "showlegend": true,
         "type": "scattergl",
         "x": [
          1997,
          1998,
          1999,
          2000,
          2001,
          2002,
          2003,
          2004,
          2005,
          2006,
          2007,
          2008,
          2009,
          2010,
          2011,
          2012,
          2013,
          2014,
          2015,
          2016,
          2017,
          2018,
          2019,
          2020,
          2021
         ],
         "xaxis": "x",
         "y": [
          0,
          0,
          0,
          0,
          1,
          0,
          0,
          0,
          0,
          0,
          0,
          0,
          0,
          0,
          0,
          0,
          0,
          0,
          0,
          0,
          0,
          0,
          0,
          0,
          0
         ],
         "yaxis": "y"
        },
        {
         "hovertemplate": "Nombre_Municipio=Santa Ana<br>Years=%{x}<br>Total_Deaths_Drunk=%{y}<extra></extra>",
         "legendgroup": "Santa Ana",
         "marker": {
          "color": "#B6E880",
          "symbol": "circle"
         },
         "mode": "markers",
         "name": "Santa Ana",
         "showlegend": true,
         "type": "scattergl",
         "x": [
          1997,
          1998,
          1999,
          2000,
          2001,
          2002,
          2003,
          2004,
          2005,
          2006,
          2007,
          2008,
          2009,
          2010,
          2011,
          2012,
          2013,
          2014,
          2015,
          2016,
          2017,
          2018,
          2019,
          2020,
          2021
         ],
         "xaxis": "x",
         "y": [
          1,
          0,
          0,
          0,
          1,
          2,
          0,
          2,
          2,
          0,
          0,
          0,
          1,
          2,
          1,
          1,
          0,
          0,
          0,
          0,
          0,
          0,
          0,
          0,
          0
         ],
         "yaxis": "y"
        },
        {
         "hovertemplate": "Nombre_Municipio=Santa Cruz<br>Years=%{x}<br>Total_Deaths_Drunk=%{y}<extra></extra>",
         "legendgroup": "Santa Cruz",
         "marker": {
          "color": "#FF97FF",
          "symbol": "circle"
         },
         "mode": "markers",
         "name": "Santa Cruz",
         "showlegend": true,
         "type": "scattergl",
         "x": [
          1997,
          1998,
          1999,
          2000,
          2001,
          2002,
          2003,
          2004,
          2005,
          2006,
          2007,
          2008,
          2009,
          2010,
          2011,
          2012,
          2013,
          2014,
          2015,
          2016,
          2017,
          2018,
          2019,
          2020,
          2021
         ],
         "xaxis": "x",
         "y": [
          0,
          0,
          0,
          0,
          0,
          1,
          0,
          0,
          0,
          0,
          0,
          0,
          0,
          0,
          0,
          0,
          0,
          0,
          0,
          0,
          0,
          0,
          0,
          0,
          0
         ],
         "yaxis": "y"
        },
        {
         "hovertemplate": "Nombre_Municipio=Sáric<br>Years=%{x}<br>Total_Deaths_Drunk=%{y}<extra></extra>",
         "legendgroup": "Sáric",
         "marker": {
          "color": "#FECB52",
          "symbol": "circle"
         },
         "mode": "markers",
         "name": "Sáric",
         "showlegend": true,
         "type": "scattergl",
         "x": [
          1997,
          1998,
          1999,
          2000,
          2001,
          2002,
          2003,
          2004,
          2005,
          2006,
          2007,
          2008,
          2009,
          2010,
          2011,
          2012,
          2013,
          2014,
          2015,
          2016,
          2017,
          2018,
          2019,
          2020,
          2021
         ],
         "xaxis": "x",
         "y": [
          0,
          0,
          0,
          0,
          0,
          0,
          0,
          1,
          1,
          0,
          0,
          0,
          0,
          0,
          0,
          0,
          0,
          0,
          0,
          0,
          0,
          0,
          0,
          0,
          0
         ],
         "yaxis": "y"
        },
        {
         "hovertemplate": "Nombre_Municipio=Soyopa<br>Years=%{x}<br>Total_Deaths_Drunk=%{y}<extra></extra>",
         "legendgroup": "Soyopa",
         "marker": {
          "color": "#636efa",
          "symbol": "circle"
         },
         "mode": "markers",
         "name": "Soyopa",
         "showlegend": true,
         "type": "scattergl",
         "x": [
          1997,
          1998,
          1999,
          2000,
          2001,
          2002,
          2003,
          2004,
          2005,
          2006,
          2007,
          2008,
          2009,
          2010,
          2011,
          2012,
          2013,
          2014,
          2015,
          2016,
          2017,
          2018,
          2019,
          2020,
          2021
         ],
         "xaxis": "x",
         "y": [
          0,
          0,
          0,
          0,
          0,
          0,
          0,
          0,
          0,
          0,
          0,
          0,
          0,
          0,
          0,
          1,
          0,
          0,
          0,
          0,
          0,
          0,
          0,
          0,
          0
         ],
         "yaxis": "y"
        },
        {
         "hovertemplate": "Nombre_Municipio=Suaqui Grande<br>Years=%{x}<br>Total_Deaths_Drunk=%{y}<extra></extra>",
         "legendgroup": "Suaqui Grande",
         "marker": {
          "color": "#EF553B",
          "symbol": "circle"
         },
         "mode": "markers",
         "name": "Suaqui Grande",
         "showlegend": true,
         "type": "scattergl",
         "x": [
          1997,
          1998,
          1999,
          2000,
          2001,
          2002,
          2003,
          2004,
          2005,
          2006,
          2007,
          2008,
          2009,
          2010,
          2011,
          2012,
          2013,
          2014,
          2015,
          2016,
          2017,
          2018,
          2019,
          2020,
          2021
         ],
         "xaxis": "x",
         "y": [
          0,
          0,
          0,
          0,
          0,
          0,
          0,
          0,
          0,
          0,
          0,
          0,
          0,
          0,
          0,
          0,
          0,
          0,
          0,
          0,
          0,
          0,
          0,
          0,
          0
         ],
         "yaxis": "y"
        },
        {
         "hovertemplate": "Nombre_Municipio=Tepache<br>Years=%{x}<br>Total_Deaths_Drunk=%{y}<extra></extra>",
         "legendgroup": "Tepache",
         "marker": {
          "color": "#00cc96",
          "symbol": "circle"
         },
         "mode": "markers",
         "name": "Tepache",
         "showlegend": true,
         "type": "scattergl",
         "x": [
          1997,
          1998,
          1999,
          2000,
          2001,
          2002,
          2003,
          2004,
          2005,
          2006,
          2007,
          2008,
          2009,
          2010,
          2011,
          2012,
          2013,
          2014,
          2015,
          2016,
          2017,
          2018,
          2019,
          2020,
          2021
         ],
         "xaxis": "x",
         "y": [
          0,
          0,
          0,
          0,
          0,
          0,
          0,
          0,
          1,
          0,
          0,
          0,
          0,
          0,
          1,
          0,
          0,
          0,
          0,
          0,
          0,
          0,
          0,
          0,
          0
         ],
         "yaxis": "y"
        },
        {
         "hovertemplate": "Nombre_Municipio=Trincheras<br>Years=%{x}<br>Total_Deaths_Drunk=%{y}<extra></extra>",
         "legendgroup": "Trincheras",
         "marker": {
          "color": "#ab63fa",
          "symbol": "circle"
         },
         "mode": "markers",
         "name": "Trincheras",
         "showlegend": true,
         "type": "scattergl",
         "x": [
          1997,
          1998,
          1999,
          2000,
          2001,
          2002,
          2003,
          2004,
          2005,
          2006,
          2007,
          2008,
          2009,
          2010,
          2011,
          2012,
          2013,
          2014,
          2015,
          2016,
          2017,
          2018,
          2019,
          2020,
          2021
         ],
         "xaxis": "x",
         "y": [
          0,
          0,
          0,
          0,
          0,
          0,
          0,
          0,
          0,
          0,
          0,
          0,
          0,
          0,
          0,
          0,
          0,
          0,
          0,
          0,
          0,
          0,
          0,
          0,
          0
         ],
         "yaxis": "y"
        },
        {
         "hovertemplate": "Nombre_Municipio=Tubutama<br>Years=%{x}<br>Total_Deaths_Drunk=%{y}<extra></extra>",
         "legendgroup": "Tubutama",
         "marker": {
          "color": "#FFA15A",
          "symbol": "circle"
         },
         "mode": "markers",
         "name": "Tubutama",
         "showlegend": true,
         "type": "scattergl",
         "x": [
          1997,
          1998,
          1999,
          2000,
          2001,
          2002,
          2003,
          2004,
          2005,
          2006,
          2007,
          2008,
          2009,
          2010,
          2011,
          2012,
          2013,
          2014,
          2015,
          2016,
          2017,
          2018,
          2019,
          2020,
          2021
         ],
         "xaxis": "x",
         "y": [
          0,
          0,
          0,
          0,
          1,
          0,
          0,
          0,
          2,
          0,
          1,
          0,
          0,
          0,
          0,
          0,
          0,
          0,
          0,
          0,
          1,
          0,
          0,
          0,
          0
         ],
         "yaxis": "y"
        },
        {
         "hovertemplate": "Nombre_Municipio=Ures<br>Years=%{x}<br>Total_Deaths_Drunk=%{y}<extra></extra>",
         "legendgroup": "Ures",
         "marker": {
          "color": "#19d3f3",
          "symbol": "circle"
         },
         "mode": "markers",
         "name": "Ures",
         "showlegend": true,
         "type": "scattergl",
         "x": [
          1997,
          1998,
          1999,
          2000,
          2001,
          2002,
          2003,
          2004,
          2005,
          2006,
          2007,
          2008,
          2009,
          2010,
          2011,
          2012,
          2013,
          2014,
          2015,
          2016,
          2017,
          2018,
          2019,
          2020,
          2021
         ],
         "xaxis": "x",
         "y": [
          0,
          0,
          0,
          0,
          0,
          0,
          0,
          0,
          0,
          0,
          0,
          0,
          0,
          0,
          0,
          0,
          0,
          0,
          0,
          0,
          0,
          0,
          0,
          0,
          0
         ],
         "yaxis": "y"
        },
        {
         "hovertemplate": "Nombre_Municipio=Villa Hidalgo<br>Years=%{x}<br>Total_Deaths_Drunk=%{y}<extra></extra>",
         "legendgroup": "Villa Hidalgo",
         "marker": {
          "color": "#FF6692",
          "symbol": "circle"
         },
         "mode": "markers",
         "name": "Villa Hidalgo",
         "showlegend": true,
         "type": "scattergl",
         "x": [
          1997,
          1998,
          1999,
          2000,
          2001,
          2002,
          2003,
          2004,
          2005,
          2006,
          2007,
          2008,
          2009,
          2010,
          2011,
          2012,
          2013,
          2014,
          2015,
          2016,
          2017,
          2018,
          2019,
          2020,
          2021
         ],
         "xaxis": "x",
         "y": [
          0,
          0,
          0,
          0,
          0,
          0,
          0,
          0,
          0,
          0,
          0,
          0,
          0,
          0,
          0,
          0,
          0,
          0,
          0,
          0,
          0,
          0,
          0,
          0,
          0
         ],
         "yaxis": "y"
        },
        {
         "hovertemplate": "Nombre_Municipio=Villa Pesqueira<br>Years=%{x}<br>Total_Deaths_Drunk=%{y}<extra></extra>",
         "legendgroup": "Villa Pesqueira",
         "marker": {
          "color": "#B6E880",
          "symbol": "circle"
         },
         "mode": "markers",
         "name": "Villa Pesqueira",
         "showlegend": true,
         "type": "scattergl",
         "x": [
          1997,
          1998,
          1999,
          2000,
          2001,
          2002,
          2003,
          2004,
          2005,
          2006,
          2007,
          2008,
          2009,
          2010,
          2011,
          2012,
          2013,
          2014,
          2015,
          2016,
          2017,
          2018,
          2019,
          2020,
          2021
         ],
         "xaxis": "x",
         "y": [
          0,
          1,
          0,
          0,
          0,
          0,
          0,
          0,
          0,
          0,
          1,
          0,
          0,
          0,
          0,
          2,
          0,
          0,
          0,
          0,
          0,
          0,
          0,
          0,
          0
         ],
         "yaxis": "y"
        },
        {
         "hovertemplate": "Nombre_Municipio=Yécora<br>Years=%{x}<br>Total_Deaths_Drunk=%{y}<extra></extra>",
         "legendgroup": "Yécora",
         "marker": {
          "color": "#FF97FF",
          "symbol": "circle"
         },
         "mode": "markers",
         "name": "Yécora",
         "showlegend": true,
         "type": "scattergl",
         "x": [
          1997,
          1998,
          1999,
          2000,
          2001,
          2002,
          2003,
          2004,
          2005,
          2006,
          2007,
          2008,
          2009,
          2010,
          2011,
          2012,
          2013,
          2014,
          2015,
          2016,
          2017,
          2018,
          2019,
          2020,
          2021
         ],
         "xaxis": "x",
         "y": [
          0,
          0,
          0,
          0,
          1,
          1,
          0,
          0,
          0,
          0,
          4,
          0,
          0,
          0,
          0,
          0,
          0,
          0,
          0,
          2,
          0,
          0,
          0,
          0,
          0
         ],
         "yaxis": "y"
        },
        {
         "hovertemplate": "Nombre_Municipio=General Plutarco Elías Calles<br>Years=%{x}<br>Total_Deaths_Drunk=%{y}<extra></extra>",
         "legendgroup": "General Plutarco Elías Calles",
         "marker": {
          "color": "#FECB52",
          "symbol": "circle"
         },
         "mode": "markers",
         "name": "General Plutarco Elías Calles",
         "showlegend": true,
         "type": "scattergl",
         "x": [
          1997,
          1998,
          1999,
          2000,
          2001,
          2002,
          2003,
          2004,
          2005,
          2006,
          2007,
          2008,
          2009,
          2010,
          2011,
          2012,
          2013,
          2014,
          2015,
          2016,
          2017,
          2018,
          2019,
          2020,
          2021
         ],
         "xaxis": "x",
         "y": [
          0,
          0,
          0,
          0,
          0,
          0,
          0,
          2,
          0,
          0,
          0,
          4,
          1,
          0,
          1,
          1,
          0,
          0,
          2,
          2,
          3,
          0,
          0,
          0,
          0
         ],
         "yaxis": "y"
        },
        {
         "hovertemplate": "Nombre_Municipio=Benito Juárez<br>Years=%{x}<br>Total_Deaths_Drunk=%{y}<extra></extra>",
         "legendgroup": "Benito Juárez",
         "marker": {
          "color": "#636efa",
          "symbol": "circle"
         },
         "mode": "markers",
         "name": "Benito Juárez",
         "showlegend": true,
         "type": "scattergl",
         "x": [
          1997,
          1998,
          1999,
          2000,
          2001,
          2002,
          2003,
          2004,
          2005,
          2006,
          2007,
          2008,
          2009,
          2010,
          2011,
          2012,
          2013,
          2014,
          2015,
          2016,
          2017,
          2018,
          2019,
          2020,
          2021
         ],
         "xaxis": "x",
         "y": [
          0,
          0,
          0,
          0,
          0,
          2,
          1,
          1,
          0,
          0,
          0,
          1,
          0,
          0,
          2,
          1,
          1,
          0,
          0,
          1,
          1,
          0,
          2,
          0,
          0
         ],
         "yaxis": "y"
        },
        {
         "hovertemplate": "Nombre_Municipio=San Ignacio Río Muerto<br>Years=%{x}<br>Total_Deaths_Drunk=%{y}<extra></extra>",
         "legendgroup": "San Ignacio Río Muerto",
         "marker": {
          "color": "#EF553B",
          "symbol": "circle"
         },
         "mode": "markers",
         "name": "San Ignacio Río Muerto",
         "showlegend": true,
         "type": "scattergl",
         "x": [
          1997,
          1998,
          1999,
          2000,
          2001,
          2002,
          2003,
          2004,
          2005,
          2006,
          2007,
          2008,
          2009,
          2010,
          2011,
          2012,
          2013,
          2014,
          2015,
          2016,
          2017,
          2018,
          2019,
          2020,
          2021
         ],
         "xaxis": "x",
         "y": [
          0,
          0,
          2,
          0,
          0,
          0,
          0,
          0,
          0,
          0,
          3,
          0,
          1,
          1,
          0,
          1,
          0,
          0,
          0,
          0,
          0,
          3,
          1,
          0,
          4
         ],
         "yaxis": "y"
        }
       ],
       "layout": {
        "legend": {
         "title": {
          "text": "Nombre_Municipio"
         },
         "tracegroupgap": 0
        },
        "margin": {
         "t": 60
        },
        "template": {
         "data": {
          "bar": [
           {
            "error_x": {
             "color": "#2a3f5f"
            },
            "error_y": {
             "color": "#2a3f5f"
            },
            "marker": {
             "line": {
              "color": "#E5ECF6",
              "width": 0.5
             },
             "pattern": {
              "fillmode": "overlay",
              "size": 10,
              "solidity": 0.2
             }
            },
            "type": "bar"
           }
          ],
          "barpolar": [
           {
            "marker": {
             "line": {
              "color": "#E5ECF6",
              "width": 0.5
             },
             "pattern": {
              "fillmode": "overlay",
              "size": 10,
              "solidity": 0.2
             }
            },
            "type": "barpolar"
           }
          ],
          "carpet": [
           {
            "aaxis": {
             "endlinecolor": "#2a3f5f",
             "gridcolor": "white",
             "linecolor": "white",
             "minorgridcolor": "white",
             "startlinecolor": "#2a3f5f"
            },
            "baxis": {
             "endlinecolor": "#2a3f5f",
             "gridcolor": "white",
             "linecolor": "white",
             "minorgridcolor": "white",
             "startlinecolor": "#2a3f5f"
            },
            "type": "carpet"
           }
          ],
          "choropleth": [
           {
            "colorbar": {
             "outlinewidth": 0,
             "ticks": ""
            },
            "type": "choropleth"
           }
          ],
          "contour": [
           {
            "colorbar": {
             "outlinewidth": 0,
             "ticks": ""
            },
            "colorscale": [
             [
              0,
              "#0d0887"
             ],
             [
              0.1111111111111111,
              "#46039f"
             ],
             [
              0.2222222222222222,
              "#7201a8"
             ],
             [
              0.3333333333333333,
              "#9c179e"
             ],
             [
              0.4444444444444444,
              "#bd3786"
             ],
             [
              0.5555555555555556,
              "#d8576b"
             ],
             [
              0.6666666666666666,
              "#ed7953"
             ],
             [
              0.7777777777777778,
              "#fb9f3a"
             ],
             [
              0.8888888888888888,
              "#fdca26"
             ],
             [
              1,
              "#f0f921"
             ]
            ],
            "type": "contour"
           }
          ],
          "contourcarpet": [
           {
            "colorbar": {
             "outlinewidth": 0,
             "ticks": ""
            },
            "type": "contourcarpet"
           }
          ],
          "heatmap": [
           {
            "colorbar": {
             "outlinewidth": 0,
             "ticks": ""
            },
            "colorscale": [
             [
              0,
              "#0d0887"
             ],
             [
              0.1111111111111111,
              "#46039f"
             ],
             [
              0.2222222222222222,
              "#7201a8"
             ],
             [
              0.3333333333333333,
              "#9c179e"
             ],
             [
              0.4444444444444444,
              "#bd3786"
             ],
             [
              0.5555555555555556,
              "#d8576b"
             ],
             [
              0.6666666666666666,
              "#ed7953"
             ],
             [
              0.7777777777777778,
              "#fb9f3a"
             ],
             [
              0.8888888888888888,
              "#fdca26"
             ],
             [
              1,
              "#f0f921"
             ]
            ],
            "type": "heatmap"
           }
          ],
          "heatmapgl": [
           {
            "colorbar": {
             "outlinewidth": 0,
             "ticks": ""
            },
            "colorscale": [
             [
              0,
              "#0d0887"
             ],
             [
              0.1111111111111111,
              "#46039f"
             ],
             [
              0.2222222222222222,
              "#7201a8"
             ],
             [
              0.3333333333333333,
              "#9c179e"
             ],
             [
              0.4444444444444444,
              "#bd3786"
             ],
             [
              0.5555555555555556,
              "#d8576b"
             ],
             [
              0.6666666666666666,
              "#ed7953"
             ],
             [
              0.7777777777777778,
              "#fb9f3a"
             ],
             [
              0.8888888888888888,
              "#fdca26"
             ],
             [
              1,
              "#f0f921"
             ]
            ],
            "type": "heatmapgl"
           }
          ],
          "histogram": [
           {
            "marker": {
             "pattern": {
              "fillmode": "overlay",
              "size": 10,
              "solidity": 0.2
             }
            },
            "type": "histogram"
           }
          ],
          "histogram2d": [
           {
            "colorbar": {
             "outlinewidth": 0,
             "ticks": ""
            },
            "colorscale": [
             [
              0,
              "#0d0887"
             ],
             [
              0.1111111111111111,
              "#46039f"
             ],
             [
              0.2222222222222222,
              "#7201a8"
             ],
             [
              0.3333333333333333,
              "#9c179e"
             ],
             [
              0.4444444444444444,
              "#bd3786"
             ],
             [
              0.5555555555555556,
              "#d8576b"
             ],
             [
              0.6666666666666666,
              "#ed7953"
             ],
             [
              0.7777777777777778,
              "#fb9f3a"
             ],
             [
              0.8888888888888888,
              "#fdca26"
             ],
             [
              1,
              "#f0f921"
             ]
            ],
            "type": "histogram2d"
           }
          ],
          "histogram2dcontour": [
           {
            "colorbar": {
             "outlinewidth": 0,
             "ticks": ""
            },
            "colorscale": [
             [
              0,
              "#0d0887"
             ],
             [
              0.1111111111111111,
              "#46039f"
             ],
             [
              0.2222222222222222,
              "#7201a8"
             ],
             [
              0.3333333333333333,
              "#9c179e"
             ],
             [
              0.4444444444444444,
              "#bd3786"
             ],
             [
              0.5555555555555556,
              "#d8576b"
             ],
             [
              0.6666666666666666,
              "#ed7953"
             ],
             [
              0.7777777777777778,
              "#fb9f3a"
             ],
             [
              0.8888888888888888,
              "#fdca26"
             ],
             [
              1,
              "#f0f921"
             ]
            ],
            "type": "histogram2dcontour"
           }
          ],
          "mesh3d": [
           {
            "colorbar": {
             "outlinewidth": 0,
             "ticks": ""
            },
            "type": "mesh3d"
           }
          ],
          "parcoords": [
           {
            "line": {
             "colorbar": {
              "outlinewidth": 0,
              "ticks": ""
             }
            },
            "type": "parcoords"
           }
          ],
          "pie": [
           {
            "automargin": true,
            "type": "pie"
           }
          ],
          "scatter": [
           {
            "marker": {
             "colorbar": {
              "outlinewidth": 0,
              "ticks": ""
             }
            },
            "type": "scatter"
           }
          ],
          "scatter3d": [
           {
            "line": {
             "colorbar": {
              "outlinewidth": 0,
              "ticks": ""
             }
            },
            "marker": {
             "colorbar": {
              "outlinewidth": 0,
              "ticks": ""
             }
            },
            "type": "scatter3d"
           }
          ],
          "scattercarpet": [
           {
            "marker": {
             "colorbar": {
              "outlinewidth": 0,
              "ticks": ""
             }
            },
            "type": "scattercarpet"
           }
          ],
          "scattergeo": [
           {
            "marker": {
             "colorbar": {
              "outlinewidth": 0,
              "ticks": ""
             }
            },
            "type": "scattergeo"
           }
          ],
          "scattergl": [
           {
            "marker": {
             "colorbar": {
              "outlinewidth": 0,
              "ticks": ""
             }
            },
            "type": "scattergl"
           }
          ],
          "scattermapbox": [
           {
            "marker": {
             "colorbar": {
              "outlinewidth": 0,
              "ticks": ""
             }
            },
            "type": "scattermapbox"
           }
          ],
          "scatterpolar": [
           {
            "marker": {
             "colorbar": {
              "outlinewidth": 0,
              "ticks": ""
             }
            },
            "type": "scatterpolar"
           }
          ],
          "scatterpolargl": [
           {
            "marker": {
             "colorbar": {
              "outlinewidth": 0,
              "ticks": ""
             }
            },
            "type": "scatterpolargl"
           }
          ],
          "scatterternary": [
           {
            "marker": {
             "colorbar": {
              "outlinewidth": 0,
              "ticks": ""
             }
            },
            "type": "scatterternary"
           }
          ],
          "surface": [
           {
            "colorbar": {
             "outlinewidth": 0,
             "ticks": ""
            },
            "colorscale": [
             [
              0,
              "#0d0887"
             ],
             [
              0.1111111111111111,
              "#46039f"
             ],
             [
              0.2222222222222222,
              "#7201a8"
             ],
             [
              0.3333333333333333,
              "#9c179e"
             ],
             [
              0.4444444444444444,
              "#bd3786"
             ],
             [
              0.5555555555555556,
              "#d8576b"
             ],
             [
              0.6666666666666666,
              "#ed7953"
             ],
             [
              0.7777777777777778,
              "#fb9f3a"
             ],
             [
              0.8888888888888888,
              "#fdca26"
             ],
             [
              1,
              "#f0f921"
             ]
            ],
            "type": "surface"
           }
          ],
          "table": [
           {
            "cells": {
             "fill": {
              "color": "#EBF0F8"
             },
             "line": {
              "color": "white"
             }
            },
            "header": {
             "fill": {
              "color": "#C8D4E3"
             },
             "line": {
              "color": "white"
             }
            },
            "type": "table"
           }
          ]
         },
         "layout": {
          "annotationdefaults": {
           "arrowcolor": "#2a3f5f",
           "arrowhead": 0,
           "arrowwidth": 1
          },
          "autotypenumbers": "strict",
          "coloraxis": {
           "colorbar": {
            "outlinewidth": 0,
            "ticks": ""
           }
          },
          "colorscale": {
           "diverging": [
            [
             0,
             "#8e0152"
            ],
            [
             0.1,
             "#c51b7d"
            ],
            [
             0.2,
             "#de77ae"
            ],
            [
             0.3,
             "#f1b6da"
            ],
            [
             0.4,
             "#fde0ef"
            ],
            [
             0.5,
             "#f7f7f7"
            ],
            [
             0.6,
             "#e6f5d0"
            ],
            [
             0.7,
             "#b8e186"
            ],
            [
             0.8,
             "#7fbc41"
            ],
            [
             0.9,
             "#4d9221"
            ],
            [
             1,
             "#276419"
            ]
           ],
           "sequential": [
            [
             0,
             "#0d0887"
            ],
            [
             0.1111111111111111,
             "#46039f"
            ],
            [
             0.2222222222222222,
             "#7201a8"
            ],
            [
             0.3333333333333333,
             "#9c179e"
            ],
            [
             0.4444444444444444,
             "#bd3786"
            ],
            [
             0.5555555555555556,
             "#d8576b"
            ],
            [
             0.6666666666666666,
             "#ed7953"
            ],
            [
             0.7777777777777778,
             "#fb9f3a"
            ],
            [
             0.8888888888888888,
             "#fdca26"
            ],
            [
             1,
             "#f0f921"
            ]
           ],
           "sequentialminus": [
            [
             0,
             "#0d0887"
            ],
            [
             0.1111111111111111,
             "#46039f"
            ],
            [
             0.2222222222222222,
             "#7201a8"
            ],
            [
             0.3333333333333333,
             "#9c179e"
            ],
            [
             0.4444444444444444,
             "#bd3786"
            ],
            [
             0.5555555555555556,
             "#d8576b"
            ],
            [
             0.6666666666666666,
             "#ed7953"
            ],
            [
             0.7777777777777778,
             "#fb9f3a"
            ],
            [
             0.8888888888888888,
             "#fdca26"
            ],
            [
             1,
             "#f0f921"
            ]
           ]
          },
          "colorway": [
           "#636efa",
           "#EF553B",
           "#00cc96",
           "#ab63fa",
           "#FFA15A",
           "#19d3f3",
           "#FF6692",
           "#B6E880",
           "#FF97FF",
           "#FECB52"
          ],
          "font": {
           "color": "#2a3f5f"
          },
          "geo": {
           "bgcolor": "white",
           "lakecolor": "white",
           "landcolor": "#E5ECF6",
           "showlakes": true,
           "showland": true,
           "subunitcolor": "white"
          },
          "hoverlabel": {
           "align": "left"
          },
          "hovermode": "closest",
          "mapbox": {
           "style": "light"
          },
          "paper_bgcolor": "white",
          "plot_bgcolor": "#E5ECF6",
          "polar": {
           "angularaxis": {
            "gridcolor": "white",
            "linecolor": "white",
            "ticks": ""
           },
           "bgcolor": "#E5ECF6",
           "radialaxis": {
            "gridcolor": "white",
            "linecolor": "white",
            "ticks": ""
           }
          },
          "scene": {
           "xaxis": {
            "backgroundcolor": "#E5ECF6",
            "gridcolor": "white",
            "gridwidth": 2,
            "linecolor": "white",
            "showbackground": true,
            "ticks": "",
            "zerolinecolor": "white"
           },
           "yaxis": {
            "backgroundcolor": "#E5ECF6",
            "gridcolor": "white",
            "gridwidth": 2,
            "linecolor": "white",
            "showbackground": true,
            "ticks": "",
            "zerolinecolor": "white"
           },
           "zaxis": {
            "backgroundcolor": "#E5ECF6",
            "gridcolor": "white",
            "gridwidth": 2,
            "linecolor": "white",
            "showbackground": true,
            "ticks": "",
            "zerolinecolor": "white"
           }
          },
          "shapedefaults": {
           "line": {
            "color": "#2a3f5f"
           }
          },
          "ternary": {
           "aaxis": {
            "gridcolor": "white",
            "linecolor": "white",
            "ticks": ""
           },
           "baxis": {
            "gridcolor": "white",
            "linecolor": "white",
            "ticks": ""
           },
           "bgcolor": "#E5ECF6",
           "caxis": {
            "gridcolor": "white",
            "linecolor": "white",
            "ticks": ""
           }
          },
          "title": {
           "x": 0.05
          },
          "xaxis": {
           "automargin": true,
           "gridcolor": "white",
           "linecolor": "white",
           "ticks": "",
           "title": {
            "standoff": 15
           },
           "zerolinecolor": "white",
           "zerolinewidth": 2
          },
          "yaxis": {
           "automargin": true,
           "gridcolor": "white",
           "linecolor": "white",
           "ticks": "",
           "title": {
            "standoff": 15
           },
           "zerolinecolor": "white",
           "zerolinewidth": 2
          }
         }
        },
        "xaxis": {
         "anchor": "y",
         "domain": [
          0,
          1
         ],
         "title": {
          "text": "Years"
         }
        },
        "yaxis": {
         "anchor": "x",
         "domain": [
          0,
          1
         ],
         "title": {
          "text": "Total_Deaths_Drunk"
         }
        }
       }
      }
     },
     "metadata": {},
     "output_type": "display_data"
    }
   ],
   "source": [
    "fig = px.scatter(df_Municipio_Deaths, x=\"Years\", y=\"Total_Deaths_Drunk\", color=\"Nombre_Municipio\")\n",
    "fig.show()"
   ]
  },
  {
   "cell_type": "code",
   "execution_count": 78,
   "metadata": {},
   "outputs": [
    {
     "data": {
      "text/html": [
       "<div>\n",
       "<style scoped>\n",
       "    .dataframe tbody tr th:only-of-type {\n",
       "        vertical-align: middle;\n",
       "    }\n",
       "\n",
       "    .dataframe tbody tr th {\n",
       "        vertical-align: top;\n",
       "    }\n",
       "\n",
       "    .dataframe thead th {\n",
       "        text-align: right;\n",
       "    }\n",
       "</style>\n",
       "<table border=\"1\" class=\"dataframe\">\n",
       "  <thead>\n",
       "    <tr style=\"text-align: right;\">\n",
       "      <th></th>\n",
       "      <th>Years</th>\n",
       "      <th>Id_Municipio</th>\n",
       "      <th>Total_Deaths</th>\n",
       "      <th>Total_Deaths_Drunk</th>\n",
       "      <th>Total_Injury</th>\n",
       "      <th>Total_Injury_Drunk</th>\n",
       "      <th>Nombre_Municipio</th>\n",
       "      <th>Poblacion</th>\n",
       "    </tr>\n",
       "  </thead>\n",
       "  <tbody>\n",
       "    <tr>\n",
       "      <th>0</th>\n",
       "      <td>1997</td>\n",
       "      <td>1</td>\n",
       "      <td>0</td>\n",
       "      <td>0</td>\n",
       "      <td>0</td>\n",
       "      <td>0</td>\n",
       "      <td>Aconchi</td>\n",
       "      <td>2420</td>\n",
       "    </tr>\n",
       "    <tr>\n",
       "      <th>1</th>\n",
       "      <td>1997</td>\n",
       "      <td>2</td>\n",
       "      <td>0</td>\n",
       "      <td>0</td>\n",
       "      <td>0</td>\n",
       "      <td>0</td>\n",
       "      <td>Agua Prieta</td>\n",
       "      <td>61944</td>\n",
       "    </tr>\n",
       "    <tr>\n",
       "      <th>2</th>\n",
       "      <td>1997</td>\n",
       "      <td>3</td>\n",
       "      <td>4</td>\n",
       "      <td>1</td>\n",
       "      <td>21</td>\n",
       "      <td>6</td>\n",
       "      <td>Alamos</td>\n",
       "      <td>25152</td>\n",
       "    </tr>\n",
       "    <tr>\n",
       "      <th>3</th>\n",
       "      <td>1997</td>\n",
       "      <td>4</td>\n",
       "      <td>0</td>\n",
       "      <td>0</td>\n",
       "      <td>1</td>\n",
       "      <td>0</td>\n",
       "      <td>Altar</td>\n",
       "      <td>7253</td>\n",
       "    </tr>\n",
       "    <tr>\n",
       "      <th>4</th>\n",
       "      <td>1997</td>\n",
       "      <td>5</td>\n",
       "      <td>1</td>\n",
       "      <td>0</td>\n",
       "      <td>0</td>\n",
       "      <td>0</td>\n",
       "      <td>Arivechi</td>\n",
       "      <td>1484</td>\n",
       "    </tr>\n",
       "    <tr>\n",
       "      <th>5</th>\n",
       "      <td>1997</td>\n",
       "      <td>6</td>\n",
       "      <td>2</td>\n",
       "      <td>0</td>\n",
       "      <td>5</td>\n",
       "      <td>1</td>\n",
       "      <td>Arizpe</td>\n",
       "      <td>3396</td>\n",
       "    </tr>\n",
       "    <tr>\n",
       "      <th>6</th>\n",
       "      <td>1997</td>\n",
       "      <td>7</td>\n",
       "      <td>0</td>\n",
       "      <td>0</td>\n",
       "      <td>0</td>\n",
       "      <td>0</td>\n",
       "      <td>Atil</td>\n",
       "      <td>718</td>\n",
       "    </tr>\n",
       "    <tr>\n",
       "      <th>7</th>\n",
       "      <td>1997</td>\n",
       "      <td>8</td>\n",
       "      <td>0</td>\n",
       "      <td>0</td>\n",
       "      <td>0</td>\n",
       "      <td>0</td>\n",
       "      <td>Bacadéhuachi</td>\n",
       "      <td>1348</td>\n",
       "    </tr>\n",
       "    <tr>\n",
       "      <th>8</th>\n",
       "      <td>1997</td>\n",
       "      <td>9</td>\n",
       "      <td>0</td>\n",
       "      <td>0</td>\n",
       "      <td>0</td>\n",
       "      <td>0</td>\n",
       "      <td>Bacanora</td>\n",
       "      <td>943</td>\n",
       "    </tr>\n",
       "    <tr>\n",
       "      <th>9</th>\n",
       "      <td>1997</td>\n",
       "      <td>10</td>\n",
       "      <td>0</td>\n",
       "      <td>0</td>\n",
       "      <td>0</td>\n",
       "      <td>0</td>\n",
       "      <td>Bacerac</td>\n",
       "      <td>1366</td>\n",
       "    </tr>\n",
       "    <tr>\n",
       "      <th>10</th>\n",
       "      <td>1997</td>\n",
       "      <td>11</td>\n",
       "      <td>1</td>\n",
       "      <td>0</td>\n",
       "      <td>1</td>\n",
       "      <td>0</td>\n",
       "      <td>Bacoachi</td>\n",
       "      <td>1496</td>\n",
       "    </tr>\n",
       "    <tr>\n",
       "      <th>11</th>\n",
       "      <td>1997</td>\n",
       "      <td>12</td>\n",
       "      <td>0</td>\n",
       "      <td>0</td>\n",
       "      <td>2</td>\n",
       "      <td>0</td>\n",
       "      <td>Bácum</td>\n",
       "      <td>21322</td>\n",
       "    </tr>\n",
       "    <tr>\n",
       "      <th>12</th>\n",
       "      <td>1997</td>\n",
       "      <td>13</td>\n",
       "      <td>2</td>\n",
       "      <td>0</td>\n",
       "      <td>0</td>\n",
       "      <td>0</td>\n",
       "      <td>Banámichi</td>\n",
       "      <td>1484</td>\n",
       "    </tr>\n",
       "    <tr>\n",
       "      <th>13</th>\n",
       "      <td>1997</td>\n",
       "      <td>14</td>\n",
       "      <td>2</td>\n",
       "      <td>0</td>\n",
       "      <td>2</td>\n",
       "      <td>0</td>\n",
       "      <td>Baviácora</td>\n",
       "      <td>3724</td>\n",
       "    </tr>\n",
       "    <tr>\n",
       "      <th>14</th>\n",
       "      <td>1997</td>\n",
       "      <td>15</td>\n",
       "      <td>0</td>\n",
       "      <td>0</td>\n",
       "      <td>0</td>\n",
       "      <td>0</td>\n",
       "      <td>Bavispe</td>\n",
       "      <td>1377</td>\n",
       "    </tr>\n",
       "    <tr>\n",
       "      <th>15</th>\n",
       "      <td>1997</td>\n",
       "      <td>16</td>\n",
       "      <td>0</td>\n",
       "      <td>0</td>\n",
       "      <td>2</td>\n",
       "      <td>0</td>\n",
       "      <td>Benjamín Hill</td>\n",
       "      <td>5732</td>\n",
       "    </tr>\n",
       "    <tr>\n",
       "      <th>16</th>\n",
       "      <td>1997</td>\n",
       "      <td>17</td>\n",
       "      <td>19</td>\n",
       "      <td>0</td>\n",
       "      <td>365</td>\n",
       "      <td>8</td>\n",
       "      <td>Caborca</td>\n",
       "      <td>69516</td>\n",
       "    </tr>\n",
       "    <tr>\n",
       "      <th>17</th>\n",
       "      <td>1997</td>\n",
       "      <td>18</td>\n",
       "      <td>34</td>\n",
       "      <td>1</td>\n",
       "      <td>1240</td>\n",
       "      <td>45</td>\n",
       "      <td>Cajeme</td>\n",
       "      <td>356290</td>\n",
       "    </tr>\n",
       "    <tr>\n",
       "      <th>18</th>\n",
       "      <td>1997</td>\n",
       "      <td>19</td>\n",
       "      <td>0</td>\n",
       "      <td>0</td>\n",
       "      <td>22</td>\n",
       "      <td>1</td>\n",
       "      <td>Cananea</td>\n",
       "      <td>32061</td>\n",
       "    </tr>\n",
       "    <tr>\n",
       "      <th>19</th>\n",
       "      <td>1997</td>\n",
       "      <td>20</td>\n",
       "      <td>7</td>\n",
       "      <td>0</td>\n",
       "      <td>47</td>\n",
       "      <td>0</td>\n",
       "      <td>Carbó</td>\n",
       "      <td>4984</td>\n",
       "    </tr>\n",
       "  </tbody>\n",
       "</table>\n",
       "</div>"
      ],
      "text/plain": [
       "    Years  Id_Municipio  Total_Deaths  Total_Deaths_Drunk  Total_Injury  \\\n",
       "0    1997             1             0                   0             0   \n",
       "1    1997             2             0                   0             0   \n",
       "2    1997             3             4                   1            21   \n",
       "3    1997             4             0                   0             1   \n",
       "4    1997             5             1                   0             0   \n",
       "5    1997             6             2                   0             5   \n",
       "6    1997             7             0                   0             0   \n",
       "7    1997             8             0                   0             0   \n",
       "8    1997             9             0                   0             0   \n",
       "9    1997            10             0                   0             0   \n",
       "10   1997            11             1                   0             1   \n",
       "11   1997            12             0                   0             2   \n",
       "12   1997            13             2                   0             0   \n",
       "13   1997            14             2                   0             2   \n",
       "14   1997            15             0                   0             0   \n",
       "15   1997            16             0                   0             2   \n",
       "16   1997            17            19                   0           365   \n",
       "17   1997            18            34                   1          1240   \n",
       "18   1997            19             0                   0            22   \n",
       "19   1997            20             7                   0            47   \n",
       "\n",
       "    Total_Injury_Drunk Nombre_Municipio  Poblacion  \n",
       "0                    0          Aconchi       2420  \n",
       "1                    0      Agua Prieta      61944  \n",
       "2                    6           Alamos      25152  \n",
       "3                    0            Altar       7253  \n",
       "4                    0         Arivechi       1484  \n",
       "5                    1           Arizpe       3396  \n",
       "6                    0             Atil        718  \n",
       "7                    0     Bacadéhuachi       1348  \n",
       "8                    0         Bacanora        943  \n",
       "9                    0          Bacerac       1366  \n",
       "10                   0         Bacoachi       1496  \n",
       "11                   0            Bácum      21322  \n",
       "12                   0        Banámichi       1484  \n",
       "13                   0        Baviácora       3724  \n",
       "14                   0          Bavispe       1377  \n",
       "15                   0    Benjamín Hill       5732  \n",
       "16                   8          Caborca      69516  \n",
       "17                  45           Cajeme     356290  \n",
       "18                   1          Cananea      32061  \n",
       "19                   0            Carbó       4984  "
      ]
     },
     "execution_count": 78,
     "metadata": {},
     "output_type": "execute_result"
    }
   ],
   "source": [
    "df_Municipio_Deaths[df_Municipio_Deaths[\"Years\"] == 1997].head(20)"
   ]
  },
  {
   "cell_type": "code",
   "execution_count": 19,
   "metadata": {
    "colab": {
     "base_uri": "https://localhost:8080/",
     "height": 345
    },
    "id": "LrYM-5Bbvg9W",
    "outputId": "fcce4a8c-7286-4251-ab19-d6baa49f0549"
   },
   "outputs": [
    {
     "data": {
      "image/png": "[encoded data removed]",
      "text/plain": [
       "<Figure size 1152x720 with 2 Axes>"
      ]
     },
     "metadata": {
      "needs_background": "light"
     },
     "output_type": "display_data"
    }
   ],
   "source": [
    "# Correlation matrix \n",
    "# df_Sonora_Tidy = df_Sonora_Complete.copy()\n",
    "df_Sonora_Tidy = df_Sonora_Complete.copy()\n",
    "# One Hot Encoding for \"Causa Accidente\"\n",
    "label_encoder = LabelEncoder()\n",
    "df_Sonora_Tidy[\"Causa_Accidente\"] = label_encoder.fit_transform(df_Sonora_Tidy[\"CAUSAACCI\"])\n",
    "df_Sonora_Tidy[\"Alcohol\"] = label_encoder.fit_transform(df_Sonora_Tidy[\"ALIENTO\"])\n",
    "df_Sonora_Tidy[\"Tipo_Accidente\"] = label_encoder.fit_transform(df_Sonora_Tidy[\"TIPACCID\"])\n",
    "df_Sonora_Tidy[\"Sexo_Fuga\"] = label_encoder.fit_transform(df_Sonora_Tidy[\"SEXO\"])\n",
    "df_Sonora_Tidy[\"Cinturon\"] = label_encoder.fit_transform(df_Sonora_Tidy[\"CINTURON\"])\n",
    "\n",
    "df_Sonora_Tidy = df_Sonora_Tidy[[\"ID_MUNICIPIO\",\"ANIO\",\"MES\",\"Causa_Accidente\",\"Alcohol\", \"ID_EDAD\", \"Total_Muertos\", \"Tipo_Accidente\", \"Sexo_Fuga\", \"Cinturon\"]]\n",
    "\n",
    "plt.figure(figsize=(16,10))\n",
    "sn.heatmap(df_Sonora_Tidy.corr(), annot=True, linewidth=.5, fmt=\".2f\")\n",
    "plt.show()"
   ]
  },
  {
   "cell_type": "markdown",
   "metadata": {},
   "source": [
    "## Correlacion\n",
    "\n",
    "Una vez analizado a traves de un diagrama de pearson, encontré algunas relaciones interesantes, entonces procederé a realziar un analisis rapido de las variables relacionadas.\n",
    "- Año VS Edad\n",
    "- Causa Accidente VS Año\n",
    "- Año VS Uso del cinturon\n",
    "- Edad VS Sexo"
   ]
  },
  {
   "cell_type": "code",
   "execution_count": 87,
   "metadata": {},
   "outputs": [
    {
     "data": {
      "text/plain": [
       "Text(0.5, 1.0, 'Accidentes de Trnasito por EDAD en Sonora')"
      ]
     },
     "execution_count": 87,
     "metadata": {},
     "output_type": "execute_result"
    },
    {
     "data": {
      "image/png": "[encoded data removed]",
      "text/plain": [
       "<Figure size 1800x720 with 1 Axes>"
      ]
     },
     "metadata": {
      "needs_background": "light"
     },
     "output_type": "display_data"
    }
   ],
   "source": [
    "# Remove 0 and 99 from the data\n",
    "df_Sonora_Edad_vs_Anio = df_Sonora[(df_Sonora.ID_EDAD != 0) & (df_Sonora.ID_EDAD != 99)]\n",
    "plt.figure(figsize=(25,10))\n",
    "ax = sns.boxplot(x=\"ANIO\", y =\"ID_EDAD\", data = df_Sonora_Edad_vs_Anio)\n",
    "plt.title(\"Accidentes de Trnasito por EDAD en Sonora\")\n",
    "# plt.boxplot(df_Sonora_Edad_vs_Anio[\"ID_EDAD\"], vert=False, patch_artist=True)\n",
    "# plt.show()"
   ]
  },
  {
   "cell_type": "code",
   "execution_count": 21,
   "metadata": {},
   "outputs": [
    {
     "data": {
      "text/plain": [
       "Text(0.5, 1.0, 'Causa accidentes de Trnasito por año en Sonora')"
      ]
     },
     "execution_count": 21,
     "metadata": {},
     "output_type": "execute_result"
    },
    {
     "data": {
      "image/png": "[encoded data removed]",
      "text/plain": [
       "<Figure size 1800x720 with 1 Axes>"
      ]
     },
     "metadata": {
      "needs_background": "light"
     },
     "output_type": "display_data"
    }
   ],
   "source": [
    "plt.figure(figsize=(25,10))\n",
    "ax = sns.boxplot(x=\"CAUSAACCI\", y =\"ANIO\", data = df_Sonora_Complete[(df_Sonora.ID_EDAD != 0) & (df_Sonora.ID_EDAD != 99)])\n",
    "plt.title(\"Causa accidentes de Trnasito por año en Sonora\")"
   ]
  },
  {
   "cell_type": "markdown",
   "metadata": {},
   "source": [
    "Vamos a analizar la distribucion de los datos con personas alcolizadas"
   ]
  },
  {
   "cell_type": "code",
   "execution_count": 16,
   "metadata": {},
   "outputs": [
    {
     "data": {
      "text/plain": [
       "Text(0.5, 1.0, 'Accidentes de Trnasito por EDAD y con aliento Alcholico en Sonora')"
      ]
     },
     "execution_count": 16,
     "metadata": {},
     "output_type": "execute_result"
    },
    {
     "data": {
      "image/png": "[encoded data removed]",
      "text/plain": [
       "<Figure size 1440x720 with 1 Axes>"
      ]
     },
     "metadata": {
      "needs_background": "light"
     },
     "output_type": "display_data"
    }
   ],
   "source": [
    "# Remove 0  and 99 from the data\n",
    "df_Sonora_Edad_vs_Anio = df_Sonora_Complete[(df_Sonora_Complete.ID_EDAD != 0) & (df_Sonora_Complete.ID_EDAD != 99) & (df_Sonora_Complete[\"ALIENTO\"] == \"Sí\")]\n",
    "plt.figure(figsize=(20,10))\n",
    "ax = sns.boxplot(x=\"ANIO\", y =\"ID_EDAD\", data = df_Sonora_Edad_vs_Anio)\n",
    "plt.title(\"Accidentes de Trnasito por EDAD y con aliento Alcholico en Sonora\")"
   ]
  },
  {
   "cell_type": "code",
   "execution_count": 18,
   "metadata": {},
   "outputs": [
    {
     "data": {
      "text/plain": [
       "Text(0.5, 1.0, 'Accidentes de Trnasito por EDAD y con aliento Alcholico con al menos 1 persona muerta en Sonora')"
      ]
     },
     "execution_count": 18,
     "metadata": {},
     "output_type": "execute_result"
    },
    {
     "data": {
      "image/png": "[encoded data removed]",
      "text/plain": [
       "<Figure size 1440x720 with 1 Axes>"
      ]
     },
     "metadata": {
      "needs_background": "light"
     },
     "output_type": "display_data"
    }
   ],
   "source": [
    "# Remove 0  and 99 from the data\n",
    "df_Sonora_Edad_vs_Anio = df_Sonora_Complete[(df_Sonora_Complete.ID_EDAD != 0) & (df_Sonora_Complete.ID_EDAD != 99) & (df_Sonora_Complete[\"ALIENTO\"] == \"Sí\") & (df_Sonora_Complete[\"Total_Muertos\"] >= 1)]\n",
    "plt.figure(figsize=(20,10))\n",
    "ax = sns.boxplot(x=\"ANIO\", y =\"ID_EDAD\", data = df_Sonora_Edad_vs_Anio)\n",
    "plt.title(\"Accidentes de Trnasito por EDAD y con aliento Alcholico con al menos 1 persona muerta en Sonora\")\n",
    "# plt.boxplot(df_Sonora_Edad_vs_Anio[\"ID_EDAD\"], vert=False, patch_artist=True)\n",
    "# plt.show()"
   ]
  },
  {
   "cell_type": "code",
   "execution_count": 10,
   "metadata": {},
   "outputs": [],
   "source": [
    "# Personas muertas por accidentes por alcohol\n",
    "\n",
    "df_temp1 = df_Sonora_Complete[(df_Sonora_Complete.ID_EDAD != 0) & (df_Sonora_Complete.ID_EDAD != 99) & (df_Sonora_Complete[\"Total_Muertos\"] >= 1)]\n",
    "df_temp2 = df_Sonora_Complete[(df_Sonora_Complete.ID_EDAD != 0) & (df_Sonora_Complete.ID_EDAD != 99) & (df_Sonora_Complete[\"ALIENTO\"] == \"Sí\") & (df_Sonora_Complete[\"Total_Muertos\"] >= 1)]\n",
    "\n",
    "df_temp1 = df_temp1.groupby(\"ANIO\").agg({\n",
    "    \"Total_Muertos\" : \"sum\"    \n",
    "})\n",
    "df_temp2 = df_temp2.groupby(\"ANIO\").agg({\n",
    "    \"Total_Muertos\" : \"sum\"    \n",
    "})\n",
    "\n",
    "df_temp1[\"Total_Muertos_Alcohol\"] = df_temp2[\"Total_Muertos\"]\n",
    "\n",
    "df_temp3 = df_temp1.copy()\n",
    "df_temp3[\"Total_Muertos_Otros\"] = df_temp1[\"Total_Muertos\"] - df_temp1[\"Total_Muertos_Alcohol\"]\n",
    "\n",
    "# plt.figure(figsize=(20,10))\n",
    "# ax = sns.boxplot(x=\"ANIO\", y =\"ID_EDAD\", data = df_Sonora_Edad_vs_Anio)\n",
    "# plt.title(\"Accidentes de Trnasito por EDAD y con aliento Alcholico con al menos 1 persona muerta en Sonora\")\n"
   ]
  },
  {
   "cell_type": "code",
   "execution_count": 11,
   "metadata": {},
   "outputs": [
    {
     "data": {
      "text/html": [
       "<div>\n",
       "<style scoped>\n",
       "    .dataframe tbody tr th:only-of-type {\n",
       "        vertical-align: middle;\n",
       "    }\n",
       "\n",
       "    .dataframe tbody tr th {\n",
       "        vertical-align: top;\n",
       "    }\n",
       "\n",
       "    .dataframe thead th {\n",
       "        text-align: right;\n",
       "    }\n",
       "</style>\n",
       "<table border=\"1\" class=\"dataframe\">\n",
       "  <thead>\n",
       "    <tr style=\"text-align: right;\">\n",
       "      <th></th>\n",
       "      <th>Total_Muertos</th>\n",
       "      <th>Total_Muertos_Alcohol</th>\n",
       "      <th>Total_Muertos_Otros</th>\n",
       "    </tr>\n",
       "    <tr>\n",
       "      <th>ANIO</th>\n",
       "      <th></th>\n",
       "      <th></th>\n",
       "      <th></th>\n",
       "    </tr>\n",
       "  </thead>\n",
       "  <tbody>\n",
       "    <tr>\n",
       "      <th>1997</th>\n",
       "      <td>151</td>\n",
       "      <td>11</td>\n",
       "      <td>140</td>\n",
       "    </tr>\n",
       "    <tr>\n",
       "      <th>1998</th>\n",
       "      <td>154</td>\n",
       "      <td>31</td>\n",
       "      <td>123</td>\n",
       "    </tr>\n",
       "    <tr>\n",
       "      <th>1999</th>\n",
       "      <td>237</td>\n",
       "      <td>28</td>\n",
       "      <td>209</td>\n",
       "    </tr>\n",
       "    <tr>\n",
       "      <th>2000</th>\n",
       "      <td>255</td>\n",
       "      <td>29</td>\n",
       "      <td>226</td>\n",
       "    </tr>\n",
       "    <tr>\n",
       "      <th>2001</th>\n",
       "      <td>251</td>\n",
       "      <td>33</td>\n",
       "      <td>218</td>\n",
       "    </tr>\n",
       "    <tr>\n",
       "      <th>2002</th>\n",
       "      <td>231</td>\n",
       "      <td>50</td>\n",
       "      <td>181</td>\n",
       "    </tr>\n",
       "    <tr>\n",
       "      <th>2003</th>\n",
       "      <td>189</td>\n",
       "      <td>29</td>\n",
       "      <td>160</td>\n",
       "    </tr>\n",
       "    <tr>\n",
       "      <th>2004</th>\n",
       "      <td>212</td>\n",
       "      <td>40</td>\n",
       "      <td>172</td>\n",
       "    </tr>\n",
       "    <tr>\n",
       "      <th>2005</th>\n",
       "      <td>209</td>\n",
       "      <td>32</td>\n",
       "      <td>177</td>\n",
       "    </tr>\n",
       "    <tr>\n",
       "      <th>2006</th>\n",
       "      <td>257</td>\n",
       "      <td>47</td>\n",
       "      <td>210</td>\n",
       "    </tr>\n",
       "    <tr>\n",
       "      <th>2007</th>\n",
       "      <td>378</td>\n",
       "      <td>74</td>\n",
       "      <td>304</td>\n",
       "    </tr>\n",
       "    <tr>\n",
       "      <th>2008</th>\n",
       "      <td>277</td>\n",
       "      <td>49</td>\n",
       "      <td>228</td>\n",
       "    </tr>\n",
       "    <tr>\n",
       "      <th>2009</th>\n",
       "      <td>250</td>\n",
       "      <td>52</td>\n",
       "      <td>198</td>\n",
       "    </tr>\n",
       "    <tr>\n",
       "      <th>2010</th>\n",
       "      <td>242</td>\n",
       "      <td>61</td>\n",
       "      <td>181</td>\n",
       "    </tr>\n",
       "    <tr>\n",
       "      <th>2011</th>\n",
       "      <td>225</td>\n",
       "      <td>60</td>\n",
       "      <td>165</td>\n",
       "    </tr>\n",
       "    <tr>\n",
       "      <th>2012</th>\n",
       "      <td>253</td>\n",
       "      <td>60</td>\n",
       "      <td>193</td>\n",
       "    </tr>\n",
       "    <tr>\n",
       "      <th>2013</th>\n",
       "      <td>208</td>\n",
       "      <td>37</td>\n",
       "      <td>171</td>\n",
       "    </tr>\n",
       "    <tr>\n",
       "      <th>2014</th>\n",
       "      <td>185</td>\n",
       "      <td>28</td>\n",
       "      <td>157</td>\n",
       "    </tr>\n",
       "    <tr>\n",
       "      <th>2015</th>\n",
       "      <td>172</td>\n",
       "      <td>35</td>\n",
       "      <td>137</td>\n",
       "    </tr>\n",
       "    <tr>\n",
       "      <th>2016</th>\n",
       "      <td>208</td>\n",
       "      <td>24</td>\n",
       "      <td>184</td>\n",
       "    </tr>\n",
       "    <tr>\n",
       "      <th>2017</th>\n",
       "      <td>175</td>\n",
       "      <td>23</td>\n",
       "      <td>152</td>\n",
       "    </tr>\n",
       "    <tr>\n",
       "      <th>2018</th>\n",
       "      <td>170</td>\n",
       "      <td>16</td>\n",
       "      <td>154</td>\n",
       "    </tr>\n",
       "    <tr>\n",
       "      <th>2019</th>\n",
       "      <td>145</td>\n",
       "      <td>14</td>\n",
       "      <td>131</td>\n",
       "    </tr>\n",
       "    <tr>\n",
       "      <th>2020</th>\n",
       "      <td>146</td>\n",
       "      <td>18</td>\n",
       "      <td>128</td>\n",
       "    </tr>\n",
       "    <tr>\n",
       "      <th>2021</th>\n",
       "      <td>118</td>\n",
       "      <td>25</td>\n",
       "      <td>93</td>\n",
       "    </tr>\n",
       "  </tbody>\n",
       "</table>\n",
       "</div>"
      ],
      "text/plain": [
       "      Total_Muertos  Total_Muertos_Alcohol  Total_Muertos_Otros\n",
       "ANIO                                                           \n",
       "1997            151                     11                  140\n",
       "1998            154                     31                  123\n",
       "1999            237                     28                  209\n",
       "2000            255                     29                  226\n",
       "2001            251                     33                  218\n",
       "2002            231                     50                  181\n",
       "2003            189                     29                  160\n",
       "2004            212                     40                  172\n",
       "2005            209                     32                  177\n",
       "2006            257                     47                  210\n",
       "2007            378                     74                  304\n",
       "2008            277                     49                  228\n",
       "2009            250                     52                  198\n",
       "2010            242                     61                  181\n",
       "2011            225                     60                  165\n",
       "2012            253                     60                  193\n",
       "2013            208                     37                  171\n",
       "2014            185                     28                  157\n",
       "2015            172                     35                  137\n",
       "2016            208                     24                  184\n",
       "2017            175                     23                  152\n",
       "2018            170                     16                  154\n",
       "2019            145                     14                  131\n",
       "2020            146                     18                  128\n",
       "2021            118                     25                   93"
      ]
     },
     "execution_count": 11,
     "metadata": {},
     "output_type": "execute_result"
    }
   ],
   "source": [
    "df_temp3"
   ]
  },
  {
   "cell_type": "code",
   "execution_count": 23,
   "metadata": {},
   "outputs": [
    {
     "data": {
      "application/vnd.plotly.v1+json": {
       "config": {
        "plotlyServerURL": "https://plot.ly"
       },
       "data": [
        {
         "marker": {
          "color": "lightsalmon"
         },
         "name": "Total Muertos",
         "type": "bar",
         "x": [
          1997,
          1998,
          1999,
          2000,
          2001,
          2002,
          2003,
          2004
         ],
         "y": [
          140,
          123,
          209,
          226,
          218,
          181,
          160,
          172,
          177,
          210,
          304,
          228,
          198,
          181,
          165,
          193,
          171,
          157,
          137,
          184,
          152,
          154,
          131,
          128,
          93
         ]
        },
        {
         "marker": {
          "color": "indianred"
         },
         "name": "Total Muertos Alcohol",
         "type": "bar",
         "x": [
          1997,
          1998,
          1999,
          2000,
          2001,
          2002,
          2003,
          2004
         ],
         "y": [
          11,
          31,
          28,
          29,
          33,
          50,
          29,
          40,
          32,
          47,
          74,
          49,
          52,
          61,
          60,
          60,
          37,
          28,
          35,
          24,
          23,
          16,
          14,
          18,
          25
         ]
        }
       ],
       "layout": {
        "barmode": "group",
        "template": {
         "data": {
          "bar": [
           {
            "error_x": {
             "color": "#2a3f5f"
            },
            "error_y": {
             "color": "#2a3f5f"
            },
            "marker": {
             "line": {
              "color": "#E5ECF6",
              "width": 0.5
             },
             "pattern": {
              "fillmode": "overlay",
              "size": 10,
              "solidity": 0.2
             }
            },
            "type": "bar"
           }
          ],
          "barpolar": [
           {
            "marker": {
             "line": {
              "color": "#E5ECF6",
              "width": 0.5
             },
             "pattern": {
              "fillmode": "overlay",
              "size": 10,
              "solidity": 0.2
             }
            },
            "type": "barpolar"
           }
          ],
          "carpet": [
           {
            "aaxis": {
             "endlinecolor": "#2a3f5f",
             "gridcolor": "white",
             "linecolor": "white",
             "minorgridcolor": "white",
             "startlinecolor": "#2a3f5f"
            },
            "baxis": {
             "endlinecolor": "#2a3f5f",
             "gridcolor": "white",
             "linecolor": "white",
             "minorgridcolor": "white",
             "startlinecolor": "#2a3f5f"
            },
            "type": "carpet"
           }
          ],
          "choropleth": [
           {
            "colorbar": {
             "outlinewidth": 0,
             "ticks": ""
            },
            "type": "choropleth"
           }
          ],
          "contour": [
           {
            "colorbar": {
             "outlinewidth": 0,
             "ticks": ""
            },
            "colorscale": [
             [
              0,
              "#0d0887"
             ],
             [
              0.1111111111111111,
              "#46039f"
             ],
             [
              0.2222222222222222,
              "#7201a8"
             ],
             [
              0.3333333333333333,
              "#9c179e"
             ],
             [
              0.4444444444444444,
              "#bd3786"
             ],
             [
              0.5555555555555556,
              "#d8576b"
             ],
             [
              0.6666666666666666,
              "#ed7953"
             ],
             [
              0.7777777777777778,
              "#fb9f3a"
             ],
             [
              0.8888888888888888,
              "#fdca26"
             ],
             [
              1,
              "#f0f921"
             ]
            ],
            "type": "contour"
           }
          ],
          "contourcarpet": [
           {
            "colorbar": {
             "outlinewidth": 0,
             "ticks": ""
            },
            "type": "contourcarpet"
           }
          ],
          "heatmap": [
           {
            "colorbar": {
             "outlinewidth": 0,
             "ticks": ""
            },
            "colorscale": [
             [
              0,
              "#0d0887"
             ],
             [
              0.1111111111111111,
              "#46039f"
             ],
             [
              0.2222222222222222,
              "#7201a8"
             ],
             [
              0.3333333333333333,
              "#9c179e"
             ],
             [
              0.4444444444444444,
              "#bd3786"
             ],
             [
              0.5555555555555556,
              "#d8576b"
             ],
             [
              0.6666666666666666,
              "#ed7953"
             ],
             [
              0.7777777777777778,
              "#fb9f3a"
             ],
             [
              0.8888888888888888,
              "#fdca26"
             ],
             [
              1,
              "#f0f921"
             ]
            ],
            "type": "heatmap"
           }
          ],
          "heatmapgl": [
           {
            "colorbar": {
             "outlinewidth": 0,
             "ticks": ""
            },
            "colorscale": [
             [
              0,
              "#0d0887"
             ],
             [
              0.1111111111111111,
              "#46039f"
             ],
             [
              0.2222222222222222,
              "#7201a8"
             ],
             [
              0.3333333333333333,
              "#9c179e"
             ],
             [
              0.4444444444444444,
              "#bd3786"
             ],
             [
              0.5555555555555556,
              "#d8576b"
             ],
             [
              0.6666666666666666,
              "#ed7953"
             ],
             [
              0.7777777777777778,
              "#fb9f3a"
             ],
             [
              0.8888888888888888,
              "#fdca26"
             ],
             [
              1,
              "#f0f921"
             ]
            ],
            "type": "heatmapgl"
           }
          ],
          "histogram": [
           {
            "marker": {
             "pattern": {
              "fillmode": "overlay",
              "size": 10,
              "solidity": 0.2
             }
            },
            "type": "histogram"
           }
          ],
          "histogram2d": [
           {
            "colorbar": {
             "outlinewidth": 0,
             "ticks": ""
            },
            "colorscale": [
             [
              0,
              "#0d0887"
             ],
             [
              0.1111111111111111,
              "#46039f"
             ],
             [
              0.2222222222222222,
              "#7201a8"
             ],
             [
              0.3333333333333333,
              "#9c179e"
             ],
             [
              0.4444444444444444,
              "#bd3786"
             ],
             [
              0.5555555555555556,
              "#d8576b"
             ],
             [
              0.6666666666666666,
              "#ed7953"
             ],
             [
              0.7777777777777778,
              "#fb9f3a"
             ],
             [
              0.8888888888888888,
              "#fdca26"
             ],
             [
              1,
              "#f0f921"
             ]
            ],
            "type": "histogram2d"
           }
          ],
          "histogram2dcontour": [
           {
            "colorbar": {
             "outlinewidth": 0,
             "ticks": ""
            },
            "colorscale": [
             [
              0,
              "#0d0887"
             ],
             [
              0.1111111111111111,
              "#46039f"
             ],
             [
              0.2222222222222222,
              "#7201a8"
             ],
             [
              0.3333333333333333,
              "#9c179e"
             ],
             [
              0.4444444444444444,
              "#bd3786"
             ],
             [
              0.5555555555555556,
              "#d8576b"
             ],
             [
              0.6666666666666666,
              "#ed7953"
             ],
             [
              0.7777777777777778,
              "#fb9f3a"
             ],
             [
              0.8888888888888888,
              "#fdca26"
             ],
             [
              1,
              "#f0f921"
             ]
            ],
            "type": "histogram2dcontour"
           }
          ],
          "mesh3d": [
           {
            "colorbar": {
             "outlinewidth": 0,
             "ticks": ""
            },
            "type": "mesh3d"
           }
          ],
          "parcoords": [
           {
            "line": {
             "colorbar": {
              "outlinewidth": 0,
              "ticks": ""
             }
            },
            "type": "parcoords"
           }
          ],
          "pie": [
           {
            "automargin": true,
            "type": "pie"
           }
          ],
          "scatter": [
           {
            "marker": {
             "colorbar": {
              "outlinewidth": 0,
              "ticks": ""
             }
            },
            "type": "scatter"
           }
          ],
          "scatter3d": [
           {
            "line": {
             "colorbar": {
              "outlinewidth": 0,
              "ticks": ""
             }
            },
            "marker": {
             "colorbar": {
              "outlinewidth": 0,
              "ticks": ""
             }
            },
            "type": "scatter3d"
           }
          ],
          "scattercarpet": [
           {
            "marker": {
             "colorbar": {
              "outlinewidth": 0,
              "ticks": ""
             }
            },
            "type": "scattercarpet"
           }
          ],
          "scattergeo": [
           {
            "marker": {
             "colorbar": {
              "outlinewidth": 0,
              "ticks": ""
             }
            },
            "type": "scattergeo"
           }
          ],
          "scattergl": [
           {
            "marker": {
             "colorbar": {
              "outlinewidth": 0,
              "ticks": ""
             }
            },
            "type": "scattergl"
           }
          ],
          "scattermapbox": [
           {
            "marker": {
             "colorbar": {
              "outlinewidth": 0,
              "ticks": ""
             }
            },
            "type": "scattermapbox"
           }
          ],
          "scatterpolar": [
           {
            "marker": {
             "colorbar": {
              "outlinewidth": 0,
              "ticks": ""
             }
            },
            "type": "scatterpolar"
           }
          ],
          "scatterpolargl": [
           {
            "marker": {
             "colorbar": {
              "outlinewidth": 0,
              "ticks": ""
             }
            },
            "type": "scatterpolargl"
           }
          ],
          "scatterternary": [
           {
            "marker": {
             "colorbar": {
              "outlinewidth": 0,
              "ticks": ""
             }
            },
            "type": "scatterternary"
           }
          ],
          "surface": [
           {
            "colorbar": {
             "outlinewidth": 0,
             "ticks": ""
            },
            "colorscale": [
             [
              0,
              "#0d0887"
             ],
             [
              0.1111111111111111,
              "#46039f"
             ],
             [
              0.2222222222222222,
              "#7201a8"
             ],
             [
              0.3333333333333333,
              "#9c179e"
             ],
             [
              0.4444444444444444,
              "#bd3786"
             ],
             [
              0.5555555555555556,
              "#d8576b"
             ],
             [
              0.6666666666666666,
              "#ed7953"
             ],
             [
              0.7777777777777778,
              "#fb9f3a"
             ],
             [
              0.8888888888888888,
              "#fdca26"
             ],
             [
              1,
              "#f0f921"
             ]
            ],
            "type": "surface"
           }
          ],
          "table": [
           {
            "cells": {
             "fill": {
              "color": "#EBF0F8"
             },
             "line": {
              "color": "white"
             }
            },
            "header": {
             "fill": {
              "color": "#C8D4E3"
             },
             "line": {
              "color": "white"
             }
            },
            "type": "table"
           }
          ]
         },
         "layout": {
          "annotationdefaults": {
           "arrowcolor": "#2a3f5f",
           "arrowhead": 0,
           "arrowwidth": 1
          },
          "autotypenumbers": "strict",
          "coloraxis": {
           "colorbar": {
            "outlinewidth": 0,
            "ticks": ""
           }
          },
          "colorscale": {
           "diverging": [
            [
             0,
             "#8e0152"
            ],
            [
             0.1,
             "#c51b7d"
            ],
            [
             0.2,
             "#de77ae"
            ],
            [
             0.3,
             "#f1b6da"
            ],
            [
             0.4,
             "#fde0ef"
            ],
            [
             0.5,
             "#f7f7f7"
            ],
            [
             0.6,
             "#e6f5d0"
            ],
            [
             0.7,
             "#b8e186"
            ],
            [
             0.8,
             "#7fbc41"
            ],
            [
             0.9,
             "#4d9221"
            ],
            [
             1,
             "#276419"
            ]
           ],
           "sequential": [
            [
             0,
             "#0d0887"
            ],
            [
             0.1111111111111111,
             "#46039f"
            ],
            [
             0.2222222222222222,
             "#7201a8"
            ],
            [
             0.3333333333333333,
             "#9c179e"
            ],
            [
             0.4444444444444444,
             "#bd3786"
            ],
            [
             0.5555555555555556,
             "#d8576b"
            ],
            [
             0.6666666666666666,
             "#ed7953"
            ],
            [
             0.7777777777777778,
             "#fb9f3a"
            ],
            [
             0.8888888888888888,
             "#fdca26"
            ],
            [
             1,
             "#f0f921"
            ]
           ],
           "sequentialminus": [
            [
             0,
             "#0d0887"
            ],
            [
             0.1111111111111111,
             "#46039f"
            ],
            [
             0.2222222222222222,
             "#7201a8"
            ],
            [
             0.3333333333333333,
             "#9c179e"
            ],
            [
             0.4444444444444444,
             "#bd3786"
            ],
            [
             0.5555555555555556,
             "#d8576b"
            ],
            [
             0.6666666666666666,
             "#ed7953"
            ],
            [
             0.7777777777777778,
             "#fb9f3a"
            ],
            [
             0.8888888888888888,
             "#fdca26"
            ],
            [
             1,
             "#f0f921"
            ]
           ]
          },
          "colorway": [
           "#636efa",
           "#EF553B",
           "#00cc96",
           "#ab63fa",
           "#FFA15A",
           "#19d3f3",
           "#FF6692",
           "#B6E880",
           "#FF97FF",
           "#FECB52"
          ],
          "font": {
           "color": "#2a3f5f"
          },
          "geo": {
           "bgcolor": "white",
           "lakecolor": "white",
           "landcolor": "#E5ECF6",
           "showlakes": true,
           "showland": true,
           "subunitcolor": "white"
          },
          "hoverlabel": {
           "align": "left"
          },
          "hovermode": "closest",
          "mapbox": {
           "style": "light"
          },
          "paper_bgcolor": "white",
          "plot_bgcolor": "#E5ECF6",
          "polar": {
           "angularaxis": {
            "gridcolor": "white",
            "linecolor": "white",
            "ticks": ""
           },
           "bgcolor": "#E5ECF6",
           "radialaxis": {
            "gridcolor": "white",
            "linecolor": "white",
            "ticks": ""
           }
          },
          "scene": {
           "xaxis": {
            "backgroundcolor": "#E5ECF6",
            "gridcolor": "white",
            "gridwidth": 2,
            "linecolor": "white",
            "showbackground": true,
            "ticks": "",
            "zerolinecolor": "white"
           },
           "yaxis": {
            "backgroundcolor": "#E5ECF6",
            "gridcolor": "white",
            "gridwidth": 2,
            "linecolor": "white",
            "showbackground": true,
            "ticks": "",
            "zerolinecolor": "white"
           },
           "zaxis": {
            "backgroundcolor": "#E5ECF6",
            "gridcolor": "white",
            "gridwidth": 2,
            "linecolor": "white",
            "showbackground": true,
            "ticks": "",
            "zerolinecolor": "white"
           }
          },
          "shapedefaults": {
           "line": {
            "color": "#2a3f5f"
           }
          },
          "ternary": {
           "aaxis": {
            "gridcolor": "white",
            "linecolor": "white",
            "ticks": ""
           },
           "baxis": {
            "gridcolor": "white",
            "linecolor": "white",
            "ticks": ""
           },
           "bgcolor": "#E5ECF6",
           "caxis": {
            "gridcolor": "white",
            "linecolor": "white",
            "ticks": ""
           }
          },
          "title": {
           "x": 0.05
          },
          "xaxis": {
           "automargin": true,
           "gridcolor": "white",
           "linecolor": "white",
           "ticks": "",
           "title": {
            "standoff": 15
           },
           "zerolinecolor": "white",
           "zerolinewidth": 2
          },
          "yaxis": {
           "automargin": true,
           "gridcolor": "white",
           "linecolor": "white",
           "ticks": "",
           "title": {
            "standoff": 15
           },
           "zerolinecolor": "white",
           "zerolinewidth": 2
          }
         }
        },
        "xaxis": {
         "tickangle": -80
        }
       }
      }
     },
     "metadata": {},
     "output_type": "display_data"
    }
   ],
   "source": [
    "fig = go.Figure()\n",
    "\n",
    "fig.add_trace(go.Bar(\n",
    "    x=df_temp3.head(8).index,\n",
    "    y=df_temp3.Total_Muertos_Otros,\n",
    "    name='Total Muertos',\n",
    "    marker_color='lightsalmon'\n",
    "))\n",
    "fig.add_trace(go.Bar(\n",
    "    x=df_temp3.head(8).index,\n",
    "    y=df_temp1.Total_Muertos_Alcohol,\n",
    "    name='Total Muertos Alcohol',\n",
    "    marker_color='indianred'\n",
    "))\n",
    "\n",
    "# Here we modify the tickangle of the xaxis, resulting in rotated labels.\n",
    "fig.update_layout(barmode='group', xaxis_tickangle=-80, title=\"Muertes por año en Sonora, con Alcohol y Otras causas\")\n",
    "fig.show()"
   ]
  },
  {
   "cell_type": "code",
   "execution_count": 55,
   "metadata": {},
   "outputs": [
    {
     "name": "stdout",
     "output_type": "stream",
     "text": [
      "Total Muertos = 1802 Alchol Muertos = 374 % = 20.754716981132077\n"
     ]
    }
   ],
   "source": [
    "#len(df_Sonora_Complete[(df_Sonora_Complete[\"CICLMUERTO\"] >= 1) & (df_Sonora_Complete[\"ALIENTO\"] == 'Sí') ].index)\n",
    "df_test = df_Sonora_Complete[(df_Sonora_Complete[\"OTROHERIDO\"] >= 1) & (df_Sonora_Complete[\"ALIENTO\"] == 'Sí')]\n",
    "totalM = sum(df_Sonora_Complete[\"OTROHERIDO\"])\n",
    "totalM2 = sum(df_test[\"OTROHERIDO\"])\n",
    "\n",
    "print(\"Total Muertos = \" + str(totalM) + \" Alchol Muertos = \" + str(totalM2) + \" % = \" + str((totalM2 * 100) / totalM ))\n"
   ]
  },
  {
   "cell_type": "code",
   "execution_count": 40,
   "metadata": {},
   "outputs": [
    {
     "data": {
      "text/plain": [
       "Index(['ID_ENTIDAD', 'ID_MUNICIPIO', 'ANIO', 'MES', 'ID_HORA', 'ID_MINUTO',\n",
       "       'ID_DIA', 'DIASEMANA', 'URBANA', 'SUBURBANA', 'TIPACCID', 'AUTOMOVIL',\n",
       "       'CAMPASAJ', 'MICROBUS', 'PASCAMION', 'OMNIBUS', 'TRANVIA', 'CAMIONETA',\n",
       "       'CAMION', 'TRACTOR', 'FERROCARRI', 'MOTOCICLET', 'BICICLETA',\n",
       "       'OTROVEHIC', 'CAUSAACCI', 'CAPAROD', 'SEXO', 'ALIENTO', 'CINTURON',\n",
       "       'ID_EDAD', 'CONDMUERTO', 'CONDHERIDO', 'PASAMUERTO', 'PASAHERIDO',\n",
       "       'PEATMUERTO', 'PEATHERIDO', 'CICLMUERTO', 'CICLHERIDO', 'OTROMUERTO',\n",
       "       'OTROHERIDO', 'NEMUERTO', 'NEHERIDO', 'Total_Muertos', 'Total_Heridos',\n",
       "       'Fecha', 'Municipio_Nombre'],\n",
       "      dtype='object')"
      ]
     },
     "execution_count": 40,
     "metadata": {},
     "output_type": "execute_result"
    }
   ],
   "source": [
    "df_Sonora_Complete.columns"
   ]
  },
  {
   "cell_type": "code",
   "execution_count": null,
   "metadata": {},
   "outputs": [],
   "source": [
    "df_Sonora_Cinturon = df_Sonora[(df_Sonora[\"Total_Muertos\"] >= 1) & (df_Sonora[\"ANIO\"] <= 2008)]\n",
    "fig = px.bar(df_Sonora_Cinturon, x=\"ANIO\", y=\"Total_Muertos\", color=\"CINTURON\", title=\"Uso de cinturon en accidentes mortales\")\n",
    "fig.show()"
   ]
  },
  {
   "cell_type": "code",
   "execution_count": null,
   "metadata": {},
   "outputs": [],
   "source": [
    "# df_Sonora_Cinturon = df_Sonora[(df_Sonora[\"Total_Muertos\"] >= 1) & (df_Sonora[\"ANIO\"] >= 2009)]\n",
    "# fig = px.bar(df_Sonora_Cinturon, x=\"ANIO\", y=\"Total_Muertos\", color=\"CINTURON\", title=\"Uso de cinturon en accidentes mortales\")\n",
    "# fig.show()\n",
    "\n",
    "fig = px.bar(df_Sonora_Complete[df_Sonora_Complete[\"ALIENTO\"] == \"Sí\"], x=\"ANIO\", y=\"Total_Muertos\")\n",
    "fig.show()\n",
    "\n",
    "# fig = make_subplots(rows=1, cols=2, specs=[[{'type':'domain'}, {'type':'domain'}]],\n",
    "#                     subplot_titles=['Accidentes Mortales', 'Accidentes Mortales con Alcohol'])\n",
    "\n",
    "# fig.add_trace(go.bar(df_Sonora_Complete[df_Sonora_Complete[\"ALIENTO\"] == \"Sí\"], x=\"ANIO\", y=\"Total_Muertos\"), 1, 1)\n",
    "\n",
    "# fig.add_trace(go.Pie(df_Sonora_Complete, x=\"ANIO\", y=\"Total_Muertos\"), 1, 2)\n",
    "\n",
    "# fig.update_layout(title_text='Uso del cinturon en accidentes - Sonora')\n",
    "\n",
    "# fig.show()"
   ]
  },
  {
   "cell_type": "code",
   "execution_count": null,
   "metadata": {},
   "outputs": [],
   "source": [
    "# Distribucion de total de accidentes mortales doonde la persona estaba alcolizada\n",
    "df_Sonora_Alchol = df_Sonora[(df_Sonora[\"ANIO\"] >= 2005) & (df_Sonora[\"Total_Muertos\"] >= 1)]\n",
    "plt.figure(figsize=(25,15))\n",
    "ax = sns.displot(x=\"ANIO\", hue =\"ALIENTO\", data = df_Sonora_Alchol, multiple=\"dodge\")\n",
    "plt.xticks(rotation=90)"
   ]
  },
  {
   "cell_type": "markdown",
   "metadata": {},
   "source": [
    "Aqui detallaremos el porcentaje de accidentes de trafico alcolizados de cada municipio en relacion con sus habitantes\n"
   ]
  },
  {
   "cell_type": "code",
   "execution_count": null,
   "metadata": {},
   "outputs": [],
   "source": []
  },
  {
   "cell_type": "code",
   "execution_count": null,
   "metadata": {
    "id": "6WKy-yzFXSB6"
   },
   "outputs": [],
   "source": [
    "# 6 - TIDY DF'S - Create Data Frame tidy's\n",
    "\n",
    "# Create chart of how many persons (sexo) \"Se fugó\" por municipio y por año - DONE\n",
    "df_Sonora_Fugados = df_Sonora_Complete[df_Sonora_Complete['SEXO'] == 'Se fugó']\n",
    "# Cuanta gente alcoholica (Aliento) con respecto al año y personas muertas\n",
    "df_Sonora_Alchol = df_Sonora_Complete[df_Sonora_Complete['ALIENTO'] == 'Sí']\n",
    "# Conductor usaba el cinturon (Top 3 municipio \"Responsable del cinturon\")\n",
    "df_Sonora_Cinturon = df_Sonora_Complete[df_Sonora_Complete['CINTURON'] == 'Sí']\n",
    "\n",
    "df_deaths_tidy = df_Sonora_Deaths.sort_values(by=[\"Total_Muertos\"], ascending=False).head(10)\n",
    "\n",
    "df_Sonora_Complete_Cinturon = df_Sonora_Complete.groupby(\"CINTURON\").agg({\n",
    "    \"CINTURON\" : 'count',\n",
    "})\n",
    "df_Sonora_Complete_Cinturon.columns = [\"Uso_Cinturon\"]\n",
    "df_Sonora_Complete_Cinturon = df_Sonora_Complete_Cinturon.sort_values(by=[\"CINTURON\"])\n",
    "\n"
   ]
  },
  {
   "cell_type": "markdown",
   "metadata": {
    "id": "Ny2wNGPXcDXW"
   },
   "source": [
    "**Sonora ocupa el el 2° lugar a nivel nacional de ciclistas muertos en accidentes de transitos**"
   ]
  },
  {
   "cell_type": "code",
   "execution_count": null,
   "metadata": {
    "colab": {
     "base_uri": "https://localhost:8080/",
     "height": 542
    },
    "id": "vfEJNPA_lGo7",
    "outputId": "37771cea-967e-455b-af72-7e5a05fef11e"
   },
   "outputs": [
    {
     "data": {
      "text/html": [
       "<html>\n",
       "<head><meta charset=\"utf-8\" /></head>\n",
       "<body>\n",
       "    <div>            <script src=\"https://cdnjs.cloudflare.com/ajax/libs/mathjax/2.7.5/MathJax.js?config=TeX-AMS-MML_SVG\"></script><script type=\"text/javascript\">if (window.MathJax) {MathJax.Hub.Config({SVG: {font: \"STIX-Web\"}});}</script>                <script type=\"text/javascript\">window.PlotlyConfig = {MathJaxConfig: 'local'};</script>\n",
       "        <script src=\"https://cdn.plot.ly/plotly-2.8.3.min.js\"></script>                <div id=\"59485b62-1223-4e96-9aca-58deebfd86cb\" class=\"plotly-graph-div\" style=\"height:525px; width:100%;\"></div>            <script type=\"text/javascript\">                                    window.PLOTLYENV=window.PLOTLYENV || {};                                    if (document.getElementById(\"59485b62-1223-4e96-9aca-58deebfd86cb\")) {                    Plotly.newPlot(                        \"59485b62-1223-4e96-9aca-58deebfd86cb\",                        [{\"alignmentgroup\":\"True\",\"hovertemplate\":\"Entidad=%{x}<br>CICLMUERTO=%{y}<extra></extra>\",\"legendgroup\":\"\",\"marker\":{\"color\":\"#636efa\",\"pattern\":{\"shape\":\"\"}},\"name\":\"\",\"offsetgroup\":\"\",\"orientation\":\"v\",\"showlegend\":false,\"textposition\":\"auto\",\"x\":[\"Michoacan de Ocampo\",\"Sonora\",\"Jalisco\",\"Guanajuato\",\"Sinaloa\",\"Mexico\",\"San Luis Potosi\",\"Durango\",\"Tamaulipas\",\"Yucatan\"],\"xaxis\":\"x\",\"y\":[575,518,509,424,409,344,292,280,265,234],\"yaxis\":\"y\",\"type\":\"bar\"}],                        {\"template\":{\"data\":{\"bar\":[{\"error_x\":{\"color\":\"#2a3f5f\"},\"error_y\":{\"color\":\"#2a3f5f\"},\"marker\":{\"line\":{\"color\":\"#E5ECF6\",\"width\":0.5},\"pattern\":{\"fillmode\":\"overlay\",\"size\":10,\"solidity\":0.2}},\"type\":\"bar\"}],\"barpolar\":[{\"marker\":{\"line\":{\"color\":\"#E5ECF6\",\"width\":0.5},\"pattern\":{\"fillmode\":\"overlay\",\"size\":10,\"solidity\":0.2}},\"type\":\"barpolar\"}],\"carpet\":[{\"aaxis\":{\"endlinecolor\":\"#2a3f5f\",\"gridcolor\":\"white\",\"linecolor\":\"white\",\"minorgridcolor\":\"white\",\"startlinecolor\":\"#2a3f5f\"},\"baxis\":{\"endlinecolor\":\"#2a3f5f\",\"gridcolor\":\"white\",\"linecolor\":\"white\",\"minorgridcolor\":\"white\",\"startlinecolor\":\"#2a3f5f\"},\"type\":\"carpet\"}],\"choropleth\":[{\"colorbar\":{\"outlinewidth\":0,\"ticks\":\"\"},\"type\":\"choropleth\"}],\"contour\":[{\"colorbar\":{\"outlinewidth\":0,\"ticks\":\"\"},\"colorscale\":[[0.0,\"#0d0887\"],[0.1111111111111111,\"#46039f\"],[0.2222222222222222,\"#7201a8\"],[0.3333333333333333,\"#9c179e\"],[0.4444444444444444,\"#bd3786\"],[0.5555555555555556,\"#d8576b\"],[0.6666666666666666,\"#ed7953\"],[0.7777777777777778,\"#fb9f3a\"],[0.8888888888888888,\"#fdca26\"],[1.0,\"#f0f921\"]],\"type\":\"contour\"}],\"contourcarpet\":[{\"colorbar\":{\"outlinewidth\":0,\"ticks\":\"\"},\"type\":\"contourcarpet\"}],\"heatmap\":[{\"colorbar\":{\"outlinewidth\":0,\"ticks\":\"\"},\"colorscale\":[[0.0,\"#0d0887\"],[0.1111111111111111,\"#46039f\"],[0.2222222222222222,\"#7201a8\"],[0.3333333333333333,\"#9c179e\"],[0.4444444444444444,\"#bd3786\"],[0.5555555555555556,\"#d8576b\"],[0.6666666666666666,\"#ed7953\"],[0.7777777777777778,\"#fb9f3a\"],[0.8888888888888888,\"#fdca26\"],[1.0,\"#f0f921\"]],\"type\":\"heatmap\"}],\"heatmapgl\":[{\"colorbar\":{\"outlinewidth\":0,\"ticks\":\"\"},\"colorscale\":[[0.0,\"#0d0887\"],[0.1111111111111111,\"#46039f\"],[0.2222222222222222,\"#7201a8\"],[0.3333333333333333,\"#9c179e\"],[0.4444444444444444,\"#bd3786\"],[0.5555555555555556,\"#d8576b\"],[0.6666666666666666,\"#ed7953\"],[0.7777777777777778,\"#fb9f3a\"],[0.8888888888888888,\"#fdca26\"],[1.0,\"#f0f921\"]],\"type\":\"heatmapgl\"}],\"histogram\":[{\"marker\":{\"pattern\":{\"fillmode\":\"overlay\",\"size\":10,\"solidity\":0.2}},\"type\":\"histogram\"}],\"histogram2d\":[{\"colorbar\":{\"outlinewidth\":0,\"ticks\":\"\"},\"colorscale\":[[0.0,\"#0d0887\"],[0.1111111111111111,\"#46039f\"],[0.2222222222222222,\"#7201a8\"],[0.3333333333333333,\"#9c179e\"],[0.4444444444444444,\"#bd3786\"],[0.5555555555555556,\"#d8576b\"],[0.6666666666666666,\"#ed7953\"],[0.7777777777777778,\"#fb9f3a\"],[0.8888888888888888,\"#fdca26\"],[1.0,\"#f0f921\"]],\"type\":\"histogram2d\"}],\"histogram2dcontour\":[{\"colorbar\":{\"outlinewidth\":0,\"ticks\":\"\"},\"colorscale\":[[0.0,\"#0d0887\"],[0.1111111111111111,\"#46039f\"],[0.2222222222222222,\"#7201a8\"],[0.3333333333333333,\"#9c179e\"],[0.4444444444444444,\"#bd3786\"],[0.5555555555555556,\"#d8576b\"],[0.6666666666666666,\"#ed7953\"],[0.7777777777777778,\"#fb9f3a\"],[0.8888888888888888,\"#fdca26\"],[1.0,\"#f0f921\"]],\"type\":\"histogram2dcontour\"}],\"mesh3d\":[{\"colorbar\":{\"outlinewidth\":0,\"ticks\":\"\"},\"type\":\"mesh3d\"}],\"parcoords\":[{\"line\":{\"colorbar\":{\"outlinewidth\":0,\"ticks\":\"\"}},\"type\":\"parcoords\"}],\"pie\":[{\"automargin\":true,\"type\":\"pie\"}],\"scatter\":[{\"marker\":{\"colorbar\":{\"outlinewidth\":0,\"ticks\":\"\"}},\"type\":\"scatter\"}],\"scatter3d\":[{\"line\":{\"colorbar\":{\"outlinewidth\":0,\"ticks\":\"\"}},\"marker\":{\"colorbar\":{\"outlinewidth\":0,\"ticks\":\"\"}},\"type\":\"scatter3d\"}],\"scattercarpet\":[{\"marker\":{\"colorbar\":{\"outlinewidth\":0,\"ticks\":\"\"}},\"type\":\"scattercarpet\"}],\"scattergeo\":[{\"marker\":{\"colorbar\":{\"outlinewidth\":0,\"ticks\":\"\"}},\"type\":\"scattergeo\"}],\"scattergl\":[{\"marker\":{\"colorbar\":{\"outlinewidth\":0,\"ticks\":\"\"}},\"type\":\"scattergl\"}],\"scattermapbox\":[{\"marker\":{\"colorbar\":{\"outlinewidth\":0,\"ticks\":\"\"}},\"type\":\"scattermapbox\"}],\"scatterpolar\":[{\"marker\":{\"colorbar\":{\"outlinewidth\":0,\"ticks\":\"\"}},\"type\":\"scatterpolar\"}],\"scatterpolargl\":[{\"marker\":{\"colorbar\":{\"outlinewidth\":0,\"ticks\":\"\"}},\"type\":\"scatterpolargl\"}],\"scatterternary\":[{\"marker\":{\"colorbar\":{\"outlinewidth\":0,\"ticks\":\"\"}},\"type\":\"scatterternary\"}],\"surface\":[{\"colorbar\":{\"outlinewidth\":0,\"ticks\":\"\"},\"colorscale\":[[0.0,\"#0d0887\"],[0.1111111111111111,\"#46039f\"],[0.2222222222222222,\"#7201a8\"],[0.3333333333333333,\"#9c179e\"],[0.4444444444444444,\"#bd3786\"],[0.5555555555555556,\"#d8576b\"],[0.6666666666666666,\"#ed7953\"],[0.7777777777777778,\"#fb9f3a\"],[0.8888888888888888,\"#fdca26\"],[1.0,\"#f0f921\"]],\"type\":\"surface\"}],\"table\":[{\"cells\":{\"fill\":{\"color\":\"#EBF0F8\"},\"line\":{\"color\":\"white\"}},\"header\":{\"fill\":{\"color\":\"#C8D4E3\"},\"line\":{\"color\":\"white\"}},\"type\":\"table\"}]},\"layout\":{\"annotationdefaults\":{\"arrowcolor\":\"#2a3f5f\",\"arrowhead\":0,\"arrowwidth\":1},\"autotypenumbers\":\"strict\",\"coloraxis\":{\"colorbar\":{\"outlinewidth\":0,\"ticks\":\"\"}},\"colorscale\":{\"diverging\":[[0,\"#8e0152\"],[0.1,\"#c51b7d\"],[0.2,\"#de77ae\"],[0.3,\"#f1b6da\"],[0.4,\"#fde0ef\"],[0.5,\"#f7f7f7\"],[0.6,\"#e6f5d0\"],[0.7,\"#b8e186\"],[0.8,\"#7fbc41\"],[0.9,\"#4d9221\"],[1,\"#276419\"]],\"sequential\":[[0.0,\"#0d0887\"],[0.1111111111111111,\"#46039f\"],[0.2222222222222222,\"#7201a8\"],[0.3333333333333333,\"#9c179e\"],[0.4444444444444444,\"#bd3786\"],[0.5555555555555556,\"#d8576b\"],[0.6666666666666666,\"#ed7953\"],[0.7777777777777778,\"#fb9f3a\"],[0.8888888888888888,\"#fdca26\"],[1.0,\"#f0f921\"]],\"sequentialminus\":[[0.0,\"#0d0887\"],[0.1111111111111111,\"#46039f\"],[0.2222222222222222,\"#7201a8\"],[0.3333333333333333,\"#9c179e\"],[0.4444444444444444,\"#bd3786\"],[0.5555555555555556,\"#d8576b\"],[0.6666666666666666,\"#ed7953\"],[0.7777777777777778,\"#fb9f3a\"],[0.8888888888888888,\"#fdca26\"],[1.0,\"#f0f921\"]]},\"colorway\":[\"#636efa\",\"#EF553B\",\"#00cc96\",\"#ab63fa\",\"#FFA15A\",\"#19d3f3\",\"#FF6692\",\"#B6E880\",\"#FF97FF\",\"#FECB52\"],\"font\":{\"color\":\"#2a3f5f\"},\"geo\":{\"bgcolor\":\"white\",\"lakecolor\":\"white\",\"landcolor\":\"#E5ECF6\",\"showlakes\":true,\"showland\":true,\"subunitcolor\":\"white\"},\"hoverlabel\":{\"align\":\"left\"},\"hovermode\":\"closest\",\"mapbox\":{\"style\":\"light\"},\"paper_bgcolor\":\"white\",\"plot_bgcolor\":\"#E5ECF6\",\"polar\":{\"angularaxis\":{\"gridcolor\":\"white\",\"linecolor\":\"white\",\"ticks\":\"\"},\"bgcolor\":\"#E5ECF6\",\"radialaxis\":{\"gridcolor\":\"white\",\"linecolor\":\"white\",\"ticks\":\"\"}},\"scene\":{\"xaxis\":{\"backgroundcolor\":\"#E5ECF6\",\"gridcolor\":\"white\",\"gridwidth\":2,\"linecolor\":\"white\",\"showbackground\":true,\"ticks\":\"\",\"zerolinecolor\":\"white\"},\"yaxis\":{\"backgroundcolor\":\"#E5ECF6\",\"gridcolor\":\"white\",\"gridwidth\":2,\"linecolor\":\"white\",\"showbackground\":true,\"ticks\":\"\",\"zerolinecolor\":\"white\"},\"zaxis\":{\"backgroundcolor\":\"#E5ECF6\",\"gridcolor\":\"white\",\"gridwidth\":2,\"linecolor\":\"white\",\"showbackground\":true,\"ticks\":\"\",\"zerolinecolor\":\"white\"}},\"shapedefaults\":{\"line\":{\"color\":\"#2a3f5f\"}},\"ternary\":{\"aaxis\":{\"gridcolor\":\"white\",\"linecolor\":\"white\",\"ticks\":\"\"},\"baxis\":{\"gridcolor\":\"white\",\"linecolor\":\"white\",\"ticks\":\"\"},\"bgcolor\":\"#E5ECF6\",\"caxis\":{\"gridcolor\":\"white\",\"linecolor\":\"white\",\"ticks\":\"\"}},\"title\":{\"x\":0.05},\"xaxis\":{\"automargin\":true,\"gridcolor\":\"white\",\"linecolor\":\"white\",\"ticks\":\"\",\"title\":{\"standoff\":15},\"zerolinecolor\":\"white\",\"zerolinewidth\":2},\"yaxis\":{\"automargin\":true,\"gridcolor\":\"white\",\"linecolor\":\"white\",\"ticks\":\"\",\"title\":{\"standoff\":15},\"zerolinecolor\":\"white\",\"zerolinewidth\":2}}},\"xaxis\":{\"anchor\":\"y\",\"domain\":[0.0,1.0],\"title\":{\"text\":\"Entidad\"}},\"yaxis\":{\"anchor\":\"x\",\"domain\":[0.0,1.0],\"title\":{\"text\":\"CICLMUERTO\"}},\"legend\":{\"tracegroupgap\":0},\"title\":{\"text\":\"Top 10 numero de Ciclistas muertos en accidentes 1997-2021 - M\\u00e9xico\"},\"barmode\":\"relative\"},                        {\"responsive\": true}                    ).then(function(){\n",
       "                            \n",
       "var gd = document.getElementById('59485b62-1223-4e96-9aca-58deebfd86cb');\n",
       "var x = new MutationObserver(function (mutations, observer) {{\n",
       "        var display = window.getComputedStyle(gd).display;\n",
       "        if (!display || display === 'none') {{\n",
       "            console.log([gd, 'removed!']);\n",
       "            Plotly.purge(gd);\n",
       "            observer.disconnect();\n",
       "        }}\n",
       "}});\n",
       "\n",
       "// Listen for the removal of the full notebook cells\n",
       "var notebookContainer = gd.closest('#notebook-container');\n",
       "if (notebookContainer) {{\n",
       "    x.observe(notebookContainer, {childList: true});\n",
       "}}\n",
       "\n",
       "// Listen for the clearing of the current output cell\n",
       "var outputEl = gd.closest('.output');\n",
       "if (outputEl) {{\n",
       "    x.observe(outputEl, {childList: true});\n",
       "}}\n",
       "\n",
       "                        })                };                            </script>        </div>\n",
       "</body>\n",
       "</html>"
      ]
     },
     "metadata": {},
     "output_type": "display_data"
    }
   ],
   "source": [
    "# Sonora ocupa 1 el 2° lugar en ciclistas muertos en registros de accidentes de transito\n",
    "fig = px.bar(df_complete_Death.sort_values(by=\"CICLMUERTO\", ascending=False).head(10), x=\"Entidad\",  y=\"CICLMUERTO\", title='Top 10 numero de Ciclistas muertos en accidentes 1997-2021 - México')\n",
    "fig.show()\n"
   ]
  },
  {
   "cell_type": "code",
   "execution_count": null,
   "metadata": {
    "colab": {
     "base_uri": "https://localhost:8080/",
     "height": 542
    },
    "id": "LnMygpuO4lk9",
    "outputId": "3ac70481-9458-4b02-99f9-4c9885f876d2"
   },
   "outputs": [
    {
     "data": {
      "text/html": [
       "<html>\n",
       "<head><meta charset=\"utf-8\" /></head>\n",
       "<body>\n",
       "    <div>            <script src=\"https://cdnjs.cloudflare.com/ajax/libs/mathjax/2.7.5/MathJax.js?config=TeX-AMS-MML_SVG\"></script><script type=\"text/javascript\">if (window.MathJax) {MathJax.Hub.Config({SVG: {font: \"STIX-Web\"}});}</script>                <script type=\"text/javascript\">window.PlotlyConfig = {MathJaxConfig: 'local'};</script>\n",
       "        <script src=\"https://cdn.plot.ly/plotly-2.8.3.min.js\"></script>                <div id=\"d530db55-3d7b-4796-ac02-60033efd4b92\" class=\"plotly-graph-div\" style=\"height:525px; width:100%;\"></div>            <script type=\"text/javascript\">                                    window.PLOTLYENV=window.PLOTLYENV || {};                                    if (document.getElementById(\"d530db55-3d7b-4796-ac02-60033efd4b92\")) {                    Plotly.newPlot(                        \"d530db55-3d7b-4796-ac02-60033efd4b92\",                        [{\"alignmentgroup\":\"True\",\"hovertemplate\":\"Municipio_Nombre=%{x}<br>Total_Muertos=%{y}<extra></extra>\",\"legendgroup\":\"\",\"marker\":{\"color\":\"#636efa\",\"pattern\":{\"shape\":\"\"}},\"name\":\"\",\"offsetgroup\":\"\",\"orientation\":\"v\",\"showlegend\":false,\"textposition\":\"auto\",\"x\":[\"Hermosillo\",\"Cajeme\",\"San Luis R\\u00edo Colorado\",\"Caborca\",\"Navojoa\",\"Nogales\",\"Etchojoa\",\"Guaymas\",\"Puerto Pe\\u00f1asco\",\"Huatabampo\"],\"xaxis\":\"x\",\"y\":[1203,798,543,445,393,364,296,293,233,210],\"yaxis\":\"y\",\"type\":\"bar\"}],                        {\"template\":{\"data\":{\"bar\":[{\"error_x\":{\"color\":\"#2a3f5f\"},\"error_y\":{\"color\":\"#2a3f5f\"},\"marker\":{\"line\":{\"color\":\"#E5ECF6\",\"width\":0.5},\"pattern\":{\"fillmode\":\"overlay\",\"size\":10,\"solidity\":0.2}},\"type\":\"bar\"}],\"barpolar\":[{\"marker\":{\"line\":{\"color\":\"#E5ECF6\",\"width\":0.5},\"pattern\":{\"fillmode\":\"overlay\",\"size\":10,\"solidity\":0.2}},\"type\":\"barpolar\"}],\"carpet\":[{\"aaxis\":{\"endlinecolor\":\"#2a3f5f\",\"gridcolor\":\"white\",\"linecolor\":\"white\",\"minorgridcolor\":\"white\",\"startlinecolor\":\"#2a3f5f\"},\"baxis\":{\"endlinecolor\":\"#2a3f5f\",\"gridcolor\":\"white\",\"linecolor\":\"white\",\"minorgridcolor\":\"white\",\"startlinecolor\":\"#2a3f5f\"},\"type\":\"carpet\"}],\"choropleth\":[{\"colorbar\":{\"outlinewidth\":0,\"ticks\":\"\"},\"type\":\"choropleth\"}],\"contour\":[{\"colorbar\":{\"outlinewidth\":0,\"ticks\":\"\"},\"colorscale\":[[0.0,\"#0d0887\"],[0.1111111111111111,\"#46039f\"],[0.2222222222222222,\"#7201a8\"],[0.3333333333333333,\"#9c179e\"],[0.4444444444444444,\"#bd3786\"],[0.5555555555555556,\"#d8576b\"],[0.6666666666666666,\"#ed7953\"],[0.7777777777777778,\"#fb9f3a\"],[0.8888888888888888,\"#fdca26\"],[1.0,\"#f0f921\"]],\"type\":\"contour\"}],\"contourcarpet\":[{\"colorbar\":{\"outlinewidth\":0,\"ticks\":\"\"},\"type\":\"contourcarpet\"}],\"heatmap\":[{\"colorbar\":{\"outlinewidth\":0,\"ticks\":\"\"},\"colorscale\":[[0.0,\"#0d0887\"],[0.1111111111111111,\"#46039f\"],[0.2222222222222222,\"#7201a8\"],[0.3333333333333333,\"#9c179e\"],[0.4444444444444444,\"#bd3786\"],[0.5555555555555556,\"#d8576b\"],[0.6666666666666666,\"#ed7953\"],[0.7777777777777778,\"#fb9f3a\"],[0.8888888888888888,\"#fdca26\"],[1.0,\"#f0f921\"]],\"type\":\"heatmap\"}],\"heatmapgl\":[{\"colorbar\":{\"outlinewidth\":0,\"ticks\":\"\"},\"colorscale\":[[0.0,\"#0d0887\"],[0.1111111111111111,\"#46039f\"],[0.2222222222222222,\"#7201a8\"],[0.3333333333333333,\"#9c179e\"],[0.4444444444444444,\"#bd3786\"],[0.5555555555555556,\"#d8576b\"],[0.6666666666666666,\"#ed7953\"],[0.7777777777777778,\"#fb9f3a\"],[0.8888888888888888,\"#fdca26\"],[1.0,\"#f0f921\"]],\"type\":\"heatmapgl\"}],\"histogram\":[{\"marker\":{\"pattern\":{\"fillmode\":\"overlay\",\"size\":10,\"solidity\":0.2}},\"type\":\"histogram\"}],\"histogram2d\":[{\"colorbar\":{\"outlinewidth\":0,\"ticks\":\"\"},\"colorscale\":[[0.0,\"#0d0887\"],[0.1111111111111111,\"#46039f\"],[0.2222222222222222,\"#7201a8\"],[0.3333333333333333,\"#9c179e\"],[0.4444444444444444,\"#bd3786\"],[0.5555555555555556,\"#d8576b\"],[0.6666666666666666,\"#ed7953\"],[0.7777777777777778,\"#fb9f3a\"],[0.8888888888888888,\"#fdca26\"],[1.0,\"#f0f921\"]],\"type\":\"histogram2d\"}],\"histogram2dcontour\":[{\"colorbar\":{\"outlinewidth\":0,\"ticks\":\"\"},\"colorscale\":[[0.0,\"#0d0887\"],[0.1111111111111111,\"#46039f\"],[0.2222222222222222,\"#7201a8\"],[0.3333333333333333,\"#9c179e\"],[0.4444444444444444,\"#bd3786\"],[0.5555555555555556,\"#d8576b\"],[0.6666666666666666,\"#ed7953\"],[0.7777777777777778,\"#fb9f3a\"],[0.8888888888888888,\"#fdca26\"],[1.0,\"#f0f921\"]],\"type\":\"histogram2dcontour\"}],\"mesh3d\":[{\"colorbar\":{\"outlinewidth\":0,\"ticks\":\"\"},\"type\":\"mesh3d\"}],\"parcoords\":[{\"line\":{\"colorbar\":{\"outlinewidth\":0,\"ticks\":\"\"}},\"type\":\"parcoords\"}],\"pie\":[{\"automargin\":true,\"type\":\"pie\"}],\"scatter\":[{\"marker\":{\"colorbar\":{\"outlinewidth\":0,\"ticks\":\"\"}},\"type\":\"scatter\"}],\"scatter3d\":[{\"line\":{\"colorbar\":{\"outlinewidth\":0,\"ticks\":\"\"}},\"marker\":{\"colorbar\":{\"outlinewidth\":0,\"ticks\":\"\"}},\"type\":\"scatter3d\"}],\"scattercarpet\":[{\"marker\":{\"colorbar\":{\"outlinewidth\":0,\"ticks\":\"\"}},\"type\":\"scattercarpet\"}],\"scattergeo\":[{\"marker\":{\"colorbar\":{\"outlinewidth\":0,\"ticks\":\"\"}},\"type\":\"scattergeo\"}],\"scattergl\":[{\"marker\":{\"colorbar\":{\"outlinewidth\":0,\"ticks\":\"\"}},\"type\":\"scattergl\"}],\"scattermapbox\":[{\"marker\":{\"colorbar\":{\"outlinewidth\":0,\"ticks\":\"\"}},\"type\":\"scattermapbox\"}],\"scatterpolar\":[{\"marker\":{\"colorbar\":{\"outlinewidth\":0,\"ticks\":\"\"}},\"type\":\"scatterpolar\"}],\"scatterpolargl\":[{\"marker\":{\"colorbar\":{\"outlinewidth\":0,\"ticks\":\"\"}},\"type\":\"scatterpolargl\"}],\"scatterternary\":[{\"marker\":{\"colorbar\":{\"outlinewidth\":0,\"ticks\":\"\"}},\"type\":\"scatterternary\"}],\"surface\":[{\"colorbar\":{\"outlinewidth\":0,\"ticks\":\"\"},\"colorscale\":[[0.0,\"#0d0887\"],[0.1111111111111111,\"#46039f\"],[0.2222222222222222,\"#7201a8\"],[0.3333333333333333,\"#9c179e\"],[0.4444444444444444,\"#bd3786\"],[0.5555555555555556,\"#d8576b\"],[0.6666666666666666,\"#ed7953\"],[0.7777777777777778,\"#fb9f3a\"],[0.8888888888888888,\"#fdca26\"],[1.0,\"#f0f921\"]],\"type\":\"surface\"}],\"table\":[{\"cells\":{\"fill\":{\"color\":\"#EBF0F8\"},\"line\":{\"color\":\"white\"}},\"header\":{\"fill\":{\"color\":\"#C8D4E3\"},\"line\":{\"color\":\"white\"}},\"type\":\"table\"}]},\"layout\":{\"annotationdefaults\":{\"arrowcolor\":\"#2a3f5f\",\"arrowhead\":0,\"arrowwidth\":1},\"autotypenumbers\":\"strict\",\"coloraxis\":{\"colorbar\":{\"outlinewidth\":0,\"ticks\":\"\"}},\"colorscale\":{\"diverging\":[[0,\"#8e0152\"],[0.1,\"#c51b7d\"],[0.2,\"#de77ae\"],[0.3,\"#f1b6da\"],[0.4,\"#fde0ef\"],[0.5,\"#f7f7f7\"],[0.6,\"#e6f5d0\"],[0.7,\"#b8e186\"],[0.8,\"#7fbc41\"],[0.9,\"#4d9221\"],[1,\"#276419\"]],\"sequential\":[[0.0,\"#0d0887\"],[0.1111111111111111,\"#46039f\"],[0.2222222222222222,\"#7201a8\"],[0.3333333333333333,\"#9c179e\"],[0.4444444444444444,\"#bd3786\"],[0.5555555555555556,\"#d8576b\"],[0.6666666666666666,\"#ed7953\"],[0.7777777777777778,\"#fb9f3a\"],[0.8888888888888888,\"#fdca26\"],[1.0,\"#f0f921\"]],\"sequentialminus\":[[0.0,\"#0d0887\"],[0.1111111111111111,\"#46039f\"],[0.2222222222222222,\"#7201a8\"],[0.3333333333333333,\"#9c179e\"],[0.4444444444444444,\"#bd3786\"],[0.5555555555555556,\"#d8576b\"],[0.6666666666666666,\"#ed7953\"],[0.7777777777777778,\"#fb9f3a\"],[0.8888888888888888,\"#fdca26\"],[1.0,\"#f0f921\"]]},\"colorway\":[\"#636efa\",\"#EF553B\",\"#00cc96\",\"#ab63fa\",\"#FFA15A\",\"#19d3f3\",\"#FF6692\",\"#B6E880\",\"#FF97FF\",\"#FECB52\"],\"font\":{\"color\":\"#2a3f5f\"},\"geo\":{\"bgcolor\":\"white\",\"lakecolor\":\"white\",\"landcolor\":\"#E5ECF6\",\"showlakes\":true,\"showland\":true,\"subunitcolor\":\"white\"},\"hoverlabel\":{\"align\":\"left\"},\"hovermode\":\"closest\",\"mapbox\":{\"style\":\"light\"},\"paper_bgcolor\":\"white\",\"plot_bgcolor\":\"#E5ECF6\",\"polar\":{\"angularaxis\":{\"gridcolor\":\"white\",\"linecolor\":\"white\",\"ticks\":\"\"},\"bgcolor\":\"#E5ECF6\",\"radialaxis\":{\"gridcolor\":\"white\",\"linecolor\":\"white\",\"ticks\":\"\"}},\"scene\":{\"xaxis\":{\"backgroundcolor\":\"#E5ECF6\",\"gridcolor\":\"white\",\"gridwidth\":2,\"linecolor\":\"white\",\"showbackground\":true,\"ticks\":\"\",\"zerolinecolor\":\"white\"},\"yaxis\":{\"backgroundcolor\":\"#E5ECF6\",\"gridcolor\":\"white\",\"gridwidth\":2,\"linecolor\":\"white\",\"showbackground\":true,\"ticks\":\"\",\"zerolinecolor\":\"white\"},\"zaxis\":{\"backgroundcolor\":\"#E5ECF6\",\"gridcolor\":\"white\",\"gridwidth\":2,\"linecolor\":\"white\",\"showbackground\":true,\"ticks\":\"\",\"zerolinecolor\":\"white\"}},\"shapedefaults\":{\"line\":{\"color\":\"#2a3f5f\"}},\"ternary\":{\"aaxis\":{\"gridcolor\":\"white\",\"linecolor\":\"white\",\"ticks\":\"\"},\"baxis\":{\"gridcolor\":\"white\",\"linecolor\":\"white\",\"ticks\":\"\"},\"bgcolor\":\"#E5ECF6\",\"caxis\":{\"gridcolor\":\"white\",\"linecolor\":\"white\",\"ticks\":\"\"}},\"title\":{\"x\":0.05},\"xaxis\":{\"automargin\":true,\"gridcolor\":\"white\",\"linecolor\":\"white\",\"ticks\":\"\",\"title\":{\"standoff\":15},\"zerolinecolor\":\"white\",\"zerolinewidth\":2},\"yaxis\":{\"automargin\":true,\"gridcolor\":\"white\",\"linecolor\":\"white\",\"ticks\":\"\",\"title\":{\"standoff\":15},\"zerolinecolor\":\"white\",\"zerolinewidth\":2}}},\"xaxis\":{\"anchor\":\"y\",\"domain\":[0.0,1.0],\"title\":{\"text\":\"Municipio_Nombre\"}},\"yaxis\":{\"anchor\":\"x\",\"domain\":[0.0,1.0],\"title\":{\"text\":\"Total_Muertos\"}},\"legend\":{\"tracegroupgap\":0},\"title\":{\"text\":\"Top 10 municipios con numero de personas muertas en accidentes 1997-2021 - Sonora\"},\"barmode\":\"relative\"},                        {\"responsive\": true}                    ).then(function(){\n",
       "                            \n",
       "var gd = document.getElementById('d530db55-3d7b-4796-ac02-60033efd4b92');\n",
       "var x = new MutationObserver(function (mutations, observer) {{\n",
       "        var display = window.getComputedStyle(gd).display;\n",
       "        if (!display || display === 'none') {{\n",
       "            console.log([gd, 'removed!']);\n",
       "            Plotly.purge(gd);\n",
       "            observer.disconnect();\n",
       "        }}\n",
       "}});\n",
       "\n",
       "// Listen for the removal of the full notebook cells\n",
       "var notebookContainer = gd.closest('#notebook-container');\n",
       "if (notebookContainer) {{\n",
       "    x.observe(notebookContainer, {childList: true});\n",
       "}}\n",
       "\n",
       "// Listen for the clearing of the current output cell\n",
       "var outputEl = gd.closest('.output');\n",
       "if (outputEl) {{\n",
       "    x.observe(outputEl, {childList: true});\n",
       "}}\n",
       "\n",
       "                        })                };                            </script>        </div>\n",
       "</body>\n",
       "</html>"
      ]
     },
     "metadata": {},
     "output_type": "display_data"
    }
   ],
   "source": [
    "# \n",
    "fig = px.bar(df_deaths_tidy, x=\"Municipio_Nombre\",  y=\"Total_Muertos\", title='Top 10 municipios con numero de personas muertas en accidentes 1997-2021 - Sonora')\n",
    "fig.show()"
   ]
  },
  {
   "cell_type": "code",
   "execution_count": null,
   "metadata": {
    "colab": {
     "base_uri": "https://localhost:8080/",
     "height": 394
    },
    "id": "DXXPJmpmdNgB",
    "outputId": "5976360e-bada-485d-c373-7aa780f1bfa8"
   },
   "outputs": [
    {
     "data": {
      "text/html": [
       "\n",
       "  <div id=\"df-61d39d2b-6c98-4da5-927c-d7587d233a2c\">\n",
       "    <div class=\"colab-df-container\">\n",
       "      <div>\n",
       "<style scoped>\n",
       "    .dataframe tbody tr th:only-of-type {\n",
       "        vertical-align: middle;\n",
       "    }\n",
       "\n",
       "    .dataframe tbody tr th {\n",
       "        vertical-align: top;\n",
       "    }\n",
       "\n",
       "    .dataframe thead th {\n",
       "        text-align: right;\n",
       "    }\n",
       "</style>\n",
       "<table border=\"1\" class=\"dataframe\">\n",
       "  <thead>\n",
       "    <tr style=\"text-align: right;\">\n",
       "      <th></th>\n",
       "      <th>Total_Muertos</th>\n",
       "      <th>Total_Heridos</th>\n",
       "    </tr>\n",
       "    <tr>\n",
       "      <th>ID_MUNICIPIO</th>\n",
       "      <th></th>\n",
       "      <th></th>\n",
       "    </tr>\n",
       "  </thead>\n",
       "  <tbody>\n",
       "    <tr>\n",
       "      <th>30</th>\n",
       "      <td>1203</td>\n",
       "      <td>52533</td>\n",
       "    </tr>\n",
       "    <tr>\n",
       "      <th>18</th>\n",
       "      <td>798</td>\n",
       "      <td>30347</td>\n",
       "    </tr>\n",
       "    <tr>\n",
       "      <th>55</th>\n",
       "      <td>543</td>\n",
       "      <td>14906</td>\n",
       "    </tr>\n",
       "    <tr>\n",
       "      <th>17</th>\n",
       "      <td>445</td>\n",
       "      <td>10167</td>\n",
       "    </tr>\n",
       "    <tr>\n",
       "      <th>42</th>\n",
       "      <td>393</td>\n",
       "      <td>7912</td>\n",
       "    </tr>\n",
       "    <tr>\n",
       "      <th>43</th>\n",
       "      <td>364</td>\n",
       "      <td>14160</td>\n",
       "    </tr>\n",
       "    <tr>\n",
       "      <th>26</th>\n",
       "      <td>296</td>\n",
       "      <td>3420</td>\n",
       "    </tr>\n",
       "    <tr>\n",
       "      <th>29</th>\n",
       "      <td>293</td>\n",
       "      <td>13803</td>\n",
       "    </tr>\n",
       "    <tr>\n",
       "      <th>48</th>\n",
       "      <td>233</td>\n",
       "      <td>3302</td>\n",
       "    </tr>\n",
       "    <tr>\n",
       "      <th>33</th>\n",
       "      <td>210</td>\n",
       "      <td>2022</td>\n",
       "    </tr>\n",
       "  </tbody>\n",
       "</table>\n",
       "</div>\n",
       "      <button class=\"colab-df-convert\" onclick=\"convertToInteractive('df-61d39d2b-6c98-4da5-927c-d7587d233a2c')\"\n",
       "              title=\"Convert this dataframe to an interactive table.\"\n",
       "              style=\"display:none;\">\n",
       "        \n",
       "  <svg xmlns=\"http://www.w3.org/2000/svg\" height=\"24px\"viewBox=\"0 0 24 24\"\n",
       "       width=\"24px\">\n",
       "    <path d=\"M0 0h24v24H0V0z\" fill=\"none\"/>\n",
       "    <path d=\"M18.56 5.44l.94 2.06.94-2.06 2.06-.94-2.06-.94-.94-2.06-.94 2.06-2.06.94zm-11 1L8.5 8.5l.94-2.06 2.06-.94-2.06-.94L8.5 2.5l-.94 2.06-2.06.94zm10 10l.94 2.06.94-2.06 2.06-.94-2.06-.94-.94-2.06-.94 2.06-2.06.94z\"/><path d=\"M17.41 7.96l-1.37-1.37c-.4-.4-.92-.59-1.43-.59-.52 0-1.04.2-1.43.59L10.3 9.45l-7.72 7.72c-.78.78-.78 2.05 0 2.83L4 21.41c.39.39.9.59 1.41.59.51 0 1.02-.2 1.41-.59l7.78-7.78 2.81-2.81c.8-.78.8-2.07 0-2.86zM5.41 20L4 18.59l7.72-7.72 1.47 1.35L5.41 20z\"/>\n",
       "  </svg>\n",
       "      </button>\n",
       "      \n",
       "  <style>\n",
       "    .colab-df-container {\n",
       "      display:flex;\n",
       "      flex-wrap:wrap;\n",
       "      gap: 12px;\n",
       "    }\n",
       "\n",
       "    .colab-df-convert {\n",
       "      background-color: #E8F0FE;\n",
       "      border: none;\n",
       "      border-radius: 50%;\n",
       "      cursor: pointer;\n",
       "      display: none;\n",
       "      fill: #1967D2;\n",
       "      height: 32px;\n",
       "      padding: 0 0 0 0;\n",
       "      width: 32px;\n",
       "    }\n",
       "\n",
       "    .colab-df-convert:hover {\n",
       "      background-color: #E2EBFA;\n",
       "      box-shadow: 0px 1px 2px rgba(60, 64, 67, 0.3), 0px 1px 3px 1px rgba(60, 64, 67, 0.15);\n",
       "      fill: #174EA6;\n",
       "    }\n",
       "\n",
       "    [theme=dark] .colab-df-convert {\n",
       "      background-color: #3B4455;\n",
       "      fill: #D2E3FC;\n",
       "    }\n",
       "\n",
       "    [theme=dark] .colab-df-convert:hover {\n",
       "      background-color: #434B5C;\n",
       "      box-shadow: 0px 1px 3px 1px rgba(0, 0, 0, 0.15);\n",
       "      filter: drop-shadow(0px 1px 2px rgba(0, 0, 0, 0.3));\n",
       "      fill: #FFFFFF;\n",
       "    }\n",
       "  </style>\n",
       "\n",
       "      <script>\n",
       "        const buttonEl =\n",
       "          document.querySelector('#df-61d39d2b-6c98-4da5-927c-d7587d233a2c button.colab-df-convert');\n",
       "        buttonEl.style.display =\n",
       "          google.colab.kernel.accessAllowed ? 'block' : 'none';\n",
       "\n",
       "        async function convertToInteractive(key) {\n",
       "          const element = document.querySelector('#df-61d39d2b-6c98-4da5-927c-d7587d233a2c');\n",
       "          const dataTable =\n",
       "            await google.colab.kernel.invokeFunction('convertToInteractive',\n",
       "                                                     [key], {});\n",
       "          if (!dataTable) return;\n",
       "\n",
       "          const docLinkHtml = 'Like what you see? Visit the ' +\n",
       "            '<a target=\"_blank\" href=https://colab.research.google.com/notebooks/data_table.ipynb>data table notebook</a>'\n",
       "            + ' to learn more about interactive tables.';\n",
       "          element.innerHTML = '';\n",
       "          dataTable['output_type'] = 'display_data';\n",
       "          await google.colab.output.renderOutput(dataTable, element);\n",
       "          const docLink = document.createElement('div');\n",
       "          docLink.innerHTML = docLinkHtml;\n",
       "          element.appendChild(docLink);\n",
       "        }\n",
       "      </script>\n",
       "    </div>\n",
       "  </div>\n",
       "  "
      ],
      "text/plain": [
       "              Total_Muertos  Total_Heridos\n",
       "ID_MUNICIPIO                              \n",
       "30                     1203          52533\n",
       "18                      798          30347\n",
       "55                      543          14906\n",
       "17                      445          10167\n",
       "42                      393           7912\n",
       "43                      364          14160\n",
       "26                      296           3420\n",
       "29                      293          13803\n",
       "48                      233           3302\n",
       "33                      210           2022"
      ]
     },
     "execution_count": 15,
     "metadata": {},
     "output_type": "execute_result"
    }
   ],
   "source": [
    "df_deaths_tidy"
   ]
  },
  {
   "cell_type": "code",
   "execution_count": null,
   "metadata": {
    "colab": {
     "base_uri": "https://localhost:8080/",
     "height": 542
    },
    "id": "m8oQJHBSs1pp",
    "outputId": "f3878e2c-10be-4ce4-836e-bd9e5f06c1b8"
   },
   "outputs": [
    {
     "data": {
      "text/html": [
       "<html>\n",
       "<head><meta charset=\"utf-8\" /></head>\n",
       "<body>\n",
       "    <div>            <script src=\"https://cdnjs.cloudflare.com/ajax/libs/mathjax/2.7.5/MathJax.js?config=TeX-AMS-MML_SVG\"></script><script type=\"text/javascript\">if (window.MathJax) {MathJax.Hub.Config({SVG: {font: \"STIX-Web\"}});}</script>                <script type=\"text/javascript\">window.PlotlyConfig = {MathJaxConfig: 'local'};</script>\n",
       "        <script src=\"https://cdn.plot.ly/plotly-2.8.3.min.js\"></script>                <div id=\"a883dfb2-5fa0-4c31-97a8-ac883c18270c\" class=\"plotly-graph-div\" style=\"height:525px; width:100%;\"></div>            <script type=\"text/javascript\">                                    window.PLOTLYENV=window.PLOTLYENV || {};                                    if (document.getElementById(\"a883dfb2-5fa0-4c31-97a8-ac883c18270c\")) {                    Plotly.newPlot(                        \"a883dfb2-5fa0-4c31-97a8-ac883c18270c\",                        [{\"labels\":[\"Certificado cero\",\"No\",\"Se ignora\",\"S\\u00ed\"],\"name\":\"Uso del cinturon en accidentes - Sonora\",\"values\":[1816,97002,219064,69958],\"type\":\"pie\",\"domain\":{\"x\":[0.0,0.45],\"y\":[0.0,1.0]}},{\"labels\":[\"Certificado cero\",\"No\",\"Se ignora\",\"S\\u00ed\"],\"name\":\"Uso del cinturon en accidentes 2021 - Sonora\",\"values\":[466,1931,8180,10632],\"type\":\"pie\",\"domain\":{\"x\":[0.55,1.0],\"y\":[0.0,1.0]}}],                        {\"template\":{\"data\":{\"bar\":[{\"error_x\":{\"color\":\"#2a3f5f\"},\"error_y\":{\"color\":\"#2a3f5f\"},\"marker\":{\"line\":{\"color\":\"#E5ECF6\",\"width\":0.5},\"pattern\":{\"fillmode\":\"overlay\",\"size\":10,\"solidity\":0.2}},\"type\":\"bar\"}],\"barpolar\":[{\"marker\":{\"line\":{\"color\":\"#E5ECF6\",\"width\":0.5},\"pattern\":{\"fillmode\":\"overlay\",\"size\":10,\"solidity\":0.2}},\"type\":\"barpolar\"}],\"carpet\":[{\"aaxis\":{\"endlinecolor\":\"#2a3f5f\",\"gridcolor\":\"white\",\"linecolor\":\"white\",\"minorgridcolor\":\"white\",\"startlinecolor\":\"#2a3f5f\"},\"baxis\":{\"endlinecolor\":\"#2a3f5f\",\"gridcolor\":\"white\",\"linecolor\":\"white\",\"minorgridcolor\":\"white\",\"startlinecolor\":\"#2a3f5f\"},\"type\":\"carpet\"}],\"choropleth\":[{\"colorbar\":{\"outlinewidth\":0,\"ticks\":\"\"},\"type\":\"choropleth\"}],\"contour\":[{\"colorbar\":{\"outlinewidth\":0,\"ticks\":\"\"},\"colorscale\":[[0.0,\"#0d0887\"],[0.1111111111111111,\"#46039f\"],[0.2222222222222222,\"#7201a8\"],[0.3333333333333333,\"#9c179e\"],[0.4444444444444444,\"#bd3786\"],[0.5555555555555556,\"#d8576b\"],[0.6666666666666666,\"#ed7953\"],[0.7777777777777778,\"#fb9f3a\"],[0.8888888888888888,\"#fdca26\"],[1.0,\"#f0f921\"]],\"type\":\"contour\"}],\"contourcarpet\":[{\"colorbar\":{\"outlinewidth\":0,\"ticks\":\"\"},\"type\":\"contourcarpet\"}],\"heatmap\":[{\"colorbar\":{\"outlinewidth\":0,\"ticks\":\"\"},\"colorscale\":[[0.0,\"#0d0887\"],[0.1111111111111111,\"#46039f\"],[0.2222222222222222,\"#7201a8\"],[0.3333333333333333,\"#9c179e\"],[0.4444444444444444,\"#bd3786\"],[0.5555555555555556,\"#d8576b\"],[0.6666666666666666,\"#ed7953\"],[0.7777777777777778,\"#fb9f3a\"],[0.8888888888888888,\"#fdca26\"],[1.0,\"#f0f921\"]],\"type\":\"heatmap\"}],\"heatmapgl\":[{\"colorbar\":{\"outlinewidth\":0,\"ticks\":\"\"},\"colorscale\":[[0.0,\"#0d0887\"],[0.1111111111111111,\"#46039f\"],[0.2222222222222222,\"#7201a8\"],[0.3333333333333333,\"#9c179e\"],[0.4444444444444444,\"#bd3786\"],[0.5555555555555556,\"#d8576b\"],[0.6666666666666666,\"#ed7953\"],[0.7777777777777778,\"#fb9f3a\"],[0.8888888888888888,\"#fdca26\"],[1.0,\"#f0f921\"]],\"type\":\"heatmapgl\"}],\"histogram\":[{\"marker\":{\"pattern\":{\"fillmode\":\"overlay\",\"size\":10,\"solidity\":0.2}},\"type\":\"histogram\"}],\"histogram2d\":[{\"colorbar\":{\"outlinewidth\":0,\"ticks\":\"\"},\"colorscale\":[[0.0,\"#0d0887\"],[0.1111111111111111,\"#46039f\"],[0.2222222222222222,\"#7201a8\"],[0.3333333333333333,\"#9c179e\"],[0.4444444444444444,\"#bd3786\"],[0.5555555555555556,\"#d8576b\"],[0.6666666666666666,\"#ed7953\"],[0.7777777777777778,\"#fb9f3a\"],[0.8888888888888888,\"#fdca26\"],[1.0,\"#f0f921\"]],\"type\":\"histogram2d\"}],\"histogram2dcontour\":[{\"colorbar\":{\"outlinewidth\":0,\"ticks\":\"\"},\"colorscale\":[[0.0,\"#0d0887\"],[0.1111111111111111,\"#46039f\"],[0.2222222222222222,\"#7201a8\"],[0.3333333333333333,\"#9c179e\"],[0.4444444444444444,\"#bd3786\"],[0.5555555555555556,\"#d8576b\"],[0.6666666666666666,\"#ed7953\"],[0.7777777777777778,\"#fb9f3a\"],[0.8888888888888888,\"#fdca26\"],[1.0,\"#f0f921\"]],\"type\":\"histogram2dcontour\"}],\"mesh3d\":[{\"colorbar\":{\"outlinewidth\":0,\"ticks\":\"\"},\"type\":\"mesh3d\"}],\"parcoords\":[{\"line\":{\"colorbar\":{\"outlinewidth\":0,\"ticks\":\"\"}},\"type\":\"parcoords\"}],\"pie\":[{\"automargin\":true,\"type\":\"pie\"}],\"scatter\":[{\"marker\":{\"colorbar\":{\"outlinewidth\":0,\"ticks\":\"\"}},\"type\":\"scatter\"}],\"scatter3d\":[{\"line\":{\"colorbar\":{\"outlinewidth\":0,\"ticks\":\"\"}},\"marker\":{\"colorbar\":{\"outlinewidth\":0,\"ticks\":\"\"}},\"type\":\"scatter3d\"}],\"scattercarpet\":[{\"marker\":{\"colorbar\":{\"outlinewidth\":0,\"ticks\":\"\"}},\"type\":\"scattercarpet\"}],\"scattergeo\":[{\"marker\":{\"colorbar\":{\"outlinewidth\":0,\"ticks\":\"\"}},\"type\":\"scattergeo\"}],\"scattergl\":[{\"marker\":{\"colorbar\":{\"outlinewidth\":0,\"ticks\":\"\"}},\"type\":\"scattergl\"}],\"scattermapbox\":[{\"marker\":{\"colorbar\":{\"outlinewidth\":0,\"ticks\":\"\"}},\"type\":\"scattermapbox\"}],\"scatterpolar\":[{\"marker\":{\"colorbar\":{\"outlinewidth\":0,\"ticks\":\"\"}},\"type\":\"scatterpolar\"}],\"scatterpolargl\":[{\"marker\":{\"colorbar\":{\"outlinewidth\":0,\"ticks\":\"\"}},\"type\":\"scatterpolargl\"}],\"scatterternary\":[{\"marker\":{\"colorbar\":{\"outlinewidth\":0,\"ticks\":\"\"}},\"type\":\"scatterternary\"}],\"surface\":[{\"colorbar\":{\"outlinewidth\":0,\"ticks\":\"\"},\"colorscale\":[[0.0,\"#0d0887\"],[0.1111111111111111,\"#46039f\"],[0.2222222222222222,\"#7201a8\"],[0.3333333333333333,\"#9c179e\"],[0.4444444444444444,\"#bd3786\"],[0.5555555555555556,\"#d8576b\"],[0.6666666666666666,\"#ed7953\"],[0.7777777777777778,\"#fb9f3a\"],[0.8888888888888888,\"#fdca26\"],[1.0,\"#f0f921\"]],\"type\":\"surface\"}],\"table\":[{\"cells\":{\"fill\":{\"color\":\"#EBF0F8\"},\"line\":{\"color\":\"white\"}},\"header\":{\"fill\":{\"color\":\"#C8D4E3\"},\"line\":{\"color\":\"white\"}},\"type\":\"table\"}]},\"layout\":{\"annotationdefaults\":{\"arrowcolor\":\"#2a3f5f\",\"arrowhead\":0,\"arrowwidth\":1},\"autotypenumbers\":\"strict\",\"coloraxis\":{\"colorbar\":{\"outlinewidth\":0,\"ticks\":\"\"}},\"colorscale\":{\"diverging\":[[0,\"#8e0152\"],[0.1,\"#c51b7d\"],[0.2,\"#de77ae\"],[0.3,\"#f1b6da\"],[0.4,\"#fde0ef\"],[0.5,\"#f7f7f7\"],[0.6,\"#e6f5d0\"],[0.7,\"#b8e186\"],[0.8,\"#7fbc41\"],[0.9,\"#4d9221\"],[1,\"#276419\"]],\"sequential\":[[0.0,\"#0d0887\"],[0.1111111111111111,\"#46039f\"],[0.2222222222222222,\"#7201a8\"],[0.3333333333333333,\"#9c179e\"],[0.4444444444444444,\"#bd3786\"],[0.5555555555555556,\"#d8576b\"],[0.6666666666666666,\"#ed7953\"],[0.7777777777777778,\"#fb9f3a\"],[0.8888888888888888,\"#fdca26\"],[1.0,\"#f0f921\"]],\"sequentialminus\":[[0.0,\"#0d0887\"],[0.1111111111111111,\"#46039f\"],[0.2222222222222222,\"#7201a8\"],[0.3333333333333333,\"#9c179e\"],[0.4444444444444444,\"#bd3786\"],[0.5555555555555556,\"#d8576b\"],[0.6666666666666666,\"#ed7953\"],[0.7777777777777778,\"#fb9f3a\"],[0.8888888888888888,\"#fdca26\"],[1.0,\"#f0f921\"]]},\"colorway\":[\"#636efa\",\"#EF553B\",\"#00cc96\",\"#ab63fa\",\"#FFA15A\",\"#19d3f3\",\"#FF6692\",\"#B6E880\",\"#FF97FF\",\"#FECB52\"],\"font\":{\"color\":\"#2a3f5f\"},\"geo\":{\"bgcolor\":\"white\",\"lakecolor\":\"white\",\"landcolor\":\"#E5ECF6\",\"showlakes\":true,\"showland\":true,\"subunitcolor\":\"white\"},\"hoverlabel\":{\"align\":\"left\"},\"hovermode\":\"closest\",\"mapbox\":{\"style\":\"light\"},\"paper_bgcolor\":\"white\",\"plot_bgcolor\":\"#E5ECF6\",\"polar\":{\"angularaxis\":{\"gridcolor\":\"white\",\"linecolor\":\"white\",\"ticks\":\"\"},\"bgcolor\":\"#E5ECF6\",\"radialaxis\":{\"gridcolor\":\"white\",\"linecolor\":\"white\",\"ticks\":\"\"}},\"scene\":{\"xaxis\":{\"backgroundcolor\":\"#E5ECF6\",\"gridcolor\":\"white\",\"gridwidth\":2,\"linecolor\":\"white\",\"showbackground\":true,\"ticks\":\"\",\"zerolinecolor\":\"white\"},\"yaxis\":{\"backgroundcolor\":\"#E5ECF6\",\"gridcolor\":\"white\",\"gridwidth\":2,\"linecolor\":\"white\",\"showbackground\":true,\"ticks\":\"\",\"zerolinecolor\":\"white\"},\"zaxis\":{\"backgroundcolor\":\"#E5ECF6\",\"gridcolor\":\"white\",\"gridwidth\":2,\"linecolor\":\"white\",\"showbackground\":true,\"ticks\":\"\",\"zerolinecolor\":\"white\"}},\"shapedefaults\":{\"line\":{\"color\":\"#2a3f5f\"}},\"ternary\":{\"aaxis\":{\"gridcolor\":\"white\",\"linecolor\":\"white\",\"ticks\":\"\"},\"baxis\":{\"gridcolor\":\"white\",\"linecolor\":\"white\",\"ticks\":\"\"},\"bgcolor\":\"#E5ECF6\",\"caxis\":{\"gridcolor\":\"white\",\"linecolor\":\"white\",\"ticks\":\"\"}},\"title\":{\"x\":0.05},\"xaxis\":{\"automargin\":true,\"gridcolor\":\"white\",\"linecolor\":\"white\",\"ticks\":\"\",\"title\":{\"standoff\":15},\"zerolinecolor\":\"white\",\"zerolinewidth\":2},\"yaxis\":{\"automargin\":true,\"gridcolor\":\"white\",\"linecolor\":\"white\",\"ticks\":\"\",\"title\":{\"standoff\":15},\"zerolinecolor\":\"white\",\"zerolinewidth\":2}}},\"annotations\":[{\"font\":{\"size\":16},\"showarrow\":false,\"text\":\"1997-2021\",\"x\":0.225,\"xanchor\":\"center\",\"xref\":\"paper\",\"y\":1.0,\"yanchor\":\"bottom\",\"yref\":\"paper\"},{\"font\":{\"size\":16},\"showarrow\":false,\"text\":\"2021\",\"x\":0.775,\"xanchor\":\"center\",\"xref\":\"paper\",\"y\":1.0,\"yanchor\":\"bottom\",\"yref\":\"paper\"}],\"title\":{\"text\":\"Uso del cinturon en accidentes - Sonora\"}},                        {\"responsive\": true}                    ).then(function(){\n",
       "                            \n",
       "var gd = document.getElementById('a883dfb2-5fa0-4c31-97a8-ac883c18270c');\n",
       "var x = new MutationObserver(function (mutations, observer) {{\n",
       "        var display = window.getComputedStyle(gd).display;\n",
       "        if (!display || display === 'none') {{\n",
       "            console.log([gd, 'removed!']);\n",
       "            Plotly.purge(gd);\n",
       "            observer.disconnect();\n",
       "        }}\n",
       "}});\n",
       "\n",
       "// Listen for the removal of the full notebook cells\n",
       "var notebookContainer = gd.closest('#notebook-container');\n",
       "if (notebookContainer) {{\n",
       "    x.observe(notebookContainer, {childList: true});\n",
       "}}\n",
       "\n",
       "// Listen for the clearing of the current output cell\n",
       "var outputEl = gd.closest('.output');\n",
       "if (outputEl) {{\n",
       "    x.observe(outputEl, {childList: true});\n",
       "}}\n",
       "\n",
       "                        })                };                            </script>        </div>\n",
       "</body>\n",
       "</html>"
      ]
     },
     "metadata": {},
     "output_type": "display_data"
    }
   ],
   "source": [
    "df_Sonora_Complete_Cinturon_Todos = df_Sonora_Complete.groupby(\"CINTURON\").agg({\n",
    "    \"CINTURON\" : 'count',\n",
    "})\n",
    "df_Sonora_Complete_Cinturon_2021 = df_Sonora_Complete[df_Sonora_Complete[\"ANIO\"] == 2021].groupby(\"CINTURON\").agg({\n",
    "    \"CINTURON\" : 'count',\n",
    "})\n",
    "\n",
    "labels = df_Sonora_Complete_Cinturon_Todos.index\n",
    "\n",
    "fig = make_subplots(rows=1, cols=2, specs=[[{'type':'domain'}, {'type':'domain'}]],\n",
    "                    subplot_titles=['1997-2021', '2021'])\n",
    "\n",
    "fig.add_trace(go.Pie(labels=labels, values=df_Sonora_Complete_Cinturon_Todos[\"CINTURON\"],\n",
    "                     name=\"Uso del cinturon en accidentes - Sonora\"), 1, 1)\n",
    "\n",
    "fig.add_trace(go.Pie(labels=labels, values=df_Sonora_Complete_Cinturon_2021[\"CINTURON\"],\n",
    "                     name=\"Uso del cinturon en accidentes 2021 - Sonora\"), 1, 2)\n",
    "\n",
    "fig.update_layout(title_text='Uso del cinturon en accidentes - Sonora')\n",
    "\n",
    "fig.show()"
   ]
  },
  {
   "cell_type": "code",
   "execution_count": null,
   "metadata": {
    "colab": {
     "base_uri": "https://localhost:8080/",
     "height": 542
    },
    "id": "PAldHt1Wd7Cq",
    "outputId": "767782f0-4050-4b75-efeb-f483a3f4d812"
   },
   "outputs": [
    {
     "data": {
      "text/html": [
       "<html>\n",
       "<head><meta charset=\"utf-8\" /></head>\n",
       "<body>\n",
       "    <div>            <script src=\"https://cdnjs.cloudflare.com/ajax/libs/mathjax/2.7.5/MathJax.js?config=TeX-AMS-MML_SVG\"></script><script type=\"text/javascript\">if (window.MathJax) {MathJax.Hub.Config({SVG: {font: \"STIX-Web\"}});}</script>                <script type=\"text/javascript\">window.PlotlyConfig = {MathJaxConfig: 'local'};</script>\n",
       "        <script src=\"https://cdn.plot.ly/plotly-2.8.3.min.js\"></script>                <div id=\"a81e761c-e1e5-44e5-af0e-4e458cf90cc7\" class=\"plotly-graph-div\" style=\"height:525px; width:100%;\"></div>            <script type=\"text/javascript\">                                    window.PLOTLYENV=window.PLOTLYENV || {};                                    if (document.getElementById(\"a81e761c-e1e5-44e5-af0e-4e458cf90cc7\")) {                    Plotly.newPlot(                        \"a81e761c-e1e5-44e5-af0e-4e458cf90cc7\",                        [{\"labels\":[\"No\",\"Se ignora\",\"S\\u00ed\"],\"name\":\"Uso del cinturon en accidentes Mortales - Sonora\",\"values\":[1642,3433,623],\"type\":\"pie\",\"domain\":{\"x\":[0.0,0.45],\"y\":[0.0,1.0]}},{\"labels\":[\"No\",\"Se ignora\",\"S\\u00ed\"],\"name\":\"Uso del cinturon en accidentes Mortales 2021 - Sonora\",\"values\":[42,76,37],\"type\":\"pie\",\"domain\":{\"x\":[0.55,1.0],\"y\":[0.0,1.0]}}],                        {\"template\":{\"data\":{\"bar\":[{\"error_x\":{\"color\":\"#2a3f5f\"},\"error_y\":{\"color\":\"#2a3f5f\"},\"marker\":{\"line\":{\"color\":\"#E5ECF6\",\"width\":0.5},\"pattern\":{\"fillmode\":\"overlay\",\"size\":10,\"solidity\":0.2}},\"type\":\"bar\"}],\"barpolar\":[{\"marker\":{\"line\":{\"color\":\"#E5ECF6\",\"width\":0.5},\"pattern\":{\"fillmode\":\"overlay\",\"size\":10,\"solidity\":0.2}},\"type\":\"barpolar\"}],\"carpet\":[{\"aaxis\":{\"endlinecolor\":\"#2a3f5f\",\"gridcolor\":\"white\",\"linecolor\":\"white\",\"minorgridcolor\":\"white\",\"startlinecolor\":\"#2a3f5f\"},\"baxis\":{\"endlinecolor\":\"#2a3f5f\",\"gridcolor\":\"white\",\"linecolor\":\"white\",\"minorgridcolor\":\"white\",\"startlinecolor\":\"#2a3f5f\"},\"type\":\"carpet\"}],\"choropleth\":[{\"colorbar\":{\"outlinewidth\":0,\"ticks\":\"\"},\"type\":\"choropleth\"}],\"contour\":[{\"colorbar\":{\"outlinewidth\":0,\"ticks\":\"\"},\"colorscale\":[[0.0,\"#0d0887\"],[0.1111111111111111,\"#46039f\"],[0.2222222222222222,\"#7201a8\"],[0.3333333333333333,\"#9c179e\"],[0.4444444444444444,\"#bd3786\"],[0.5555555555555556,\"#d8576b\"],[0.6666666666666666,\"#ed7953\"],[0.7777777777777778,\"#fb9f3a\"],[0.8888888888888888,\"#fdca26\"],[1.0,\"#f0f921\"]],\"type\":\"contour\"}],\"contourcarpet\":[{\"colorbar\":{\"outlinewidth\":0,\"ticks\":\"\"},\"type\":\"contourcarpet\"}],\"heatmap\":[{\"colorbar\":{\"outlinewidth\":0,\"ticks\":\"\"},\"colorscale\":[[0.0,\"#0d0887\"],[0.1111111111111111,\"#46039f\"],[0.2222222222222222,\"#7201a8\"],[0.3333333333333333,\"#9c179e\"],[0.4444444444444444,\"#bd3786\"],[0.5555555555555556,\"#d8576b\"],[0.6666666666666666,\"#ed7953\"],[0.7777777777777778,\"#fb9f3a\"],[0.8888888888888888,\"#fdca26\"],[1.0,\"#f0f921\"]],\"type\":\"heatmap\"}],\"heatmapgl\":[{\"colorbar\":{\"outlinewidth\":0,\"ticks\":\"\"},\"colorscale\":[[0.0,\"#0d0887\"],[0.1111111111111111,\"#46039f\"],[0.2222222222222222,\"#7201a8\"],[0.3333333333333333,\"#9c179e\"],[0.4444444444444444,\"#bd3786\"],[0.5555555555555556,\"#d8576b\"],[0.6666666666666666,\"#ed7953\"],[0.7777777777777778,\"#fb9f3a\"],[0.8888888888888888,\"#fdca26\"],[1.0,\"#f0f921\"]],\"type\":\"heatmapgl\"}],\"histogram\":[{\"marker\":{\"pattern\":{\"fillmode\":\"overlay\",\"size\":10,\"solidity\":0.2}},\"type\":\"histogram\"}],\"histogram2d\":[{\"colorbar\":{\"outlinewidth\":0,\"ticks\":\"\"},\"colorscale\":[[0.0,\"#0d0887\"],[0.1111111111111111,\"#46039f\"],[0.2222222222222222,\"#7201a8\"],[0.3333333333333333,\"#9c179e\"],[0.4444444444444444,\"#bd3786\"],[0.5555555555555556,\"#d8576b\"],[0.6666666666666666,\"#ed7953\"],[0.7777777777777778,\"#fb9f3a\"],[0.8888888888888888,\"#fdca26\"],[1.0,\"#f0f921\"]],\"type\":\"histogram2d\"}],\"histogram2dcontour\":[{\"colorbar\":{\"outlinewidth\":0,\"ticks\":\"\"},\"colorscale\":[[0.0,\"#0d0887\"],[0.1111111111111111,\"#46039f\"],[0.2222222222222222,\"#7201a8\"],[0.3333333333333333,\"#9c179e\"],[0.4444444444444444,\"#bd3786\"],[0.5555555555555556,\"#d8576b\"],[0.6666666666666666,\"#ed7953\"],[0.7777777777777778,\"#fb9f3a\"],[0.8888888888888888,\"#fdca26\"],[1.0,\"#f0f921\"]],\"type\":\"histogram2dcontour\"}],\"mesh3d\":[{\"colorbar\":{\"outlinewidth\":0,\"ticks\":\"\"},\"type\":\"mesh3d\"}],\"parcoords\":[{\"line\":{\"colorbar\":{\"outlinewidth\":0,\"ticks\":\"\"}},\"type\":\"parcoords\"}],\"pie\":[{\"automargin\":true,\"type\":\"pie\"}],\"scatter\":[{\"marker\":{\"colorbar\":{\"outlinewidth\":0,\"ticks\":\"\"}},\"type\":\"scatter\"}],\"scatter3d\":[{\"line\":{\"colorbar\":{\"outlinewidth\":0,\"ticks\":\"\"}},\"marker\":{\"colorbar\":{\"outlinewidth\":0,\"ticks\":\"\"}},\"type\":\"scatter3d\"}],\"scattercarpet\":[{\"marker\":{\"colorbar\":{\"outlinewidth\":0,\"ticks\":\"\"}},\"type\":\"scattercarpet\"}],\"scattergeo\":[{\"marker\":{\"colorbar\":{\"outlinewidth\":0,\"ticks\":\"\"}},\"type\":\"scattergeo\"}],\"scattergl\":[{\"marker\":{\"colorbar\":{\"outlinewidth\":0,\"ticks\":\"\"}},\"type\":\"scattergl\"}],\"scattermapbox\":[{\"marker\":{\"colorbar\":{\"outlinewidth\":0,\"ticks\":\"\"}},\"type\":\"scattermapbox\"}],\"scatterpolar\":[{\"marker\":{\"colorbar\":{\"outlinewidth\":0,\"ticks\":\"\"}},\"type\":\"scatterpolar\"}],\"scatterpolargl\":[{\"marker\":{\"colorbar\":{\"outlinewidth\":0,\"ticks\":\"\"}},\"type\":\"scatterpolargl\"}],\"scatterternary\":[{\"marker\":{\"colorbar\":{\"outlinewidth\":0,\"ticks\":\"\"}},\"type\":\"scatterternary\"}],\"surface\":[{\"colorbar\":{\"outlinewidth\":0,\"ticks\":\"\"},\"colorscale\":[[0.0,\"#0d0887\"],[0.1111111111111111,\"#46039f\"],[0.2222222222222222,\"#7201a8\"],[0.3333333333333333,\"#9c179e\"],[0.4444444444444444,\"#bd3786\"],[0.5555555555555556,\"#d8576b\"],[0.6666666666666666,\"#ed7953\"],[0.7777777777777778,\"#fb9f3a\"],[0.8888888888888888,\"#fdca26\"],[1.0,\"#f0f921\"]],\"type\":\"surface\"}],\"table\":[{\"cells\":{\"fill\":{\"color\":\"#EBF0F8\"},\"line\":{\"color\":\"white\"}},\"header\":{\"fill\":{\"color\":\"#C8D4E3\"},\"line\":{\"color\":\"white\"}},\"type\":\"table\"}]},\"layout\":{\"annotationdefaults\":{\"arrowcolor\":\"#2a3f5f\",\"arrowhead\":0,\"arrowwidth\":1},\"autotypenumbers\":\"strict\",\"coloraxis\":{\"colorbar\":{\"outlinewidth\":0,\"ticks\":\"\"}},\"colorscale\":{\"diverging\":[[0,\"#8e0152\"],[0.1,\"#c51b7d\"],[0.2,\"#de77ae\"],[0.3,\"#f1b6da\"],[0.4,\"#fde0ef\"],[0.5,\"#f7f7f7\"],[0.6,\"#e6f5d0\"],[0.7,\"#b8e186\"],[0.8,\"#7fbc41\"],[0.9,\"#4d9221\"],[1,\"#276419\"]],\"sequential\":[[0.0,\"#0d0887\"],[0.1111111111111111,\"#46039f\"],[0.2222222222222222,\"#7201a8\"],[0.3333333333333333,\"#9c179e\"],[0.4444444444444444,\"#bd3786\"],[0.5555555555555556,\"#d8576b\"],[0.6666666666666666,\"#ed7953\"],[0.7777777777777778,\"#fb9f3a\"],[0.8888888888888888,\"#fdca26\"],[1.0,\"#f0f921\"]],\"sequentialminus\":[[0.0,\"#0d0887\"],[0.1111111111111111,\"#46039f\"],[0.2222222222222222,\"#7201a8\"],[0.3333333333333333,\"#9c179e\"],[0.4444444444444444,\"#bd3786\"],[0.5555555555555556,\"#d8576b\"],[0.6666666666666666,\"#ed7953\"],[0.7777777777777778,\"#fb9f3a\"],[0.8888888888888888,\"#fdca26\"],[1.0,\"#f0f921\"]]},\"colorway\":[\"#636efa\",\"#EF553B\",\"#00cc96\",\"#ab63fa\",\"#FFA15A\",\"#19d3f3\",\"#FF6692\",\"#B6E880\",\"#FF97FF\",\"#FECB52\"],\"font\":{\"color\":\"#2a3f5f\"},\"geo\":{\"bgcolor\":\"white\",\"lakecolor\":\"white\",\"landcolor\":\"#E5ECF6\",\"showlakes\":true,\"showland\":true,\"subunitcolor\":\"white\"},\"hoverlabel\":{\"align\":\"left\"},\"hovermode\":\"closest\",\"mapbox\":{\"style\":\"light\"},\"paper_bgcolor\":\"white\",\"plot_bgcolor\":\"#E5ECF6\",\"polar\":{\"angularaxis\":{\"gridcolor\":\"white\",\"linecolor\":\"white\",\"ticks\":\"\"},\"bgcolor\":\"#E5ECF6\",\"radialaxis\":{\"gridcolor\":\"white\",\"linecolor\":\"white\",\"ticks\":\"\"}},\"scene\":{\"xaxis\":{\"backgroundcolor\":\"#E5ECF6\",\"gridcolor\":\"white\",\"gridwidth\":2,\"linecolor\":\"white\",\"showbackground\":true,\"ticks\":\"\",\"zerolinecolor\":\"white\"},\"yaxis\":{\"backgroundcolor\":\"#E5ECF6\",\"gridcolor\":\"white\",\"gridwidth\":2,\"linecolor\":\"white\",\"showbackground\":true,\"ticks\":\"\",\"zerolinecolor\":\"white\"},\"zaxis\":{\"backgroundcolor\":\"#E5ECF6\",\"gridcolor\":\"white\",\"gridwidth\":2,\"linecolor\":\"white\",\"showbackground\":true,\"ticks\":\"\",\"zerolinecolor\":\"white\"}},\"shapedefaults\":{\"line\":{\"color\":\"#2a3f5f\"}},\"ternary\":{\"aaxis\":{\"gridcolor\":\"white\",\"linecolor\":\"white\",\"ticks\":\"\"},\"baxis\":{\"gridcolor\":\"white\",\"linecolor\":\"white\",\"ticks\":\"\"},\"bgcolor\":\"#E5ECF6\",\"caxis\":{\"gridcolor\":\"white\",\"linecolor\":\"white\",\"ticks\":\"\"}},\"title\":{\"x\":0.05},\"xaxis\":{\"automargin\":true,\"gridcolor\":\"white\",\"linecolor\":\"white\",\"ticks\":\"\",\"title\":{\"standoff\":15},\"zerolinecolor\":\"white\",\"zerolinewidth\":2},\"yaxis\":{\"automargin\":true,\"gridcolor\":\"white\",\"linecolor\":\"white\",\"ticks\":\"\",\"title\":{\"standoff\":15},\"zerolinecolor\":\"white\",\"zerolinewidth\":2}}},\"annotations\":[{\"font\":{\"size\":16},\"showarrow\":false,\"text\":\"1997-2021\",\"x\":0.225,\"xanchor\":\"center\",\"xref\":\"paper\",\"y\":1.0,\"yanchor\":\"bottom\",\"yref\":\"paper\"},{\"font\":{\"size\":16},\"showarrow\":false,\"text\":\"2021\",\"x\":0.775,\"xanchor\":\"center\",\"xref\":\"paper\",\"y\":1.0,\"yanchor\":\"bottom\",\"yref\":\"paper\"}],\"title\":{\"text\":\"Uso del cinturon en accidentes MORTALES - Sonora\"}},                        {\"responsive\": true}                    ).then(function(){\n",
       "                            \n",
       "var gd = document.getElementById('a81e761c-e1e5-44e5-af0e-4e458cf90cc7');\n",
       "var x = new MutationObserver(function (mutations, observer) {{\n",
       "        var display = window.getComputedStyle(gd).display;\n",
       "        if (!display || display === 'none') {{\n",
       "            console.log([gd, 'removed!']);\n",
       "            Plotly.purge(gd);\n",
       "            observer.disconnect();\n",
       "        }}\n",
       "}});\n",
       "\n",
       "// Listen for the removal of the full notebook cells\n",
       "var notebookContainer = gd.closest('#notebook-container');\n",
       "if (notebookContainer) {{\n",
       "    x.observe(notebookContainer, {childList: true});\n",
       "}}\n",
       "\n",
       "// Listen for the clearing of the current output cell\n",
       "var outputEl = gd.closest('.output');\n",
       "if (outputEl) {{\n",
       "    x.observe(outputEl, {childList: true});\n",
       "}}\n",
       "\n",
       "                        })                };                            </script>        </div>\n",
       "</body>\n",
       "</html>"
      ]
     },
     "metadata": {},
     "output_type": "display_data"
    }
   ],
   "source": [
    "df_Sonora_Cinturon_Mortales_Todos= df_Sonora_Complete[df_Sonora_Complete['Total_Muertos'] > 0].groupby(\"CINTURON\").agg({\n",
    "    \"CINTURON\" : 'count',\n",
    "})\n",
    "\n",
    "df_Sonora_Cinturon_Mortales_2021 = df_Sonora_Complete[(df_Sonora_Complete['Total_Muertos'] > 0) & (df_Sonora_Complete['ANIO'] == 2021)].groupby(\"CINTURON\").agg({\n",
    "    \"CINTURON\" : 'count',\n",
    "})\n",
    "\n",
    "\n",
    "labels = df_Sonora_Cinturon_Mortales_Todos.index\n",
    "\n",
    "fig = make_subplots(rows=1, cols=2, specs=[[{'type':'domain'}, {'type':'domain'}]],\n",
    "                    subplot_titles=['1997-2021', '2021'])\n",
    "\n",
    "fig.add_trace(go.Pie(labels=labels, values=df_Sonora_Cinturon_Mortales_Todos[\"CINTURON\"],\n",
    "                     name=\"Uso del cinturon en accidentes Mortales - Sonora\"), 1, 1)\n",
    "\n",
    "fig.add_trace(go.Pie(labels=labels, values=df_Sonora_Cinturon_Mortales_2021[\"CINTURON\"],\n",
    "                     name=\"Uso del cinturon en accidentes Mortales 2021 - Sonora\"), 1, 2)\n",
    "\n",
    "fig.update_layout(title_text='Uso del cinturon en accidentes MORTALES - Sonora')\n",
    "\n",
    "fig.show()"
   ]
  },
  {
   "cell_type": "code",
   "execution_count": null,
   "metadata": {
    "colab": {
     "base_uri": "https://localhost:8080/",
     "height": 542
    },
    "id": "DVAKPbf-kRrs",
    "outputId": "91803b7f-1692-4408-ce51-85889c1f0793"
   },
   "outputs": [
    {
     "data": {
      "text/html": [
       "<html>\n",
       "<head><meta charset=\"utf-8\" /></head>\n",
       "<body>\n",
       "    <div>            <script src=\"https://cdnjs.cloudflare.com/ajax/libs/mathjax/2.7.5/MathJax.js?config=TeX-AMS-MML_SVG\"></script><script type=\"text/javascript\">if (window.MathJax) {MathJax.Hub.Config({SVG: {font: \"STIX-Web\"}});}</script>                <script type=\"text/javascript\">window.PlotlyConfig = {MathJaxConfig: 'local'};</script>\n",
       "        <script src=\"https://cdn.plot.ly/plotly-2.8.3.min.js\"></script>                <div id=\"f83ab386-7c14-46f8-a9a2-3e989d20a906\" class=\"plotly-graph-div\" style=\"height:525px; width:100%;\"></div>            <script type=\"text/javascript\">                                    window.PLOTLYENV=window.PLOTLYENV || {};                                    if (document.getElementById(\"f83ab386-7c14-46f8-a9a2-3e989d20a906\")) {                    Plotly.newPlot(                        \"f83ab386-7c14-46f8-a9a2-3e989d20a906\",                        [{\"labels\":[\"No\",\"Se ignora\",\"S\\u00ed\"],\"name\":\"Personas con aliento alcholico - Sonora\",\"values\":[2691,2204,803],\"type\":\"pie\",\"domain\":{\"x\":[0.0,0.45],\"y\":[0.0,1.0]}},{\"labels\":[\"No\",\"Se ignora\",\"S\\u00ed\"],\"name\":\"Personas con aliento alcholico 2021 - Sonora\",\"values\":[59,74,22],\"type\":\"pie\",\"domain\":{\"x\":[0.55,1.0],\"y\":[0.0,1.0]}}],                        {\"template\":{\"data\":{\"bar\":[{\"error_x\":{\"color\":\"#2a3f5f\"},\"error_y\":{\"color\":\"#2a3f5f\"},\"marker\":{\"line\":{\"color\":\"#E5ECF6\",\"width\":0.5},\"pattern\":{\"fillmode\":\"overlay\",\"size\":10,\"solidity\":0.2}},\"type\":\"bar\"}],\"barpolar\":[{\"marker\":{\"line\":{\"color\":\"#E5ECF6\",\"width\":0.5},\"pattern\":{\"fillmode\":\"overlay\",\"size\":10,\"solidity\":0.2}},\"type\":\"barpolar\"}],\"carpet\":[{\"aaxis\":{\"endlinecolor\":\"#2a3f5f\",\"gridcolor\":\"white\",\"linecolor\":\"white\",\"minorgridcolor\":\"white\",\"startlinecolor\":\"#2a3f5f\"},\"baxis\":{\"endlinecolor\":\"#2a3f5f\",\"gridcolor\":\"white\",\"linecolor\":\"white\",\"minorgridcolor\":\"white\",\"startlinecolor\":\"#2a3f5f\"},\"type\":\"carpet\"}],\"choropleth\":[{\"colorbar\":{\"outlinewidth\":0,\"ticks\":\"\"},\"type\":\"choropleth\"}],\"contour\":[{\"colorbar\":{\"outlinewidth\":0,\"ticks\":\"\"},\"colorscale\":[[0.0,\"#0d0887\"],[0.1111111111111111,\"#46039f\"],[0.2222222222222222,\"#7201a8\"],[0.3333333333333333,\"#9c179e\"],[0.4444444444444444,\"#bd3786\"],[0.5555555555555556,\"#d8576b\"],[0.6666666666666666,\"#ed7953\"],[0.7777777777777778,\"#fb9f3a\"],[0.8888888888888888,\"#fdca26\"],[1.0,\"#f0f921\"]],\"type\":\"contour\"}],\"contourcarpet\":[{\"colorbar\":{\"outlinewidth\":0,\"ticks\":\"\"},\"type\":\"contourcarpet\"}],\"heatmap\":[{\"colorbar\":{\"outlinewidth\":0,\"ticks\":\"\"},\"colorscale\":[[0.0,\"#0d0887\"],[0.1111111111111111,\"#46039f\"],[0.2222222222222222,\"#7201a8\"],[0.3333333333333333,\"#9c179e\"],[0.4444444444444444,\"#bd3786\"],[0.5555555555555556,\"#d8576b\"],[0.6666666666666666,\"#ed7953\"],[0.7777777777777778,\"#fb9f3a\"],[0.8888888888888888,\"#fdca26\"],[1.0,\"#f0f921\"]],\"type\":\"heatmap\"}],\"heatmapgl\":[{\"colorbar\":{\"outlinewidth\":0,\"ticks\":\"\"},\"colorscale\":[[0.0,\"#0d0887\"],[0.1111111111111111,\"#46039f\"],[0.2222222222222222,\"#7201a8\"],[0.3333333333333333,\"#9c179e\"],[0.4444444444444444,\"#bd3786\"],[0.5555555555555556,\"#d8576b\"],[0.6666666666666666,\"#ed7953\"],[0.7777777777777778,\"#fb9f3a\"],[0.8888888888888888,\"#fdca26\"],[1.0,\"#f0f921\"]],\"type\":\"heatmapgl\"}],\"histogram\":[{\"marker\":{\"pattern\":{\"fillmode\":\"overlay\",\"size\":10,\"solidity\":0.2}},\"type\":\"histogram\"}],\"histogram2d\":[{\"colorbar\":{\"outlinewidth\":0,\"ticks\":\"\"},\"colorscale\":[[0.0,\"#0d0887\"],[0.1111111111111111,\"#46039f\"],[0.2222222222222222,\"#7201a8\"],[0.3333333333333333,\"#9c179e\"],[0.4444444444444444,\"#bd3786\"],[0.5555555555555556,\"#d8576b\"],[0.6666666666666666,\"#ed7953\"],[0.7777777777777778,\"#fb9f3a\"],[0.8888888888888888,\"#fdca26\"],[1.0,\"#f0f921\"]],\"type\":\"histogram2d\"}],\"histogram2dcontour\":[{\"colorbar\":{\"outlinewidth\":0,\"ticks\":\"\"},\"colorscale\":[[0.0,\"#0d0887\"],[0.1111111111111111,\"#46039f\"],[0.2222222222222222,\"#7201a8\"],[0.3333333333333333,\"#9c179e\"],[0.4444444444444444,\"#bd3786\"],[0.5555555555555556,\"#d8576b\"],[0.6666666666666666,\"#ed7953\"],[0.7777777777777778,\"#fb9f3a\"],[0.8888888888888888,\"#fdca26\"],[1.0,\"#f0f921\"]],\"type\":\"histogram2dcontour\"}],\"mesh3d\":[{\"colorbar\":{\"outlinewidth\":0,\"ticks\":\"\"},\"type\":\"mesh3d\"}],\"parcoords\":[{\"line\":{\"colorbar\":{\"outlinewidth\":0,\"ticks\":\"\"}},\"type\":\"parcoords\"}],\"pie\":[{\"automargin\":true,\"type\":\"pie\"}],\"scatter\":[{\"marker\":{\"colorbar\":{\"outlinewidth\":0,\"ticks\":\"\"}},\"type\":\"scatter\"}],\"scatter3d\":[{\"line\":{\"colorbar\":{\"outlinewidth\":0,\"ticks\":\"\"}},\"marker\":{\"colorbar\":{\"outlinewidth\":0,\"ticks\":\"\"}},\"type\":\"scatter3d\"}],\"scattercarpet\":[{\"marker\":{\"colorbar\":{\"outlinewidth\":0,\"ticks\":\"\"}},\"type\":\"scattercarpet\"}],\"scattergeo\":[{\"marker\":{\"colorbar\":{\"outlinewidth\":0,\"ticks\":\"\"}},\"type\":\"scattergeo\"}],\"scattergl\":[{\"marker\":{\"colorbar\":{\"outlinewidth\":0,\"ticks\":\"\"}},\"type\":\"scattergl\"}],\"scattermapbox\":[{\"marker\":{\"colorbar\":{\"outlinewidth\":0,\"ticks\":\"\"}},\"type\":\"scattermapbox\"}],\"scatterpolar\":[{\"marker\":{\"colorbar\":{\"outlinewidth\":0,\"ticks\":\"\"}},\"type\":\"scatterpolar\"}],\"scatterpolargl\":[{\"marker\":{\"colorbar\":{\"outlinewidth\":0,\"ticks\":\"\"}},\"type\":\"scatterpolargl\"}],\"scatterternary\":[{\"marker\":{\"colorbar\":{\"outlinewidth\":0,\"ticks\":\"\"}},\"type\":\"scatterternary\"}],\"surface\":[{\"colorbar\":{\"outlinewidth\":0,\"ticks\":\"\"},\"colorscale\":[[0.0,\"#0d0887\"],[0.1111111111111111,\"#46039f\"],[0.2222222222222222,\"#7201a8\"],[0.3333333333333333,\"#9c179e\"],[0.4444444444444444,\"#bd3786\"],[0.5555555555555556,\"#d8576b\"],[0.6666666666666666,\"#ed7953\"],[0.7777777777777778,\"#fb9f3a\"],[0.8888888888888888,\"#fdca26\"],[1.0,\"#f0f921\"]],\"type\":\"surface\"}],\"table\":[{\"cells\":{\"fill\":{\"color\":\"#EBF0F8\"},\"line\":{\"color\":\"white\"}},\"header\":{\"fill\":{\"color\":\"#C8D4E3\"},\"line\":{\"color\":\"white\"}},\"type\":\"table\"}]},\"layout\":{\"annotationdefaults\":{\"arrowcolor\":\"#2a3f5f\",\"arrowhead\":0,\"arrowwidth\":1},\"autotypenumbers\":\"strict\",\"coloraxis\":{\"colorbar\":{\"outlinewidth\":0,\"ticks\":\"\"}},\"colorscale\":{\"diverging\":[[0,\"#8e0152\"],[0.1,\"#c51b7d\"],[0.2,\"#de77ae\"],[0.3,\"#f1b6da\"],[0.4,\"#fde0ef\"],[0.5,\"#f7f7f7\"],[0.6,\"#e6f5d0\"],[0.7,\"#b8e186\"],[0.8,\"#7fbc41\"],[0.9,\"#4d9221\"],[1,\"#276419\"]],\"sequential\":[[0.0,\"#0d0887\"],[0.1111111111111111,\"#46039f\"],[0.2222222222222222,\"#7201a8\"],[0.3333333333333333,\"#9c179e\"],[0.4444444444444444,\"#bd3786\"],[0.5555555555555556,\"#d8576b\"],[0.6666666666666666,\"#ed7953\"],[0.7777777777777778,\"#fb9f3a\"],[0.8888888888888888,\"#fdca26\"],[1.0,\"#f0f921\"]],\"sequentialminus\":[[0.0,\"#0d0887\"],[0.1111111111111111,\"#46039f\"],[0.2222222222222222,\"#7201a8\"],[0.3333333333333333,\"#9c179e\"],[0.4444444444444444,\"#bd3786\"],[0.5555555555555556,\"#d8576b\"],[0.6666666666666666,\"#ed7953\"],[0.7777777777777778,\"#fb9f3a\"],[0.8888888888888888,\"#fdca26\"],[1.0,\"#f0f921\"]]},\"colorway\":[\"#636efa\",\"#EF553B\",\"#00cc96\",\"#ab63fa\",\"#FFA15A\",\"#19d3f3\",\"#FF6692\",\"#B6E880\",\"#FF97FF\",\"#FECB52\"],\"font\":{\"color\":\"#2a3f5f\"},\"geo\":{\"bgcolor\":\"white\",\"lakecolor\":\"white\",\"landcolor\":\"#E5ECF6\",\"showlakes\":true,\"showland\":true,\"subunitcolor\":\"white\"},\"hoverlabel\":{\"align\":\"left\"},\"hovermode\":\"closest\",\"mapbox\":{\"style\":\"light\"},\"paper_bgcolor\":\"white\",\"plot_bgcolor\":\"#E5ECF6\",\"polar\":{\"angularaxis\":{\"gridcolor\":\"white\",\"linecolor\":\"white\",\"ticks\":\"\"},\"bgcolor\":\"#E5ECF6\",\"radialaxis\":{\"gridcolor\":\"white\",\"linecolor\":\"white\",\"ticks\":\"\"}},\"scene\":{\"xaxis\":{\"backgroundcolor\":\"#E5ECF6\",\"gridcolor\":\"white\",\"gridwidth\":2,\"linecolor\":\"white\",\"showbackground\":true,\"ticks\":\"\",\"zerolinecolor\":\"white\"},\"yaxis\":{\"backgroundcolor\":\"#E5ECF6\",\"gridcolor\":\"white\",\"gridwidth\":2,\"linecolor\":\"white\",\"showbackground\":true,\"ticks\":\"\",\"zerolinecolor\":\"white\"},\"zaxis\":{\"backgroundcolor\":\"#E5ECF6\",\"gridcolor\":\"white\",\"gridwidth\":2,\"linecolor\":\"white\",\"showbackground\":true,\"ticks\":\"\",\"zerolinecolor\":\"white\"}},\"shapedefaults\":{\"line\":{\"color\":\"#2a3f5f\"}},\"ternary\":{\"aaxis\":{\"gridcolor\":\"white\",\"linecolor\":\"white\",\"ticks\":\"\"},\"baxis\":{\"gridcolor\":\"white\",\"linecolor\":\"white\",\"ticks\":\"\"},\"bgcolor\":\"#E5ECF6\",\"caxis\":{\"gridcolor\":\"white\",\"linecolor\":\"white\",\"ticks\":\"\"}},\"title\":{\"x\":0.05},\"xaxis\":{\"automargin\":true,\"gridcolor\":\"white\",\"linecolor\":\"white\",\"ticks\":\"\",\"title\":{\"standoff\":15},\"zerolinecolor\":\"white\",\"zerolinewidth\":2},\"yaxis\":{\"automargin\":true,\"gridcolor\":\"white\",\"linecolor\":\"white\",\"ticks\":\"\",\"title\":{\"standoff\":15},\"zerolinecolor\":\"white\",\"zerolinewidth\":2}}},\"annotations\":[{\"font\":{\"size\":16},\"showarrow\":false,\"text\":\"1997-2021\",\"x\":0.225,\"xanchor\":\"center\",\"xref\":\"paper\",\"y\":1.0,\"yanchor\":\"bottom\",\"yref\":\"paper\"},{\"font\":{\"size\":16},\"showarrow\":false,\"text\":\"2021\",\"x\":0.775,\"xanchor\":\"center\",\"xref\":\"paper\",\"y\":1.0,\"yanchor\":\"bottom\",\"yref\":\"paper\"}],\"title\":{\"text\":\"Personas con aliento alcholico - Sonora\"}},                        {\"responsive\": true}                    ).then(function(){\n",
       "                            \n",
       "var gd = document.getElementById('f83ab386-7c14-46f8-a9a2-3e989d20a906');\n",
       "var x = new MutationObserver(function (mutations, observer) {{\n",
       "        var display = window.getComputedStyle(gd).display;\n",
       "        if (!display || display === 'none') {{\n",
       "            console.log([gd, 'removed!']);\n",
       "            Plotly.purge(gd);\n",
       "            observer.disconnect();\n",
       "        }}\n",
       "}});\n",
       "\n",
       "// Listen for the removal of the full notebook cells\n",
       "var notebookContainer = gd.closest('#notebook-container');\n",
       "if (notebookContainer) {{\n",
       "    x.observe(notebookContainer, {childList: true});\n",
       "}}\n",
       "\n",
       "// Listen for the clearing of the current output cell\n",
       "var outputEl = gd.closest('.output');\n",
       "if (outputEl) {{\n",
       "    x.observe(outputEl, {childList: true});\n",
       "}}\n",
       "\n",
       "                        })                };                            </script>        </div>\n",
       "</body>\n",
       "</html>"
      ]
     },
     "metadata": {},
     "output_type": "display_data"
    }
   ],
   "source": [
    "df_Sonora_Aliento_Todos = df_Sonora_Complete[df_Sonora_Complete['Total_Muertos'] > 0].groupby(\"ALIENTO\").agg({\n",
    "    \"Total_Muertos\" : 'count',\n",
    "})\n",
    "\n",
    "df_Sonora_Aliento_2021= df_Sonora_Complete[(df_Sonora_Complete['Total_Muertos'] > 0) & (df_Sonora_Complete['ANIO'] == 2021)].groupby(\"ALIENTO\").agg({\n",
    "    \"Total_Muertos\" : 'count',\n",
    "})\n",
    "\n",
    "fig = make_subplots(rows=1, cols=2, specs=[[{'type':'domain'}, {'type':'domain'}]],\n",
    "                    subplot_titles=['1997-2021', '2021'])\n",
    "\n",
    "fig.add_trace(go.Pie(labels=labels, values=df_Sonora_Aliento_Todos[\"Total_Muertos\"],\n",
    "                     name=\"Personas con aliento alcholico - Sonora\"), 1, 1)\n",
    "\n",
    "fig.add_trace(go.Pie(labels=labels, values=df_Sonora_Aliento_2021[\"Total_Muertos\"],\n",
    "                     name=\"Personas con aliento alcholico 2021 - Sonora\"), 1, 2)\n",
    "\n",
    "fig.update_layout(title_text='Personas con aliento alcholico - Sonora')\n",
    "\n",
    "fig.show()"
   ]
  }
 ],
 "metadata": {
  "colab": {
   "collapsed_sections": [],
   "provenance": []
  },
  "kernelspec": {
   "display_name": "Python 3.9.12 ('base')",
   "language": "python",
   "name": "python3"
  },
  "language_info": {
   "codemirror_mode": {
    "name": "ipython",
    "version": 3
   },
   "file_extension": ".py",
   "mimetype": "text/x-python",
   "name": "python",
   "nbconvert_exporter": "python",
   "pygments_lexer": "ipython3",
   "version": "3.9.12"
  },
  "vscode": {
   "interpreter": {
    "hash": "5ae58900cfbb8c43ab3495913814b7cf26024f51651a94ce8bf64d6111688e8d"
   }
  }
 },
 "nbformat": 4,
 "nbformat_minor": 1
}
