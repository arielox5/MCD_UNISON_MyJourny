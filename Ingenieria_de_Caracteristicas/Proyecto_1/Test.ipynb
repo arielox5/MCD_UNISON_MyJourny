{
 "cells": [
  {
   "cell_type": "code",
   "execution_count": 3,
   "id": "aa8731bd",
   "metadata": {},
   "outputs": [],
   "source": [
    "import requests\n",
    "#from google.colab import drive\n",
    "import os\n",
    "import pandas as pd\n",
    "import plotly.express as px\n",
    "#drive.mount(\"/content/gdrive\")"
   ]
  },
  {
   "cell_type": "code",
   "execution_count": 8,
   "id": "c85b5ca0",
   "metadata": {},
   "outputs": [
    {
     "data": {
      "text/plain": [
       "'Windows'"
      ]
     },
     "execution_count": 8,
     "metadata": {},
     "output_type": "execute_result"
    }
   ],
   "source": [
    "import platform\n",
    "platform.system()"
   ]
  },
  {
   "cell_type": "code",
   "execution_count": 6,
   "id": "d1c4821d",
   "metadata": {},
   "outputs": [
    {
     "name": "stderr",
     "output_type": "stream",
     "text": [
      "A subdirectory or file Data_Lab already exists.\n",
      "A subdirectory or file -p already exists.\n",
      "Error occurred while processing: -p.\n"
     ]
    },
    {
     "ename": "FileNotFoundError",
     "evalue": "[Errno 2] No such file or directory: '/content/Data_Lab/Accidentes_INEGI/Accidentes_INEGI.zip'",
     "output_type": "error",
     "traceback": [
      "\u001b[1;31m---------------------------------------------------------------------------\u001b[0m",
      "\u001b[1;31mFileNotFoundError\u001b[0m                         Traceback (most recent call last)",
      "Input \u001b[1;32mIn [6]\u001b[0m, in \u001b[0;36m<cell line: 17>\u001b[1;34m()\u001b[0m\n\u001b[0;32m     14\u001b[0m pathZipFile \u001b[38;5;241m=\u001b[39m \u001b[38;5;124m\"\u001b[39m\u001b[38;5;124m/content/Data_Lab/Accidentes_INEGI/Accidentes_INEGI.zip\u001b[39m\u001b[38;5;124m\"\u001b[39m\n\u001b[0;32m     16\u001b[0m \u001b[38;5;66;03m# Dowload file and store it on \"Data_Lab\" (Folder created)\u001b[39;00m\n\u001b[1;32m---> 17\u001b[0m \u001b[38;5;28;01mwith\u001b[39;00m \u001b[38;5;28;43mopen\u001b[39;49m\u001b[43m(\u001b[49m\u001b[43mpathZipFile\u001b[49m\u001b[43m,\u001b[49m\u001b[43m \u001b[49m\u001b[38;5;124;43m\"\u001b[39;49m\u001b[38;5;124;43mwb\u001b[39;49m\u001b[38;5;124;43m\"\u001b[39;49m\u001b[43m)\u001b[49m \u001b[38;5;28;01mas\u001b[39;00m file: \n\u001b[0;32m     18\u001b[0m     \u001b[38;5;28;01mfor\u001b[39;00m block \u001b[38;5;129;01min\u001b[39;00m r\u001b[38;5;241m.\u001b[39miter_content(chunk_size \u001b[38;5;241m=\u001b[39m \u001b[38;5;241m1024\u001b[39m):\n\u001b[0;32m     19\u001b[0m          \u001b[38;5;28;01mif\u001b[39;00m block: \n",
      "\u001b[1;31mFileNotFoundError\u001b[0m: [Errno 2] No such file or directory: '/content/Data_Lab/Accidentes_INEGI/Accidentes_INEGI.zip'"
     ]
    }
   ],
   "source": [
    "# Creation of a folder to contain all the files downloaded.\n",
    "!mkdir Data_Lab\n",
    "!mkdir -p Data_Lab\\Accidentes_INEGI\n",
    "!mkdir -p Data_Lab\\Reg_Vehiculos_INEGI\n",
    "\n",
    "# URL of the files, it is a zip file from INEGI (https://www.inegi.org.mx/programas/accidentes/#Datos_abiertos)\n",
    "# It is a zip file conating multiple file (Catalog of Data, Diccionario y csv data of the accidents by year from 1997 -> 2021)\n",
    "urlString_Accidentes = \"https://www.inegi.org.mx/contenidos/programas/accidentes/datosabiertos/atus_anual_csv.zip\"\n",
    "urlString_Vehiculos = \"https://www.inegi.org.mx/contenidos/programas/vehiculosmotor/datosabiertos/vmrc_anual_csv.zip\"\n",
    "\n",
    "# 1 - Dowload Accidents zip file\n",
    "r = requests.get(urlString_Accidentes, stream = True) \n",
    "\n",
    "pathZipFile = \"/content/Data_Lab/Accidentes_INEGI/Accidentes_INEGI.zip\"\n",
    "\n",
    "# Dowload file and store it on \"Data_Lab\" (Folder created)\n",
    "with open(pathZipFile, \"wb\") as file: \n",
    "    for block in r.iter_content(chunk_size = 1024):\n",
    "         if block: \n",
    "             file.write(block) \n",
    "             \n",
    "r2 = requests.get(urlString_Vehiculos, stream = True) \n",
    "\n",
    "pathZipFile = \"/content/Data_Lab/Reg_Vehiculos_INEGI/Vehiculos_INEGI.zip\"\n",
    "\n",
    "# Dowload file and store it on \"Data_Lab\" (Folder created)\n",
    "with open(pathZipFile, \"wb\") as file: \n",
    "    for block in r2.iter_content(chunk_size = 1024):\n",
    "         if block: \n",
    "             file.write(block) \n",
    "\n",
    "# Unzip file (Note: Sadly I could not unzip with variables names, so I used a STATIC string)\n",
    "\n",
    "path_DataLab = \"/content/Data_Lab/\"\n",
    "!unzip \"/content/Data_Lab/Accidentes_INEGI/Accidentes_INEGI.zip\" -d \"Data_Lab/Accidentes_INEGI\"\n",
    "!unzip \"/content/Data_Lab/Reg_Vehiculos_INEGI/Vehiculos_INEGI.zip\" -d \"Data_Lab/Reg_Vehiculos_INEGI\"\n"
   ]
  },
  {
   "cell_type": "code",
   "execution_count": null,
   "id": "f1db6a3a",
   "metadata": {},
   "outputs": [],
   "source": []
  }
 ],
 "metadata": {
  "kernelspec": {
   "display_name": "Python 3 (ipykernel)",
   "language": "python",
   "name": "python3"
  },
  "language_info": {
   "codemirror_mode": {
    "name": "ipython",
    "version": 3
   },
   "file_extension": ".py",
   "mimetype": "text/x-python",
   "name": "python",
   "nbconvert_exporter": "python",
   "pygments_lexer": "ipython3",
   "version": "3.9.12"
  }
 },
 "nbformat": 4,
 "nbformat_minor": 5
}
